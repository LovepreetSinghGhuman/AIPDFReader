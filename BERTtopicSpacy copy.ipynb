{
 "cells": [
  {
   "cell_type": "markdown",
   "metadata": {},
   "source": [
    "# 1. Import Necessary Libraries\n",
    "\n",
    "Make sure  Microsoft Visual C++ is installed on your pc\n",
    "\n",
    "Extracting text from pdf and converting to csv"
   ]
  },
  {
   "cell_type": "code",
   "execution_count": 1,
   "metadata": {},
   "outputs": [
    {
     "data": {
      "text/plain": [
       "\"\\n# PDF Text Extraction and Topic Modeling\\n\\nThis program extracts text from PDFs, cleans it, and performs topic modeling using BERTopic.\\n\\nProcess steps\\n1. Import necessary libraries\\n2. Extract text from either a single or multiple research study PDFs. Path is 'studies/papers'\\n3. Clean it using spaCy with language support for english, dutch and french.\\n4. Perform topic modeling using BERTopic\\n5. Visualize the topics\\n\\n## Requirements\\npython -m spacy download fr_core_web_sm\\npython -m spacy download nl_core_web_md\\npython -m spacy download en_core_web_md\\nUse the following Python version 3.12.0 otherwise the code will not work due to spacy compatibility.\\n\""
      ]
     },
     "execution_count": 1,
     "metadata": {},
     "output_type": "execute_result"
    }
   ],
   "source": [
    "\"\"\"\n",
    "# PDF Text Extraction and Topic Modeling\n",
    "\n",
    "This program extracts text from PDFs, cleans it, and performs topic modeling using BERTopic.\n",
    "\n",
    "Process steps\n",
    "1. Import necessary libraries\n",
    "2. Extract text from either a single or multiple research study PDFs. Path is 'studies/papers'\n",
    "3. Clean it using spaCy with language support for english, dutch and french.\n",
    "4. Perform topic modeling using BERTopic\n",
    "5. Visualize the topics\n",
    "\n",
    "## Requirements\n",
    "python -m spacy download fr_core_web_sm\n",
    "python -m spacy download nl_core_web_md\n",
    "python -m spacy download en_core_web_md\n",
    "Use the following Python version 3.12.0 otherwise the code will not work due to spacy compatibility.\n",
    "\"\"\""
   ]
  },
  {
   "cell_type": "code",
   "execution_count": null,
   "metadata": {},
   "outputs": [],
   "source": [
    "import csv\n",
    "import logging\n",
    "import os\n",
    "import re\n",
    "import json\n",
    "from collections import Counter\n",
    "from typing import List, Dict, Any\n",
    "import numpy as np  # For numerical operations\n",
    "from sklearn.feature_extraction.text import CountVectorizer  # For text vectorization\n",
    "import pandas as pd  # For data manipulation\n",
    "import spacy  # For language processing\n",
    "\n",
    "from bertopic import BERTopic  # For topic modeling\n",
    "import fitz # For PDF text extraction\n",
    "from langdetect import detect, LangDetectException  # For language detection\n",
    "from tqdm import tqdm  # For progress tracking\n",
    "from wordsegment import load, segment  # For word segmentation\n",
    "import matplotlib.pyplot as plt  # For visualization\n",
    "import seaborn as sns  # For visualization"
   ]
  },
  {
   "cell_type": "markdown",
   "metadata": {},
   "source": [
    "# 2. Extract text from either a single or multiple research study PDFs. Path is 'studies/papers'\n"
   ]
  },
  {
   "cell_type": "code",
   "execution_count": 3,
   "metadata": {},
   "outputs": [
    {
     "name": "stderr",
     "output_type": "stream",
     "text": [
      "Processing PDFs: 100%|██████████| 30/30 [00:04<00:00,  6.77it/s]\n",
      "2025-03-01 00:06:03,394 - INFO - Data successfully exported to csv/cleaned/cleanedpdfsV5.csv\n"
     ]
    }
   ],
   "source": [
    "\n",
    "# Load configuration from a JSON file\n",
    "with open(\"config.json\") as f:\n",
    "    config = json.load(f)\n",
    "\n",
    "PDF_DIRECTORY = config[\"pdf_directory\"]  # Folder containing PDFs\n",
    "CLEANED_CSV = config[\"cleaned_csv\"]  # Cleaned CSV path\n",
    "GDPR_CSV = config[\"gdpr_csv\"]  # GDPR CSV path\n",
    "\n",
    "# Configure logging\n",
    "logging.basicConfig(level=logging.INFO, format='%(asctime)s - %(levelname)s - %(message)s')\n",
    "\n",
    "# Load spaCy models once to avoid repeated initialization\n",
    "NLP_MODELS = {\n",
    "    'en': spacy.load(\"en_core_web_lg\"),\n",
    "    'nl': spacy.load(\"nl_core_news_lg\"),\n",
    "    'fr': spacy.load(\"fr_core_news_lg\"),\n",
    "}\n",
    "\n",
    "# Ligature replacement dictionary\n",
    "LIGATURES = {\n",
    "    'ﬁ': 'fi', 'ﬂ': 'fl', 'ﬃ': 'ffi', 'ﬄ': 'ffl', 'ﬀ': 'ff'\n",
    "}\n",
    "\n",
    "# Common word split fixes\n",
    "COMMON_FIXES = {\n",
    "    'signi ficant': 'significant', 'di fferent': 'different',\n",
    "    'e ffective': 'effective', 'e ffect': 'effect',\n",
    "    'chil dren': 'children', 'e ff ective': 'effective',\n",
    "    'con fi dence': 'confidence'\n",
    "}\n",
    "\n",
    "# Unwanted keywords for filtering\n",
    "UNWANTED_KEYWORDS = {\n",
    "    'doi', 'https', 'http', 'journal', 'university', 'copyrighted',\n",
    "    'taylor & francis', 'elsevier', 'published by', 'received',\n",
    "    'revised', 'author(s)', 'source:', 'history:', 'keywords',\n",
    "    'volume', 'downloaded', 'article', 'creative commons use',\n",
    "    'authors', 'all rights reserved'\n",
    "}\n",
    "\n",
    "# Reference and Acknowledgement markers\n",
    "REFERENCE_MARKERS = {'references', 'bibliography', 'acknowledgements', 'method', 'methods'}\n",
    "\n",
    "def validate_pdf_path(pdf_path: str) -> bool:\n",
    "    \"\"\"Checks if the PDF file exists and is readable.\"\"\"\n",
    "    if not os.path.exists(pdf_path) or not os.access(pdf_path, os.R_OK):\n",
    "        logging.error(f\"PDF file is not accessible: {pdf_path}\")\n",
    "        return False\n",
    "    return True\n",
    "\n",
    "def is_heading(line: str) -> bool:\n",
    "    \"\"\"Determines if a line is a heading (all uppercase or starts with 'CHAPTER').\"\"\"\n",
    "    return line.isupper() or line.startswith('CHAPTER')\n",
    "\n",
    "def is_footnote(line: str) -> bool:\n",
    "    \"\"\"Identifies footnotes based on common patterns.\"\"\"\n",
    "    return bool(re.match(r'^\\[\\d+\\]', line) or re.match(r'^\\d+\\.', line) or \n",
    "                line.startswith(('*', 'Note', 'Table')))\n",
    "\n",
    "def contains_doi_or_https(line: str) -> bool:\n",
    "    \"\"\"Checks if a line contains unwanted keywords, DOIs, or URLs.\"\"\"\n",
    "    return any(keyword in line.lower() for keyword in UNWANTED_KEYWORDS)\n",
    "\n",
    "def is_reference_or_acknowledgements_section(line: str) -> bool:\n",
    "    \"\"\"Checks if a line marks the start of references or acknowledgements.\"\"\"\n",
    "    return any(marker in line.lower() for marker in REFERENCE_MARKERS)\n",
    "\n",
    "def replace_ligatures(text: str) -> str:\n",
    "    \"\"\"Replaces ligatures in text with their normal character equivalents.\"\"\"\n",
    "    for lig, replacement in LIGATURES.items():\n",
    "        text = text.replace(lig, replacement)\n",
    "    return text\n",
    "\n",
    "def fix_common_word_splits(text: str) -> str:\n",
    "    \"\"\"Fixes common word splits in text.\"\"\"\n",
    "    for split_word, correct_word in COMMON_FIXES.items():\n",
    "        text = text.replace(split_word, correct_word)\n",
    "    return text\n",
    "\n",
    "def detect_language(text: str) -> str:\n",
    "    \"\"\"Detects the language of a given text block.\"\"\"\n",
    "    try:\n",
    "        return detect(text)\n",
    "    except LangDetectException:\n",
    "        return \"unknown\"\n",
    "\n",
    "def process_pdf(file_path: str, filename: str) -> list:\n",
    "    \"\"\"Processes a single PDF file and extracts structured text data.\"\"\"\n",
    "    data = []\n",
    "    title = os.path.splitext(filename)[0]  # Extract filename without extension\n",
    "    \n",
    "    try:\n",
    "        with fitz.open(file_path) as pdf_document:\n",
    "            section_reached = False  # Stop processing once references start\n",
    "\n",
    "            for page_num in range(pdf_document.page_count):\n",
    "                if section_reached:\n",
    "                    break  # Stop processing once references detected\n",
    "\n",
    "                page = pdf_document.load_page(page_num)\n",
    "                text_dict = page.get_text(\"dict\")  # Extract text while keeping layout\n",
    "\n",
    "                for block in text_dict[\"blocks\"]:\n",
    "                    if block[\"type\"] != 0:  # Ignore non-text blocks\n",
    "                        continue\n",
    "\n",
    "                    paragraph = []\n",
    "                    prev_x = None  # Track x-coordinate for paragraph grouping\n",
    "\n",
    "                    for line in block[\"lines\"]:\n",
    "                        line_text = \" \".join(span[\"text\"].replace(';', ',') for span in line[\"spans\"])\n",
    "                        line_text = replace_ligatures(line_text)\n",
    "                        line_text = fix_common_word_splits(line_text)\n",
    "\n",
    "                        if is_reference_or_acknowledgements_section(line_text):\n",
    "                            section_reached = True\n",
    "                            break  # Stop further processing\n",
    "\n",
    "                        if (is_heading(line_text) or is_footnote(line_text) or \n",
    "                            contains_doi_or_https(line_text) or \n",
    "                            line_text.strip().lower() == title.lower()):\n",
    "                            continue\n",
    "\n",
    "                        first_word_x = line[\"spans\"][0][\"bbox\"][0]\n",
    "\n",
    "                        if prev_x is None or abs(first_word_x - prev_x) < 10:\n",
    "                            paragraph.append(line_text)\n",
    "                        else:\n",
    "                            if paragraph:  # Store completed paragraph\n",
    "                                full_text = \" \".join(paragraph).strip()\n",
    "                                if len(full_text.split()) >= 10:\n",
    "                                    language = detect_language(full_text)\n",
    "                                    data.append([filename, page_num + 1, full_text, language])\n",
    "                            paragraph = [line_text]  # Start new paragraph\n",
    "\n",
    "                        prev_x = first_word_x  # Update for next iteration\n",
    "\n",
    "                    if paragraph and not section_reached:\n",
    "                        full_text = \" \".join(paragraph).strip()\n",
    "                        if len(full_text.split()) >= 10:\n",
    "                            language = detect_language(full_text)\n",
    "                            data.append([filename, page_num + 1, full_text, language])\n",
    "\n",
    "    except Exception as e:\n",
    "        logging.error(f\"Failed to process {file_path}: {e}\")\n",
    "\n",
    "    return data\n",
    "\n",
    "\n",
    "all_data = []\n",
    "\n",
    "pdf_files = [f for f in os.listdir(PDF_DIRECTORY) if f.endswith('.pdf')]\n",
    "\n",
    "for filename in tqdm(pdf_files, desc=\"Processing PDFs\"):\n",
    "    file_path = os.path.join(PDF_DIRECTORY, filename)\n",
    "    if validate_pdf_path(file_path):\n",
    "        all_data.extend(process_pdf(file_path, filename))\n",
    "\n",
    "if all_data:\n",
    "    df_extracted = pd.DataFrame(all_data, columns=[\"File\", \"Page\", \"Text\", \"Language\"])\n",
    "    df_extracted.to_csv(CLEANED_CSV, index=False) \n",
    "    logging.info(f\"Data successfully exported to {CLEANED_CSV}\")\n"
   ]
  },
  {
   "cell_type": "code",
   "execution_count": 4,
   "metadata": {},
   "outputs": [
    {
     "data": {
      "text/html": [
       "<div>\n",
       "<style scoped>\n",
       "    .dataframe tbody tr th:only-of-type {\n",
       "        vertical-align: middle;\n",
       "    }\n",
       "\n",
       "    .dataframe tbody tr th {\n",
       "        vertical-align: top;\n",
       "    }\n",
       "\n",
       "    .dataframe thead th {\n",
       "        text-align: right;\n",
       "    }\n",
       "</style>\n",
       "<table border=\"1\" class=\"dataframe\">\n",
       "  <thead>\n",
       "    <tr style=\"text-align: right;\">\n",
       "      <th></th>\n",
       "      <th>File</th>\n",
       "      <th>Page</th>\n",
       "      <th>Text</th>\n",
       "      <th>Language</th>\n",
       "    </tr>\n",
       "  </thead>\n",
       "  <tbody>\n",
       "    <tr>\n",
       "      <th>0</th>\n",
       "      <td>Advantages of mixed-age free play in elementar...</td>\n",
       "      <td>1</td>\n",
       "      <td>Full Terms &amp; Conditions of access and use can ...</td>\n",
       "      <td>en</td>\n",
       "    </tr>\n",
       "    <tr>\n",
       "      <th>1</th>\n",
       "      <td>Advantages of mixed-age free play in elementar...</td>\n",
       "      <td>1</td>\n",
       "      <td>Advantages of mixed-age free play in elementar...</td>\n",
       "      <td>en</td>\n",
       "    </tr>\n",
       "    <tr>\n",
       "      <th>2</th>\n",
       "      <td>Advantages of mixed-age free play in elementar...</td>\n",
       "      <td>1</td>\n",
       "      <td>mixed-age free play in elementary school: perc...</td>\n",
       "      <td>en</td>\n",
       "    </tr>\n",
       "    <tr>\n",
       "      <th>3</th>\n",
       "      <td>Advantages of mixed-age free play in elementar...</td>\n",
       "      <td>2</td>\n",
       "      <td>Advantages of mixed-age free play in elementar...</td>\n",
       "      <td>en</td>\n",
       "    </tr>\n",
       "    <tr>\n",
       "      <th>4</th>\n",
       "      <td>Advantages of mixed-age free play in elementar...</td>\n",
       "      <td>2</td>\n",
       "      <td>Mixed-age groups have been shown to be effecti...</td>\n",
       "      <td>en</td>\n",
       "    </tr>\n",
       "    <tr>\n",
       "      <th>5</th>\n",
       "      <td>Advantages of mixed-age free play in elementar...</td>\n",
       "      <td>2</td>\n",
       "      <td>expressed their support for cross-age interact...</td>\n",
       "      <td>en</td>\n",
       "    </tr>\n",
       "    <tr>\n",
       "      <th>6</th>\n",
       "      <td>Advantages of mixed-age free play in elementar...</td>\n",
       "      <td>2</td>\n",
       "      <td>Most of us, and even most of our parents and g...</td>\n",
       "      <td>en</td>\n",
       "    </tr>\n",
       "    <tr>\n",
       "      <th>7</th>\n",
       "      <td>Advantages of mixed-age free play in elementar...</td>\n",
       "      <td>2</td>\n",
       "      <td>Children need to cultivate a diverse set of sk...</td>\n",
       "      <td>en</td>\n",
       "    </tr>\n",
       "    <tr>\n",
       "      <th>8</th>\n",
       "      <td>Advantages of mixed-age free play in elementar...</td>\n",
       "      <td>2</td>\n",
       "      <td>( 2015 ), increased standardization runs count...</td>\n",
       "      <td>en</td>\n",
       "    </tr>\n",
       "    <tr>\n",
       "      <th>9</th>\n",
       "      <td>Advantages of mixed-age free play in elementar...</td>\n",
       "      <td>3</td>\n",
       "      <td>the 6 C ’ s  –  collaboration, communication, ...</td>\n",
       "      <td>en</td>\n",
       "    </tr>\n",
       "    <tr>\n",
       "      <th>10</th>\n",
       "      <td>Advantages of mixed-age free play in elementar...</td>\n",
       "      <td>3</td>\n",
       "      <td>Mixed-age grouping, also known as multiage gro...</td>\n",
       "      <td>en</td>\n",
       "    </tr>\n",
       "    <tr>\n",
       "      <th>11</th>\n",
       "      <td>Advantages of mixed-age free play in elementar...</td>\n",
       "      <td>3</td>\n",
       "      <td>tical grouping, family grouping, and ungraded ...</td>\n",
       "      <td>en</td>\n",
       "    </tr>\n",
       "    <tr>\n",
       "      <th>12</th>\n",
       "      <td>Advantages of mixed-age free play in elementar...</td>\n",
       "      <td>3</td>\n",
       "      <td>This research is a single case study (Yin,  20...</td>\n",
       "      <td>en</td>\n",
       "    </tr>\n",
       "    <tr>\n",
       "      <th>13</th>\n",
       "      <td>Advantages of mixed-age free play in elementar...</td>\n",
       "      <td>3</td>\n",
       "      <td>that places great value on recess and mixed-ag...</td>\n",
       "      <td>en</td>\n",
       "    </tr>\n",
       "    <tr>\n",
       "      <th>14</th>\n",
       "      <td>Advantages of mixed-age free play in elementar...</td>\n",
       "      <td>3</td>\n",
       "      <td>The school district located in New York, U.S.A...</td>\n",
       "      <td>en</td>\n",
       "    </tr>\n",
       "    <tr>\n",
       "      <th>15</th>\n",
       "      <td>Advantages of mixed-age free play in elementar...</td>\n",
       "      <td>3</td>\n",
       "      <td>of Education (NYSED) frameworks for social emo...</td>\n",
       "      <td>en</td>\n",
       "    </tr>\n",
       "    <tr>\n",
       "      <th>16</th>\n",
       "      <td>Advantages of mixed-age free play in elementar...</td>\n",
       "      <td>4</td>\n",
       "      <td>that each component was equally important as t...</td>\n",
       "      <td>en</td>\n",
       "    </tr>\n",
       "    <tr>\n",
       "      <th>17</th>\n",
       "      <td>Advantages of mixed-age free play in elementar...</td>\n",
       "      <td>4</td>\n",
       "      <td>Vygotsky ’ s ( 1978 ) theories o ff er an opti...</td>\n",
       "      <td>en</td>\n",
       "    </tr>\n",
       "    <tr>\n",
       "      <th>18</th>\n",
       "      <td>Advantages of mixed-age free play in elementar...</td>\n",
       "      <td>4</td>\n",
       "      <td>Vygotsky ( 1978 ) based his theory on the idea...</td>\n",
       "      <td>en</td>\n",
       "    </tr>\n",
       "    <tr>\n",
       "      <th>19</th>\n",
       "      <td>Advantages of mixed-age free play in elementar...</td>\n",
       "      <td>4</td>\n",
       "      <td>who di ff er in age, ability, gender, and spec...</td>\n",
       "      <td>en</td>\n",
       "    </tr>\n",
       "    <tr>\n",
       "      <th>20</th>\n",
       "      <td>Advantages of mixed-age free play in elementar...</td>\n",
       "      <td>4</td>\n",
       "      <td>Mixed-age grouping can in fl uence young child...</td>\n",
       "      <td>en</td>\n",
       "    </tr>\n",
       "    <tr>\n",
       "      <th>21</th>\n",
       "      <td>Advantages of mixed-age free play in elementar...</td>\n",
       "      <td>5</td>\n",
       "      <td>2006 ). By watching older children, the younge...</td>\n",
       "      <td>en</td>\n",
       "    </tr>\n",
       "    <tr>\n",
       "      <th>22</th>\n",
       "      <td>Advantages of mixed-age free play in elementar...</td>\n",
       "      <td>5</td>\n",
       "      <td>Murphy et al. ( 2016 ) describes two settings ...</td>\n",
       "      <td>en</td>\n",
       "    </tr>\n",
       "    <tr>\n",
       "      <th>23</th>\n",
       "      <td>Advantages of mixed-age free play in elementar...</td>\n",
       "      <td>5</td>\n",
       "      <td>dren 3-to-6-years that implemented Golden Key ...</td>\n",
       "      <td>en</td>\n",
       "    </tr>\n",
       "    <tr>\n",
       "      <th>24</th>\n",
       "      <td>Advantages of mixed-age free play in elementar...</td>\n",
       "      <td>5</td>\n",
       "      <td>Howes and Farver ( 1987 ) observed two-year-ol...</td>\n",
       "      <td>en</td>\n",
       "    </tr>\n",
       "    <tr>\n",
       "      <th>25</th>\n",
       "      <td>Advantages of mixed-age free play in elementar...</td>\n",
       "      <td>5</td>\n",
       "      <td>both age-mixed and age-segregated. They found ...</td>\n",
       "      <td>en</td>\n",
       "    </tr>\n",
       "    <tr>\n",
       "      <th>26</th>\n",
       "      <td>Advantages of mixed-age free play in elementar...</td>\n",
       "      <td>5</td>\n",
       "      <td>Positive social interactions are found in pres...</td>\n",
       "      <td>en</td>\n",
       "    </tr>\n",
       "    <tr>\n",
       "      <th>27</th>\n",
       "      <td>Advantages of mixed-age free play in elementar...</td>\n",
       "      <td>5</td>\n",
       "      <td>groups with a wider age range. Gray and Feldma...</td>\n",
       "      <td>en</td>\n",
       "    </tr>\n",
       "    <tr>\n",
       "      <th>28</th>\n",
       "      <td>Advantages of mixed-age free play in elementar...</td>\n",
       "      <td>5</td>\n",
       "      <td>There are also documented academic bene fi ts ...</td>\n",
       "      <td>en</td>\n",
       "    </tr>\n",
       "    <tr>\n",
       "      <th>29</th>\n",
       "      <td>Advantages of mixed-age free play in elementar...</td>\n",
       "      <td>5</td>\n",
       "      <td>school classrooms (Christie &amp; Stone,  1999 , C...</td>\n",
       "      <td>en</td>\n",
       "    </tr>\n",
       "  </tbody>\n",
       "</table>\n",
       "</div>"
      ],
      "text/plain": [
       "                                                 File  Page  \\\n",
       "0   Advantages of mixed-age free play in elementar...     1   \n",
       "1   Advantages of mixed-age free play in elementar...     1   \n",
       "2   Advantages of mixed-age free play in elementar...     1   \n",
       "3   Advantages of mixed-age free play in elementar...     2   \n",
       "4   Advantages of mixed-age free play in elementar...     2   \n",
       "5   Advantages of mixed-age free play in elementar...     2   \n",
       "6   Advantages of mixed-age free play in elementar...     2   \n",
       "7   Advantages of mixed-age free play in elementar...     2   \n",
       "8   Advantages of mixed-age free play in elementar...     2   \n",
       "9   Advantages of mixed-age free play in elementar...     3   \n",
       "10  Advantages of mixed-age free play in elementar...     3   \n",
       "11  Advantages of mixed-age free play in elementar...     3   \n",
       "12  Advantages of mixed-age free play in elementar...     3   \n",
       "13  Advantages of mixed-age free play in elementar...     3   \n",
       "14  Advantages of mixed-age free play in elementar...     3   \n",
       "15  Advantages of mixed-age free play in elementar...     3   \n",
       "16  Advantages of mixed-age free play in elementar...     4   \n",
       "17  Advantages of mixed-age free play in elementar...     4   \n",
       "18  Advantages of mixed-age free play in elementar...     4   \n",
       "19  Advantages of mixed-age free play in elementar...     4   \n",
       "20  Advantages of mixed-age free play in elementar...     4   \n",
       "21  Advantages of mixed-age free play in elementar...     5   \n",
       "22  Advantages of mixed-age free play in elementar...     5   \n",
       "23  Advantages of mixed-age free play in elementar...     5   \n",
       "24  Advantages of mixed-age free play in elementar...     5   \n",
       "25  Advantages of mixed-age free play in elementar...     5   \n",
       "26  Advantages of mixed-age free play in elementar...     5   \n",
       "27  Advantages of mixed-age free play in elementar...     5   \n",
       "28  Advantages of mixed-age free play in elementar...     5   \n",
       "29  Advantages of mixed-age free play in elementar...     5   \n",
       "\n",
       "                                                 Text Language  \n",
       "0   Full Terms & Conditions of access and use can ...       en  \n",
       "1   Advantages of mixed-age free play in elementar...       en  \n",
       "2   mixed-age free play in elementary school: perc...       en  \n",
       "3   Advantages of mixed-age free play in elementar...       en  \n",
       "4   Mixed-age groups have been shown to be effecti...       en  \n",
       "5   expressed their support for cross-age interact...       en  \n",
       "6   Most of us, and even most of our parents and g...       en  \n",
       "7   Children need to cultivate a diverse set of sk...       en  \n",
       "8   ( 2015 ), increased standardization runs count...       en  \n",
       "9   the 6 C ’ s  –  collaboration, communication, ...       en  \n",
       "10  Mixed-age grouping, also known as multiage gro...       en  \n",
       "11  tical grouping, family grouping, and ungraded ...       en  \n",
       "12  This research is a single case study (Yin,  20...       en  \n",
       "13  that places great value on recess and mixed-ag...       en  \n",
       "14  The school district located in New York, U.S.A...       en  \n",
       "15  of Education (NYSED) frameworks for social emo...       en  \n",
       "16  that each component was equally important as t...       en  \n",
       "17  Vygotsky ’ s ( 1978 ) theories o ff er an opti...       en  \n",
       "18  Vygotsky ( 1978 ) based his theory on the idea...       en  \n",
       "19  who di ff er in age, ability, gender, and spec...       en  \n",
       "20  Mixed-age grouping can in fl uence young child...       en  \n",
       "21  2006 ). By watching older children, the younge...       en  \n",
       "22  Murphy et al. ( 2016 ) describes two settings ...       en  \n",
       "23  dren 3-to-6-years that implemented Golden Key ...       en  \n",
       "24  Howes and Farver ( 1987 ) observed two-year-ol...       en  \n",
       "25  both age-mixed and age-segregated. They found ...       en  \n",
       "26  Positive social interactions are found in pres...       en  \n",
       "27  groups with a wider age range. Gray and Feldma...       en  \n",
       "28  There are also documented academic bene fi ts ...       en  \n",
       "29  school classrooms (Christie & Stone,  1999 , C...       en  "
      ]
     },
     "execution_count": 4,
     "metadata": {},
     "output_type": "execute_result"
    }
   ],
   "source": [
    "# Load the data\n",
    "df_cleaned = pd.read_csv(CLEANED_CSV)\n",
    "df_cleaned.head(30)"
   ]
  },
  {
   "cell_type": "markdown",
   "metadata": {},
   "source": [
    "# 3. Clean it using spaCy with language support for english, dutch and french.\n",
    "We clean up the text\n",
    "- Remove the name of city, country, geography for better outcome\n",
    "- Remove special characters (only letters)\n",
    "- Convert to lower case\n",
    "- Remove stop words\n",
    "- Remove words of only one or 2 letters ('a', 'I', at,...)\n",
    "- Remove very short sentences\n",
    "- Remove urls \n",
    "- use stemming\n",
    "- remove duplicate sentences"
   ]
  },
  {
   "cell_type": "code",
   "execution_count": 5,
   "metadata": {},
   "outputs": [
    {
     "name": "stderr",
     "output_type": "stream",
     "text": [
      "2025-03-01 00:06:13,426 - INFO - Anonymized data saved to csv/gdpr/gdprcompliantV5.csv\n"
     ]
    }
   ],
   "source": [
    "\n",
    "# Define entity types to remove (Personal Information)\n",
    "PERSONAL_ENTITIES = {\"PERSON\", \"EMAIL\", \"PHONE\", \"GPE\", \"ORG\", \"NORP\", \"FAC\", \"LOC\", \"PRODUCT\", \"EVENT\", \"WORK_OF_ART\", \"LAW\"}\n",
    "\n",
    "def remove_personal_info(text: str, lang: str) -> str:\n",
    "    \"\"\"Uses spaCy NER to remove personal information based on language.\"\"\"\n",
    "    if lang not in NLP_MODELS:\n",
    "        return text  # Skip processing if language model is not available\n",
    "\n",
    "    nlp = NLP_MODELS[lang]  # Select the correct model\n",
    "    doc = nlp(text)\n",
    "\n",
    "    # Replace personal entities with [REDACTED]\n",
    "    for ent in doc.ents:\n",
    "        if ent.label_ in PERSONAL_ENTITIES:\n",
    "            text = text.replace(ent.text, \"[REDACTED]\")\n",
    "            \n",
    "        if ent.label_ == \"DATE\" and len(ent.text):\n",
    "            text = text.replace(ent.text, \"\")  # Remove dates\n",
    "\n",
    "    # Remove emails and phone numbers using regex (fallback)\n",
    "    text = re.sub(r\"\\b[A-Za-z0-9._%+-]+@[A-Za-z0-9.-]+\\.[A-Z|a-z]{2,}\\b\", \"[REDACTED]\", text)  # Email\n",
    "    text = re.sub(r\"\\b\\d{3}[-.\\s]?\\d{3}[-.\\s]?\\d{4}\\b\", \"[REDACTED]\", text)  # Phone Numbers\n",
    "\n",
    "    return text\n",
    "\n",
    "def anonymize_csv(input_csv: str, output_csv: str):\n",
    "    \"\"\"Reads a CSV file, anonymizes text based on language, and write to a new CSV.\"\"\"\n",
    "    try:\n",
    "        df = pd.read_csv(input_csv)\n",
    "\n",
    "        # Apply anonymization function to text column with respective language\n",
    "        df[\"Text\"] = df.apply(lambda row: remove_personal_info(str(row[\"Text\"]), row[\"Language\"]), axis=1)\n",
    "\n",
    "        # Write anonymized data to csv\n",
    "        df.to_csv(output_csv, index=False)\n",
    "        logging.info(f\"Anonymized data saved to {output_csv}\")\n",
    "\n",
    "    except Exception as e:\n",
    "        logging.error(f\"Error processing file: {e}\")\n",
    "\n",
    "# Run the anonymization process \n",
    "anonymize_csv(CLEANED_CSV, GDPR_CSV)\n"
   ]
  },
  {
   "cell_type": "code",
   "execution_count": 6,
   "metadata": {},
   "outputs": [
    {
     "data": {
      "text/html": [
       "<div>\n",
       "<style scoped>\n",
       "    .dataframe tbody tr th:only-of-type {\n",
       "        vertical-align: middle;\n",
       "    }\n",
       "\n",
       "    .dataframe tbody tr th {\n",
       "        vertical-align: top;\n",
       "    }\n",
       "\n",
       "    .dataframe thead th {\n",
       "        text-align: right;\n",
       "    }\n",
       "</style>\n",
       "<table border=\"1\" class=\"dataframe\">\n",
       "  <thead>\n",
       "    <tr style=\"text-align: right;\">\n",
       "      <th></th>\n",
       "      <th>File</th>\n",
       "      <th>Page</th>\n",
       "      <th>Text</th>\n",
       "      <th>Language</th>\n",
       "    </tr>\n",
       "  </thead>\n",
       "  <tbody>\n",
       "    <tr>\n",
       "      <th>0</th>\n",
       "      <td>Advantages of mixed-age free play in elementar...</td>\n",
       "      <td>1</td>\n",
       "      <td>Full Terms &amp; Conditions of access and use can ...</td>\n",
       "      <td>en</td>\n",
       "    </tr>\n",
       "    <tr>\n",
       "      <th>1</th>\n",
       "      <td>Advantages of mixed-age free play in elementar...</td>\n",
       "      <td>1</td>\n",
       "      <td>Advantages of mixed-age free play in elementar...</td>\n",
       "      <td>en</td>\n",
       "    </tr>\n",
       "    <tr>\n",
       "      <th>2</th>\n",
       "      <td>Advantages of mixed-age free play in elementar...</td>\n",
       "      <td>1</td>\n",
       "      <td>mixed-age free play in elementary school: perc...</td>\n",
       "      <td>en</td>\n",
       "    </tr>\n",
       "    <tr>\n",
       "      <th>3</th>\n",
       "      <td>Advantages of mixed-age free play in elementar...</td>\n",
       "      <td>2</td>\n",
       "      <td>Advantages of mixed-age free play in elementar...</td>\n",
       "      <td>en</td>\n",
       "    </tr>\n",
       "    <tr>\n",
       "      <th>4</th>\n",
       "      <td>Advantages of mixed-age free play in elementar...</td>\n",
       "      <td>2</td>\n",
       "      <td>Mixed-age groups have been shown to be effecti...</td>\n",
       "      <td>en</td>\n",
       "    </tr>\n",
       "    <tr>\n",
       "      <th>5</th>\n",
       "      <td>Advantages of mixed-age free play in elementar...</td>\n",
       "      <td>2</td>\n",
       "      <td>expressed their support for cross-age interact...</td>\n",
       "      <td>en</td>\n",
       "    </tr>\n",
       "    <tr>\n",
       "      <th>6</th>\n",
       "      <td>Advantages of mixed-age free play in elementar...</td>\n",
       "      <td>2</td>\n",
       "      <td>Most of us, and even most of our parents and g...</td>\n",
       "      <td>en</td>\n",
       "    </tr>\n",
       "    <tr>\n",
       "      <th>7</th>\n",
       "      <td>Advantages of mixed-age free play in elementar...</td>\n",
       "      <td>2</td>\n",
       "      <td>Children need to cultivate a diverse set of sk...</td>\n",
       "      <td>en</td>\n",
       "    </tr>\n",
       "    <tr>\n",
       "      <th>8</th>\n",
       "      <td>Advantages of mixed-age free play in elementar...</td>\n",
       "      <td>2</td>\n",
       "      <td>(  ), increased standardization runs counter t...</td>\n",
       "      <td>en</td>\n",
       "    </tr>\n",
       "    <tr>\n",
       "      <th>9</th>\n",
       "      <td>Advantages of mixed-age free play in elementar...</td>\n",
       "      <td>3</td>\n",
       "      <td>the 6 C ’ s  –  collaboration, communication, ...</td>\n",
       "      <td>en</td>\n",
       "    </tr>\n",
       "    <tr>\n",
       "      <th>10</th>\n",
       "      <td>Advantages of mixed-age free play in elementar...</td>\n",
       "      <td>3</td>\n",
       "      <td>Mixed-age grouping, also known as multiage gro...</td>\n",
       "      <td>en</td>\n",
       "    </tr>\n",
       "    <tr>\n",
       "      <th>11</th>\n",
       "      <td>Advantages of mixed-age free play in elementar...</td>\n",
       "      <td>3</td>\n",
       "      <td>[REDACTED] grouping, family grouping, and ungr...</td>\n",
       "      <td>en</td>\n",
       "    </tr>\n",
       "    <tr>\n",
       "      <th>12</th>\n",
       "      <td>Advantages of mixed-age free play in elementar...</td>\n",
       "      <td>3</td>\n",
       "      <td>This research is a single case study ([REDACTE...</td>\n",
       "      <td>en</td>\n",
       "    </tr>\n",
       "    <tr>\n",
       "      <th>13</th>\n",
       "      <td>Advantages of mixed-age free play in elementar...</td>\n",
       "      <td>3</td>\n",
       "      <td>that places great value on recess and mixed-ag...</td>\n",
       "      <td>en</td>\n",
       "    </tr>\n",
       "    <tr>\n",
       "      <th>14</th>\n",
       "      <td>Advantages of mixed-age free play in elementar...</td>\n",
       "      <td>3</td>\n",
       "      <td>The school district located in [REDACTED], [RE...</td>\n",
       "      <td>en</td>\n",
       "    </tr>\n",
       "    <tr>\n",
       "      <th>15</th>\n",
       "      <td>Advantages of mixed-age free play in elementar...</td>\n",
       "      <td>3</td>\n",
       "      <td>of Education ([REDACTED]) frameworks for socia...</td>\n",
       "      <td>en</td>\n",
       "    </tr>\n",
       "    <tr>\n",
       "      <th>16</th>\n",
       "      <td>Advantages of mixed-age free play in elementar...</td>\n",
       "      <td>4</td>\n",
       "      <td>that each component was equally important as t...</td>\n",
       "      <td>en</td>\n",
       "    </tr>\n",
       "    <tr>\n",
       "      <th>17</th>\n",
       "      <td>Advantages of mixed-age free play in elementar...</td>\n",
       "      <td>4</td>\n",
       "      <td>[REDACTED] ’ s ( 1978 ) theories o ff er an op...</td>\n",
       "      <td>en</td>\n",
       "    </tr>\n",
       "    <tr>\n",
       "      <th>18</th>\n",
       "      <td>Advantages of mixed-age free play in elementar...</td>\n",
       "      <td>4</td>\n",
       "      <td>[REDACTED] (  ) based his theory on the ideas ...</td>\n",
       "      <td>en</td>\n",
       "    </tr>\n",
       "    <tr>\n",
       "      <th>19</th>\n",
       "      <td>Advantages of mixed-age free play in elementar...</td>\n",
       "      <td>4</td>\n",
       "      <td>who [REDACTED] er in age, ability, gender, and...</td>\n",
       "      <td>en</td>\n",
       "    </tr>\n",
       "    <tr>\n",
       "      <th>20</th>\n",
       "      <td>Advantages of mixed-age free play in elementar...</td>\n",
       "      <td>4</td>\n",
       "      <td>Mixed-age grouping can in [REDACTED] uence you...</td>\n",
       "      <td>en</td>\n",
       "    </tr>\n",
       "    <tr>\n",
       "      <th>21</th>\n",
       "      <td>Advantages of mixed-age free play in elementar...</td>\n",
       "      <td>5</td>\n",
       "      <td>). By watching older children, the younger ch...</td>\n",
       "      <td>en</td>\n",
       "    </tr>\n",
       "    <tr>\n",
       "      <th>22</th>\n",
       "      <td>Advantages of mixed-age free play in elementar...</td>\n",
       "      <td>5</td>\n",
       "      <td>[REDACTED] et al. (  ) describes two settings ...</td>\n",
       "      <td>en</td>\n",
       "    </tr>\n",
       "    <tr>\n",
       "      <th>23</th>\n",
       "      <td>Advantages of mixed-age free play in elementar...</td>\n",
       "      <td>5</td>\n",
       "      <td>dren 3-to-6-years that implemented Golden Key ...</td>\n",
       "      <td>en</td>\n",
       "    </tr>\n",
       "    <tr>\n",
       "      <th>24</th>\n",
       "      <td>Advantages of mixed-age free play in elementar...</td>\n",
       "      <td>5</td>\n",
       "      <td>[REDACTED] and [REDACTED] (  ) observed  and  ...</td>\n",
       "      <td>en</td>\n",
       "    </tr>\n",
       "    <tr>\n",
       "      <th>25</th>\n",
       "      <td>Advantages of mixed-age free play in elementar...</td>\n",
       "      <td>5</td>\n",
       "      <td>both age-mixed and age-segregated. They found ...</td>\n",
       "      <td>en</td>\n",
       "    </tr>\n",
       "    <tr>\n",
       "      <th>26</th>\n",
       "      <td>Advantages of mixed-age free play in elementar...</td>\n",
       "      <td>5</td>\n",
       "      <td>Positive social interactions are found in pres...</td>\n",
       "      <td>en</td>\n",
       "    </tr>\n",
       "    <tr>\n",
       "      <th>27</th>\n",
       "      <td>Advantages of mixed-age free play in elementar...</td>\n",
       "      <td>5</td>\n",
       "      <td>groups with a wider age range. [REDACTED] and ...</td>\n",
       "      <td>en</td>\n",
       "    </tr>\n",
       "    <tr>\n",
       "      <th>28</th>\n",
       "      <td>Advantages of mixed-age free play in elementar...</td>\n",
       "      <td>5</td>\n",
       "      <td>There are also documented academic bene fi ts ...</td>\n",
       "      <td>en</td>\n",
       "    </tr>\n",
       "    <tr>\n",
       "      <th>29</th>\n",
       "      <td>Advantages of mixed-age free play in elementar...</td>\n",
       "      <td>5</td>\n",
       "      <td>school classrooms ([REDACTED],   , [REDACTED],...</td>\n",
       "      <td>en</td>\n",
       "    </tr>\n",
       "  </tbody>\n",
       "</table>\n",
       "</div>"
      ],
      "text/plain": [
       "                                                 File  Page  \\\n",
       "0   Advantages of mixed-age free play in elementar...     1   \n",
       "1   Advantages of mixed-age free play in elementar...     1   \n",
       "2   Advantages of mixed-age free play in elementar...     1   \n",
       "3   Advantages of mixed-age free play in elementar...     2   \n",
       "4   Advantages of mixed-age free play in elementar...     2   \n",
       "5   Advantages of mixed-age free play in elementar...     2   \n",
       "6   Advantages of mixed-age free play in elementar...     2   \n",
       "7   Advantages of mixed-age free play in elementar...     2   \n",
       "8   Advantages of mixed-age free play in elementar...     2   \n",
       "9   Advantages of mixed-age free play in elementar...     3   \n",
       "10  Advantages of mixed-age free play in elementar...     3   \n",
       "11  Advantages of mixed-age free play in elementar...     3   \n",
       "12  Advantages of mixed-age free play in elementar...     3   \n",
       "13  Advantages of mixed-age free play in elementar...     3   \n",
       "14  Advantages of mixed-age free play in elementar...     3   \n",
       "15  Advantages of mixed-age free play in elementar...     3   \n",
       "16  Advantages of mixed-age free play in elementar...     4   \n",
       "17  Advantages of mixed-age free play in elementar...     4   \n",
       "18  Advantages of mixed-age free play in elementar...     4   \n",
       "19  Advantages of mixed-age free play in elementar...     4   \n",
       "20  Advantages of mixed-age free play in elementar...     4   \n",
       "21  Advantages of mixed-age free play in elementar...     5   \n",
       "22  Advantages of mixed-age free play in elementar...     5   \n",
       "23  Advantages of mixed-age free play in elementar...     5   \n",
       "24  Advantages of mixed-age free play in elementar...     5   \n",
       "25  Advantages of mixed-age free play in elementar...     5   \n",
       "26  Advantages of mixed-age free play in elementar...     5   \n",
       "27  Advantages of mixed-age free play in elementar...     5   \n",
       "28  Advantages of mixed-age free play in elementar...     5   \n",
       "29  Advantages of mixed-age free play in elementar...     5   \n",
       "\n",
       "                                                 Text Language  \n",
       "0   Full Terms & Conditions of access and use can ...       en  \n",
       "1   Advantages of mixed-age free play in elementar...       en  \n",
       "2   mixed-age free play in elementary school: perc...       en  \n",
       "3   Advantages of mixed-age free play in elementar...       en  \n",
       "4   Mixed-age groups have been shown to be effecti...       en  \n",
       "5   expressed their support for cross-age interact...       en  \n",
       "6   Most of us, and even most of our parents and g...       en  \n",
       "7   Children need to cultivate a diverse set of sk...       en  \n",
       "8   (  ), increased standardization runs counter t...       en  \n",
       "9   the 6 C ’ s  –  collaboration, communication, ...       en  \n",
       "10  Mixed-age grouping, also known as multiage gro...       en  \n",
       "11  [REDACTED] grouping, family grouping, and ungr...       en  \n",
       "12  This research is a single case study ([REDACTE...       en  \n",
       "13  that places great value on recess and mixed-ag...       en  \n",
       "14  The school district located in [REDACTED], [RE...       en  \n",
       "15  of Education ([REDACTED]) frameworks for socia...       en  \n",
       "16  that each component was equally important as t...       en  \n",
       "17  [REDACTED] ’ s ( 1978 ) theories o ff er an op...       en  \n",
       "18  [REDACTED] (  ) based his theory on the ideas ...       en  \n",
       "19  who [REDACTED] er in age, ability, gender, and...       en  \n",
       "20  Mixed-age grouping can in [REDACTED] uence you...       en  \n",
       "21   ). By watching older children, the younger ch...       en  \n",
       "22  [REDACTED] et al. (  ) describes two settings ...       en  \n",
       "23  dren 3-to-6-years that implemented Golden Key ...       en  \n",
       "24  [REDACTED] and [REDACTED] (  ) observed  and  ...       en  \n",
       "25  both age-mixed and age-segregated. They found ...       en  \n",
       "26  Positive social interactions are found in pres...       en  \n",
       "27  groups with a wider age range. [REDACTED] and ...       en  \n",
       "28  There are also documented academic bene fi ts ...       en  \n",
       "29  school classrooms ([REDACTED],   , [REDACTED],...       en  "
      ]
     },
     "execution_count": 6,
     "metadata": {},
     "output_type": "execute_result"
    }
   ],
   "source": [
    "df_cleaned = pd.read_csv(GDPR_CSV)\n",
    "df_cleaned.head(30)"
   ]
  },
  {
   "cell_type": "code",
   "execution_count": 7,
   "metadata": {},
   "outputs": [
    {
     "data": {
      "text/html": [
       "<div>\n",
       "<style scoped>\n",
       "    .dataframe tbody tr th:only-of-type {\n",
       "        vertical-align: middle;\n",
       "    }\n",
       "\n",
       "    .dataframe tbody tr th {\n",
       "        vertical-align: top;\n",
       "    }\n",
       "\n",
       "    .dataframe thead th {\n",
       "        text-align: right;\n",
       "    }\n",
       "</style>\n",
       "<table border=\"1\" class=\"dataframe\">\n",
       "  <thead>\n",
       "    <tr style=\"text-align: right;\">\n",
       "      <th></th>\n",
       "      <th>File</th>\n",
       "      <th>Page</th>\n",
       "      <th>Text</th>\n",
       "      <th>Language</th>\n",
       "    </tr>\n",
       "  </thead>\n",
       "  <tbody>\n",
       "    <tr>\n",
       "      <th>0</th>\n",
       "      <td>Advantages of mixed-age free play in elementar...</td>\n",
       "      <td>1</td>\n",
       "      <td>Full Terms &amp; Conditions of access and use can ...</td>\n",
       "      <td>en</td>\n",
       "    </tr>\n",
       "    <tr>\n",
       "      <th>1</th>\n",
       "      <td>Advantages of mixed-age free play in elementar...</td>\n",
       "      <td>1</td>\n",
       "      <td>Advantages of mixed-age free play in elementar...</td>\n",
       "      <td>en</td>\n",
       "    </tr>\n",
       "    <tr>\n",
       "      <th>2</th>\n",
       "      <td>Advantages of mixed-age free play in elementar...</td>\n",
       "      <td>1</td>\n",
       "      <td>mixed-age free play in elementary school: perc...</td>\n",
       "      <td>en</td>\n",
       "    </tr>\n",
       "    <tr>\n",
       "      <th>3</th>\n",
       "      <td>Advantages of mixed-age free play in elementar...</td>\n",
       "      <td>2</td>\n",
       "      <td>Advantages of mixed-age free play in elementar...</td>\n",
       "      <td>en</td>\n",
       "    </tr>\n",
       "    <tr>\n",
       "      <th>4</th>\n",
       "      <td>Advantages of mixed-age free play in elementar...</td>\n",
       "      <td>2</td>\n",
       "      <td>Mixed-age groups have been shown to be effecti...</td>\n",
       "      <td>en</td>\n",
       "    </tr>\n",
       "    <tr>\n",
       "      <th>5</th>\n",
       "      <td>Advantages of mixed-age free play in elementar...</td>\n",
       "      <td>2</td>\n",
       "      <td>expressed their support for cross-age interact...</td>\n",
       "      <td>en</td>\n",
       "    </tr>\n",
       "    <tr>\n",
       "      <th>6</th>\n",
       "      <td>Advantages of mixed-age free play in elementar...</td>\n",
       "      <td>2</td>\n",
       "      <td>Most of us, and even most of our parents and g...</td>\n",
       "      <td>en</td>\n",
       "    </tr>\n",
       "    <tr>\n",
       "      <th>7</th>\n",
       "      <td>Advantages of mixed-age free play in elementar...</td>\n",
       "      <td>2</td>\n",
       "      <td>Children need to cultivate a diverse set of sk...</td>\n",
       "      <td>en</td>\n",
       "    </tr>\n",
       "    <tr>\n",
       "      <th>8</th>\n",
       "      <td>Advantages of mixed-age free play in elementar...</td>\n",
       "      <td>2</td>\n",
       "      <td>(  ), increased standardization runs counter t...</td>\n",
       "      <td>en</td>\n",
       "    </tr>\n",
       "    <tr>\n",
       "      <th>9</th>\n",
       "      <td>Advantages of mixed-age free play in elementar...</td>\n",
       "      <td>3</td>\n",
       "      <td>the 6 C ’ s  –  collaboration, communication, ...</td>\n",
       "      <td>en</td>\n",
       "    </tr>\n",
       "    <tr>\n",
       "      <th>10</th>\n",
       "      <td>Advantages of mixed-age free play in elementar...</td>\n",
       "      <td>3</td>\n",
       "      <td>Mixed-age grouping, also known as multiage gro...</td>\n",
       "      <td>en</td>\n",
       "    </tr>\n",
       "    <tr>\n",
       "      <th>11</th>\n",
       "      <td>Advantages of mixed-age free play in elementar...</td>\n",
       "      <td>3</td>\n",
       "      <td>[REDACTED] grouping, family grouping, and ungr...</td>\n",
       "      <td>en</td>\n",
       "    </tr>\n",
       "    <tr>\n",
       "      <th>12</th>\n",
       "      <td>Advantages of mixed-age free play in elementar...</td>\n",
       "      <td>3</td>\n",
       "      <td>This research is a single case study ([REDACTE...</td>\n",
       "      <td>en</td>\n",
       "    </tr>\n",
       "    <tr>\n",
       "      <th>13</th>\n",
       "      <td>Advantages of mixed-age free play in elementar...</td>\n",
       "      <td>3</td>\n",
       "      <td>that places great value on recess and mixed-ag...</td>\n",
       "      <td>en</td>\n",
       "    </tr>\n",
       "    <tr>\n",
       "      <th>14</th>\n",
       "      <td>Advantages of mixed-age free play in elementar...</td>\n",
       "      <td>3</td>\n",
       "      <td>The school district located in [REDACTED], [RE...</td>\n",
       "      <td>en</td>\n",
       "    </tr>\n",
       "    <tr>\n",
       "      <th>15</th>\n",
       "      <td>Advantages of mixed-age free play in elementar...</td>\n",
       "      <td>3</td>\n",
       "      <td>of Education ([REDACTED]) frameworks for socia...</td>\n",
       "      <td>en</td>\n",
       "    </tr>\n",
       "    <tr>\n",
       "      <th>16</th>\n",
       "      <td>Advantages of mixed-age free play in elementar...</td>\n",
       "      <td>4</td>\n",
       "      <td>that each component was equally important as t...</td>\n",
       "      <td>en</td>\n",
       "    </tr>\n",
       "    <tr>\n",
       "      <th>17</th>\n",
       "      <td>Advantages of mixed-age free play in elementar...</td>\n",
       "      <td>4</td>\n",
       "      <td>[REDACTED] ’ s ( 1978 ) theories o ff er an op...</td>\n",
       "      <td>en</td>\n",
       "    </tr>\n",
       "    <tr>\n",
       "      <th>18</th>\n",
       "      <td>Advantages of mixed-age free play in elementar...</td>\n",
       "      <td>4</td>\n",
       "      <td>[REDACTED] (  ) based his theory on the ideas ...</td>\n",
       "      <td>en</td>\n",
       "    </tr>\n",
       "    <tr>\n",
       "      <th>19</th>\n",
       "      <td>Advantages of mixed-age free play in elementar...</td>\n",
       "      <td>4</td>\n",
       "      <td>who [REDACTED] er in age, ability, gender, and...</td>\n",
       "      <td>en</td>\n",
       "    </tr>\n",
       "    <tr>\n",
       "      <th>20</th>\n",
       "      <td>Advantages of mixed-age free play in elementar...</td>\n",
       "      <td>4</td>\n",
       "      <td>Mixed-age grouping can in [REDACTED] uence you...</td>\n",
       "      <td>en</td>\n",
       "    </tr>\n",
       "    <tr>\n",
       "      <th>21</th>\n",
       "      <td>Advantages of mixed-age free play in elementar...</td>\n",
       "      <td>5</td>\n",
       "      <td>). By watching older children, the younger ch...</td>\n",
       "      <td>en</td>\n",
       "    </tr>\n",
       "    <tr>\n",
       "      <th>22</th>\n",
       "      <td>Advantages of mixed-age free play in elementar...</td>\n",
       "      <td>5</td>\n",
       "      <td>[REDACTED] et al. (  ) describes two settings ...</td>\n",
       "      <td>en</td>\n",
       "    </tr>\n",
       "    <tr>\n",
       "      <th>23</th>\n",
       "      <td>Advantages of mixed-age free play in elementar...</td>\n",
       "      <td>5</td>\n",
       "      <td>dren 3-to-6-years that implemented Golden Key ...</td>\n",
       "      <td>en</td>\n",
       "    </tr>\n",
       "    <tr>\n",
       "      <th>24</th>\n",
       "      <td>Advantages of mixed-age free play in elementar...</td>\n",
       "      <td>5</td>\n",
       "      <td>[REDACTED] and [REDACTED] (  ) observed  and  ...</td>\n",
       "      <td>en</td>\n",
       "    </tr>\n",
       "    <tr>\n",
       "      <th>25</th>\n",
       "      <td>Advantages of mixed-age free play in elementar...</td>\n",
       "      <td>5</td>\n",
       "      <td>both age-mixed and age-segregated. They found ...</td>\n",
       "      <td>en</td>\n",
       "    </tr>\n",
       "    <tr>\n",
       "      <th>26</th>\n",
       "      <td>Advantages of mixed-age free play in elementar...</td>\n",
       "      <td>5</td>\n",
       "      <td>Positive social interactions are found in pres...</td>\n",
       "      <td>en</td>\n",
       "    </tr>\n",
       "    <tr>\n",
       "      <th>27</th>\n",
       "      <td>Advantages of mixed-age free play in elementar...</td>\n",
       "      <td>5</td>\n",
       "      <td>groups with a wider age range. [REDACTED] and ...</td>\n",
       "      <td>en</td>\n",
       "    </tr>\n",
       "    <tr>\n",
       "      <th>28</th>\n",
       "      <td>Advantages of mixed-age free play in elementar...</td>\n",
       "      <td>5</td>\n",
       "      <td>There are also documented academic bene fi ts ...</td>\n",
       "      <td>en</td>\n",
       "    </tr>\n",
       "    <tr>\n",
       "      <th>29</th>\n",
       "      <td>Advantages of mixed-age free play in elementar...</td>\n",
       "      <td>5</td>\n",
       "      <td>school classrooms ([REDACTED],   , [REDACTED],...</td>\n",
       "      <td>en</td>\n",
       "    </tr>\n",
       "  </tbody>\n",
       "</table>\n",
       "</div>"
      ],
      "text/plain": [
       "                                                 File  Page  \\\n",
       "0   Advantages of mixed-age free play in elementar...     1   \n",
       "1   Advantages of mixed-age free play in elementar...     1   \n",
       "2   Advantages of mixed-age free play in elementar...     1   \n",
       "3   Advantages of mixed-age free play in elementar...     2   \n",
       "4   Advantages of mixed-age free play in elementar...     2   \n",
       "5   Advantages of mixed-age free play in elementar...     2   \n",
       "6   Advantages of mixed-age free play in elementar...     2   \n",
       "7   Advantages of mixed-age free play in elementar...     2   \n",
       "8   Advantages of mixed-age free play in elementar...     2   \n",
       "9   Advantages of mixed-age free play in elementar...     3   \n",
       "10  Advantages of mixed-age free play in elementar...     3   \n",
       "11  Advantages of mixed-age free play in elementar...     3   \n",
       "12  Advantages of mixed-age free play in elementar...     3   \n",
       "13  Advantages of mixed-age free play in elementar...     3   \n",
       "14  Advantages of mixed-age free play in elementar...     3   \n",
       "15  Advantages of mixed-age free play in elementar...     3   \n",
       "16  Advantages of mixed-age free play in elementar...     4   \n",
       "17  Advantages of mixed-age free play in elementar...     4   \n",
       "18  Advantages of mixed-age free play in elementar...     4   \n",
       "19  Advantages of mixed-age free play in elementar...     4   \n",
       "20  Advantages of mixed-age free play in elementar...     4   \n",
       "21  Advantages of mixed-age free play in elementar...     5   \n",
       "22  Advantages of mixed-age free play in elementar...     5   \n",
       "23  Advantages of mixed-age free play in elementar...     5   \n",
       "24  Advantages of mixed-age free play in elementar...     5   \n",
       "25  Advantages of mixed-age free play in elementar...     5   \n",
       "26  Advantages of mixed-age free play in elementar...     5   \n",
       "27  Advantages of mixed-age free play in elementar...     5   \n",
       "28  Advantages of mixed-age free play in elementar...     5   \n",
       "29  Advantages of mixed-age free play in elementar...     5   \n",
       "\n",
       "                                                 Text Language  \n",
       "0   Full Terms & Conditions of access and use can ...       en  \n",
       "1   Advantages of mixed-age free play in elementar...       en  \n",
       "2   mixed-age free play in elementary school: perc...       en  \n",
       "3   Advantages of mixed-age free play in elementar...       en  \n",
       "4   Mixed-age groups have been shown to be effecti...       en  \n",
       "5   expressed their support for cross-age interact...       en  \n",
       "6   Most of us, and even most of our parents and g...       en  \n",
       "7   Children need to cultivate a diverse set of sk...       en  \n",
       "8   (  ), increased standardization runs counter t...       en  \n",
       "9   the 6 C ’ s  –  collaboration, communication, ...       en  \n",
       "10  Mixed-age grouping, also known as multiage gro...       en  \n",
       "11  [REDACTED] grouping, family grouping, and ungr...       en  \n",
       "12  This research is a single case study ([REDACTE...       en  \n",
       "13  that places great value on recess and mixed-ag...       en  \n",
       "14  The school district located in [REDACTED], [RE...       en  \n",
       "15  of Education ([REDACTED]) frameworks for socia...       en  \n",
       "16  that each component was equally important as t...       en  \n",
       "17  [REDACTED] ’ s ( 1978 ) theories o ff er an op...       en  \n",
       "18  [REDACTED] (  ) based his theory on the ideas ...       en  \n",
       "19  who [REDACTED] er in age, ability, gender, and...       en  \n",
       "20  Mixed-age grouping can in [REDACTED] uence you...       en  \n",
       "21   ). By watching older children, the younger ch...       en  \n",
       "22  [REDACTED] et al. (  ) describes two settings ...       en  \n",
       "23  dren 3-to-6-years that implemented Golden Key ...       en  \n",
       "24  [REDACTED] and [REDACTED] (  ) observed  and  ...       en  \n",
       "25  both age-mixed and age-segregated. They found ...       en  \n",
       "26  Positive social interactions are found in pres...       en  \n",
       "27  groups with a wider age range. [REDACTED] and ...       en  \n",
       "28  There are also documented academic bene fi ts ...       en  \n",
       "29  school classrooms ([REDACTED],   , [REDACTED],...       en  "
      ]
     },
     "execution_count": 7,
     "metadata": {},
     "output_type": "execute_result"
    }
   ],
   "source": [
    "df_gdpr = pd.read_csv(GDPR_CSV)\n",
    "df_gdpr.head(30)"
   ]
  },
  {
   "cell_type": "markdown",
   "metadata": {},
   "source": [
    "## Using SpaCy NER to make the Model GDPR Compliant\n",
    "- Remove any sensitive data and patterns, The GDPR data will be saved in a new csv file."
   ]
  },
  {
   "cell_type": "code",
   "execution_count": 8,
   "metadata": {},
   "outputs": [
    {
     "name": "stdout",
     "output_type": "stream",
     "text": [
      "Cleaned data saved to csv/gdpr/gdprcompliantV5.csv\n"
     ]
    },
    {
     "data": {
      "text/html": [
       "<div>\n",
       "<style scoped>\n",
       "    .dataframe tbody tr th:only-of-type {\n",
       "        vertical-align: middle;\n",
       "    }\n",
       "\n",
       "    .dataframe tbody tr th {\n",
       "        vertical-align: top;\n",
       "    }\n",
       "\n",
       "    .dataframe thead th {\n",
       "        text-align: right;\n",
       "    }\n",
       "</style>\n",
       "<table border=\"1\" class=\"dataframe\">\n",
       "  <thead>\n",
       "    <tr style=\"text-align: right;\">\n",
       "      <th></th>\n",
       "      <th>File</th>\n",
       "      <th>Page</th>\n",
       "      <th>Language</th>\n",
       "      <th>GDPR_Text</th>\n",
       "    </tr>\n",
       "  </thead>\n",
       "  <tbody>\n",
       "    <tr>\n",
       "      <th>0</th>\n",
       "      <td>Advantages of mixed-age free play in elementar...</td>\n",
       "      <td>1</td>\n",
       "      <td>en</td>\n",
       "      <td>terms conditions access find</td>\n",
       "    </tr>\n",
       "    <tr>\n",
       "      <th>1</th>\n",
       "      <td>Advantages of mixed-age free play in elementar...</td>\n",
       "      <td>1</td>\n",
       "      <td>en</td>\n",
       "      <td>advantage mixed free play elementary school pe...</td>\n",
       "    </tr>\n",
       "    <tr>\n",
       "      <th>2</th>\n",
       "      <td>Advantages of mixed-age free play in elementar...</td>\n",
       "      <td>1</td>\n",
       "      <td>en</td>\n",
       "      <td>mixed free play elementary school perception s...</td>\n",
       "    </tr>\n",
       "    <tr>\n",
       "      <th>3</th>\n",
       "      <td>Advantages of mixed-age free play in elementar...</td>\n",
       "      <td>2</td>\n",
       "      <td>en</td>\n",
       "      <td>advantage mixed free play elementary school pe...</td>\n",
       "    </tr>\n",
       "    <tr>\n",
       "      <th>4</th>\n",
       "      <td>Advantages of mixed-age free play in elementar...</td>\n",
       "      <td>2</td>\n",
       "      <td>en</td>\n",
       "      <td>mixed group show effective classroom setting h...</td>\n",
       "    </tr>\n",
       "    <tr>\n",
       "      <th>5</th>\n",
       "      <td>Advantages of mixed-age free play in elementar...</td>\n",
       "      <td>2</td>\n",
       "      <td>en</td>\n",
       "      <td>express support cross interaction mixed groupi...</td>\n",
       "    </tr>\n",
       "    <tr>\n",
       "      <th>6</th>\n",
       "      <td>Advantages of mixed-age free play in elementar...</td>\n",
       "      <td>2</td>\n",
       "      <td>en</td>\n",
       "      <td>parent grandparent grow segregate school syste...</td>\n",
       "    </tr>\n",
       "    <tr>\n",
       "      <th>7</th>\n",
       "      <td>Advantages of mixed-age free play in elementar...</td>\n",
       "      <td>2</td>\n",
       "      <td>en</td>\n",
       "      <td>child need cultivate diverse skill point redact</td>\n",
       "    </tr>\n",
       "    <tr>\n",
       "      <th>8</th>\n",
       "      <td>Advantages of mixed-age free play in elementar...</td>\n",
       "      <td>2</td>\n",
       "      <td>en</td>\n",
       "      <td>increase standardization run counter child lea...</td>\n",
       "    </tr>\n",
       "    <tr>\n",
       "      <th>9</th>\n",
       "      <td>Advantages of mixed-age free play in elementar...</td>\n",
       "      <td>3</td>\n",
       "      <td>en</td>\n",
       "      <td>collaboration communication critical thinking ...</td>\n",
       "    </tr>\n",
       "    <tr>\n",
       "      <th>10</th>\n",
       "      <td>Advantages of mixed-age free play in elementar...</td>\n",
       "      <td>3</td>\n",
       "      <td>en</td>\n",
       "      <td>mixed grouping know multiage grouping heteroge...</td>\n",
       "    </tr>\n",
       "    <tr>\n",
       "      <th>11</th>\n",
       "      <td>Advantages of mixed-age free play in elementar...</td>\n",
       "      <td>3</td>\n",
       "      <td>en</td>\n",
       "      <td>redact grouping family grouping ungraded class...</td>\n",
       "    </tr>\n",
       "    <tr>\n",
       "      <th>12</th>\n",
       "      <td>Advantages of mixed-age free play in elementar...</td>\n",
       "      <td>3</td>\n",
       "      <td>en</td>\n",
       "      <td>research single case study redact redacted pub...</td>\n",
       "    </tr>\n",
       "    <tr>\n",
       "      <th>13</th>\n",
       "      <td>Advantages of mixed-age free play in elementar...</td>\n",
       "      <td>3</td>\n",
       "      <td>en</td>\n",
       "      <td>place great value recess mixed grouping single...</td>\n",
       "    </tr>\n",
       "    <tr>\n",
       "      <th>14</th>\n",
       "      <td>Advantages of mixed-age free play in elementar...</td>\n",
       "      <td>3</td>\n",
       "      <td>en</td>\n",
       "      <td>school district locate redact redacted follow ...</td>\n",
       "    </tr>\n",
       "    <tr>\n",
       "      <th>15</th>\n",
       "      <td>Advantages of mixed-age free play in elementar...</td>\n",
       "      <td>3</td>\n",
       "      <td>en</td>\n",
       "      <td>education redacted framework social emotional ...</td>\n",
       "    </tr>\n",
       "    <tr>\n",
       "      <th>16</th>\n",
       "      <td>Advantages of mixed-age free play in elementar...</td>\n",
       "      <td>4</td>\n",
       "      <td>en</td>\n",
       "      <td>component equally important include emphasis p...</td>\n",
       "    </tr>\n",
       "    <tr>\n",
       "      <th>17</th>\n",
       "      <td>Advantages of mixed-age free play in elementar...</td>\n",
       "      <td>4</td>\n",
       "      <td>en</td>\n",
       "      <td>redacted 1978 theory optimal platform examine ...</td>\n",
       "    </tr>\n",
       "    <tr>\n",
       "      <th>18</th>\n",
       "      <td>Advantages of mixed-age free play in elementar...</td>\n",
       "      <td>4</td>\n",
       "      <td>en</td>\n",
       "      <td>redacted base theory idea child learn</td>\n",
       "    </tr>\n",
       "    <tr>\n",
       "      <th>19</th>\n",
       "      <td>Advantages of mixed-age free play in elementar...</td>\n",
       "      <td>4</td>\n",
       "      <td>en</td>\n",
       "      <td>redacted ability gender special need redacted ...</td>\n",
       "    </tr>\n",
       "    <tr>\n",
       "      <th>20</th>\n",
       "      <td>Advantages of mixed-age free play in elementar...</td>\n",
       "      <td>4</td>\n",
       "      <td>en</td>\n",
       "      <td>mixed grouping redacted uence young child soci...</td>\n",
       "    </tr>\n",
       "    <tr>\n",
       "      <th>21</th>\n",
       "      <td>Advantages of mixed-age free play in elementar...</td>\n",
       "      <td>5</td>\n",
       "      <td>en</td>\n",
       "      <td>watch old child young child develop skill reda...</td>\n",
       "    </tr>\n",
       "    <tr>\n",
       "      <th>22</th>\n",
       "      <td>Advantages of mixed-age free play in elementar...</td>\n",
       "      <td>5</td>\n",
       "      <td>en</td>\n",
       "      <td>redacted describe setting redacted primary sch...</td>\n",
       "    </tr>\n",
       "    <tr>\n",
       "      <th>23</th>\n",
       "      <td>Advantages of mixed-age free play in elementar...</td>\n",
       "      <td>5</td>\n",
       "      <td>en</td>\n",
       "      <td>dren to-6 year implement golden principle gold...</td>\n",
       "    </tr>\n",
       "    <tr>\n",
       "      <th>24</th>\n",
       "      <td>Advantages of mixed-age free play in elementar...</td>\n",
       "      <td>5</td>\n",
       "      <td>en</td>\n",
       "      <td>redacted redacted observe play pair</td>\n",
       "    </tr>\n",
       "    <tr>\n",
       "      <th>25</th>\n",
       "      <td>Advantages of mixed-age free play in elementar...</td>\n",
       "      <td>5</td>\n",
       "      <td>en</td>\n",
       "      <td>mix segregate find mixed aged pair engage comp...</td>\n",
       "    </tr>\n",
       "    <tr>\n",
       "      <th>26</th>\n",
       "      <td>Advantages of mixed-age free play in elementar...</td>\n",
       "      <td>5</td>\n",
       "      <td>en</td>\n",
       "      <td>positive social interaction find preschool cla...</td>\n",
       "    </tr>\n",
       "    <tr>\n",
       "      <th>27</th>\n",
       "      <td>Advantages of mixed-age free play in elementar...</td>\n",
       "      <td>5</td>\n",
       "      <td>en</td>\n",
       "      <td>group wide range redacted redacted describe pl...</td>\n",
       "    </tr>\n",
       "    <tr>\n",
       "      <th>28</th>\n",
       "      <td>Advantages of mixed-age free play in elementar...</td>\n",
       "      <td>5</td>\n",
       "      <td>en</td>\n",
       "      <td>document academic bene mixed grouping elementary</td>\n",
       "    </tr>\n",
       "    <tr>\n",
       "      <th>29</th>\n",
       "      <td>Advantages of mixed-age free play in elementar...</td>\n",
       "      <td>5</td>\n",
       "      <td>en</td>\n",
       "      <td>school classroom redact redact redact young ch...</td>\n",
       "    </tr>\n",
       "  </tbody>\n",
       "</table>\n",
       "</div>"
      ],
      "text/plain": [
       "                                                 File  Page Language  \\\n",
       "0   Advantages of mixed-age free play in elementar...     1       en   \n",
       "1   Advantages of mixed-age free play in elementar...     1       en   \n",
       "2   Advantages of mixed-age free play in elementar...     1       en   \n",
       "3   Advantages of mixed-age free play in elementar...     2       en   \n",
       "4   Advantages of mixed-age free play in elementar...     2       en   \n",
       "5   Advantages of mixed-age free play in elementar...     2       en   \n",
       "6   Advantages of mixed-age free play in elementar...     2       en   \n",
       "7   Advantages of mixed-age free play in elementar...     2       en   \n",
       "8   Advantages of mixed-age free play in elementar...     2       en   \n",
       "9   Advantages of mixed-age free play in elementar...     3       en   \n",
       "10  Advantages of mixed-age free play in elementar...     3       en   \n",
       "11  Advantages of mixed-age free play in elementar...     3       en   \n",
       "12  Advantages of mixed-age free play in elementar...     3       en   \n",
       "13  Advantages of mixed-age free play in elementar...     3       en   \n",
       "14  Advantages of mixed-age free play in elementar...     3       en   \n",
       "15  Advantages of mixed-age free play in elementar...     3       en   \n",
       "16  Advantages of mixed-age free play in elementar...     4       en   \n",
       "17  Advantages of mixed-age free play in elementar...     4       en   \n",
       "18  Advantages of mixed-age free play in elementar...     4       en   \n",
       "19  Advantages of mixed-age free play in elementar...     4       en   \n",
       "20  Advantages of mixed-age free play in elementar...     4       en   \n",
       "21  Advantages of mixed-age free play in elementar...     5       en   \n",
       "22  Advantages of mixed-age free play in elementar...     5       en   \n",
       "23  Advantages of mixed-age free play in elementar...     5       en   \n",
       "24  Advantages of mixed-age free play in elementar...     5       en   \n",
       "25  Advantages of mixed-age free play in elementar...     5       en   \n",
       "26  Advantages of mixed-age free play in elementar...     5       en   \n",
       "27  Advantages of mixed-age free play in elementar...     5       en   \n",
       "28  Advantages of mixed-age free play in elementar...     5       en   \n",
       "29  Advantages of mixed-age free play in elementar...     5       en   \n",
       "\n",
       "                                            GDPR_Text  \n",
       "0                        terms conditions access find  \n",
       "1   advantage mixed free play elementary school pe...  \n",
       "2   mixed free play elementary school perception s...  \n",
       "3   advantage mixed free play elementary school pe...  \n",
       "4   mixed group show effective classroom setting h...  \n",
       "5   express support cross interaction mixed groupi...  \n",
       "6   parent grandparent grow segregate school syste...  \n",
       "7     child need cultivate diverse skill point redact  \n",
       "8   increase standardization run counter child lea...  \n",
       "9   collaboration communication critical thinking ...  \n",
       "10  mixed grouping know multiage grouping heteroge...  \n",
       "11  redact grouping family grouping ungraded class...  \n",
       "12  research single case study redact redacted pub...  \n",
       "13  place great value recess mixed grouping single...  \n",
       "14  school district locate redact redacted follow ...  \n",
       "15  education redacted framework social emotional ...  \n",
       "16  component equally important include emphasis p...  \n",
       "17  redacted 1978 theory optimal platform examine ...  \n",
       "18              redacted base theory idea child learn  \n",
       "19  redacted ability gender special need redacted ...  \n",
       "20  mixed grouping redacted uence young child soci...  \n",
       "21  watch old child young child develop skill reda...  \n",
       "22  redacted describe setting redacted primary sch...  \n",
       "23  dren to-6 year implement golden principle gold...  \n",
       "24                redacted redacted observe play pair  \n",
       "25  mix segregate find mixed aged pair engage comp...  \n",
       "26  positive social interaction find preschool cla...  \n",
       "27  group wide range redacted redacted describe pl...  \n",
       "28   document academic bene mixed grouping elementary  \n",
       "29  school classroom redact redact redact young ch...  "
      ]
     },
     "execution_count": 8,
     "metadata": {},
     "output_type": "execute_result"
    }
   ],
   "source": [
    "# Map languages to their respective spaCy models and stop words\n",
    "LANGUAGE_MODELS = {\n",
    "    'en': (NLP_MODELS['en'], EN_STOP_WORDS),\n",
    "    'nl': (NLP_MODELS['nl'], NL_STOP_WORDS),\n",
    "    'fr': (NLP_MODELS['fr'], FR_STOP_WORDS)\n",
    "}\n",
    "\n",
    "# Function to clean text using spaCy\n",
    "def spaCyclean_text(text, language):\n",
    "    if language not in LANGUAGE_MODELS:\n",
    "        return text  # Return the original text if the language is not supported\n",
    "\n",
    "    nlp, stop_words = LANGUAGE_MODELS[language]\n",
    "    doc = nlp(text)\n",
    "\n",
    "    # Lemmatize, remove stop words, and filter out short tokens\n",
    "    cleaned_tokens = [\n",
    "        token.lemma_.lower() for token in doc\n",
    "        if not token.is_stop  # Remove stop words\n",
    "        and not token.is_punct  # Remove punctuation\n",
    "        and not token.is_space  # Remove spaces\n",
    "        and len(token.text) > 3  # Remove short tokens\n",
    "    ]\n",
    "    return \" \".join(cleaned_tokens)\n",
    "\n",
    "# Clean the text in the DataFrame\n",
    "df_gdpr[\"GDPR_Text\"] = df_gdpr.apply(\n",
    "    lambda row: spaCyclean_text(row[\"Text\"], row[\"Language\"]), \n",
    "    axis=1\n",
    ")\n",
    "\n",
    "# Drop the original \"Text\" column\n",
    "if \"Text\" in df_gdpr:\n",
    "    df_gdpr.drop(columns=[\"Text\"], inplace=True)\n",
    "\n",
    "# Save the cleaned DataFrame to a new CSV file\n",
    "df_gdpr.to_csv(GDPR_CSV, index=False)\n",
    "print(f\"Cleaned data saved to {GDPR_CSV}\")\n",
    "df_gdpr.head(30)"
   ]
  },
  {
   "cell_type": "markdown",
   "metadata": {},
   "source": [
    "\n",
    "# 4. Initialize and fit BERTopic\n",
    "The good thing with BERTopic is that is does most of the work automatically (Meaning, I do not need to bore you to death with details about how it works behind te scenes.)\n",
    "\n",
    "We need to do 3 things\n",
    "1. Initialize BERTopic model\n",
    "2. 'Fit' the model -> this  means: run the model, as you would run a simple linear regression\n",
    "3. Look at the topics via \n",
    "\n",
    "To get started, let's just use the default settings."
   ]
  },
  {
   "cell_type": "code",
   "execution_count": 19,
   "metadata": {},
   "outputs": [
    {
     "name": "stderr",
     "output_type": "stream",
     "text": [
      "2025-03-01 00:38:22,154 - INFO - Use pytorch device_name: cpu\n",
      "2025-03-01 00:38:22,155 - INFO - Load pretrained SentenceTransformer: sentence-transformers/all-MiniLM-L6-v2\n"
     ]
    },
    {
     "name": "stdout",
     "output_type": "stream",
     "text": [
      "   Topic  Count                                       Name  \\\n",
      "0     -1     25           -1_moral_terms_conditions_access   \n",
      "1      0    470          0_child_classroom_redact_redacted   \n",
      "2      1     63  1_literacy_environment_physical_classroom   \n",
      "3      2     60              2_care_caregiver_child_redact   \n",
      "4      3     50               3_redact_redacted_mail_thank   \n",
      "\n",
      "                                      Representation  \\\n",
      "0  [moral, terms, conditions, access, find, child...   \n",
      "1  [child, classroom, redact, redacted, mixed, pe...   \n",
      "2  [literacy, environment, physical, classroom, r...   \n",
      "3  [care, caregiver, child, redact, quality, grou...   \n",
      "4  [redact, redacted, mail, thank, information, a...   \n",
      "\n",
      "                                 Representative_Docs  \n",
      "0  [terms conditions access find, terms condition...  \n",
      "1  [relate classroom composition academic redact ...  \n",
      "2  [show shape classroom environment numerous way...  \n",
      "3  [peer group composition context early educatio...  \n",
      "4  [redacted redacted redacted redact, redact red...  \n"
     ]
    }
   ],
   "source": [
    "# Initialize BERTopic model\n",
    "topic_model = BERTopic(calculate_probabilities=True)\n",
    "\n",
    "# Fit the model on the cleaned text data\n",
    "topics, probabilities = topic_model.fit_transform(df_gdpr[\"GDPR_Text\"])\n",
    "\n",
    "# Get the topics\n",
    "topics_overview = topic_model.get_topic_info()\n",
    "print(topics_overview)\n"
   ]
  },
  {
   "cell_type": "markdown",
   "metadata": {},
   "source": [
    "# 5. Visualize Topics\n",
    "- Visualize Topic Hierarchy\n",
    "- Visualize documents\n",
    "- Visualize topics full article"
   ]
  },
  {
   "cell_type": "code",
   "execution_count": 20,
   "metadata": {},
   "outputs": [
    {
     "ename": "ValueError",
     "evalue": "Mime type rendering requires nbformat>=4.2.0 but it is not installed",
     "output_type": "error",
     "traceback": [
      "\u001b[1;31m---------------------------------------------------------------------------\u001b[0m",
      "\u001b[1;31mValueError\u001b[0m                                Traceback (most recent call last)",
      "File \u001b[1;32m~\\AppData\\Roaming\\Python\\Python312\\site-packages\\IPython\\core\\formatters.py:984\u001b[0m, in \u001b[0;36mIPythonDisplayFormatter.__call__\u001b[1;34m(self, obj)\u001b[0m\n\u001b[0;32m    982\u001b[0m method \u001b[38;5;241m=\u001b[39m get_real_method(obj, \u001b[38;5;28mself\u001b[39m\u001b[38;5;241m.\u001b[39mprint_method)\n\u001b[0;32m    983\u001b[0m \u001b[38;5;28;01mif\u001b[39;00m method \u001b[38;5;129;01mis\u001b[39;00m \u001b[38;5;129;01mnot\u001b[39;00m \u001b[38;5;28;01mNone\u001b[39;00m:\n\u001b[1;32m--> 984\u001b[0m     \u001b[43mmethod\u001b[49m\u001b[43m(\u001b[49m\u001b[43m)\u001b[49m\n\u001b[0;32m    985\u001b[0m     \u001b[38;5;28;01mreturn\u001b[39;00m \u001b[38;5;28;01mTrue\u001b[39;00m\n",
      "File \u001b[1;32mc:\\Users\\Lovepreet Singh\\AppData\\Local\\Programs\\Python\\Python312\\Lib\\site-packages\\plotly\\basedatatypes.py:833\u001b[0m, in \u001b[0;36mBaseFigure._ipython_display_\u001b[1;34m(self)\u001b[0m\n\u001b[0;32m    830\u001b[0m \u001b[38;5;28;01mimport\u001b[39;00m\u001b[38;5;250m \u001b[39m\u001b[38;5;21;01mplotly\u001b[39;00m\u001b[38;5;21;01m.\u001b[39;00m\u001b[38;5;21;01mio\u001b[39;00m\u001b[38;5;250m \u001b[39m\u001b[38;5;28;01mas\u001b[39;00m\u001b[38;5;250m \u001b[39m\u001b[38;5;21;01mpio\u001b[39;00m\n\u001b[0;32m    832\u001b[0m \u001b[38;5;28;01mif\u001b[39;00m pio\u001b[38;5;241m.\u001b[39mrenderers\u001b[38;5;241m.\u001b[39mrender_on_display \u001b[38;5;129;01mand\u001b[39;00m pio\u001b[38;5;241m.\u001b[39mrenderers\u001b[38;5;241m.\u001b[39mdefault:\n\u001b[1;32m--> 833\u001b[0m     \u001b[43mpio\u001b[49m\u001b[38;5;241;43m.\u001b[39;49m\u001b[43mshow\u001b[49m\u001b[43m(\u001b[49m\u001b[38;5;28;43mself\u001b[39;49m\u001b[43m)\u001b[49m\n\u001b[0;32m    834\u001b[0m \u001b[38;5;28;01melse\u001b[39;00m:\n\u001b[0;32m    835\u001b[0m     \u001b[38;5;28mprint\u001b[39m(\u001b[38;5;28mrepr\u001b[39m(\u001b[38;5;28mself\u001b[39m))\n",
      "File \u001b[1;32mc:\\Users\\Lovepreet Singh\\AppData\\Local\\Programs\\Python\\Python312\\Lib\\site-packages\\plotly\\io\\_renderers.py:425\u001b[0m, in \u001b[0;36mshow\u001b[1;34m(fig, renderer, validate, **kwargs)\u001b[0m\n\u001b[0;32m    420\u001b[0m     \u001b[38;5;28;01mraise\u001b[39;00m \u001b[38;5;167;01mValueError\u001b[39;00m(\n\u001b[0;32m    421\u001b[0m         \u001b[38;5;124m\"\u001b[39m\u001b[38;5;124mMime type rendering requires ipython but it is not installed\u001b[39m\u001b[38;5;124m\"\u001b[39m\n\u001b[0;32m    422\u001b[0m     )\n\u001b[0;32m    424\u001b[0m \u001b[38;5;28;01mif\u001b[39;00m \u001b[38;5;129;01mnot\u001b[39;00m nbformat \u001b[38;5;129;01mor\u001b[39;00m Version(nbformat\u001b[38;5;241m.\u001b[39m__version__) \u001b[38;5;241m<\u001b[39m Version(\u001b[38;5;124m\"\u001b[39m\u001b[38;5;124m4.2.0\u001b[39m\u001b[38;5;124m\"\u001b[39m):\n\u001b[1;32m--> 425\u001b[0m     \u001b[38;5;28;01mraise\u001b[39;00m \u001b[38;5;167;01mValueError\u001b[39;00m(\n\u001b[0;32m    426\u001b[0m         \u001b[38;5;124m\"\u001b[39m\u001b[38;5;124mMime type rendering requires nbformat>=4.2.0 but it is not installed\u001b[39m\u001b[38;5;124m\"\u001b[39m\n\u001b[0;32m    427\u001b[0m     )\n\u001b[0;32m    429\u001b[0m display_jupyter_version_warnings()\n\u001b[0;32m    431\u001b[0m ipython_display\u001b[38;5;241m.\u001b[39mdisplay(bundle, raw\u001b[38;5;241m=\u001b[39m\u001b[38;5;28;01mTrue\u001b[39;00m)\n",
      "\u001b[1;31mValueError\u001b[0m: Mime type rendering requires nbformat>=4.2.0 but it is not installed"
     ]
    },
    {
     "data": {
      "application/vnd.plotly.v1+json": {
       "config": {
        "plotlyServerURL": "https://plot.ly"
       },
       "data": [
        {
         "customdata": [
          [
           0,
           "child | classroom | redact | redacted | mixed",
           470
          ],
          [
           1,
           "literacy | environment | physical | classroom | redact",
           63
          ],
          [
           2,
           "care | caregiver | child | redact | quality",
           60
          ],
          [
           3,
           "redact | redacted | mail | thank | information",
           50
          ]
         ],
         "hovertemplate": "<b>Topic %{customdata[0]}</b><br>%{customdata[1]}<br>Size: %{customdata[2]}",
         "legendgroup": "",
         "marker": {
          "color": "#B0BEC5",
          "line": {
           "color": "DarkSlateGrey",
           "width": 2
          },
          "size": {
           "bdata": "1gE/ADwAMgA=",
           "dtype": "i2"
          },
          "sizemode": "area",
          "sizeref": 0.29375,
          "symbol": "circle"
         },
         "mode": "markers",
         "name": "",
         "orientation": "v",
         "showlegend": false,
         "type": "scatter",
         "x": {
          "bdata": "/nDaP5ygWD+X9wZA1K31Pw==",
          "dtype": "f4"
         },
         "xaxis": "x",
         "y": {
          "bdata": "We2zQGaPrkBHx59A6VjMQA==",
          "dtype": "f4"
         },
         "yaxis": "y"
        }
       ],
       "layout": {
        "annotations": [
         {
          "showarrow": false,
          "text": "D1",
          "x": 0.7192705988883972,
          "y": 5.793922877311706,
          "yshift": 10
         },
         {
          "showarrow": false,
          "text": "D2",
          "x": 1.5722307682037355,
          "xshift": 10,
          "y": 7.3437312841415405
         }
        ],
        "height": 650,
        "hoverlabel": {
         "bgcolor": "white",
         "font": {
          "family": "Rockwell",
          "size": 16
         }
        },
        "legend": {
         "itemsizing": "constant",
         "tracegroupgap": 0
        },
        "margin": {
         "t": 60
        },
        "shapes": [
         {
          "line": {
           "color": "#CFD8DC",
           "width": 2
          },
          "type": "line",
          "x0": 1.5722307682037355,
          "x1": 1.5722307682037355,
          "y0": 4.244114470481873,
          "y1": 7.3437312841415405
         },
         {
          "line": {
           "color": "#9E9E9E",
           "width": 2
          },
          "type": "line",
          "x0": 0.7192705988883972,
          "x1": 2.4251909375190737,
          "y0": 5.793922877311706,
          "y1": 5.793922877311706
         }
        ],
        "sliders": [
         {
          "active": 0,
          "pad": {
           "t": 50
          },
          "steps": [
           {
            "args": [
             {
              "marker.color": [
               [
                "red",
                "#B0BEC5",
                "#B0BEC5",
                "#B0BEC5"
               ]
              ]
             }
            ],
            "label": "Topic 0",
            "method": "update"
           },
           {
            "args": [
             {
              "marker.color": [
               [
                "#B0BEC5",
                "red",
                "#B0BEC5",
                "#B0BEC5"
               ]
              ]
             }
            ],
            "label": "Topic 1",
            "method": "update"
           },
           {
            "args": [
             {
              "marker.color": [
               [
                "#B0BEC5",
                "#B0BEC5",
                "red",
                "#B0BEC5"
               ]
              ]
             }
            ],
            "label": "Topic 2",
            "method": "update"
           },
           {
            "args": [
             {
              "marker.color": [
               [
                "#B0BEC5",
                "#B0BEC5",
                "#B0BEC5",
                "red"
               ]
              ]
             }
            ],
            "label": "Topic 3",
            "method": "update"
           }
          ]
         }
        ],
        "template": {
         "data": {
          "bar": [
           {
            "error_x": {
             "color": "rgb(36,36,36)"
            },
            "error_y": {
             "color": "rgb(36,36,36)"
            },
            "marker": {
             "line": {
              "color": "white",
              "width": 0.5
             },
             "pattern": {
              "fillmode": "overlay",
              "size": 10,
              "solidity": 0.2
             }
            },
            "type": "bar"
           }
          ],
          "barpolar": [
           {
            "marker": {
             "line": {
              "color": "white",
              "width": 0.5
             },
             "pattern": {
              "fillmode": "overlay",
              "size": 10,
              "solidity": 0.2
             }
            },
            "type": "barpolar"
           }
          ],
          "carpet": [
           {
            "aaxis": {
             "endlinecolor": "rgb(36,36,36)",
             "gridcolor": "white",
             "linecolor": "white",
             "minorgridcolor": "white",
             "startlinecolor": "rgb(36,36,36)"
            },
            "baxis": {
             "endlinecolor": "rgb(36,36,36)",
             "gridcolor": "white",
             "linecolor": "white",
             "minorgridcolor": "white",
             "startlinecolor": "rgb(36,36,36)"
            },
            "type": "carpet"
           }
          ],
          "choropleth": [
           {
            "colorbar": {
             "outlinewidth": 1,
             "tickcolor": "rgb(36,36,36)",
             "ticks": "outside"
            },
            "type": "choropleth"
           }
          ],
          "contour": [
           {
            "colorbar": {
             "outlinewidth": 1,
             "tickcolor": "rgb(36,36,36)",
             "ticks": "outside"
            },
            "colorscale": [
             [
              0,
              "#440154"
             ],
             [
              0.1111111111111111,
              "#482878"
             ],
             [
              0.2222222222222222,
              "#3e4989"
             ],
             [
              0.3333333333333333,
              "#31688e"
             ],
             [
              0.4444444444444444,
              "#26828e"
             ],
             [
              0.5555555555555556,
              "#1f9e89"
             ],
             [
              0.6666666666666666,
              "#35b779"
             ],
             [
              0.7777777777777778,
              "#6ece58"
             ],
             [
              0.8888888888888888,
              "#b5de2b"
             ],
             [
              1,
              "#fde725"
             ]
            ],
            "type": "contour"
           }
          ],
          "contourcarpet": [
           {
            "colorbar": {
             "outlinewidth": 1,
             "tickcolor": "rgb(36,36,36)",
             "ticks": "outside"
            },
            "type": "contourcarpet"
           }
          ],
          "heatmap": [
           {
            "colorbar": {
             "outlinewidth": 1,
             "tickcolor": "rgb(36,36,36)",
             "ticks": "outside"
            },
            "colorscale": [
             [
              0,
              "#440154"
             ],
             [
              0.1111111111111111,
              "#482878"
             ],
             [
              0.2222222222222222,
              "#3e4989"
             ],
             [
              0.3333333333333333,
              "#31688e"
             ],
             [
              0.4444444444444444,
              "#26828e"
             ],
             [
              0.5555555555555556,
              "#1f9e89"
             ],
             [
              0.6666666666666666,
              "#35b779"
             ],
             [
              0.7777777777777778,
              "#6ece58"
             ],
             [
              0.8888888888888888,
              "#b5de2b"
             ],
             [
              1,
              "#fde725"
             ]
            ],
            "type": "heatmap"
           }
          ],
          "histogram": [
           {
            "marker": {
             "line": {
              "color": "white",
              "width": 0.6
             }
            },
            "type": "histogram"
           }
          ],
          "histogram2d": [
           {
            "colorbar": {
             "outlinewidth": 1,
             "tickcolor": "rgb(36,36,36)",
             "ticks": "outside"
            },
            "colorscale": [
             [
              0,
              "#440154"
             ],
             [
              0.1111111111111111,
              "#482878"
             ],
             [
              0.2222222222222222,
              "#3e4989"
             ],
             [
              0.3333333333333333,
              "#31688e"
             ],
             [
              0.4444444444444444,
              "#26828e"
             ],
             [
              0.5555555555555556,
              "#1f9e89"
             ],
             [
              0.6666666666666666,
              "#35b779"
             ],
             [
              0.7777777777777778,
              "#6ece58"
             ],
             [
              0.8888888888888888,
              "#b5de2b"
             ],
             [
              1,
              "#fde725"
             ]
            ],
            "type": "histogram2d"
           }
          ],
          "histogram2dcontour": [
           {
            "colorbar": {
             "outlinewidth": 1,
             "tickcolor": "rgb(36,36,36)",
             "ticks": "outside"
            },
            "colorscale": [
             [
              0,
              "#440154"
             ],
             [
              0.1111111111111111,
              "#482878"
             ],
             [
              0.2222222222222222,
              "#3e4989"
             ],
             [
              0.3333333333333333,
              "#31688e"
             ],
             [
              0.4444444444444444,
              "#26828e"
             ],
             [
              0.5555555555555556,
              "#1f9e89"
             ],
             [
              0.6666666666666666,
              "#35b779"
             ],
             [
              0.7777777777777778,
              "#6ece58"
             ],
             [
              0.8888888888888888,
              "#b5de2b"
             ],
             [
              1,
              "#fde725"
             ]
            ],
            "type": "histogram2dcontour"
           }
          ],
          "mesh3d": [
           {
            "colorbar": {
             "outlinewidth": 1,
             "tickcolor": "rgb(36,36,36)",
             "ticks": "outside"
            },
            "type": "mesh3d"
           }
          ],
          "parcoords": [
           {
            "line": {
             "colorbar": {
              "outlinewidth": 1,
              "tickcolor": "rgb(36,36,36)",
              "ticks": "outside"
             }
            },
            "type": "parcoords"
           }
          ],
          "pie": [
           {
            "automargin": true,
            "type": "pie"
           }
          ],
          "scatter": [
           {
            "fillpattern": {
             "fillmode": "overlay",
             "size": 10,
             "solidity": 0.2
            },
            "type": "scatter"
           }
          ],
          "scatter3d": [
           {
            "line": {
             "colorbar": {
              "outlinewidth": 1,
              "tickcolor": "rgb(36,36,36)",
              "ticks": "outside"
             }
            },
            "marker": {
             "colorbar": {
              "outlinewidth": 1,
              "tickcolor": "rgb(36,36,36)",
              "ticks": "outside"
             }
            },
            "type": "scatter3d"
           }
          ],
          "scattercarpet": [
           {
            "marker": {
             "colorbar": {
              "outlinewidth": 1,
              "tickcolor": "rgb(36,36,36)",
              "ticks": "outside"
             }
            },
            "type": "scattercarpet"
           }
          ],
          "scattergeo": [
           {
            "marker": {
             "colorbar": {
              "outlinewidth": 1,
              "tickcolor": "rgb(36,36,36)",
              "ticks": "outside"
             }
            },
            "type": "scattergeo"
           }
          ],
          "scattergl": [
           {
            "marker": {
             "colorbar": {
              "outlinewidth": 1,
              "tickcolor": "rgb(36,36,36)",
              "ticks": "outside"
             }
            },
            "type": "scattergl"
           }
          ],
          "scattermap": [
           {
            "marker": {
             "colorbar": {
              "outlinewidth": 1,
              "tickcolor": "rgb(36,36,36)",
              "ticks": "outside"
             }
            },
            "type": "scattermap"
           }
          ],
          "scattermapbox": [
           {
            "marker": {
             "colorbar": {
              "outlinewidth": 1,
              "tickcolor": "rgb(36,36,36)",
              "ticks": "outside"
             }
            },
            "type": "scattermapbox"
           }
          ],
          "scatterpolar": [
           {
            "marker": {
             "colorbar": {
              "outlinewidth": 1,
              "tickcolor": "rgb(36,36,36)",
              "ticks": "outside"
             }
            },
            "type": "scatterpolar"
           }
          ],
          "scatterpolargl": [
           {
            "marker": {
             "colorbar": {
              "outlinewidth": 1,
              "tickcolor": "rgb(36,36,36)",
              "ticks": "outside"
             }
            },
            "type": "scatterpolargl"
           }
          ],
          "scatterternary": [
           {
            "marker": {
             "colorbar": {
              "outlinewidth": 1,
              "tickcolor": "rgb(36,36,36)",
              "ticks": "outside"
             }
            },
            "type": "scatterternary"
           }
          ],
          "surface": [
           {
            "colorbar": {
             "outlinewidth": 1,
             "tickcolor": "rgb(36,36,36)",
             "ticks": "outside"
            },
            "colorscale": [
             [
              0,
              "#440154"
             ],
             [
              0.1111111111111111,
              "#482878"
             ],
             [
              0.2222222222222222,
              "#3e4989"
             ],
             [
              0.3333333333333333,
              "#31688e"
             ],
             [
              0.4444444444444444,
              "#26828e"
             ],
             [
              0.5555555555555556,
              "#1f9e89"
             ],
             [
              0.6666666666666666,
              "#35b779"
             ],
             [
              0.7777777777777778,
              "#6ece58"
             ],
             [
              0.8888888888888888,
              "#b5de2b"
             ],
             [
              1,
              "#fde725"
             ]
            ],
            "type": "surface"
           }
          ],
          "table": [
           {
            "cells": {
             "fill": {
              "color": "rgb(237,237,237)"
             },
             "line": {
              "color": "white"
             }
            },
            "header": {
             "fill": {
              "color": "rgb(217,217,217)"
             },
             "line": {
              "color": "white"
             }
            },
            "type": "table"
           }
          ]
         },
         "layout": {
          "annotationdefaults": {
           "arrowhead": 0,
           "arrowwidth": 1
          },
          "autotypenumbers": "strict",
          "coloraxis": {
           "colorbar": {
            "outlinewidth": 1,
            "tickcolor": "rgb(36,36,36)",
            "ticks": "outside"
           }
          },
          "colorscale": {
           "diverging": [
            [
             0,
             "rgb(103,0,31)"
            ],
            [
             0.1,
             "rgb(178,24,43)"
            ],
            [
             0.2,
             "rgb(214,96,77)"
            ],
            [
             0.3,
             "rgb(244,165,130)"
            ],
            [
             0.4,
             "rgb(253,219,199)"
            ],
            [
             0.5,
             "rgb(247,247,247)"
            ],
            [
             0.6,
             "rgb(209,229,240)"
            ],
            [
             0.7,
             "rgb(146,197,222)"
            ],
            [
             0.8,
             "rgb(67,147,195)"
            ],
            [
             0.9,
             "rgb(33,102,172)"
            ],
            [
             1,
             "rgb(5,48,97)"
            ]
           ],
           "sequential": [
            [
             0,
             "#440154"
            ],
            [
             0.1111111111111111,
             "#482878"
            ],
            [
             0.2222222222222222,
             "#3e4989"
            ],
            [
             0.3333333333333333,
             "#31688e"
            ],
            [
             0.4444444444444444,
             "#26828e"
            ],
            [
             0.5555555555555556,
             "#1f9e89"
            ],
            [
             0.6666666666666666,
             "#35b779"
            ],
            [
             0.7777777777777778,
             "#6ece58"
            ],
            [
             0.8888888888888888,
             "#b5de2b"
            ],
            [
             1,
             "#fde725"
            ]
           ],
           "sequentialminus": [
            [
             0,
             "#440154"
            ],
            [
             0.1111111111111111,
             "#482878"
            ],
            [
             0.2222222222222222,
             "#3e4989"
            ],
            [
             0.3333333333333333,
             "#31688e"
            ],
            [
             0.4444444444444444,
             "#26828e"
            ],
            [
             0.5555555555555556,
             "#1f9e89"
            ],
            [
             0.6666666666666666,
             "#35b779"
            ],
            [
             0.7777777777777778,
             "#6ece58"
            ],
            [
             0.8888888888888888,
             "#b5de2b"
            ],
            [
             1,
             "#fde725"
            ]
           ]
          },
          "colorway": [
           "#1F77B4",
           "#FF7F0E",
           "#2CA02C",
           "#D62728",
           "#9467BD",
           "#8C564B",
           "#E377C2",
           "#7F7F7F",
           "#BCBD22",
           "#17BECF"
          ],
          "font": {
           "color": "rgb(36,36,36)"
          },
          "geo": {
           "bgcolor": "white",
           "lakecolor": "white",
           "landcolor": "white",
           "showlakes": true,
           "showland": true,
           "subunitcolor": "white"
          },
          "hoverlabel": {
           "align": "left"
          },
          "hovermode": "closest",
          "mapbox": {
           "style": "light"
          },
          "paper_bgcolor": "white",
          "plot_bgcolor": "white",
          "polar": {
           "angularaxis": {
            "gridcolor": "rgb(232,232,232)",
            "linecolor": "rgb(36,36,36)",
            "showgrid": false,
            "showline": true,
            "ticks": "outside"
           },
           "bgcolor": "white",
           "radialaxis": {
            "gridcolor": "rgb(232,232,232)",
            "linecolor": "rgb(36,36,36)",
            "showgrid": false,
            "showline": true,
            "ticks": "outside"
           }
          },
          "scene": {
           "xaxis": {
            "backgroundcolor": "white",
            "gridcolor": "rgb(232,232,232)",
            "gridwidth": 2,
            "linecolor": "rgb(36,36,36)",
            "showbackground": true,
            "showgrid": false,
            "showline": true,
            "ticks": "outside",
            "zeroline": false,
            "zerolinecolor": "rgb(36,36,36)"
           },
           "yaxis": {
            "backgroundcolor": "white",
            "gridcolor": "rgb(232,232,232)",
            "gridwidth": 2,
            "linecolor": "rgb(36,36,36)",
            "showbackground": true,
            "showgrid": false,
            "showline": true,
            "ticks": "outside",
            "zeroline": false,
            "zerolinecolor": "rgb(36,36,36)"
           },
           "zaxis": {
            "backgroundcolor": "white",
            "gridcolor": "rgb(232,232,232)",
            "gridwidth": 2,
            "linecolor": "rgb(36,36,36)",
            "showbackground": true,
            "showgrid": false,
            "showline": true,
            "ticks": "outside",
            "zeroline": false,
            "zerolinecolor": "rgb(36,36,36)"
           }
          },
          "shapedefaults": {
           "fillcolor": "black",
           "line": {
            "width": 0
           },
           "opacity": 0.3
          },
          "ternary": {
           "aaxis": {
            "gridcolor": "rgb(232,232,232)",
            "linecolor": "rgb(36,36,36)",
            "showgrid": false,
            "showline": true,
            "ticks": "outside"
           },
           "baxis": {
            "gridcolor": "rgb(232,232,232)",
            "linecolor": "rgb(36,36,36)",
            "showgrid": false,
            "showline": true,
            "ticks": "outside"
           },
           "bgcolor": "white",
           "caxis": {
            "gridcolor": "rgb(232,232,232)",
            "linecolor": "rgb(36,36,36)",
            "showgrid": false,
            "showline": true,
            "ticks": "outside"
           }
          },
          "title": {
           "x": 0.05
          },
          "xaxis": {
           "automargin": true,
           "gridcolor": "rgb(232,232,232)",
           "linecolor": "rgb(36,36,36)",
           "showgrid": false,
           "showline": true,
           "ticks": "outside",
           "title": {
            "standoff": 15
           },
           "zeroline": false,
           "zerolinecolor": "rgb(36,36,36)"
          },
          "yaxis": {
           "automargin": true,
           "gridcolor": "rgb(232,232,232)",
           "linecolor": "rgb(36,36,36)",
           "showgrid": false,
           "showline": true,
           "ticks": "outside",
           "title": {
            "standoff": 15
           },
           "zeroline": false,
           "zerolinecolor": "rgb(36,36,36)"
          }
         }
        },
        "title": {
         "font": {
          "color": "Black",
          "size": 22
         },
         "text": "<b>Intertopic Distance Map</b>",
         "x": 0.5,
         "xanchor": "center",
         "y": 0.95,
         "yanchor": "top"
        },
        "width": 650,
        "xaxis": {
         "anchor": "y",
         "domain": [
          0,
          1
         ],
         "range": [
          0.7192705988883972,
          2.4251909375190737
         ],
         "title": {
          "text": ""
         },
         "visible": false
        },
        "yaxis": {
         "anchor": "x",
         "domain": [
          0,
          1
         ],
         "range": [
          4.244114470481873,
          7.3437312841415405
         ],
         "title": {
          "text": ""
         },
         "visible": false
        }
       }
      },
      "text/html": [
       "<div>                        <script type=\"text/javascript\">window.PlotlyConfig = {MathJaxConfig: 'local'};</script>\n",
       "        <script charset=\"utf-8\" src=\"https://cdn.plot.ly/plotly-3.0.0.min.js\"></script>                <div id=\"c5adbac9-4d55-41f7-bc6e-673727314233\" class=\"plotly-graph-div\" style=\"height:650px; width:650px;\"></div>            <script type=\"text/javascript\">                window.PLOTLYENV=window.PLOTLYENV || {};                                if (document.getElementById(\"c5adbac9-4d55-41f7-bc6e-673727314233\")) {                    Plotly.newPlot(                        \"c5adbac9-4d55-41f7-bc6e-673727314233\",                        [{\"customdata\":[[0,\"child | classroom | redact | redacted | mixed\",470],[1,\"literacy | environment | physical | classroom | redact\",63],[2,\"care | caregiver | child | redact | quality\",60],[3,\"redact | redacted | mail | thank | information\",50]],\"hovertemplate\":\"\\u003cb\\u003eTopic %{customdata[0]}\\u003c\\u002fb\\u003e\\u003cbr\\u003e%{customdata[1]}\\u003cbr\\u003eSize: %{customdata[2]}\",\"legendgroup\":\"\",\"marker\":{\"color\":\"#B0BEC5\",\"size\":{\"dtype\":\"i2\",\"bdata\":\"1gE\\u002fADwAMgA=\"},\"sizemode\":\"area\",\"sizeref\":0.29375,\"symbol\":\"circle\",\"line\":{\"color\":\"DarkSlateGrey\",\"width\":2}},\"mode\":\"markers\",\"name\":\"\",\"orientation\":\"v\",\"showlegend\":false,\"x\":{\"dtype\":\"f4\",\"bdata\":\"\\u002fnDaP5ygWD+X9wZA1K31Pw==\"},\"xaxis\":\"x\",\"y\":{\"dtype\":\"f4\",\"bdata\":\"We2zQGaPrkBHx59A6VjMQA==\"},\"yaxis\":\"y\",\"type\":\"scatter\"}],                        {\"template\":{\"data\":{\"barpolar\":[{\"marker\":{\"line\":{\"color\":\"white\",\"width\":0.5},\"pattern\":{\"fillmode\":\"overlay\",\"size\":10,\"solidity\":0.2}},\"type\":\"barpolar\"}],\"bar\":[{\"error_x\":{\"color\":\"rgb(36,36,36)\"},\"error_y\":{\"color\":\"rgb(36,36,36)\"},\"marker\":{\"line\":{\"color\":\"white\",\"width\":0.5},\"pattern\":{\"fillmode\":\"overlay\",\"size\":10,\"solidity\":0.2}},\"type\":\"bar\"}],\"carpet\":[{\"aaxis\":{\"endlinecolor\":\"rgb(36,36,36)\",\"gridcolor\":\"white\",\"linecolor\":\"white\",\"minorgridcolor\":\"white\",\"startlinecolor\":\"rgb(36,36,36)\"},\"baxis\":{\"endlinecolor\":\"rgb(36,36,36)\",\"gridcolor\":\"white\",\"linecolor\":\"white\",\"minorgridcolor\":\"white\",\"startlinecolor\":\"rgb(36,36,36)\"},\"type\":\"carpet\"}],\"choropleth\":[{\"colorbar\":{\"outlinewidth\":1,\"tickcolor\":\"rgb(36,36,36)\",\"ticks\":\"outside\"},\"type\":\"choropleth\"}],\"contourcarpet\":[{\"colorbar\":{\"outlinewidth\":1,\"tickcolor\":\"rgb(36,36,36)\",\"ticks\":\"outside\"},\"type\":\"contourcarpet\"}],\"contour\":[{\"colorbar\":{\"outlinewidth\":1,\"tickcolor\":\"rgb(36,36,36)\",\"ticks\":\"outside\"},\"colorscale\":[[0.0,\"#440154\"],[0.1111111111111111,\"#482878\"],[0.2222222222222222,\"#3e4989\"],[0.3333333333333333,\"#31688e\"],[0.4444444444444444,\"#26828e\"],[0.5555555555555556,\"#1f9e89\"],[0.6666666666666666,\"#35b779\"],[0.7777777777777778,\"#6ece58\"],[0.8888888888888888,\"#b5de2b\"],[1.0,\"#fde725\"]],\"type\":\"contour\"}],\"heatmap\":[{\"colorbar\":{\"outlinewidth\":1,\"tickcolor\":\"rgb(36,36,36)\",\"ticks\":\"outside\"},\"colorscale\":[[0.0,\"#440154\"],[0.1111111111111111,\"#482878\"],[0.2222222222222222,\"#3e4989\"],[0.3333333333333333,\"#31688e\"],[0.4444444444444444,\"#26828e\"],[0.5555555555555556,\"#1f9e89\"],[0.6666666666666666,\"#35b779\"],[0.7777777777777778,\"#6ece58\"],[0.8888888888888888,\"#b5de2b\"],[1.0,\"#fde725\"]],\"type\":\"heatmap\"}],\"histogram2dcontour\":[{\"colorbar\":{\"outlinewidth\":1,\"tickcolor\":\"rgb(36,36,36)\",\"ticks\":\"outside\"},\"colorscale\":[[0.0,\"#440154\"],[0.1111111111111111,\"#482878\"],[0.2222222222222222,\"#3e4989\"],[0.3333333333333333,\"#31688e\"],[0.4444444444444444,\"#26828e\"],[0.5555555555555556,\"#1f9e89\"],[0.6666666666666666,\"#35b779\"],[0.7777777777777778,\"#6ece58\"],[0.8888888888888888,\"#b5de2b\"],[1.0,\"#fde725\"]],\"type\":\"histogram2dcontour\"}],\"histogram2d\":[{\"colorbar\":{\"outlinewidth\":1,\"tickcolor\":\"rgb(36,36,36)\",\"ticks\":\"outside\"},\"colorscale\":[[0.0,\"#440154\"],[0.1111111111111111,\"#482878\"],[0.2222222222222222,\"#3e4989\"],[0.3333333333333333,\"#31688e\"],[0.4444444444444444,\"#26828e\"],[0.5555555555555556,\"#1f9e89\"],[0.6666666666666666,\"#35b779\"],[0.7777777777777778,\"#6ece58\"],[0.8888888888888888,\"#b5de2b\"],[1.0,\"#fde725\"]],\"type\":\"histogram2d\"}],\"histogram\":[{\"marker\":{\"line\":{\"color\":\"white\",\"width\":0.6}},\"type\":\"histogram\"}],\"mesh3d\":[{\"colorbar\":{\"outlinewidth\":1,\"tickcolor\":\"rgb(36,36,36)\",\"ticks\":\"outside\"},\"type\":\"mesh3d\"}],\"parcoords\":[{\"line\":{\"colorbar\":{\"outlinewidth\":1,\"tickcolor\":\"rgb(36,36,36)\",\"ticks\":\"outside\"}},\"type\":\"parcoords\"}],\"pie\":[{\"automargin\":true,\"type\":\"pie\"}],\"scatter3d\":[{\"line\":{\"colorbar\":{\"outlinewidth\":1,\"tickcolor\":\"rgb(36,36,36)\",\"ticks\":\"outside\"}},\"marker\":{\"colorbar\":{\"outlinewidth\":1,\"tickcolor\":\"rgb(36,36,36)\",\"ticks\":\"outside\"}},\"type\":\"scatter3d\"}],\"scattercarpet\":[{\"marker\":{\"colorbar\":{\"outlinewidth\":1,\"tickcolor\":\"rgb(36,36,36)\",\"ticks\":\"outside\"}},\"type\":\"scattercarpet\"}],\"scattergeo\":[{\"marker\":{\"colorbar\":{\"outlinewidth\":1,\"tickcolor\":\"rgb(36,36,36)\",\"ticks\":\"outside\"}},\"type\":\"scattergeo\"}],\"scattergl\":[{\"marker\":{\"colorbar\":{\"outlinewidth\":1,\"tickcolor\":\"rgb(36,36,36)\",\"ticks\":\"outside\"}},\"type\":\"scattergl\"}],\"scattermapbox\":[{\"marker\":{\"colorbar\":{\"outlinewidth\":1,\"tickcolor\":\"rgb(36,36,36)\",\"ticks\":\"outside\"}},\"type\":\"scattermapbox\"}],\"scattermap\":[{\"marker\":{\"colorbar\":{\"outlinewidth\":1,\"tickcolor\":\"rgb(36,36,36)\",\"ticks\":\"outside\"}},\"type\":\"scattermap\"}],\"scatterpolargl\":[{\"marker\":{\"colorbar\":{\"outlinewidth\":1,\"tickcolor\":\"rgb(36,36,36)\",\"ticks\":\"outside\"}},\"type\":\"scatterpolargl\"}],\"scatterpolar\":[{\"marker\":{\"colorbar\":{\"outlinewidth\":1,\"tickcolor\":\"rgb(36,36,36)\",\"ticks\":\"outside\"}},\"type\":\"scatterpolar\"}],\"scatter\":[{\"fillpattern\":{\"fillmode\":\"overlay\",\"size\":10,\"solidity\":0.2},\"type\":\"scatter\"}],\"scatterternary\":[{\"marker\":{\"colorbar\":{\"outlinewidth\":1,\"tickcolor\":\"rgb(36,36,36)\",\"ticks\":\"outside\"}},\"type\":\"scatterternary\"}],\"surface\":[{\"colorbar\":{\"outlinewidth\":1,\"tickcolor\":\"rgb(36,36,36)\",\"ticks\":\"outside\"},\"colorscale\":[[0.0,\"#440154\"],[0.1111111111111111,\"#482878\"],[0.2222222222222222,\"#3e4989\"],[0.3333333333333333,\"#31688e\"],[0.4444444444444444,\"#26828e\"],[0.5555555555555556,\"#1f9e89\"],[0.6666666666666666,\"#35b779\"],[0.7777777777777778,\"#6ece58\"],[0.8888888888888888,\"#b5de2b\"],[1.0,\"#fde725\"]],\"type\":\"surface\"}],\"table\":[{\"cells\":{\"fill\":{\"color\":\"rgb(237,237,237)\"},\"line\":{\"color\":\"white\"}},\"header\":{\"fill\":{\"color\":\"rgb(217,217,217)\"},\"line\":{\"color\":\"white\"}},\"type\":\"table\"}]},\"layout\":{\"annotationdefaults\":{\"arrowhead\":0,\"arrowwidth\":1},\"autotypenumbers\":\"strict\",\"coloraxis\":{\"colorbar\":{\"outlinewidth\":1,\"tickcolor\":\"rgb(36,36,36)\",\"ticks\":\"outside\"}},\"colorscale\":{\"diverging\":[[0.0,\"rgb(103,0,31)\"],[0.1,\"rgb(178,24,43)\"],[0.2,\"rgb(214,96,77)\"],[0.3,\"rgb(244,165,130)\"],[0.4,\"rgb(253,219,199)\"],[0.5,\"rgb(247,247,247)\"],[0.6,\"rgb(209,229,240)\"],[0.7,\"rgb(146,197,222)\"],[0.8,\"rgb(67,147,195)\"],[0.9,\"rgb(33,102,172)\"],[1.0,\"rgb(5,48,97)\"]],\"sequential\":[[0.0,\"#440154\"],[0.1111111111111111,\"#482878\"],[0.2222222222222222,\"#3e4989\"],[0.3333333333333333,\"#31688e\"],[0.4444444444444444,\"#26828e\"],[0.5555555555555556,\"#1f9e89\"],[0.6666666666666666,\"#35b779\"],[0.7777777777777778,\"#6ece58\"],[0.8888888888888888,\"#b5de2b\"],[1.0,\"#fde725\"]],\"sequentialminus\":[[0.0,\"#440154\"],[0.1111111111111111,\"#482878\"],[0.2222222222222222,\"#3e4989\"],[0.3333333333333333,\"#31688e\"],[0.4444444444444444,\"#26828e\"],[0.5555555555555556,\"#1f9e89\"],[0.6666666666666666,\"#35b779\"],[0.7777777777777778,\"#6ece58\"],[0.8888888888888888,\"#b5de2b\"],[1.0,\"#fde725\"]]},\"colorway\":[\"#1F77B4\",\"#FF7F0E\",\"#2CA02C\",\"#D62728\",\"#9467BD\",\"#8C564B\",\"#E377C2\",\"#7F7F7F\",\"#BCBD22\",\"#17BECF\"],\"font\":{\"color\":\"rgb(36,36,36)\"},\"geo\":{\"bgcolor\":\"white\",\"lakecolor\":\"white\",\"landcolor\":\"white\",\"showlakes\":true,\"showland\":true,\"subunitcolor\":\"white\"},\"hoverlabel\":{\"align\":\"left\"},\"hovermode\":\"closest\",\"mapbox\":{\"style\":\"light\"},\"paper_bgcolor\":\"white\",\"plot_bgcolor\":\"white\",\"polar\":{\"angularaxis\":{\"gridcolor\":\"rgb(232,232,232)\",\"linecolor\":\"rgb(36,36,36)\",\"showgrid\":false,\"showline\":true,\"ticks\":\"outside\"},\"bgcolor\":\"white\",\"radialaxis\":{\"gridcolor\":\"rgb(232,232,232)\",\"linecolor\":\"rgb(36,36,36)\",\"showgrid\":false,\"showline\":true,\"ticks\":\"outside\"}},\"scene\":{\"xaxis\":{\"backgroundcolor\":\"white\",\"gridcolor\":\"rgb(232,232,232)\",\"gridwidth\":2,\"linecolor\":\"rgb(36,36,36)\",\"showbackground\":true,\"showgrid\":false,\"showline\":true,\"ticks\":\"outside\",\"zeroline\":false,\"zerolinecolor\":\"rgb(36,36,36)\"},\"yaxis\":{\"backgroundcolor\":\"white\",\"gridcolor\":\"rgb(232,232,232)\",\"gridwidth\":2,\"linecolor\":\"rgb(36,36,36)\",\"showbackground\":true,\"showgrid\":false,\"showline\":true,\"ticks\":\"outside\",\"zeroline\":false,\"zerolinecolor\":\"rgb(36,36,36)\"},\"zaxis\":{\"backgroundcolor\":\"white\",\"gridcolor\":\"rgb(232,232,232)\",\"gridwidth\":2,\"linecolor\":\"rgb(36,36,36)\",\"showbackground\":true,\"showgrid\":false,\"showline\":true,\"ticks\":\"outside\",\"zeroline\":false,\"zerolinecolor\":\"rgb(36,36,36)\"}},\"shapedefaults\":{\"fillcolor\":\"black\",\"line\":{\"width\":0},\"opacity\":0.3},\"ternary\":{\"aaxis\":{\"gridcolor\":\"rgb(232,232,232)\",\"linecolor\":\"rgb(36,36,36)\",\"showgrid\":false,\"showline\":true,\"ticks\":\"outside\"},\"baxis\":{\"gridcolor\":\"rgb(232,232,232)\",\"linecolor\":\"rgb(36,36,36)\",\"showgrid\":false,\"showline\":true,\"ticks\":\"outside\"},\"bgcolor\":\"white\",\"caxis\":{\"gridcolor\":\"rgb(232,232,232)\",\"linecolor\":\"rgb(36,36,36)\",\"showgrid\":false,\"showline\":true,\"ticks\":\"outside\"}},\"title\":{\"x\":0.05},\"xaxis\":{\"automargin\":true,\"gridcolor\":\"rgb(232,232,232)\",\"linecolor\":\"rgb(36,36,36)\",\"showgrid\":false,\"showline\":true,\"ticks\":\"outside\",\"title\":{\"standoff\":15},\"zeroline\":false,\"zerolinecolor\":\"rgb(36,36,36)\"},\"yaxis\":{\"automargin\":true,\"gridcolor\":\"rgb(232,232,232)\",\"linecolor\":\"rgb(36,36,36)\",\"showgrid\":false,\"showline\":true,\"ticks\":\"outside\",\"title\":{\"standoff\":15},\"zeroline\":false,\"zerolinecolor\":\"rgb(36,36,36)\"}}},\"xaxis\":{\"anchor\":\"y\",\"domain\":[0.0,1.0],\"title\":{\"text\":\"\"},\"visible\":false,\"range\":[0.7192705988883972,2.4251909375190737]},\"yaxis\":{\"anchor\":\"x\",\"domain\":[0.0,1.0],\"title\":{\"text\":\"\"},\"visible\":false,\"range\":[4.244114470481873,7.3437312841415405]},\"legend\":{\"tracegroupgap\":0,\"itemsizing\":\"constant\"},\"margin\":{\"t\":60},\"title\":{\"font\":{\"size\":22,\"color\":\"Black\"},\"text\":\"\\u003cb\\u003eIntertopic Distance Map\\u003c\\u002fb\\u003e\",\"y\":0.95,\"x\":0.5,\"xanchor\":\"center\",\"yanchor\":\"top\"},\"hoverlabel\":{\"font\":{\"size\":16,\"family\":\"Rockwell\"},\"bgcolor\":\"white\"},\"width\":650,\"height\":650,\"sliders\":[{\"active\":0,\"pad\":{\"t\":50},\"steps\":[{\"args\":[{\"marker.color\":[[\"red\",\"#B0BEC5\",\"#B0BEC5\",\"#B0BEC5\"]]}],\"label\":\"Topic 0\",\"method\":\"update\"},{\"args\":[{\"marker.color\":[[\"#B0BEC5\",\"red\",\"#B0BEC5\",\"#B0BEC5\"]]}],\"label\":\"Topic 1\",\"method\":\"update\"},{\"args\":[{\"marker.color\":[[\"#B0BEC5\",\"#B0BEC5\",\"red\",\"#B0BEC5\"]]}],\"label\":\"Topic 2\",\"method\":\"update\"},{\"args\":[{\"marker.color\":[[\"#B0BEC5\",\"#B0BEC5\",\"#B0BEC5\",\"red\"]]}],\"label\":\"Topic 3\",\"method\":\"update\"}]}],\"shapes\":[{\"line\":{\"color\":\"#CFD8DC\",\"width\":2},\"type\":\"line\",\"x0\":1.5722307682037355,\"x1\":1.5722307682037355,\"y0\":4.244114470481873,\"y1\":7.3437312841415405},{\"line\":{\"color\":\"#9E9E9E\",\"width\":2},\"type\":\"line\",\"x0\":0.7192705988883972,\"x1\":2.4251909375190737,\"y0\":5.793922877311706,\"y1\":5.793922877311706}],\"annotations\":[{\"showarrow\":false,\"text\":\"D1\",\"x\":0.7192705988883972,\"y\":5.793922877311706,\"yshift\":10},{\"showarrow\":false,\"text\":\"D2\",\"x\":1.5722307682037355,\"xshift\":10,\"y\":7.3437312841415405}]},                        {\"responsive\": true}                    )                };            </script>        </div>"
      ],
      "text/plain": [
       "Figure({\n",
       "    'data': [{'customdata': array([[0, 'child | classroom | redact | redacted | mixed', 470],\n",
       "                                   [1, 'literacy | environment | physical | classroom | redact', 63],\n",
       "                                   [2, 'care | caregiver | child | redact | quality', 60],\n",
       "                                   [3, 'redact | redacted | mail | thank | information', 50]], dtype=object),\n",
       "              'hovertemplate': '<b>Topic %{customdata[0]}</b><br>%{customdata[1]}<br>Size: %{customdata[2]}',\n",
       "              'legendgroup': '',\n",
       "              'marker': {'color': '#B0BEC5',\n",
       "                         'line': {'color': 'DarkSlateGrey', 'width': 2},\n",
       "                         'size': {'bdata': '1gE/ADwAMgA=', 'dtype': 'i2'},\n",
       "                         'sizemode': 'area',\n",
       "                         'sizeref': 0.29375,\n",
       "                         'symbol': 'circle'},\n",
       "              'mode': 'markers',\n",
       "              'name': '',\n",
       "              'orientation': 'v',\n",
       "              'showlegend': False,\n",
       "              'type': 'scatter',\n",
       "              'x': {'bdata': '/nDaP5ygWD+X9wZA1K31Pw==', 'dtype': 'f4'},\n",
       "              'xaxis': 'x',\n",
       "              'y': {'bdata': 'We2zQGaPrkBHx59A6VjMQA==', 'dtype': 'f4'},\n",
       "              'yaxis': 'y'}],\n",
       "    'layout': {'annotations': [{'showarrow': False,\n",
       "                                'text': 'D1',\n",
       "                                'x': 0.7192705988883972,\n",
       "                                'y': 5.793922877311706,\n",
       "                                'yshift': 10},\n",
       "                               {'showarrow': False,\n",
       "                                'text': 'D2',\n",
       "                                'x': 1.5722307682037355,\n",
       "                                'xshift': 10,\n",
       "                                'y': 7.3437312841415405}],\n",
       "               'height': 650,\n",
       "               'hoverlabel': {'bgcolor': 'white', 'font': {'family': 'Rockwell', 'size': 16}},\n",
       "               'legend': {'itemsizing': 'constant', 'tracegroupgap': 0},\n",
       "               'margin': {'t': 60},\n",
       "               'shapes': [{'line': {'color': '#CFD8DC', 'width': 2},\n",
       "                           'type': 'line',\n",
       "                           'x0': 1.5722307682037355,\n",
       "                           'x1': 1.5722307682037355,\n",
       "                           'y0': 4.244114470481873,\n",
       "                           'y1': 7.3437312841415405},\n",
       "                          {'line': {'color': '#9E9E9E', 'width': 2},\n",
       "                           'type': 'line',\n",
       "                           'x0': 0.7192705988883972,\n",
       "                           'x1': 2.4251909375190737,\n",
       "                           'y0': 5.793922877311706,\n",
       "                           'y1': 5.793922877311706}],\n",
       "               'sliders': [{'active': 0,\n",
       "                            'pad': {'t': 50},\n",
       "                            'steps': [{'args': [{'marker.color': [['red', '#B0BEC5', '#B0BEC5', '#B0BEC5']]}],\n",
       "                                       'label': 'Topic 0',\n",
       "                                       'method': 'update'},\n",
       "                                      {'args': [{'marker.color': [['#B0BEC5', 'red', '#B0BEC5', '#B0BEC5']]}],\n",
       "                                       'label': 'Topic 1',\n",
       "                                       'method': 'update'},\n",
       "                                      {'args': [{'marker.color': [['#B0BEC5', '#B0BEC5', 'red', '#B0BEC5']]}],\n",
       "                                       'label': 'Topic 2',\n",
       "                                       'method': 'update'},\n",
       "                                      {'args': [{'marker.color': [['#B0BEC5', '#B0BEC5', '#B0BEC5', 'red']]}],\n",
       "                                       'label': 'Topic 3',\n",
       "                                       'method': 'update'}]}],\n",
       "               'template': '...',\n",
       "               'title': {'font': {'color': 'Black', 'size': 22},\n",
       "                         'text': '<b>Intertopic Distance Map</b>',\n",
       "                         'x': 0.5,\n",
       "                         'xanchor': 'center',\n",
       "                         'y': 0.95,\n",
       "                         'yanchor': 'top'},\n",
       "               'width': 650,\n",
       "               'xaxis': {'anchor': 'y',\n",
       "                         'domain': [0.0, 1.0],\n",
       "                         'range': [0.7192705988883972, 2.4251909375190737],\n",
       "                         'title': {'text': ''},\n",
       "                         'visible': False},\n",
       "               'yaxis': {'anchor': 'x',\n",
       "                         'domain': [0.0, 1.0],\n",
       "                         'range': [4.244114470481873, 7.3437312841415405],\n",
       "                         'title': {'text': ''},\n",
       "                         'visible': False}}\n",
       "})"
      ]
     },
     "execution_count": 20,
     "metadata": {},
     "output_type": "execute_result"
    }
   ],
   "source": [
    "# Visualize topics with an interactive plot\n",
    "topic_model.visualize_topics()"
   ]
  },
  {
   "cell_type": "code",
   "execution_count": 21,
   "metadata": {},
   "outputs": [
    {
     "ename": "ValueError",
     "evalue": "Mime type rendering requires nbformat>=4.2.0 but it is not installed",
     "output_type": "error",
     "traceback": [
      "\u001b[1;31m---------------------------------------------------------------------------\u001b[0m",
      "\u001b[1;31mValueError\u001b[0m                                Traceback (most recent call last)",
      "File \u001b[1;32m~\\AppData\\Roaming\\Python\\Python312\\site-packages\\IPython\\core\\formatters.py:984\u001b[0m, in \u001b[0;36mIPythonDisplayFormatter.__call__\u001b[1;34m(self, obj)\u001b[0m\n\u001b[0;32m    982\u001b[0m method \u001b[38;5;241m=\u001b[39m get_real_method(obj, \u001b[38;5;28mself\u001b[39m\u001b[38;5;241m.\u001b[39mprint_method)\n\u001b[0;32m    983\u001b[0m \u001b[38;5;28;01mif\u001b[39;00m method \u001b[38;5;129;01mis\u001b[39;00m \u001b[38;5;129;01mnot\u001b[39;00m \u001b[38;5;28;01mNone\u001b[39;00m:\n\u001b[1;32m--> 984\u001b[0m     \u001b[43mmethod\u001b[49m\u001b[43m(\u001b[49m\u001b[43m)\u001b[49m\n\u001b[0;32m    985\u001b[0m     \u001b[38;5;28;01mreturn\u001b[39;00m \u001b[38;5;28;01mTrue\u001b[39;00m\n",
      "File \u001b[1;32mc:\\Users\\Lovepreet Singh\\AppData\\Local\\Programs\\Python\\Python312\\Lib\\site-packages\\plotly\\basedatatypes.py:833\u001b[0m, in \u001b[0;36mBaseFigure._ipython_display_\u001b[1;34m(self)\u001b[0m\n\u001b[0;32m    830\u001b[0m \u001b[38;5;28;01mimport\u001b[39;00m\u001b[38;5;250m \u001b[39m\u001b[38;5;21;01mplotly\u001b[39;00m\u001b[38;5;21;01m.\u001b[39;00m\u001b[38;5;21;01mio\u001b[39;00m\u001b[38;5;250m \u001b[39m\u001b[38;5;28;01mas\u001b[39;00m\u001b[38;5;250m \u001b[39m\u001b[38;5;21;01mpio\u001b[39;00m\n\u001b[0;32m    832\u001b[0m \u001b[38;5;28;01mif\u001b[39;00m pio\u001b[38;5;241m.\u001b[39mrenderers\u001b[38;5;241m.\u001b[39mrender_on_display \u001b[38;5;129;01mand\u001b[39;00m pio\u001b[38;5;241m.\u001b[39mrenderers\u001b[38;5;241m.\u001b[39mdefault:\n\u001b[1;32m--> 833\u001b[0m     \u001b[43mpio\u001b[49m\u001b[38;5;241;43m.\u001b[39;49m\u001b[43mshow\u001b[49m\u001b[43m(\u001b[49m\u001b[38;5;28;43mself\u001b[39;49m\u001b[43m)\u001b[49m\n\u001b[0;32m    834\u001b[0m \u001b[38;5;28;01melse\u001b[39;00m:\n\u001b[0;32m    835\u001b[0m     \u001b[38;5;28mprint\u001b[39m(\u001b[38;5;28mrepr\u001b[39m(\u001b[38;5;28mself\u001b[39m))\n",
      "File \u001b[1;32mc:\\Users\\Lovepreet Singh\\AppData\\Local\\Programs\\Python\\Python312\\Lib\\site-packages\\plotly\\io\\_renderers.py:425\u001b[0m, in \u001b[0;36mshow\u001b[1;34m(fig, renderer, validate, **kwargs)\u001b[0m\n\u001b[0;32m    420\u001b[0m     \u001b[38;5;28;01mraise\u001b[39;00m \u001b[38;5;167;01mValueError\u001b[39;00m(\n\u001b[0;32m    421\u001b[0m         \u001b[38;5;124m\"\u001b[39m\u001b[38;5;124mMime type rendering requires ipython but it is not installed\u001b[39m\u001b[38;5;124m\"\u001b[39m\n\u001b[0;32m    422\u001b[0m     )\n\u001b[0;32m    424\u001b[0m \u001b[38;5;28;01mif\u001b[39;00m \u001b[38;5;129;01mnot\u001b[39;00m nbformat \u001b[38;5;129;01mor\u001b[39;00m Version(nbformat\u001b[38;5;241m.\u001b[39m__version__) \u001b[38;5;241m<\u001b[39m Version(\u001b[38;5;124m\"\u001b[39m\u001b[38;5;124m4.2.0\u001b[39m\u001b[38;5;124m\"\u001b[39m):\n\u001b[1;32m--> 425\u001b[0m     \u001b[38;5;28;01mraise\u001b[39;00m \u001b[38;5;167;01mValueError\u001b[39;00m(\n\u001b[0;32m    426\u001b[0m         \u001b[38;5;124m\"\u001b[39m\u001b[38;5;124mMime type rendering requires nbformat>=4.2.0 but it is not installed\u001b[39m\u001b[38;5;124m\"\u001b[39m\n\u001b[0;32m    427\u001b[0m     )\n\u001b[0;32m    429\u001b[0m display_jupyter_version_warnings()\n\u001b[0;32m    431\u001b[0m ipython_display\u001b[38;5;241m.\u001b[39mdisplay(bundle, raw\u001b[38;5;241m=\u001b[39m\u001b[38;5;28;01mTrue\u001b[39;00m)\n",
      "\u001b[1;31mValueError\u001b[0m: Mime type rendering requires nbformat>=4.2.0 but it is not installed"
     ]
    },
    {
     "data": {
      "application/vnd.plotly.v1+json": {
       "config": {
        "plotlyServerURL": "https://plot.ly"
       },
       "data": [
        {
         "marker": {
          "color": "#D55E00"
         },
         "orientation": "h",
         "type": "bar",
         "x": [
          0.053251384512362485,
          0.05670035968623318,
          0.07376715511622696,
          0.07759650592643379,
          0.08630584974517452
         ],
         "xaxis": "x",
         "y": [
          "mixed  ",
          "redacted  ",
          "redact  ",
          "classroom  ",
          "child  "
         ],
         "yaxis": "y"
        },
        {
         "marker": {
          "color": "#0072B2"
         },
         "orientation": "h",
         "type": "bar",
         "x": [
          0.07019830781285255,
          0.08068151938242756,
          0.08267519023417305,
          0.08715737903946785,
          0.1991808282948861
         ],
         "xaxis": "x2",
         "y": [
          "redact  ",
          "classroom  ",
          "physical  ",
          "environment  ",
          "literacy  "
         ],
         "yaxis": "y2"
        },
        {
         "marker": {
          "color": "#CC79A7"
         },
         "orientation": "h",
         "type": "bar",
         "x": [
          0.09835721182897894,
          0.10149349250333659,
          0.1057322551641539,
          0.12317009535077157,
          0.13775453139469115
         ],
         "xaxis": "x3",
         "y": [
          "quality  ",
          "redact  ",
          "child  ",
          "caregiver  ",
          "care  "
         ],
         "yaxis": "y3"
        },
        {
         "marker": {
          "color": "#E69F00"
         },
         "orientation": "h",
         "type": "bar",
         "x": [
          0.050187153176598366,
          0.058284304540606444,
          0.058284304540606444,
          0.31246823507122856,
          0.3642042086775949
         ],
         "xaxis": "x4",
         "y": [
          "information  ",
          "thank  ",
          "mail  ",
          "redacted  ",
          "redact  "
         ],
         "yaxis": "y4"
        }
       ],
       "layout": {
        "annotations": [
         {
          "font": {
           "size": 16
          },
          "showarrow": false,
          "text": "Topic 0",
          "x": 0.0875,
          "xanchor": "center",
          "xref": "paper",
          "y": 1,
          "yanchor": "bottom",
          "yref": "paper"
         },
         {
          "font": {
           "size": 16
          },
          "showarrow": false,
          "text": "Topic 1",
          "x": 0.36250000000000004,
          "xanchor": "center",
          "xref": "paper",
          "y": 1,
          "yanchor": "bottom",
          "yref": "paper"
         },
         {
          "font": {
           "size": 16
          },
          "showarrow": false,
          "text": "Topic 2",
          "x": 0.6375000000000001,
          "xanchor": "center",
          "xref": "paper",
          "y": 1,
          "yanchor": "bottom",
          "yref": "paper"
         },
         {
          "font": {
           "size": 16
          },
          "showarrow": false,
          "text": "Topic 3",
          "x": 0.9125,
          "xanchor": "center",
          "xref": "paper",
          "y": 1,
          "yanchor": "bottom",
          "yref": "paper"
         }
        ],
        "height": 325,
        "hoverlabel": {
         "bgcolor": "white",
         "font": {
          "family": "Rockwell",
          "size": 16
         }
        },
        "showlegend": false,
        "template": {
         "data": {
          "bar": [
           {
            "error_x": {
             "color": "#2a3f5f"
            },
            "error_y": {
             "color": "#2a3f5f"
            },
            "marker": {
             "line": {
              "color": "white",
              "width": 0.5
             },
             "pattern": {
              "fillmode": "overlay",
              "size": 10,
              "solidity": 0.2
             }
            },
            "type": "bar"
           }
          ],
          "barpolar": [
           {
            "marker": {
             "line": {
              "color": "white",
              "width": 0.5
             },
             "pattern": {
              "fillmode": "overlay",
              "size": 10,
              "solidity": 0.2
             }
            },
            "type": "barpolar"
           }
          ],
          "carpet": [
           {
            "aaxis": {
             "endlinecolor": "#2a3f5f",
             "gridcolor": "#C8D4E3",
             "linecolor": "#C8D4E3",
             "minorgridcolor": "#C8D4E3",
             "startlinecolor": "#2a3f5f"
            },
            "baxis": {
             "endlinecolor": "#2a3f5f",
             "gridcolor": "#C8D4E3",
             "linecolor": "#C8D4E3",
             "minorgridcolor": "#C8D4E3",
             "startlinecolor": "#2a3f5f"
            },
            "type": "carpet"
           }
          ],
          "choropleth": [
           {
            "colorbar": {
             "outlinewidth": 0,
             "ticks": ""
            },
            "type": "choropleth"
           }
          ],
          "contour": [
           {
            "colorbar": {
             "outlinewidth": 0,
             "ticks": ""
            },
            "colorscale": [
             [
              0,
              "#0d0887"
             ],
             [
              0.1111111111111111,
              "#46039f"
             ],
             [
              0.2222222222222222,
              "#7201a8"
             ],
             [
              0.3333333333333333,
              "#9c179e"
             ],
             [
              0.4444444444444444,
              "#bd3786"
             ],
             [
              0.5555555555555556,
              "#d8576b"
             ],
             [
              0.6666666666666666,
              "#ed7953"
             ],
             [
              0.7777777777777778,
              "#fb9f3a"
             ],
             [
              0.8888888888888888,
              "#fdca26"
             ],
             [
              1,
              "#f0f921"
             ]
            ],
            "type": "contour"
           }
          ],
          "contourcarpet": [
           {
            "colorbar": {
             "outlinewidth": 0,
             "ticks": ""
            },
            "type": "contourcarpet"
           }
          ],
          "heatmap": [
           {
            "colorbar": {
             "outlinewidth": 0,
             "ticks": ""
            },
            "colorscale": [
             [
              0,
              "#0d0887"
             ],
             [
              0.1111111111111111,
              "#46039f"
             ],
             [
              0.2222222222222222,
              "#7201a8"
             ],
             [
              0.3333333333333333,
              "#9c179e"
             ],
             [
              0.4444444444444444,
              "#bd3786"
             ],
             [
              0.5555555555555556,
              "#d8576b"
             ],
             [
              0.6666666666666666,
              "#ed7953"
             ],
             [
              0.7777777777777778,
              "#fb9f3a"
             ],
             [
              0.8888888888888888,
              "#fdca26"
             ],
             [
              1,
              "#f0f921"
             ]
            ],
            "type": "heatmap"
           }
          ],
          "histogram": [
           {
            "marker": {
             "pattern": {
              "fillmode": "overlay",
              "size": 10,
              "solidity": 0.2
             }
            },
            "type": "histogram"
           }
          ],
          "histogram2d": [
           {
            "colorbar": {
             "outlinewidth": 0,
             "ticks": ""
            },
            "colorscale": [
             [
              0,
              "#0d0887"
             ],
             [
              0.1111111111111111,
              "#46039f"
             ],
             [
              0.2222222222222222,
              "#7201a8"
             ],
             [
              0.3333333333333333,
              "#9c179e"
             ],
             [
              0.4444444444444444,
              "#bd3786"
             ],
             [
              0.5555555555555556,
              "#d8576b"
             ],
             [
              0.6666666666666666,
              "#ed7953"
             ],
             [
              0.7777777777777778,
              "#fb9f3a"
             ],
             [
              0.8888888888888888,
              "#fdca26"
             ],
             [
              1,
              "#f0f921"
             ]
            ],
            "type": "histogram2d"
           }
          ],
          "histogram2dcontour": [
           {
            "colorbar": {
             "outlinewidth": 0,
             "ticks": ""
            },
            "colorscale": [
             [
              0,
              "#0d0887"
             ],
             [
              0.1111111111111111,
              "#46039f"
             ],
             [
              0.2222222222222222,
              "#7201a8"
             ],
             [
              0.3333333333333333,
              "#9c179e"
             ],
             [
              0.4444444444444444,
              "#bd3786"
             ],
             [
              0.5555555555555556,
              "#d8576b"
             ],
             [
              0.6666666666666666,
              "#ed7953"
             ],
             [
              0.7777777777777778,
              "#fb9f3a"
             ],
             [
              0.8888888888888888,
              "#fdca26"
             ],
             [
              1,
              "#f0f921"
             ]
            ],
            "type": "histogram2dcontour"
           }
          ],
          "mesh3d": [
           {
            "colorbar": {
             "outlinewidth": 0,
             "ticks": ""
            },
            "type": "mesh3d"
           }
          ],
          "parcoords": [
           {
            "line": {
             "colorbar": {
              "outlinewidth": 0,
              "ticks": ""
             }
            },
            "type": "parcoords"
           }
          ],
          "pie": [
           {
            "automargin": true,
            "type": "pie"
           }
          ],
          "scatter": [
           {
            "fillpattern": {
             "fillmode": "overlay",
             "size": 10,
             "solidity": 0.2
            },
            "type": "scatter"
           }
          ],
          "scatter3d": [
           {
            "line": {
             "colorbar": {
              "outlinewidth": 0,
              "ticks": ""
             }
            },
            "marker": {
             "colorbar": {
              "outlinewidth": 0,
              "ticks": ""
             }
            },
            "type": "scatter3d"
           }
          ],
          "scattercarpet": [
           {
            "marker": {
             "colorbar": {
              "outlinewidth": 0,
              "ticks": ""
             }
            },
            "type": "scattercarpet"
           }
          ],
          "scattergeo": [
           {
            "marker": {
             "colorbar": {
              "outlinewidth": 0,
              "ticks": ""
             }
            },
            "type": "scattergeo"
           }
          ],
          "scattergl": [
           {
            "marker": {
             "colorbar": {
              "outlinewidth": 0,
              "ticks": ""
             }
            },
            "type": "scattergl"
           }
          ],
          "scattermap": [
           {
            "marker": {
             "colorbar": {
              "outlinewidth": 0,
              "ticks": ""
             }
            },
            "type": "scattermap"
           }
          ],
          "scattermapbox": [
           {
            "marker": {
             "colorbar": {
              "outlinewidth": 0,
              "ticks": ""
             }
            },
            "type": "scattermapbox"
           }
          ],
          "scatterpolar": [
           {
            "marker": {
             "colorbar": {
              "outlinewidth": 0,
              "ticks": ""
             }
            },
            "type": "scatterpolar"
           }
          ],
          "scatterpolargl": [
           {
            "marker": {
             "colorbar": {
              "outlinewidth": 0,
              "ticks": ""
             }
            },
            "type": "scatterpolargl"
           }
          ],
          "scatterternary": [
           {
            "marker": {
             "colorbar": {
              "outlinewidth": 0,
              "ticks": ""
             }
            },
            "type": "scatterternary"
           }
          ],
          "surface": [
           {
            "colorbar": {
             "outlinewidth": 0,
             "ticks": ""
            },
            "colorscale": [
             [
              0,
              "#0d0887"
             ],
             [
              0.1111111111111111,
              "#46039f"
             ],
             [
              0.2222222222222222,
              "#7201a8"
             ],
             [
              0.3333333333333333,
              "#9c179e"
             ],
             [
              0.4444444444444444,
              "#bd3786"
             ],
             [
              0.5555555555555556,
              "#d8576b"
             ],
             [
              0.6666666666666666,
              "#ed7953"
             ],
             [
              0.7777777777777778,
              "#fb9f3a"
             ],
             [
              0.8888888888888888,
              "#fdca26"
             ],
             [
              1,
              "#f0f921"
             ]
            ],
            "type": "surface"
           }
          ],
          "table": [
           {
            "cells": {
             "fill": {
              "color": "#EBF0F8"
             },
             "line": {
              "color": "white"
             }
            },
            "header": {
             "fill": {
              "color": "#C8D4E3"
             },
             "line": {
              "color": "white"
             }
            },
            "type": "table"
           }
          ]
         },
         "layout": {
          "annotationdefaults": {
           "arrowcolor": "#2a3f5f",
           "arrowhead": 0,
           "arrowwidth": 1
          },
          "autotypenumbers": "strict",
          "coloraxis": {
           "colorbar": {
            "outlinewidth": 0,
            "ticks": ""
           }
          },
          "colorscale": {
           "diverging": [
            [
             0,
             "#8e0152"
            ],
            [
             0.1,
             "#c51b7d"
            ],
            [
             0.2,
             "#de77ae"
            ],
            [
             0.3,
             "#f1b6da"
            ],
            [
             0.4,
             "#fde0ef"
            ],
            [
             0.5,
             "#f7f7f7"
            ],
            [
             0.6,
             "#e6f5d0"
            ],
            [
             0.7,
             "#b8e186"
            ],
            [
             0.8,
             "#7fbc41"
            ],
            [
             0.9,
             "#4d9221"
            ],
            [
             1,
             "#276419"
            ]
           ],
           "sequential": [
            [
             0,
             "#0d0887"
            ],
            [
             0.1111111111111111,
             "#46039f"
            ],
            [
             0.2222222222222222,
             "#7201a8"
            ],
            [
             0.3333333333333333,
             "#9c179e"
            ],
            [
             0.4444444444444444,
             "#bd3786"
            ],
            [
             0.5555555555555556,
             "#d8576b"
            ],
            [
             0.6666666666666666,
             "#ed7953"
            ],
            [
             0.7777777777777778,
             "#fb9f3a"
            ],
            [
             0.8888888888888888,
             "#fdca26"
            ],
            [
             1,
             "#f0f921"
            ]
           ],
           "sequentialminus": [
            [
             0,
             "#0d0887"
            ],
            [
             0.1111111111111111,
             "#46039f"
            ],
            [
             0.2222222222222222,
             "#7201a8"
            ],
            [
             0.3333333333333333,
             "#9c179e"
            ],
            [
             0.4444444444444444,
             "#bd3786"
            ],
            [
             0.5555555555555556,
             "#d8576b"
            ],
            [
             0.6666666666666666,
             "#ed7953"
            ],
            [
             0.7777777777777778,
             "#fb9f3a"
            ],
            [
             0.8888888888888888,
             "#fdca26"
            ],
            [
             1,
             "#f0f921"
            ]
           ]
          },
          "colorway": [
           "#636efa",
           "#EF553B",
           "#00cc96",
           "#ab63fa",
           "#FFA15A",
           "#19d3f3",
           "#FF6692",
           "#B6E880",
           "#FF97FF",
           "#FECB52"
          ],
          "font": {
           "color": "#2a3f5f"
          },
          "geo": {
           "bgcolor": "white",
           "lakecolor": "white",
           "landcolor": "white",
           "showlakes": true,
           "showland": true,
           "subunitcolor": "#C8D4E3"
          },
          "hoverlabel": {
           "align": "left"
          },
          "hovermode": "closest",
          "mapbox": {
           "style": "light"
          },
          "paper_bgcolor": "white",
          "plot_bgcolor": "white",
          "polar": {
           "angularaxis": {
            "gridcolor": "#EBF0F8",
            "linecolor": "#EBF0F8",
            "ticks": ""
           },
           "bgcolor": "white",
           "radialaxis": {
            "gridcolor": "#EBF0F8",
            "linecolor": "#EBF0F8",
            "ticks": ""
           }
          },
          "scene": {
           "xaxis": {
            "backgroundcolor": "white",
            "gridcolor": "#DFE8F3",
            "gridwidth": 2,
            "linecolor": "#EBF0F8",
            "showbackground": true,
            "ticks": "",
            "zerolinecolor": "#EBF0F8"
           },
           "yaxis": {
            "backgroundcolor": "white",
            "gridcolor": "#DFE8F3",
            "gridwidth": 2,
            "linecolor": "#EBF0F8",
            "showbackground": true,
            "ticks": "",
            "zerolinecolor": "#EBF0F8"
           },
           "zaxis": {
            "backgroundcolor": "white",
            "gridcolor": "#DFE8F3",
            "gridwidth": 2,
            "linecolor": "#EBF0F8",
            "showbackground": true,
            "ticks": "",
            "zerolinecolor": "#EBF0F8"
           }
          },
          "shapedefaults": {
           "line": {
            "color": "#2a3f5f"
           }
          },
          "ternary": {
           "aaxis": {
            "gridcolor": "#DFE8F3",
            "linecolor": "#A2B1C6",
            "ticks": ""
           },
           "baxis": {
            "gridcolor": "#DFE8F3",
            "linecolor": "#A2B1C6",
            "ticks": ""
           },
           "bgcolor": "white",
           "caxis": {
            "gridcolor": "#DFE8F3",
            "linecolor": "#A2B1C6",
            "ticks": ""
           }
          },
          "title": {
           "x": 0.05
          },
          "xaxis": {
           "automargin": true,
           "gridcolor": "#EBF0F8",
           "linecolor": "#EBF0F8",
           "ticks": "",
           "title": {
            "standoff": 15
           },
           "zerolinecolor": "#EBF0F8",
           "zerolinewidth": 2
          },
          "yaxis": {
           "automargin": true,
           "gridcolor": "#EBF0F8",
           "linecolor": "#EBF0F8",
           "ticks": "",
           "title": {
            "standoff": 15
           },
           "zerolinecolor": "#EBF0F8",
           "zerolinewidth": 2
          }
         }
        },
        "title": {
         "font": {
          "color": "Black",
          "size": 22
         },
         "text": "Topic Word Scores",
         "x": 0.5,
         "xanchor": "center",
         "yanchor": "top"
        },
        "width": 1000,
        "xaxis": {
         "anchor": "y",
         "domain": [
          0,
          0.175
         ],
         "showgrid": true
        },
        "xaxis2": {
         "anchor": "y2",
         "domain": [
          0.275,
          0.45
         ],
         "showgrid": true
        },
        "xaxis3": {
         "anchor": "y3",
         "domain": [
          0.55,
          0.7250000000000001
         ],
         "showgrid": true
        },
        "xaxis4": {
         "anchor": "y4",
         "domain": [
          0.825,
          1
         ],
         "showgrid": true
        },
        "yaxis": {
         "anchor": "x",
         "domain": [
          0,
          1
         ],
         "showgrid": true
        },
        "yaxis2": {
         "anchor": "x2",
         "domain": [
          0,
          1
         ],
         "showgrid": true
        },
        "yaxis3": {
         "anchor": "x3",
         "domain": [
          0,
          1
         ],
         "showgrid": true
        },
        "yaxis4": {
         "anchor": "x4",
         "domain": [
          0,
          1
         ],
         "showgrid": true
        }
       }
      },
      "text/html": [
       "<div>                        <script type=\"text/javascript\">window.PlotlyConfig = {MathJaxConfig: 'local'};</script>\n",
       "        <script charset=\"utf-8\" src=\"https://cdn.plot.ly/plotly-3.0.0.min.js\"></script>                <div id=\"8cc82249-3c64-4365-acbc-18672f9cfd9b\" class=\"plotly-graph-div\" style=\"height:325.0px; width:1000px;\"></div>            <script type=\"text/javascript\">                window.PLOTLYENV=window.PLOTLYENV || {};                                if (document.getElementById(\"8cc82249-3c64-4365-acbc-18672f9cfd9b\")) {                    Plotly.newPlot(                        \"8cc82249-3c64-4365-acbc-18672f9cfd9b\",                        [{\"marker\":{\"color\":\"#D55E00\"},\"orientation\":\"h\",\"x\":[0.053251384512362485,0.05670035968623318,0.07376715511622696,0.07759650592643379,0.08630584974517452],\"y\":[\"mixed  \",\"redacted  \",\"redact  \",\"classroom  \",\"child  \"],\"type\":\"bar\",\"xaxis\":\"x\",\"yaxis\":\"y\"},{\"marker\":{\"color\":\"#0072B2\"},\"orientation\":\"h\",\"x\":[0.07019830781285255,0.08068151938242756,0.08267519023417305,0.08715737903946785,0.1991808282948861],\"y\":[\"redact  \",\"classroom  \",\"physical  \",\"environment  \",\"literacy  \"],\"type\":\"bar\",\"xaxis\":\"x2\",\"yaxis\":\"y2\"},{\"marker\":{\"color\":\"#CC79A7\"},\"orientation\":\"h\",\"x\":[0.09835721182897894,0.10149349250333659,0.1057322551641539,0.12317009535077157,0.13775453139469115],\"y\":[\"quality  \",\"redact  \",\"child  \",\"caregiver  \",\"care  \"],\"type\":\"bar\",\"xaxis\":\"x3\",\"yaxis\":\"y3\"},{\"marker\":{\"color\":\"#E69F00\"},\"orientation\":\"h\",\"x\":[0.050187153176598366,0.058284304540606444,0.058284304540606444,0.31246823507122856,0.3642042086775949],\"y\":[\"information  \",\"thank  \",\"mail  \",\"redacted  \",\"redact  \"],\"type\":\"bar\",\"xaxis\":\"x4\",\"yaxis\":\"y4\"}],                        {\"template\":{\"data\":{\"barpolar\":[{\"marker\":{\"line\":{\"color\":\"white\",\"width\":0.5},\"pattern\":{\"fillmode\":\"overlay\",\"size\":10,\"solidity\":0.2}},\"type\":\"barpolar\"}],\"bar\":[{\"error_x\":{\"color\":\"#2a3f5f\"},\"error_y\":{\"color\":\"#2a3f5f\"},\"marker\":{\"line\":{\"color\":\"white\",\"width\":0.5},\"pattern\":{\"fillmode\":\"overlay\",\"size\":10,\"solidity\":0.2}},\"type\":\"bar\"}],\"carpet\":[{\"aaxis\":{\"endlinecolor\":\"#2a3f5f\",\"gridcolor\":\"#C8D4E3\",\"linecolor\":\"#C8D4E3\",\"minorgridcolor\":\"#C8D4E3\",\"startlinecolor\":\"#2a3f5f\"},\"baxis\":{\"endlinecolor\":\"#2a3f5f\",\"gridcolor\":\"#C8D4E3\",\"linecolor\":\"#C8D4E3\",\"minorgridcolor\":\"#C8D4E3\",\"startlinecolor\":\"#2a3f5f\"},\"type\":\"carpet\"}],\"choropleth\":[{\"colorbar\":{\"outlinewidth\":0,\"ticks\":\"\"},\"type\":\"choropleth\"}],\"contourcarpet\":[{\"colorbar\":{\"outlinewidth\":0,\"ticks\":\"\"},\"type\":\"contourcarpet\"}],\"contour\":[{\"colorbar\":{\"outlinewidth\":0,\"ticks\":\"\"},\"colorscale\":[[0.0,\"#0d0887\"],[0.1111111111111111,\"#46039f\"],[0.2222222222222222,\"#7201a8\"],[0.3333333333333333,\"#9c179e\"],[0.4444444444444444,\"#bd3786\"],[0.5555555555555556,\"#d8576b\"],[0.6666666666666666,\"#ed7953\"],[0.7777777777777778,\"#fb9f3a\"],[0.8888888888888888,\"#fdca26\"],[1.0,\"#f0f921\"]],\"type\":\"contour\"}],\"heatmap\":[{\"colorbar\":{\"outlinewidth\":0,\"ticks\":\"\"},\"colorscale\":[[0.0,\"#0d0887\"],[0.1111111111111111,\"#46039f\"],[0.2222222222222222,\"#7201a8\"],[0.3333333333333333,\"#9c179e\"],[0.4444444444444444,\"#bd3786\"],[0.5555555555555556,\"#d8576b\"],[0.6666666666666666,\"#ed7953\"],[0.7777777777777778,\"#fb9f3a\"],[0.8888888888888888,\"#fdca26\"],[1.0,\"#f0f921\"]],\"type\":\"heatmap\"}],\"histogram2dcontour\":[{\"colorbar\":{\"outlinewidth\":0,\"ticks\":\"\"},\"colorscale\":[[0.0,\"#0d0887\"],[0.1111111111111111,\"#46039f\"],[0.2222222222222222,\"#7201a8\"],[0.3333333333333333,\"#9c179e\"],[0.4444444444444444,\"#bd3786\"],[0.5555555555555556,\"#d8576b\"],[0.6666666666666666,\"#ed7953\"],[0.7777777777777778,\"#fb9f3a\"],[0.8888888888888888,\"#fdca26\"],[1.0,\"#f0f921\"]],\"type\":\"histogram2dcontour\"}],\"histogram2d\":[{\"colorbar\":{\"outlinewidth\":0,\"ticks\":\"\"},\"colorscale\":[[0.0,\"#0d0887\"],[0.1111111111111111,\"#46039f\"],[0.2222222222222222,\"#7201a8\"],[0.3333333333333333,\"#9c179e\"],[0.4444444444444444,\"#bd3786\"],[0.5555555555555556,\"#d8576b\"],[0.6666666666666666,\"#ed7953\"],[0.7777777777777778,\"#fb9f3a\"],[0.8888888888888888,\"#fdca26\"],[1.0,\"#f0f921\"]],\"type\":\"histogram2d\"}],\"histogram\":[{\"marker\":{\"pattern\":{\"fillmode\":\"overlay\",\"size\":10,\"solidity\":0.2}},\"type\":\"histogram\"}],\"mesh3d\":[{\"colorbar\":{\"outlinewidth\":0,\"ticks\":\"\"},\"type\":\"mesh3d\"}],\"parcoords\":[{\"line\":{\"colorbar\":{\"outlinewidth\":0,\"ticks\":\"\"}},\"type\":\"parcoords\"}],\"pie\":[{\"automargin\":true,\"type\":\"pie\"}],\"scatter3d\":[{\"line\":{\"colorbar\":{\"outlinewidth\":0,\"ticks\":\"\"}},\"marker\":{\"colorbar\":{\"outlinewidth\":0,\"ticks\":\"\"}},\"type\":\"scatter3d\"}],\"scattercarpet\":[{\"marker\":{\"colorbar\":{\"outlinewidth\":0,\"ticks\":\"\"}},\"type\":\"scattercarpet\"}],\"scattergeo\":[{\"marker\":{\"colorbar\":{\"outlinewidth\":0,\"ticks\":\"\"}},\"type\":\"scattergeo\"}],\"scattergl\":[{\"marker\":{\"colorbar\":{\"outlinewidth\":0,\"ticks\":\"\"}},\"type\":\"scattergl\"}],\"scattermapbox\":[{\"marker\":{\"colorbar\":{\"outlinewidth\":0,\"ticks\":\"\"}},\"type\":\"scattermapbox\"}],\"scattermap\":[{\"marker\":{\"colorbar\":{\"outlinewidth\":0,\"ticks\":\"\"}},\"type\":\"scattermap\"}],\"scatterpolargl\":[{\"marker\":{\"colorbar\":{\"outlinewidth\":0,\"ticks\":\"\"}},\"type\":\"scatterpolargl\"}],\"scatterpolar\":[{\"marker\":{\"colorbar\":{\"outlinewidth\":0,\"ticks\":\"\"}},\"type\":\"scatterpolar\"}],\"scatter\":[{\"fillpattern\":{\"fillmode\":\"overlay\",\"size\":10,\"solidity\":0.2},\"type\":\"scatter\"}],\"scatterternary\":[{\"marker\":{\"colorbar\":{\"outlinewidth\":0,\"ticks\":\"\"}},\"type\":\"scatterternary\"}],\"surface\":[{\"colorbar\":{\"outlinewidth\":0,\"ticks\":\"\"},\"colorscale\":[[0.0,\"#0d0887\"],[0.1111111111111111,\"#46039f\"],[0.2222222222222222,\"#7201a8\"],[0.3333333333333333,\"#9c179e\"],[0.4444444444444444,\"#bd3786\"],[0.5555555555555556,\"#d8576b\"],[0.6666666666666666,\"#ed7953\"],[0.7777777777777778,\"#fb9f3a\"],[0.8888888888888888,\"#fdca26\"],[1.0,\"#f0f921\"]],\"type\":\"surface\"}],\"table\":[{\"cells\":{\"fill\":{\"color\":\"#EBF0F8\"},\"line\":{\"color\":\"white\"}},\"header\":{\"fill\":{\"color\":\"#C8D4E3\"},\"line\":{\"color\":\"white\"}},\"type\":\"table\"}]},\"layout\":{\"annotationdefaults\":{\"arrowcolor\":\"#2a3f5f\",\"arrowhead\":0,\"arrowwidth\":1},\"autotypenumbers\":\"strict\",\"coloraxis\":{\"colorbar\":{\"outlinewidth\":0,\"ticks\":\"\"}},\"colorscale\":{\"diverging\":[[0,\"#8e0152\"],[0.1,\"#c51b7d\"],[0.2,\"#de77ae\"],[0.3,\"#f1b6da\"],[0.4,\"#fde0ef\"],[0.5,\"#f7f7f7\"],[0.6,\"#e6f5d0\"],[0.7,\"#b8e186\"],[0.8,\"#7fbc41\"],[0.9,\"#4d9221\"],[1,\"#276419\"]],\"sequential\":[[0.0,\"#0d0887\"],[0.1111111111111111,\"#46039f\"],[0.2222222222222222,\"#7201a8\"],[0.3333333333333333,\"#9c179e\"],[0.4444444444444444,\"#bd3786\"],[0.5555555555555556,\"#d8576b\"],[0.6666666666666666,\"#ed7953\"],[0.7777777777777778,\"#fb9f3a\"],[0.8888888888888888,\"#fdca26\"],[1.0,\"#f0f921\"]],\"sequentialminus\":[[0.0,\"#0d0887\"],[0.1111111111111111,\"#46039f\"],[0.2222222222222222,\"#7201a8\"],[0.3333333333333333,\"#9c179e\"],[0.4444444444444444,\"#bd3786\"],[0.5555555555555556,\"#d8576b\"],[0.6666666666666666,\"#ed7953\"],[0.7777777777777778,\"#fb9f3a\"],[0.8888888888888888,\"#fdca26\"],[1.0,\"#f0f921\"]]},\"colorway\":[\"#636efa\",\"#EF553B\",\"#00cc96\",\"#ab63fa\",\"#FFA15A\",\"#19d3f3\",\"#FF6692\",\"#B6E880\",\"#FF97FF\",\"#FECB52\"],\"font\":{\"color\":\"#2a3f5f\"},\"geo\":{\"bgcolor\":\"white\",\"lakecolor\":\"white\",\"landcolor\":\"white\",\"showlakes\":true,\"showland\":true,\"subunitcolor\":\"#C8D4E3\"},\"hoverlabel\":{\"align\":\"left\"},\"hovermode\":\"closest\",\"mapbox\":{\"style\":\"light\"},\"paper_bgcolor\":\"white\",\"plot_bgcolor\":\"white\",\"polar\":{\"angularaxis\":{\"gridcolor\":\"#EBF0F8\",\"linecolor\":\"#EBF0F8\",\"ticks\":\"\"},\"bgcolor\":\"white\",\"radialaxis\":{\"gridcolor\":\"#EBF0F8\",\"linecolor\":\"#EBF0F8\",\"ticks\":\"\"}},\"scene\":{\"xaxis\":{\"backgroundcolor\":\"white\",\"gridcolor\":\"#DFE8F3\",\"gridwidth\":2,\"linecolor\":\"#EBF0F8\",\"showbackground\":true,\"ticks\":\"\",\"zerolinecolor\":\"#EBF0F8\"},\"yaxis\":{\"backgroundcolor\":\"white\",\"gridcolor\":\"#DFE8F3\",\"gridwidth\":2,\"linecolor\":\"#EBF0F8\",\"showbackground\":true,\"ticks\":\"\",\"zerolinecolor\":\"#EBF0F8\"},\"zaxis\":{\"backgroundcolor\":\"white\",\"gridcolor\":\"#DFE8F3\",\"gridwidth\":2,\"linecolor\":\"#EBF0F8\",\"showbackground\":true,\"ticks\":\"\",\"zerolinecolor\":\"#EBF0F8\"}},\"shapedefaults\":{\"line\":{\"color\":\"#2a3f5f\"}},\"ternary\":{\"aaxis\":{\"gridcolor\":\"#DFE8F3\",\"linecolor\":\"#A2B1C6\",\"ticks\":\"\"},\"baxis\":{\"gridcolor\":\"#DFE8F3\",\"linecolor\":\"#A2B1C6\",\"ticks\":\"\"},\"bgcolor\":\"white\",\"caxis\":{\"gridcolor\":\"#DFE8F3\",\"linecolor\":\"#A2B1C6\",\"ticks\":\"\"}},\"title\":{\"x\":0.05},\"xaxis\":{\"automargin\":true,\"gridcolor\":\"#EBF0F8\",\"linecolor\":\"#EBF0F8\",\"ticks\":\"\",\"title\":{\"standoff\":15},\"zerolinecolor\":\"#EBF0F8\",\"zerolinewidth\":2},\"yaxis\":{\"automargin\":true,\"gridcolor\":\"#EBF0F8\",\"linecolor\":\"#EBF0F8\",\"ticks\":\"\",\"title\":{\"standoff\":15},\"zerolinecolor\":\"#EBF0F8\",\"zerolinewidth\":2}}},\"xaxis\":{\"anchor\":\"y\",\"domain\":[0.0,0.175],\"showgrid\":true},\"yaxis\":{\"anchor\":\"x\",\"domain\":[0.0,1.0],\"showgrid\":true},\"xaxis2\":{\"anchor\":\"y2\",\"domain\":[0.275,0.45],\"showgrid\":true},\"yaxis2\":{\"anchor\":\"x2\",\"domain\":[0.0,1.0],\"showgrid\":true},\"xaxis3\":{\"anchor\":\"y3\",\"domain\":[0.55,0.7250000000000001],\"showgrid\":true},\"yaxis3\":{\"anchor\":\"x3\",\"domain\":[0.0,1.0],\"showgrid\":true},\"xaxis4\":{\"anchor\":\"y4\",\"domain\":[0.825,1.0],\"showgrid\":true},\"yaxis4\":{\"anchor\":\"x4\",\"domain\":[0.0,1.0],\"showgrid\":true},\"annotations\":[{\"font\":{\"size\":16},\"showarrow\":false,\"text\":\"Topic 0\",\"x\":0.0875,\"xanchor\":\"center\",\"xref\":\"paper\",\"y\":1.0,\"yanchor\":\"bottom\",\"yref\":\"paper\"},{\"font\":{\"size\":16},\"showarrow\":false,\"text\":\"Topic 1\",\"x\":0.36250000000000004,\"xanchor\":\"center\",\"xref\":\"paper\",\"y\":1.0,\"yanchor\":\"bottom\",\"yref\":\"paper\"},{\"font\":{\"size\":16},\"showarrow\":false,\"text\":\"Topic 2\",\"x\":0.6375000000000001,\"xanchor\":\"center\",\"xref\":\"paper\",\"y\":1.0,\"yanchor\":\"bottom\",\"yref\":\"paper\"},{\"font\":{\"size\":16},\"showarrow\":false,\"text\":\"Topic 3\",\"x\":0.9125,\"xanchor\":\"center\",\"xref\":\"paper\",\"y\":1.0,\"yanchor\":\"bottom\",\"yref\":\"paper\"}],\"title\":{\"font\":{\"size\":22,\"color\":\"Black\"},\"text\":\"Topic Word Scores\",\"x\":0.5,\"xanchor\":\"center\",\"yanchor\":\"top\"},\"hoverlabel\":{\"font\":{\"size\":16,\"family\":\"Rockwell\"},\"bgcolor\":\"white\"},\"showlegend\":false,\"width\":1000,\"height\":325.0},                        {\"responsive\": true}                    )                };            </script>        </div>"
      ],
      "text/plain": [
       "Figure({\n",
       "    'data': [{'marker': {'color': '#D55E00'},\n",
       "              'orientation': 'h',\n",
       "              'type': 'bar',\n",
       "              'x': [0.053251384512362485, 0.05670035968623318,\n",
       "                    0.07376715511622696, 0.07759650592643379, 0.08630584974517452],\n",
       "              'xaxis': 'x',\n",
       "              'y': [mixed  , redacted  , redact  , classroom  , child  ],\n",
       "              'yaxis': 'y'},\n",
       "             {'marker': {'color': '#0072B2'},\n",
       "              'orientation': 'h',\n",
       "              'type': 'bar',\n",
       "              'x': [0.07019830781285255, 0.08068151938242756, 0.08267519023417305,\n",
       "                    0.08715737903946785, 0.1991808282948861],\n",
       "              'xaxis': 'x2',\n",
       "              'y': [redact  , classroom  , physical  , environment  , literacy  ],\n",
       "              'yaxis': 'y2'},\n",
       "             {'marker': {'color': '#CC79A7'},\n",
       "              'orientation': 'h',\n",
       "              'type': 'bar',\n",
       "              'x': [0.09835721182897894, 0.10149349250333659, 0.1057322551641539,\n",
       "                    0.12317009535077157, 0.13775453139469115],\n",
       "              'xaxis': 'x3',\n",
       "              'y': [quality  , redact  , child  , caregiver  , care  ],\n",
       "              'yaxis': 'y3'},\n",
       "             {'marker': {'color': '#E69F00'},\n",
       "              'orientation': 'h',\n",
       "              'type': 'bar',\n",
       "              'x': [0.050187153176598366, 0.058284304540606444,\n",
       "                    0.058284304540606444, 0.31246823507122856, 0.3642042086775949],\n",
       "              'xaxis': 'x4',\n",
       "              'y': [information  , thank  , mail  , redacted  , redact  ],\n",
       "              'yaxis': 'y4'}],\n",
       "    'layout': {'annotations': [{'font': {'size': 16},\n",
       "                                'showarrow': False,\n",
       "                                'text': 'Topic 0',\n",
       "                                'x': 0.0875,\n",
       "                                'xanchor': 'center',\n",
       "                                'xref': 'paper',\n",
       "                                'y': 1.0,\n",
       "                                'yanchor': 'bottom',\n",
       "                                'yref': 'paper'},\n",
       "                               {'font': {'size': 16},\n",
       "                                'showarrow': False,\n",
       "                                'text': 'Topic 1',\n",
       "                                'x': 0.36250000000000004,\n",
       "                                'xanchor': 'center',\n",
       "                                'xref': 'paper',\n",
       "                                'y': 1.0,\n",
       "                                'yanchor': 'bottom',\n",
       "                                'yref': 'paper'},\n",
       "                               {'font': {'size': 16},\n",
       "                                'showarrow': False,\n",
       "                                'text': 'Topic 2',\n",
       "                                'x': 0.6375000000000001,\n",
       "                                'xanchor': 'center',\n",
       "                                'xref': 'paper',\n",
       "                                'y': 1.0,\n",
       "                                'yanchor': 'bottom',\n",
       "                                'yref': 'paper'},\n",
       "                               {'font': {'size': 16},\n",
       "                                'showarrow': False,\n",
       "                                'text': 'Topic 3',\n",
       "                                'x': 0.9125,\n",
       "                                'xanchor': 'center',\n",
       "                                'xref': 'paper',\n",
       "                                'y': 1.0,\n",
       "                                'yanchor': 'bottom',\n",
       "                                'yref': 'paper'}],\n",
       "               'height': 325.0,\n",
       "               'hoverlabel': {'bgcolor': 'white', 'font': {'family': 'Rockwell', 'size': 16}},\n",
       "               'showlegend': False,\n",
       "               'template': '...',\n",
       "               'title': {'font': {'color': 'Black', 'size': 22},\n",
       "                         'text': 'Topic Word Scores',\n",
       "                         'x': 0.5,\n",
       "                         'xanchor': 'center',\n",
       "                         'yanchor': 'top'},\n",
       "               'width': 1000,\n",
       "               'xaxis': {'anchor': 'y', 'domain': [0.0, 0.175], 'showgrid': True},\n",
       "               'xaxis2': {'anchor': 'y2', 'domain': [0.275, 0.45], 'showgrid': True},\n",
       "               'xaxis3': {'anchor': 'y3', 'domain': [0.55, 0.7250000000000001], 'showgrid': True},\n",
       "               'xaxis4': {'anchor': 'y4', 'domain': [0.825, 1.0], 'showgrid': True},\n",
       "               'yaxis': {'anchor': 'x', 'domain': [0.0, 1.0], 'showgrid': True},\n",
       "               'yaxis2': {'anchor': 'x2', 'domain': [0.0, 1.0], 'showgrid': True},\n",
       "               'yaxis3': {'anchor': 'x3', 'domain': [0.0, 1.0], 'showgrid': True},\n",
       "               'yaxis4': {'anchor': 'x4', 'domain': [0.0, 1.0], 'showgrid': True}}\n",
       "})"
      ]
     },
     "execution_count": 21,
     "metadata": {},
     "output_type": "execute_result"
    }
   ],
   "source": [
    "topic_model.visualize_barchart()"
   ]
  },
  {
   "cell_type": "markdown",
   "metadata": {},
   "source": [
    "# Visual Topic Hierarchy"
   ]
  },
  {
   "cell_type": "code",
   "execution_count": 23,
   "metadata": {},
   "outputs": [
    {
     "name": "stderr",
     "output_type": "stream",
     "text": [
      "100%|██████████| 3/3 [00:00<00:00, 480.10it/s]\n"
     ]
    },
    {
     "ename": "ValueError",
     "evalue": "Mime type rendering requires nbformat>=4.2.0 but it is not installed",
     "output_type": "error",
     "traceback": [
      "\u001b[1;31m---------------------------------------------------------------------------\u001b[0m",
      "\u001b[1;31mValueError\u001b[0m                                Traceback (most recent call last)",
      "File \u001b[1;32m~\\AppData\\Roaming\\Python\\Python312\\site-packages\\IPython\\core\\formatters.py:984\u001b[0m, in \u001b[0;36mIPythonDisplayFormatter.__call__\u001b[1;34m(self, obj)\u001b[0m\n\u001b[0;32m    982\u001b[0m method \u001b[38;5;241m=\u001b[39m get_real_method(obj, \u001b[38;5;28mself\u001b[39m\u001b[38;5;241m.\u001b[39mprint_method)\n\u001b[0;32m    983\u001b[0m \u001b[38;5;28;01mif\u001b[39;00m method \u001b[38;5;129;01mis\u001b[39;00m \u001b[38;5;129;01mnot\u001b[39;00m \u001b[38;5;28;01mNone\u001b[39;00m:\n\u001b[1;32m--> 984\u001b[0m     \u001b[43mmethod\u001b[49m\u001b[43m(\u001b[49m\u001b[43m)\u001b[49m\n\u001b[0;32m    985\u001b[0m     \u001b[38;5;28;01mreturn\u001b[39;00m \u001b[38;5;28;01mTrue\u001b[39;00m\n",
      "File \u001b[1;32mc:\\Users\\Lovepreet Singh\\AppData\\Local\\Programs\\Python\\Python312\\Lib\\site-packages\\plotly\\basedatatypes.py:833\u001b[0m, in \u001b[0;36mBaseFigure._ipython_display_\u001b[1;34m(self)\u001b[0m\n\u001b[0;32m    830\u001b[0m \u001b[38;5;28;01mimport\u001b[39;00m\u001b[38;5;250m \u001b[39m\u001b[38;5;21;01mplotly\u001b[39;00m\u001b[38;5;21;01m.\u001b[39;00m\u001b[38;5;21;01mio\u001b[39;00m\u001b[38;5;250m \u001b[39m\u001b[38;5;28;01mas\u001b[39;00m\u001b[38;5;250m \u001b[39m\u001b[38;5;21;01mpio\u001b[39;00m\n\u001b[0;32m    832\u001b[0m \u001b[38;5;28;01mif\u001b[39;00m pio\u001b[38;5;241m.\u001b[39mrenderers\u001b[38;5;241m.\u001b[39mrender_on_display \u001b[38;5;129;01mand\u001b[39;00m pio\u001b[38;5;241m.\u001b[39mrenderers\u001b[38;5;241m.\u001b[39mdefault:\n\u001b[1;32m--> 833\u001b[0m     \u001b[43mpio\u001b[49m\u001b[38;5;241;43m.\u001b[39;49m\u001b[43mshow\u001b[49m\u001b[43m(\u001b[49m\u001b[38;5;28;43mself\u001b[39;49m\u001b[43m)\u001b[49m\n\u001b[0;32m    834\u001b[0m \u001b[38;5;28;01melse\u001b[39;00m:\n\u001b[0;32m    835\u001b[0m     \u001b[38;5;28mprint\u001b[39m(\u001b[38;5;28mrepr\u001b[39m(\u001b[38;5;28mself\u001b[39m))\n",
      "File \u001b[1;32mc:\\Users\\Lovepreet Singh\\AppData\\Local\\Programs\\Python\\Python312\\Lib\\site-packages\\plotly\\io\\_renderers.py:425\u001b[0m, in \u001b[0;36mshow\u001b[1;34m(fig, renderer, validate, **kwargs)\u001b[0m\n\u001b[0;32m    420\u001b[0m     \u001b[38;5;28;01mraise\u001b[39;00m \u001b[38;5;167;01mValueError\u001b[39;00m(\n\u001b[0;32m    421\u001b[0m         \u001b[38;5;124m\"\u001b[39m\u001b[38;5;124mMime type rendering requires ipython but it is not installed\u001b[39m\u001b[38;5;124m\"\u001b[39m\n\u001b[0;32m    422\u001b[0m     )\n\u001b[0;32m    424\u001b[0m \u001b[38;5;28;01mif\u001b[39;00m \u001b[38;5;129;01mnot\u001b[39;00m nbformat \u001b[38;5;129;01mor\u001b[39;00m Version(nbformat\u001b[38;5;241m.\u001b[39m__version__) \u001b[38;5;241m<\u001b[39m Version(\u001b[38;5;124m\"\u001b[39m\u001b[38;5;124m4.2.0\u001b[39m\u001b[38;5;124m\"\u001b[39m):\n\u001b[1;32m--> 425\u001b[0m     \u001b[38;5;28;01mraise\u001b[39;00m \u001b[38;5;167;01mValueError\u001b[39;00m(\n\u001b[0;32m    426\u001b[0m         \u001b[38;5;124m\"\u001b[39m\u001b[38;5;124mMime type rendering requires nbformat>=4.2.0 but it is not installed\u001b[39m\u001b[38;5;124m\"\u001b[39m\n\u001b[0;32m    427\u001b[0m     )\n\u001b[0;32m    429\u001b[0m display_jupyter_version_warnings()\n\u001b[0;32m    431\u001b[0m ipython_display\u001b[38;5;241m.\u001b[39mdisplay(bundle, raw\u001b[38;5;241m=\u001b[39m\u001b[38;5;28;01mTrue\u001b[39;00m)\n",
      "\u001b[1;31mValueError\u001b[0m: Mime type rendering requires nbformat>=4.2.0 but it is not installed"
     ]
    },
    {
     "data": {
      "application/vnd.plotly.v1+json": {
       "config": {
        "plotlyServerURL": "https://plot.ly"
       },
       "data": [
        {
         "hoverinfo": "text",
         "marker": {
          "color": "rgb(61,153,112)"
         },
         "mode": "lines",
         "text": [
          "child_classroom_redact_redacted_mixed",
          "",
          "",
          "literacy_environment_physical_classroom_redact"
         ],
         "type": "scatter",
         "x": {
          "bdata": "AAAAAAAAAAAOIo7hH1HdPw4ijuEfUd0/AAAAAAAAAAA=",
          "dtype": "f8"
         },
         "xaxis": "x",
         "y": {
          "bdata": "AAAAAAAAOcAAAAAAAAA5wAAAAAAAgEHAAAAAAACAQcA=",
          "dtype": "f8"
         },
         "yaxis": "y"
        },
        {
         "hoverinfo": "text",
         "marker": {
          "color": "rgb(61,153,112)"
         },
         "mode": "lines",
         "text": [
          "care_caregiver_child_redact_quality",
          "",
          "",
          "child_classroom_redact_redacted_mixed"
         ],
         "type": "scatter",
         "x": {
          "bdata": "AAAAAAAAAACNHWWvSRPlP40dZa9JE+U/DiKO4R9R3T8=",
          "dtype": "f8"
         },
         "xaxis": "x",
         "y": {
          "bdata": "AAAAAAAALsAAAAAAAAAuwAAAAAAAAD7AAAAAAAAAPsA=",
          "dtype": "f8"
         },
         "yaxis": "y"
        },
        {
         "hoverinfo": "text",
         "marker": {
          "color": "rgb(61,153,112)"
         },
         "mode": "lines",
         "text": [
          "redact_redacted_mail_thank_information",
          "",
          "",
          "child_redact_classroom_redacted_mixed"
         ],
         "type": "scatter",
         "x": {
          "bdata": "AAAAAAAAAADMqjKGVQHoP8yqMoZVAeg/jR1lr0kT5T8=",
          "dtype": "f8"
         },
         "xaxis": "x",
         "y": {
          "bdata": "AAAAAAAAFMAAAAAAAAAUwAAAAAAAgDbAAAAAAACANsA=",
          "dtype": "f8"
         },
         "yaxis": "y"
        },
        {
         "hoverinfo": "text",
         "hovertext": [],
         "marker": {
          "color": "black"
         },
         "mode": "markers",
         "showlegend": false,
         "type": "scatter",
         "x": [],
         "y": []
        },
        {
         "hoverinfo": "text",
         "hovertext": [
          "child_classroom_redact_redacted_mixed",
          "child_redact_classroom_redacted_mixed"
         ],
         "marker": {
          "color": "black"
         },
         "mode": "markers",
         "showlegend": false,
         "type": "scatter",
         "x": [
          0.4580764486968584,
          0.6586044717486615
         ],
         "y": [
          -30,
          -22.5
         ]
        }
       ],
       "layout": {
        "autosize": false,
        "height": 260,
        "hoverlabel": {
         "bgcolor": "white",
         "font": {
          "family": "Rockwell",
          "size": 16
         }
        },
        "hovermode": "closest",
        "plot_bgcolor": "#ECEFF1",
        "showlegend": false,
        "template": {
         "data": {
          "bar": [
           {
            "error_x": {
             "color": "#2a3f5f"
            },
            "error_y": {
             "color": "#2a3f5f"
            },
            "marker": {
             "line": {
              "color": "white",
              "width": 0.5
             },
             "pattern": {
              "fillmode": "overlay",
              "size": 10,
              "solidity": 0.2
             }
            },
            "type": "bar"
           }
          ],
          "barpolar": [
           {
            "marker": {
             "line": {
              "color": "white",
              "width": 0.5
             },
             "pattern": {
              "fillmode": "overlay",
              "size": 10,
              "solidity": 0.2
             }
            },
            "type": "barpolar"
           }
          ],
          "carpet": [
           {
            "aaxis": {
             "endlinecolor": "#2a3f5f",
             "gridcolor": "#C8D4E3",
             "linecolor": "#C8D4E3",
             "minorgridcolor": "#C8D4E3",
             "startlinecolor": "#2a3f5f"
            },
            "baxis": {
             "endlinecolor": "#2a3f5f",
             "gridcolor": "#C8D4E3",
             "linecolor": "#C8D4E3",
             "minorgridcolor": "#C8D4E3",
             "startlinecolor": "#2a3f5f"
            },
            "type": "carpet"
           }
          ],
          "choropleth": [
           {
            "colorbar": {
             "outlinewidth": 0,
             "ticks": ""
            },
            "type": "choropleth"
           }
          ],
          "contour": [
           {
            "colorbar": {
             "outlinewidth": 0,
             "ticks": ""
            },
            "colorscale": [
             [
              0,
              "#0d0887"
             ],
             [
              0.1111111111111111,
              "#46039f"
             ],
             [
              0.2222222222222222,
              "#7201a8"
             ],
             [
              0.3333333333333333,
              "#9c179e"
             ],
             [
              0.4444444444444444,
              "#bd3786"
             ],
             [
              0.5555555555555556,
              "#d8576b"
             ],
             [
              0.6666666666666666,
              "#ed7953"
             ],
             [
              0.7777777777777778,
              "#fb9f3a"
             ],
             [
              0.8888888888888888,
              "#fdca26"
             ],
             [
              1,
              "#f0f921"
             ]
            ],
            "type": "contour"
           }
          ],
          "contourcarpet": [
           {
            "colorbar": {
             "outlinewidth": 0,
             "ticks": ""
            },
            "type": "contourcarpet"
           }
          ],
          "heatmap": [
           {
            "colorbar": {
             "outlinewidth": 0,
             "ticks": ""
            },
            "colorscale": [
             [
              0,
              "#0d0887"
             ],
             [
              0.1111111111111111,
              "#46039f"
             ],
             [
              0.2222222222222222,
              "#7201a8"
             ],
             [
              0.3333333333333333,
              "#9c179e"
             ],
             [
              0.4444444444444444,
              "#bd3786"
             ],
             [
              0.5555555555555556,
              "#d8576b"
             ],
             [
              0.6666666666666666,
              "#ed7953"
             ],
             [
              0.7777777777777778,
              "#fb9f3a"
             ],
             [
              0.8888888888888888,
              "#fdca26"
             ],
             [
              1,
              "#f0f921"
             ]
            ],
            "type": "heatmap"
           }
          ],
          "histogram": [
           {
            "marker": {
             "pattern": {
              "fillmode": "overlay",
              "size": 10,
              "solidity": 0.2
             }
            },
            "type": "histogram"
           }
          ],
          "histogram2d": [
           {
            "colorbar": {
             "outlinewidth": 0,
             "ticks": ""
            },
            "colorscale": [
             [
              0,
              "#0d0887"
             ],
             [
              0.1111111111111111,
              "#46039f"
             ],
             [
              0.2222222222222222,
              "#7201a8"
             ],
             [
              0.3333333333333333,
              "#9c179e"
             ],
             [
              0.4444444444444444,
              "#bd3786"
             ],
             [
              0.5555555555555556,
              "#d8576b"
             ],
             [
              0.6666666666666666,
              "#ed7953"
             ],
             [
              0.7777777777777778,
              "#fb9f3a"
             ],
             [
              0.8888888888888888,
              "#fdca26"
             ],
             [
              1,
              "#f0f921"
             ]
            ],
            "type": "histogram2d"
           }
          ],
          "histogram2dcontour": [
           {
            "colorbar": {
             "outlinewidth": 0,
             "ticks": ""
            },
            "colorscale": [
             [
              0,
              "#0d0887"
             ],
             [
              0.1111111111111111,
              "#46039f"
             ],
             [
              0.2222222222222222,
              "#7201a8"
             ],
             [
              0.3333333333333333,
              "#9c179e"
             ],
             [
              0.4444444444444444,
              "#bd3786"
             ],
             [
              0.5555555555555556,
              "#d8576b"
             ],
             [
              0.6666666666666666,
              "#ed7953"
             ],
             [
              0.7777777777777778,
              "#fb9f3a"
             ],
             [
              0.8888888888888888,
              "#fdca26"
             ],
             [
              1,
              "#f0f921"
             ]
            ],
            "type": "histogram2dcontour"
           }
          ],
          "mesh3d": [
           {
            "colorbar": {
             "outlinewidth": 0,
             "ticks": ""
            },
            "type": "mesh3d"
           }
          ],
          "parcoords": [
           {
            "line": {
             "colorbar": {
              "outlinewidth": 0,
              "ticks": ""
             }
            },
            "type": "parcoords"
           }
          ],
          "pie": [
           {
            "automargin": true,
            "type": "pie"
           }
          ],
          "scatter": [
           {
            "fillpattern": {
             "fillmode": "overlay",
             "size": 10,
             "solidity": 0.2
            },
            "type": "scatter"
           }
          ],
          "scatter3d": [
           {
            "line": {
             "colorbar": {
              "outlinewidth": 0,
              "ticks": ""
             }
            },
            "marker": {
             "colorbar": {
              "outlinewidth": 0,
              "ticks": ""
             }
            },
            "type": "scatter3d"
           }
          ],
          "scattercarpet": [
           {
            "marker": {
             "colorbar": {
              "outlinewidth": 0,
              "ticks": ""
             }
            },
            "type": "scattercarpet"
           }
          ],
          "scattergeo": [
           {
            "marker": {
             "colorbar": {
              "outlinewidth": 0,
              "ticks": ""
             }
            },
            "type": "scattergeo"
           }
          ],
          "scattergl": [
           {
            "marker": {
             "colorbar": {
              "outlinewidth": 0,
              "ticks": ""
             }
            },
            "type": "scattergl"
           }
          ],
          "scattermap": [
           {
            "marker": {
             "colorbar": {
              "outlinewidth": 0,
              "ticks": ""
             }
            },
            "type": "scattermap"
           }
          ],
          "scattermapbox": [
           {
            "marker": {
             "colorbar": {
              "outlinewidth": 0,
              "ticks": ""
             }
            },
            "type": "scattermapbox"
           }
          ],
          "scatterpolar": [
           {
            "marker": {
             "colorbar": {
              "outlinewidth": 0,
              "ticks": ""
             }
            },
            "type": "scatterpolar"
           }
          ],
          "scatterpolargl": [
           {
            "marker": {
             "colorbar": {
              "outlinewidth": 0,
              "ticks": ""
             }
            },
            "type": "scatterpolargl"
           }
          ],
          "scatterternary": [
           {
            "marker": {
             "colorbar": {
              "outlinewidth": 0,
              "ticks": ""
             }
            },
            "type": "scatterternary"
           }
          ],
          "surface": [
           {
            "colorbar": {
             "outlinewidth": 0,
             "ticks": ""
            },
            "colorscale": [
             [
              0,
              "#0d0887"
             ],
             [
              0.1111111111111111,
              "#46039f"
             ],
             [
              0.2222222222222222,
              "#7201a8"
             ],
             [
              0.3333333333333333,
              "#9c179e"
             ],
             [
              0.4444444444444444,
              "#bd3786"
             ],
             [
              0.5555555555555556,
              "#d8576b"
             ],
             [
              0.6666666666666666,
              "#ed7953"
             ],
             [
              0.7777777777777778,
              "#fb9f3a"
             ],
             [
              0.8888888888888888,
              "#fdca26"
             ],
             [
              1,
              "#f0f921"
             ]
            ],
            "type": "surface"
           }
          ],
          "table": [
           {
            "cells": {
             "fill": {
              "color": "#EBF0F8"
             },
             "line": {
              "color": "white"
             }
            },
            "header": {
             "fill": {
              "color": "#C8D4E3"
             },
             "line": {
              "color": "white"
             }
            },
            "type": "table"
           }
          ]
         },
         "layout": {
          "annotationdefaults": {
           "arrowcolor": "#2a3f5f",
           "arrowhead": 0,
           "arrowwidth": 1
          },
          "autotypenumbers": "strict",
          "coloraxis": {
           "colorbar": {
            "outlinewidth": 0,
            "ticks": ""
           }
          },
          "colorscale": {
           "diverging": [
            [
             0,
             "#8e0152"
            ],
            [
             0.1,
             "#c51b7d"
            ],
            [
             0.2,
             "#de77ae"
            ],
            [
             0.3,
             "#f1b6da"
            ],
            [
             0.4,
             "#fde0ef"
            ],
            [
             0.5,
             "#f7f7f7"
            ],
            [
             0.6,
             "#e6f5d0"
            ],
            [
             0.7,
             "#b8e186"
            ],
            [
             0.8,
             "#7fbc41"
            ],
            [
             0.9,
             "#4d9221"
            ],
            [
             1,
             "#276419"
            ]
           ],
           "sequential": [
            [
             0,
             "#0d0887"
            ],
            [
             0.1111111111111111,
             "#46039f"
            ],
            [
             0.2222222222222222,
             "#7201a8"
            ],
            [
             0.3333333333333333,
             "#9c179e"
            ],
            [
             0.4444444444444444,
             "#bd3786"
            ],
            [
             0.5555555555555556,
             "#d8576b"
            ],
            [
             0.6666666666666666,
             "#ed7953"
            ],
            [
             0.7777777777777778,
             "#fb9f3a"
            ],
            [
             0.8888888888888888,
             "#fdca26"
            ],
            [
             1,
             "#f0f921"
            ]
           ],
           "sequentialminus": [
            [
             0,
             "#0d0887"
            ],
            [
             0.1111111111111111,
             "#46039f"
            ],
            [
             0.2222222222222222,
             "#7201a8"
            ],
            [
             0.3333333333333333,
             "#9c179e"
            ],
            [
             0.4444444444444444,
             "#bd3786"
            ],
            [
             0.5555555555555556,
             "#d8576b"
            ],
            [
             0.6666666666666666,
             "#ed7953"
            ],
            [
             0.7777777777777778,
             "#fb9f3a"
            ],
            [
             0.8888888888888888,
             "#fdca26"
            ],
            [
             1,
             "#f0f921"
            ]
           ]
          },
          "colorway": [
           "#636efa",
           "#EF553B",
           "#00cc96",
           "#ab63fa",
           "#FFA15A",
           "#19d3f3",
           "#FF6692",
           "#B6E880",
           "#FF97FF",
           "#FECB52"
          ],
          "font": {
           "color": "#2a3f5f"
          },
          "geo": {
           "bgcolor": "white",
           "lakecolor": "white",
           "landcolor": "white",
           "showlakes": true,
           "showland": true,
           "subunitcolor": "#C8D4E3"
          },
          "hoverlabel": {
           "align": "left"
          },
          "hovermode": "closest",
          "mapbox": {
           "style": "light"
          },
          "paper_bgcolor": "white",
          "plot_bgcolor": "white",
          "polar": {
           "angularaxis": {
            "gridcolor": "#EBF0F8",
            "linecolor": "#EBF0F8",
            "ticks": ""
           },
           "bgcolor": "white",
           "radialaxis": {
            "gridcolor": "#EBF0F8",
            "linecolor": "#EBF0F8",
            "ticks": ""
           }
          },
          "scene": {
           "xaxis": {
            "backgroundcolor": "white",
            "gridcolor": "#DFE8F3",
            "gridwidth": 2,
            "linecolor": "#EBF0F8",
            "showbackground": true,
            "ticks": "",
            "zerolinecolor": "#EBF0F8"
           },
           "yaxis": {
            "backgroundcolor": "white",
            "gridcolor": "#DFE8F3",
            "gridwidth": 2,
            "linecolor": "#EBF0F8",
            "showbackground": true,
            "ticks": "",
            "zerolinecolor": "#EBF0F8"
           },
           "zaxis": {
            "backgroundcolor": "white",
            "gridcolor": "#DFE8F3",
            "gridwidth": 2,
            "linecolor": "#EBF0F8",
            "showbackground": true,
            "ticks": "",
            "zerolinecolor": "#EBF0F8"
           }
          },
          "shapedefaults": {
           "line": {
            "color": "#2a3f5f"
           }
          },
          "ternary": {
           "aaxis": {
            "gridcolor": "#DFE8F3",
            "linecolor": "#A2B1C6",
            "ticks": ""
           },
           "baxis": {
            "gridcolor": "#DFE8F3",
            "linecolor": "#A2B1C6",
            "ticks": ""
           },
           "bgcolor": "white",
           "caxis": {
            "gridcolor": "#DFE8F3",
            "linecolor": "#A2B1C6",
            "ticks": ""
           }
          },
          "title": {
           "x": 0.05
          },
          "xaxis": {
           "automargin": true,
           "gridcolor": "#EBF0F8",
           "linecolor": "#EBF0F8",
           "ticks": "",
           "title": {
            "standoff": 15
           },
           "zerolinecolor": "#EBF0F8",
           "zerolinewidth": 2
          },
          "yaxis": {
           "automargin": true,
           "gridcolor": "#EBF0F8",
           "linecolor": "#EBF0F8",
           "ticks": "",
           "title": {
            "standoff": 15
           },
           "zerolinecolor": "#EBF0F8",
           "zerolinewidth": 2
          }
         }
        },
        "title": {
         "font": {
          "color": "Black",
          "size": 22
         },
         "text": "<b>Hierarchical Clustering</b>",
         "x": 0.5,
         "xanchor": "center",
         "yanchor": "top"
        },
        "width": 1000,
        "xaxis": {
         "mirror": "allticks",
         "rangemode": "tozero",
         "showgrid": false,
         "showline": true,
         "showticklabels": true,
         "ticks": "outside",
         "type": "linear",
         "zeroline": false
        },
        "yaxis": {
         "mirror": "allticks",
         "range": [
          -40,
          0
         ],
         "rangemode": "tozero",
         "showgrid": false,
         "showline": true,
         "showticklabels": true,
         "tickmode": "array",
         "ticks": "outside",
         "ticktext": [
          "3_redact_redacted_mail",
          "2_care_caregiver_child",
          "0_child_classroom_redact",
          "1_literacy_environment_phys..."
         ],
         "tickvals": [
          -5,
          -15,
          -25,
          -35
         ],
         "type": "linear",
         "zeroline": false
        }
       }
      },
      "text/html": [
       "<div>                        <script type=\"text/javascript\">window.PlotlyConfig = {MathJaxConfig: 'local'};</script>\n",
       "        <script charset=\"utf-8\" src=\"https://cdn.plot.ly/plotly-3.0.0.min.js\"></script>                <div id=\"7008686a-8b84-4996-8bed-084cee3928af\" class=\"plotly-graph-div\" style=\"height:260px; width:1000px;\"></div>            <script type=\"text/javascript\">                window.PLOTLYENV=window.PLOTLYENV || {};                                if (document.getElementById(\"7008686a-8b84-4996-8bed-084cee3928af\")) {                    Plotly.newPlot(                        \"7008686a-8b84-4996-8bed-084cee3928af\",                        [{\"hoverinfo\":\"text\",\"marker\":{\"color\":\"rgb(61,153,112)\"},\"mode\":\"lines\",\"text\":[\"child_classroom_redact_redacted_mixed\",\"\",\"\",\"literacy_environment_physical_classroom_redact\"],\"x\":{\"dtype\":\"f8\",\"bdata\":\"AAAAAAAAAAAOIo7hH1HdPw4ijuEfUd0\\u002fAAAAAAAAAAA=\"},\"xaxis\":\"x\",\"y\":{\"dtype\":\"f8\",\"bdata\":\"AAAAAAAAOcAAAAAAAAA5wAAAAAAAgEHAAAAAAACAQcA=\"},\"yaxis\":\"y\",\"type\":\"scatter\"},{\"hoverinfo\":\"text\",\"marker\":{\"color\":\"rgb(61,153,112)\"},\"mode\":\"lines\",\"text\":[\"care_caregiver_child_redact_quality\",\"\",\"\",\"child_classroom_redact_redacted_mixed\"],\"x\":{\"dtype\":\"f8\",\"bdata\":\"AAAAAAAAAACNHWWvSRPlP40dZa9JE+U\\u002fDiKO4R9R3T8=\"},\"xaxis\":\"x\",\"y\":{\"dtype\":\"f8\",\"bdata\":\"AAAAAAAALsAAAAAAAAAuwAAAAAAAAD7AAAAAAAAAPsA=\"},\"yaxis\":\"y\",\"type\":\"scatter\"},{\"hoverinfo\":\"text\",\"marker\":{\"color\":\"rgb(61,153,112)\"},\"mode\":\"lines\",\"text\":[\"redact_redacted_mail_thank_information\",\"\",\"\",\"child_redact_classroom_redacted_mixed\"],\"x\":{\"dtype\":\"f8\",\"bdata\":\"AAAAAAAAAADMqjKGVQHoP8yqMoZVAeg\\u002fjR1lr0kT5T8=\"},\"xaxis\":\"x\",\"y\":{\"dtype\":\"f8\",\"bdata\":\"AAAAAAAAFMAAAAAAAAAUwAAAAAAAgDbAAAAAAACANsA=\"},\"yaxis\":\"y\",\"type\":\"scatter\"},{\"hoverinfo\":\"text\",\"hovertext\":[],\"marker\":{\"color\":\"black\"},\"mode\":\"markers\",\"showlegend\":false,\"x\":[],\"y\":[],\"type\":\"scatter\"},{\"hoverinfo\":\"text\",\"hovertext\":[\"child_classroom_redact_redacted_mixed\",\"child_redact_classroom_redacted_mixed\"],\"marker\":{\"color\":\"black\"},\"mode\":\"markers\",\"showlegend\":false,\"x\":[0.4580764486968584,0.6586044717486615],\"y\":[-30.0,-22.5],\"type\":\"scatter\"}],                        {\"autosize\":false,\"height\":260,\"hovermode\":\"closest\",\"showlegend\":false,\"width\":1000,\"xaxis\":{\"mirror\":\"allticks\",\"rangemode\":\"tozero\",\"showgrid\":false,\"showline\":true,\"showticklabels\":true,\"ticks\":\"outside\",\"type\":\"linear\",\"zeroline\":false},\"yaxis\":{\"mirror\":\"allticks\",\"rangemode\":\"tozero\",\"showgrid\":false,\"showline\":true,\"showticklabels\":true,\"tickmode\":\"array\",\"ticks\":\"outside\",\"ticktext\":[\"3_redact_redacted_mail\",\"2_care_caregiver_child\",\"0_child_classroom_redact\",\"1_literacy_environment_phys...\"],\"tickvals\":[-5.0,-15.0,-25.0,-35.0],\"type\":\"linear\",\"zeroline\":false,\"range\":[-40.0,0.0]},\"template\":{\"data\":{\"barpolar\":[{\"marker\":{\"line\":{\"color\":\"white\",\"width\":0.5},\"pattern\":{\"fillmode\":\"overlay\",\"size\":10,\"solidity\":0.2}},\"type\":\"barpolar\"}],\"bar\":[{\"error_x\":{\"color\":\"#2a3f5f\"},\"error_y\":{\"color\":\"#2a3f5f\"},\"marker\":{\"line\":{\"color\":\"white\",\"width\":0.5},\"pattern\":{\"fillmode\":\"overlay\",\"size\":10,\"solidity\":0.2}},\"type\":\"bar\"}],\"carpet\":[{\"aaxis\":{\"endlinecolor\":\"#2a3f5f\",\"gridcolor\":\"#C8D4E3\",\"linecolor\":\"#C8D4E3\",\"minorgridcolor\":\"#C8D4E3\",\"startlinecolor\":\"#2a3f5f\"},\"baxis\":{\"endlinecolor\":\"#2a3f5f\",\"gridcolor\":\"#C8D4E3\",\"linecolor\":\"#C8D4E3\",\"minorgridcolor\":\"#C8D4E3\",\"startlinecolor\":\"#2a3f5f\"},\"type\":\"carpet\"}],\"choropleth\":[{\"colorbar\":{\"outlinewidth\":0,\"ticks\":\"\"},\"type\":\"choropleth\"}],\"contourcarpet\":[{\"colorbar\":{\"outlinewidth\":0,\"ticks\":\"\"},\"type\":\"contourcarpet\"}],\"contour\":[{\"colorbar\":{\"outlinewidth\":0,\"ticks\":\"\"},\"colorscale\":[[0.0,\"#0d0887\"],[0.1111111111111111,\"#46039f\"],[0.2222222222222222,\"#7201a8\"],[0.3333333333333333,\"#9c179e\"],[0.4444444444444444,\"#bd3786\"],[0.5555555555555556,\"#d8576b\"],[0.6666666666666666,\"#ed7953\"],[0.7777777777777778,\"#fb9f3a\"],[0.8888888888888888,\"#fdca26\"],[1.0,\"#f0f921\"]],\"type\":\"contour\"}],\"heatmap\":[{\"colorbar\":{\"outlinewidth\":0,\"ticks\":\"\"},\"colorscale\":[[0.0,\"#0d0887\"],[0.1111111111111111,\"#46039f\"],[0.2222222222222222,\"#7201a8\"],[0.3333333333333333,\"#9c179e\"],[0.4444444444444444,\"#bd3786\"],[0.5555555555555556,\"#d8576b\"],[0.6666666666666666,\"#ed7953\"],[0.7777777777777778,\"#fb9f3a\"],[0.8888888888888888,\"#fdca26\"],[1.0,\"#f0f921\"]],\"type\":\"heatmap\"}],\"histogram2dcontour\":[{\"colorbar\":{\"outlinewidth\":0,\"ticks\":\"\"},\"colorscale\":[[0.0,\"#0d0887\"],[0.1111111111111111,\"#46039f\"],[0.2222222222222222,\"#7201a8\"],[0.3333333333333333,\"#9c179e\"],[0.4444444444444444,\"#bd3786\"],[0.5555555555555556,\"#d8576b\"],[0.6666666666666666,\"#ed7953\"],[0.7777777777777778,\"#fb9f3a\"],[0.8888888888888888,\"#fdca26\"],[1.0,\"#f0f921\"]],\"type\":\"histogram2dcontour\"}],\"histogram2d\":[{\"colorbar\":{\"outlinewidth\":0,\"ticks\":\"\"},\"colorscale\":[[0.0,\"#0d0887\"],[0.1111111111111111,\"#46039f\"],[0.2222222222222222,\"#7201a8\"],[0.3333333333333333,\"#9c179e\"],[0.4444444444444444,\"#bd3786\"],[0.5555555555555556,\"#d8576b\"],[0.6666666666666666,\"#ed7953\"],[0.7777777777777778,\"#fb9f3a\"],[0.8888888888888888,\"#fdca26\"],[1.0,\"#f0f921\"]],\"type\":\"histogram2d\"}],\"histogram\":[{\"marker\":{\"pattern\":{\"fillmode\":\"overlay\",\"size\":10,\"solidity\":0.2}},\"type\":\"histogram\"}],\"mesh3d\":[{\"colorbar\":{\"outlinewidth\":0,\"ticks\":\"\"},\"type\":\"mesh3d\"}],\"parcoords\":[{\"line\":{\"colorbar\":{\"outlinewidth\":0,\"ticks\":\"\"}},\"type\":\"parcoords\"}],\"pie\":[{\"automargin\":true,\"type\":\"pie\"}],\"scatter3d\":[{\"line\":{\"colorbar\":{\"outlinewidth\":0,\"ticks\":\"\"}},\"marker\":{\"colorbar\":{\"outlinewidth\":0,\"ticks\":\"\"}},\"type\":\"scatter3d\"}],\"scattercarpet\":[{\"marker\":{\"colorbar\":{\"outlinewidth\":0,\"ticks\":\"\"}},\"type\":\"scattercarpet\"}],\"scattergeo\":[{\"marker\":{\"colorbar\":{\"outlinewidth\":0,\"ticks\":\"\"}},\"type\":\"scattergeo\"}],\"scattergl\":[{\"marker\":{\"colorbar\":{\"outlinewidth\":0,\"ticks\":\"\"}},\"type\":\"scattergl\"}],\"scattermapbox\":[{\"marker\":{\"colorbar\":{\"outlinewidth\":0,\"ticks\":\"\"}},\"type\":\"scattermapbox\"}],\"scattermap\":[{\"marker\":{\"colorbar\":{\"outlinewidth\":0,\"ticks\":\"\"}},\"type\":\"scattermap\"}],\"scatterpolargl\":[{\"marker\":{\"colorbar\":{\"outlinewidth\":0,\"ticks\":\"\"}},\"type\":\"scatterpolargl\"}],\"scatterpolar\":[{\"marker\":{\"colorbar\":{\"outlinewidth\":0,\"ticks\":\"\"}},\"type\":\"scatterpolar\"}],\"scatter\":[{\"fillpattern\":{\"fillmode\":\"overlay\",\"size\":10,\"solidity\":0.2},\"type\":\"scatter\"}],\"scatterternary\":[{\"marker\":{\"colorbar\":{\"outlinewidth\":0,\"ticks\":\"\"}},\"type\":\"scatterternary\"}],\"surface\":[{\"colorbar\":{\"outlinewidth\":0,\"ticks\":\"\"},\"colorscale\":[[0.0,\"#0d0887\"],[0.1111111111111111,\"#46039f\"],[0.2222222222222222,\"#7201a8\"],[0.3333333333333333,\"#9c179e\"],[0.4444444444444444,\"#bd3786\"],[0.5555555555555556,\"#d8576b\"],[0.6666666666666666,\"#ed7953\"],[0.7777777777777778,\"#fb9f3a\"],[0.8888888888888888,\"#fdca26\"],[1.0,\"#f0f921\"]],\"type\":\"surface\"}],\"table\":[{\"cells\":{\"fill\":{\"color\":\"#EBF0F8\"},\"line\":{\"color\":\"white\"}},\"header\":{\"fill\":{\"color\":\"#C8D4E3\"},\"line\":{\"color\":\"white\"}},\"type\":\"table\"}]},\"layout\":{\"annotationdefaults\":{\"arrowcolor\":\"#2a3f5f\",\"arrowhead\":0,\"arrowwidth\":1},\"autotypenumbers\":\"strict\",\"coloraxis\":{\"colorbar\":{\"outlinewidth\":0,\"ticks\":\"\"}},\"colorscale\":{\"diverging\":[[0,\"#8e0152\"],[0.1,\"#c51b7d\"],[0.2,\"#de77ae\"],[0.3,\"#f1b6da\"],[0.4,\"#fde0ef\"],[0.5,\"#f7f7f7\"],[0.6,\"#e6f5d0\"],[0.7,\"#b8e186\"],[0.8,\"#7fbc41\"],[0.9,\"#4d9221\"],[1,\"#276419\"]],\"sequential\":[[0.0,\"#0d0887\"],[0.1111111111111111,\"#46039f\"],[0.2222222222222222,\"#7201a8\"],[0.3333333333333333,\"#9c179e\"],[0.4444444444444444,\"#bd3786\"],[0.5555555555555556,\"#d8576b\"],[0.6666666666666666,\"#ed7953\"],[0.7777777777777778,\"#fb9f3a\"],[0.8888888888888888,\"#fdca26\"],[1.0,\"#f0f921\"]],\"sequentialminus\":[[0.0,\"#0d0887\"],[0.1111111111111111,\"#46039f\"],[0.2222222222222222,\"#7201a8\"],[0.3333333333333333,\"#9c179e\"],[0.4444444444444444,\"#bd3786\"],[0.5555555555555556,\"#d8576b\"],[0.6666666666666666,\"#ed7953\"],[0.7777777777777778,\"#fb9f3a\"],[0.8888888888888888,\"#fdca26\"],[1.0,\"#f0f921\"]]},\"colorway\":[\"#636efa\",\"#EF553B\",\"#00cc96\",\"#ab63fa\",\"#FFA15A\",\"#19d3f3\",\"#FF6692\",\"#B6E880\",\"#FF97FF\",\"#FECB52\"],\"font\":{\"color\":\"#2a3f5f\"},\"geo\":{\"bgcolor\":\"white\",\"lakecolor\":\"white\",\"landcolor\":\"white\",\"showlakes\":true,\"showland\":true,\"subunitcolor\":\"#C8D4E3\"},\"hoverlabel\":{\"align\":\"left\"},\"hovermode\":\"closest\",\"mapbox\":{\"style\":\"light\"},\"paper_bgcolor\":\"white\",\"plot_bgcolor\":\"white\",\"polar\":{\"angularaxis\":{\"gridcolor\":\"#EBF0F8\",\"linecolor\":\"#EBF0F8\",\"ticks\":\"\"},\"bgcolor\":\"white\",\"radialaxis\":{\"gridcolor\":\"#EBF0F8\",\"linecolor\":\"#EBF0F8\",\"ticks\":\"\"}},\"scene\":{\"xaxis\":{\"backgroundcolor\":\"white\",\"gridcolor\":\"#DFE8F3\",\"gridwidth\":2,\"linecolor\":\"#EBF0F8\",\"showbackground\":true,\"ticks\":\"\",\"zerolinecolor\":\"#EBF0F8\"},\"yaxis\":{\"backgroundcolor\":\"white\",\"gridcolor\":\"#DFE8F3\",\"gridwidth\":2,\"linecolor\":\"#EBF0F8\",\"showbackground\":true,\"ticks\":\"\",\"zerolinecolor\":\"#EBF0F8\"},\"zaxis\":{\"backgroundcolor\":\"white\",\"gridcolor\":\"#DFE8F3\",\"gridwidth\":2,\"linecolor\":\"#EBF0F8\",\"showbackground\":true,\"ticks\":\"\",\"zerolinecolor\":\"#EBF0F8\"}},\"shapedefaults\":{\"line\":{\"color\":\"#2a3f5f\"}},\"ternary\":{\"aaxis\":{\"gridcolor\":\"#DFE8F3\",\"linecolor\":\"#A2B1C6\",\"ticks\":\"\"},\"baxis\":{\"gridcolor\":\"#DFE8F3\",\"linecolor\":\"#A2B1C6\",\"ticks\":\"\"},\"bgcolor\":\"white\",\"caxis\":{\"gridcolor\":\"#DFE8F3\",\"linecolor\":\"#A2B1C6\",\"ticks\":\"\"}},\"title\":{\"x\":0.05},\"xaxis\":{\"automargin\":true,\"gridcolor\":\"#EBF0F8\",\"linecolor\":\"#EBF0F8\",\"ticks\":\"\",\"title\":{\"standoff\":15},\"zerolinecolor\":\"#EBF0F8\",\"zerolinewidth\":2},\"yaxis\":{\"automargin\":true,\"gridcolor\":\"#EBF0F8\",\"linecolor\":\"#EBF0F8\",\"ticks\":\"\",\"title\":{\"standoff\":15},\"zerolinecolor\":\"#EBF0F8\",\"zerolinewidth\":2}}},\"title\":{\"font\":{\"size\":22,\"color\":\"Black\"},\"text\":\"\\u003cb\\u003eHierarchical Clustering\\u003c\\u002fb\\u003e\",\"x\":0.5,\"xanchor\":\"center\",\"yanchor\":\"top\"},\"hoverlabel\":{\"font\":{\"size\":16,\"family\":\"Rockwell\"},\"bgcolor\":\"white\"},\"plot_bgcolor\":\"#ECEFF1\"},                        {\"responsive\": true}                    )                };            </script>        </div>"
      ],
      "text/plain": [
       "Figure({\n",
       "    'data': [{'hoverinfo': 'text',\n",
       "              'marker': {'color': 'rgb(61,153,112)'},\n",
       "              'mode': 'lines',\n",
       "              'text': [child_classroom_redact_redacted_mixed, , ,\n",
       "                       literacy_environment_physical_classroom_redact],\n",
       "              'type': 'scatter',\n",
       "              'x': {'bdata': 'AAAAAAAAAAAOIo7hH1HdPw4ijuEfUd0/AAAAAAAAAAA=', 'dtype': 'f8'},\n",
       "              'xaxis': 'x',\n",
       "              'y': {'bdata': 'AAAAAAAAOcAAAAAAAAA5wAAAAAAAgEHAAAAAAACAQcA=', 'dtype': 'f8'},\n",
       "              'yaxis': 'y'},\n",
       "             {'hoverinfo': 'text',\n",
       "              'marker': {'color': 'rgb(61,153,112)'},\n",
       "              'mode': 'lines',\n",
       "              'text': [care_caregiver_child_redact_quality, , ,\n",
       "                       child_classroom_redact_redacted_mixed],\n",
       "              'type': 'scatter',\n",
       "              'x': {'bdata': 'AAAAAAAAAACNHWWvSRPlP40dZa9JE+U/DiKO4R9R3T8=', 'dtype': 'f8'},\n",
       "              'xaxis': 'x',\n",
       "              'y': {'bdata': 'AAAAAAAALsAAAAAAAAAuwAAAAAAAAD7AAAAAAAAAPsA=', 'dtype': 'f8'},\n",
       "              'yaxis': 'y'},\n",
       "             {'hoverinfo': 'text',\n",
       "              'marker': {'color': 'rgb(61,153,112)'},\n",
       "              'mode': 'lines',\n",
       "              'text': [redact_redacted_mail_thank_information, , ,\n",
       "                       child_redact_classroom_redacted_mixed],\n",
       "              'type': 'scatter',\n",
       "              'x': {'bdata': 'AAAAAAAAAADMqjKGVQHoP8yqMoZVAeg/jR1lr0kT5T8=', 'dtype': 'f8'},\n",
       "              'xaxis': 'x',\n",
       "              'y': {'bdata': 'AAAAAAAAFMAAAAAAAAAUwAAAAAAAgDbAAAAAAACANsA=', 'dtype': 'f8'},\n",
       "              'yaxis': 'y'},\n",
       "             {'hoverinfo': 'text',\n",
       "              'hovertext': [],\n",
       "              'marker': {'color': 'black'},\n",
       "              'mode': 'markers',\n",
       "              'showlegend': False,\n",
       "              'type': 'scatter',\n",
       "              'x': [],\n",
       "              'y': []},\n",
       "             {'hoverinfo': 'text',\n",
       "              'hovertext': [child_classroom_redact_redacted_mixed,\n",
       "                            child_redact_classroom_redacted_mixed],\n",
       "              'marker': {'color': 'black'},\n",
       "              'mode': 'markers',\n",
       "              'showlegend': False,\n",
       "              'type': 'scatter',\n",
       "              'x': [0.4580764486968584, 0.6586044717486615],\n",
       "              'y': [-30.0, -22.5]}],\n",
       "    'layout': {'autosize': False,\n",
       "               'height': 260,\n",
       "               'hoverlabel': {'bgcolor': 'white', 'font': {'family': 'Rockwell', 'size': 16}},\n",
       "               'hovermode': 'closest',\n",
       "               'plot_bgcolor': '#ECEFF1',\n",
       "               'showlegend': False,\n",
       "               'template': '...',\n",
       "               'title': {'font': {'color': 'Black', 'size': 22},\n",
       "                         'text': '<b>Hierarchical Clustering</b>',\n",
       "                         'x': 0.5,\n",
       "                         'xanchor': 'center',\n",
       "                         'yanchor': 'top'},\n",
       "               'width': 1000,\n",
       "               'xaxis': {'mirror': 'allticks',\n",
       "                         'rangemode': 'tozero',\n",
       "                         'showgrid': False,\n",
       "                         'showline': True,\n",
       "                         'showticklabels': True,\n",
       "                         'ticks': 'outside',\n",
       "                         'type': 'linear',\n",
       "                         'zeroline': False},\n",
       "               'yaxis': {'mirror': 'allticks',\n",
       "                         'range': [-40.0, 0.0],\n",
       "                         'rangemode': 'tozero',\n",
       "                         'showgrid': False,\n",
       "                         'showline': True,\n",
       "                         'showticklabels': True,\n",
       "                         'tickmode': 'array',\n",
       "                         'ticks': 'outside',\n",
       "                         'ticktext': [3_redact_redacted_mail,\n",
       "                                      2_care_caregiver_child,\n",
       "                                      0_child_classroom_redact,\n",
       "                                      1_literacy_environment_phys...],\n",
       "                         'tickvals': [-5.0, -15.0, -25.0, -35.0],\n",
       "                         'type': 'linear',\n",
       "                         'zeroline': False}}\n",
       "})"
      ]
     },
     "execution_count": 23,
     "metadata": {},
     "output_type": "execute_result"
    }
   ],
   "source": [
    "hierarchical_topics = topic_model.hierarchical_topics(df_gdpr['GDPR_Text'])\n",
    "topic_model.visualize_hierarchy(hierarchical_topics=hierarchical_topics)\n"
   ]
  },
  {
   "cell_type": "code",
   "execution_count": 24,
   "metadata": {},
   "outputs": [
    {
     "name": "stdout",
     "output_type": "stream",
     "text": [
      ".\n",
      "├─■──redact_redacted_mail_thank_information ── Topic: 3\n",
      "└─child_redact_classroom_redacted_mixed\n",
      "     ├─■──care_caregiver_child_redact_quality ── Topic: 2\n",
      "     └─child_classroom_redact_redacted_mixed\n",
      "          ├─■──child_classroom_redact_redacted_mixed ── Topic: 0\n",
      "          └─■──literacy_environment_physical_classroom_redact ── Topic: 1\n",
      "\n"
     ]
    }
   ],
   "source": [
    "tree = topic_model.get_topic_tree(hierarchical_topics)\n",
    "print(tree)"
   ]
  },
  {
   "cell_type": "markdown",
   "metadata": {},
   "source": [
    "# Visualize documents"
   ]
  },
  {
   "cell_type": "code",
   "execution_count": 26,
   "metadata": {},
   "outputs": [
    {
     "name": "stderr",
     "output_type": "stream",
     "text": [
      "Batches: 100%|██████████| 21/21 [00:02<00:00,  9.48it/s]\n"
     ]
    },
    {
     "ename": "ValueError",
     "evalue": "Mime type rendering requires nbformat>=4.2.0 but it is not installed",
     "output_type": "error",
     "traceback": [
      "\u001b[1;31m---------------------------------------------------------------------------\u001b[0m",
      "\u001b[1;31mValueError\u001b[0m                                Traceback (most recent call last)",
      "File \u001b[1;32m~\\AppData\\Roaming\\Python\\Python312\\site-packages\\IPython\\core\\formatters.py:984\u001b[0m, in \u001b[0;36mIPythonDisplayFormatter.__call__\u001b[1;34m(self, obj)\u001b[0m\n\u001b[0;32m    982\u001b[0m method \u001b[38;5;241m=\u001b[39m get_real_method(obj, \u001b[38;5;28mself\u001b[39m\u001b[38;5;241m.\u001b[39mprint_method)\n\u001b[0;32m    983\u001b[0m \u001b[38;5;28;01mif\u001b[39;00m method \u001b[38;5;129;01mis\u001b[39;00m \u001b[38;5;129;01mnot\u001b[39;00m \u001b[38;5;28;01mNone\u001b[39;00m:\n\u001b[1;32m--> 984\u001b[0m     \u001b[43mmethod\u001b[49m\u001b[43m(\u001b[49m\u001b[43m)\u001b[49m\n\u001b[0;32m    985\u001b[0m     \u001b[38;5;28;01mreturn\u001b[39;00m \u001b[38;5;28;01mTrue\u001b[39;00m\n",
      "File \u001b[1;32mc:\\Users\\Lovepreet Singh\\AppData\\Local\\Programs\\Python\\Python312\\Lib\\site-packages\\plotly\\basedatatypes.py:833\u001b[0m, in \u001b[0;36mBaseFigure._ipython_display_\u001b[1;34m(self)\u001b[0m\n\u001b[0;32m    830\u001b[0m \u001b[38;5;28;01mimport\u001b[39;00m\u001b[38;5;250m \u001b[39m\u001b[38;5;21;01mplotly\u001b[39;00m\u001b[38;5;21;01m.\u001b[39;00m\u001b[38;5;21;01mio\u001b[39;00m\u001b[38;5;250m \u001b[39m\u001b[38;5;28;01mas\u001b[39;00m\u001b[38;5;250m \u001b[39m\u001b[38;5;21;01mpio\u001b[39;00m\n\u001b[0;32m    832\u001b[0m \u001b[38;5;28;01mif\u001b[39;00m pio\u001b[38;5;241m.\u001b[39mrenderers\u001b[38;5;241m.\u001b[39mrender_on_display \u001b[38;5;129;01mand\u001b[39;00m pio\u001b[38;5;241m.\u001b[39mrenderers\u001b[38;5;241m.\u001b[39mdefault:\n\u001b[1;32m--> 833\u001b[0m     \u001b[43mpio\u001b[49m\u001b[38;5;241;43m.\u001b[39;49m\u001b[43mshow\u001b[49m\u001b[43m(\u001b[49m\u001b[38;5;28;43mself\u001b[39;49m\u001b[43m)\u001b[49m\n\u001b[0;32m    834\u001b[0m \u001b[38;5;28;01melse\u001b[39;00m:\n\u001b[0;32m    835\u001b[0m     \u001b[38;5;28mprint\u001b[39m(\u001b[38;5;28mrepr\u001b[39m(\u001b[38;5;28mself\u001b[39m))\n",
      "File \u001b[1;32mc:\\Users\\Lovepreet Singh\\AppData\\Local\\Programs\\Python\\Python312\\Lib\\site-packages\\plotly\\io\\_renderers.py:425\u001b[0m, in \u001b[0;36mshow\u001b[1;34m(fig, renderer, validate, **kwargs)\u001b[0m\n\u001b[0;32m    420\u001b[0m     \u001b[38;5;28;01mraise\u001b[39;00m \u001b[38;5;167;01mValueError\u001b[39;00m(\n\u001b[0;32m    421\u001b[0m         \u001b[38;5;124m\"\u001b[39m\u001b[38;5;124mMime type rendering requires ipython but it is not installed\u001b[39m\u001b[38;5;124m\"\u001b[39m\n\u001b[0;32m    422\u001b[0m     )\n\u001b[0;32m    424\u001b[0m \u001b[38;5;28;01mif\u001b[39;00m \u001b[38;5;129;01mnot\u001b[39;00m nbformat \u001b[38;5;129;01mor\u001b[39;00m Version(nbformat\u001b[38;5;241m.\u001b[39m__version__) \u001b[38;5;241m<\u001b[39m Version(\u001b[38;5;124m\"\u001b[39m\u001b[38;5;124m4.2.0\u001b[39m\u001b[38;5;124m\"\u001b[39m):\n\u001b[1;32m--> 425\u001b[0m     \u001b[38;5;28;01mraise\u001b[39;00m \u001b[38;5;167;01mValueError\u001b[39;00m(\n\u001b[0;32m    426\u001b[0m         \u001b[38;5;124m\"\u001b[39m\u001b[38;5;124mMime type rendering requires nbformat>=4.2.0 but it is not installed\u001b[39m\u001b[38;5;124m\"\u001b[39m\n\u001b[0;32m    427\u001b[0m     )\n\u001b[0;32m    429\u001b[0m display_jupyter_version_warnings()\n\u001b[0;32m    431\u001b[0m ipython_display\u001b[38;5;241m.\u001b[39mdisplay(bundle, raw\u001b[38;5;241m=\u001b[39m\u001b[38;5;28;01mTrue\u001b[39;00m)\n",
      "\u001b[1;31mValueError\u001b[0m: Mime type rendering requires nbformat>=4.2.0 but it is not installed"
     ]
    },
    {
     "data": {
      "application/vnd.plotly.v1+json": {
       "config": {
        "plotlyServerURL": "https://plot.ly"
       },
       "data": [
        {
         "hoverinfo": "text",
         "hovertext": [
          "terms conditions access find",
          "primary question ofthis present study moral behavior under- standing display preschool aged sib- ling interact young sibling home see interaction mixed age child care center",
          "terms conditions access find",
          "student work small multi group change relation number old child participate group",
          "ence home- center care pre- school child understanding moral social transgression find home- care child likely under- stand recognize moral transgression social transgression child attend center care redacted",
          "searcher hypothesize preschool child nurture help young peer prosoc behavior include moral behavior positively late attend child development ori- ente mixed child care center",
          "child moral development conduct environment e.g. redact nucci,1987 research investigate effect mixed grouping child moral behavior example research find preschooler attend program mixed grouping display coopera-",
          "stigat wheth preschool childr moral help behav- ior relate young peer direct ernal state languag talk young peer redact want redact perspective take skill attendance child developm orient mixed child care center redacted enty- pair child old peer youngerpeer otape whil play toy puzzl pre ente singly result indicat moral help behavior positively significan relate frequency vocal turn young peer perspective- abilit length redacted mixed center datum support developmental notion perspectiv take ability relate mixed group settin facilitate young child demonstration understanding ect moral development help behavior perspectiv take ability",
          "student learn interact teacher interest educational researcher practitioner highly evaluate goal redact social skill individual allow participate learn activity small group learn redact redacted suggest child knowledge idea develop interaction view social interaction capable peer play role under- stand meaning concept learning achieve student need learning environment promote interactive learning process preferably low grade education redact heart view learn situation context learning take place take consideration",
          "Arya Ansari a , ⁎ , Kelly M. Purtell b",
          "Natalia M. Rojas   a , * , Rachel M. Abenavoli   b",
          "reproduction distribution work permission provide original work attribute specify sage",
          "terms conditions access find",
          "Linda  E.  Derscheid N orthern  Illinois  Univ er sit y",
          "hypothesize preschool child moral behavior attend mixed center care relate preschool child understanding",
          "child participate mixed group likely child attend group classroom need investigate mixed group preschool child moral behav- understanding",
          "terms conditions access find",
          "permit unrestricted distribution reproduction medium provide original work properly cite term",
          "terms conditions access find",
          "terms conditions access find",
          "terms conditions access find",
          "terms conditions access find",
          "benefit especially area socioemotionaldevelopment includingmoral prosocial development involve coopera- tion nurture help behavior",
          "Elles J. de Schipper   a , J. Marianne Riksen-Walraven   a , ∗ , Sabine A.E. Geurts   b",
          "terms conditions access find",
          null
         ],
         "marker": {
          "color": "#CFD8DC",
          "opacity": 0.5,
          "size": 5
         },
         "mode": "markers+text",
         "name": "other",
         "showlegend": false,
         "type": "scattergl",
         "x": {
          "bdata": "OyAWweOkFkE5IBbBY2MjQcmrF0FiWxdBYCQXQa2NF0HiGTtB8SpOQVxbTEFVrWJBNiAWwVHdS0HGARdBYE8WQSkgFsGMNGJBJyAWwcofFsEPIRbBSiAWwQxbF0Hpw0tBVyAWwYa1bEA=",
          "dtype": "f4"
         },
         "y": {
          "bdata": "0YSeQIKGrkDvhJ5AN0vIQGX/rEAkZ65Aio6tQMiUrkCVSBZB+s0LQdl3CkFUog5BHIWeQBl7CUHXsa1AqhawQDGFnkAZaw5BYYWeQMmHnkBvf55AkYSeQEZerkAYgwlBVYSeQFzvx0A=",
          "dtype": "f4"
         }
        },
        {
         "hoverinfo": "text",
         "hovertext": [
          "redact math skill redact child lan- guage skill find relate self- regulation development contribute child ability function effectively class- room environment redact redact redact redact",
          "socialization cognitive development peer interaction redacted idea base belief young child bene family like experience preschooler help classroom young child help old child redacted argue large range mixed classroom cult teacher provide developmentally appropriate activity child great variation child skill need redact redact",
          "caregiver school year hallmark mixed classroom bene cial child early learning development redact redact redact redact contend type setting likely conducive child give demand associate mixed education redact purpose current investigation address compete hypothesis examine academic implication have redact erent peer role tea- cher continuity evaluate bene drawback mixed classroom head start type longitudinal empirical inquiry grow importance give fact scholar profes- sional national association promote mixed grouping bene cial child early childhood program little evidence support type educational programming redacted",
          "redact redacted same- versus mixed group redact point time sampling procedure study investigate time child same- versus mixed group spend form social participation relationship child mixed",
          "relate classroom composition academic redact social emotional behavior skill redact redact study find mixed classroom negative effect old child difference mixed classroom young child acquisition academic skill redact overall development redact particular compare old child classroom old child mixed classroom show low level total social motor cognitive redact math language literacy redact skill",
          "room prekindergartener small gain math liter-",
          "preschool burchinal redact high quality preschool influence child learning development domain include child motivation learn socioemotional behavioral skill development positive peer relation­ ship redact redacted teacher child interaction quality characterize teacher practice behavior social interaction child instructional practice redact domain teacher child interaction quality recognize critical contributor child learning development emotional support class­ room organization instructional support redact emotional support characterize warm sensitive responsive individualized interaction redacted organization define teacher structure manage classroom activity routine material support child self regulation attention engagement learning finally instructional support reflect teacher cognitively stimulating practice child encouraging problem solve high order reasoning advanced language redact date substantial literature examine predictor quality program- teacher level preschool setting e.g. redacted redact rarely association child behavior teacher child interaction quality examine",
          "study classroom",
          "example redacted observe mixed classroom young old child engage parallel play interactive play redacted similarly mixed- classroom parent teacher comparison base focus child individual whale kantor result decrease competition peer focus mastery orient goal mixed classroom find especially beneficial child disability benefit decrease comparison competition focus individual goal natural mixed classroom redact",
          "combine child single class common center base pre- school mixed classroom widely preschool center especially head start redact redact redact redact believe develop- mentally appropriate preschooler classroom redact redact hartman evidence mixed mixed classroom relate bet- outcome preschooler redact redact hightower account previous work peer skill consider study classroom composition great variation peer skill average mixed classroom classroom fairly consistent evidence indicate peer skill redacted ence",
          "velopment embed social interaction teacher peer conjunction physical interac- tion object main resource mechanism child achieve high level skill importantly way child engage teacher peer task positive negative redact redact redact olson prior study concep- tualize child classroom engagement distinct construct redact sabol dimen- sion positive engagement teacher capture child emo- tional connection communication teacher degree child seek proximity teacher second dimension positive engagement peer refer child initiation maintenance positive interaction classmate include successful initiation conversation play dimension positive engagement task tap degree child orient class- room activity remain focus activity extended period finally fourth final dimension negative classroom engagement include child conflict teacher peer display task dysregulated behavior redacted take aspect engage- ment collectively reflect way child engage experience classroom setting",
          "perience challenge provide appropriate literacy stimula- tion didactic instruction redact challenge expe- rience teacher young child hav- relatively low skill average result exposure effective instruction old child class- room redact redacted particular reduce exposure richness variabil- vocabulary syntactic structure redact redact redact redact furthermore study examine inter- actional quality conclude teacher teach young child teach diverse setting display low quality interac- tion redacted pianta redact redact redact engage positive interaction old well behave child vitiello pothesize child classroom old peer positive engagement teacher compare chil- dren classroom young peer",
          "mix group early childhood education setting support child language development",
          "redacted same- versus mixed group",
          "watch old child young child develop skill redacted resolution important life skill courtesy manner redacted",
          "extent classroom composition influence",
          "ment previous study show child positive negative engagement teacher peer task uniquely predictive early school success include language literacy development redact sabol redact importantly association effect global classroom quality unit change child classroom engagement equal |0.02 0.15| unit growth language skill |0.02 0.38| unit growth literacy skill sabol take domain classroom engagement shape",
          "case mixed multi group- recently redacted redact redacted ofthe research finding report indi- cat partici pation mixed agegroup tend benefit young partici- pant",
          "redact old preschool old preschool",
          "student redact study group student form feel number provide good opportunity interaction member allow different combination group child probability interact group assume few young old child group young child high probability interact old purpose study vary number young child group class keep total size group group class composition",
          "current study include redacted erent aspect peer group compo-",
          "suggest young child large gain mixed classroom old chil- dren large gain class- room researcher examine redacted uence classroom composition appear agree mixed classroom caution particularly negative result concern old child redact redact redact con- redacted icte evidence suggest examine class- room factor necessary well understand composition impact pre- school child development",
          "play behavior datum free play time child observe second",
          "peer interaction young child worthwhile endeavor theoretical practical reason term theory redact redact work suggest differential effect child cognitive social development asymmetric redacted oppose symmetric redacted peer interaction redact redact redact redact redact redact redact redact interaction redacted peer likely equal term knowledge skill power think provide unique context child engage resolve cognitive conflict stimulate cognitive social moral development redact redact redact interaction old competent child see optimal context facilitate cognitive behavioral development accord redacted social learning cognitive theory redact redact redacted 1930–1935/1978 interaction young child think afford old child opportunity practice develop prosocial self regulatory leadership skill redact redact redact redact redact redact hartman redact redact redact redact redact old socially withdraw child opportunity facilitate social participation social skill redact redact redacted important note connection research explore effect composition child peer interaction conduct laboratory quasi laboratory setting e.g. place child age ability level room task observe happen understand dynamic redacted redacted peer interaction occur naturalistic setting early childhood classroom",
          "mixed classroom promote school readiness outcome addition date level peer skill classroom examine potential mediator despite logical argu- ment peer skill old preschooler high classroom mixed class- room young preschooler high mixed classroom classroom study aim address issue consider peer language behavioral skill examine mixed classroom promote skill old young preschooler",
          "continuity change classroom composition achievement head start",
          "classroom redact redacted inter- estingly type setting family characteris- tic participant explain difference nding study",
          "behavioral development important implication child later success school setting able comprehend language foundational child ability navigate academic social context classroom chil- dren language skill link chil- dren",
          "classroom high peer language low peer behavior problem relate well school readiness outcome child peer skill partially",
          "child care group redacted observe naturally occur class consist- mixture mixed group spend time solitary play time parallel play teacher direct activity counterpart group mixed group spend time parallel play group mixed group playmate choice likely influence partner gender field observe same- mixed group report mixed group result verbal interaction imitation fantasy play redacted redact find interactive functional play mixed group child conversation parallel functional interaction group younger child engage dramatic play negative interaction mixed group",
          "example researcher show presence young child fos- development caretaking behavior redact prosocial behav- ior redact communicative skill redact intellectual skill old child redact",
          "child separate",
          "teacher child interaction quality diverse sample redact start program potential mixed classroom common model preschool program increase decrease challenge teaching classroom high level classroom problem behavior follow research question examine",
          "child attend kindergarten",
          "redact toddler teacher thumb accident report clipboard incident biting scratch deep draw blood bump head report parent brace reaction",
          "young child imitate old sibling imitate old child",
          "have child multiple age preschool classroom common practice compo- sition show shape child learning little understanding mech- anisms link composition child development study examine extent classroom composition shape child classroom engagement mediate role classroom engagement link classroom composition child language literacy gain datum draw teacher professional development study study classroom find positive engagement teacher mediate associ- ation classroom composition child vocabulary gain specifically classroom great number young classmate experience positive engagement teacher turn contribute small vocabulary gain addition great number old classmate associate low negative engagement classroom result discuss relation explore critical role child individual level classroom perience mixed preschool classroom",
          "old redacted national survey redact suggest previously regard association composition early childhood classroom child school performance empirical evidence mixed scholar document positive impact classroom enroll different child blasco redact redact redact redact redact redact redact redact document largely null negative association redacted redact redact redact redact",
          "child interaction quality base theoretical limited empirical literature direction hypothesis remain exploratory give limited prior research theory plausible negative association classroom level problem behavior teacher child interaction quality pronounced mixed classroom classroom serve association pronounce existent prior study suggest manage classroom wide range age diverse need challenge redact uniquely stressful teacher redact mixed classroom broad range behavior developmental skill negatively relate teacher ability provide high quality instructional support emotional support classroom organization example redacted redacted find teacher teach mixed classroom demonstrate optimal teacher child interaction quality plausible mixed grouping negatively relate teacher child interaction quality redacted redact classroom- level problem behavior negatively relate teacher child interaction quality redact challenge magnify combination result low teacher child interaction quality",
          "mixed- multi classroom similar family setting mixed sibling child attend mixed child care",
          "period shape child long term life success redacted redact redact",
          "dren collaborate child appear bene mixed grouping play context classroom toddler preschool school chil- dren empirical study suggest possible cost old child classroom redacted extensive qualitative datum interaction adolescent age child demonstrate advantage mix direction parent concern safety chil- dren mixed play redact redact teacher bene risky play mixed aged outdoor play button wilde paucity research relate mixed play outdoors recess grow play club handful researcher redact redacted redact assess parent teacher child perception mixed play context classroom outdoor play",
          "attention pay association child internalize behavior teacher child interaction quality",
          "classroom redact redact multi advocate claim presence old child create social context courage fruitful collaboration novice expert gold-",
          "classroom composition face head start peer effect school readiness",
          "report base experimental program con- ratory research support grant redacted redact assistance collect datum teacher child redact cooperation",
          "collaboration communication critical thinking creativity content knowl- edge confidence increasingly see essential child future success redact skill explicitly teach class- room learn child engage unstructured play redact redacted redact especially child redacted age redacted stress importance social environment social interaction particularly skilled child cognitive development play critical learning experience shape mental process lay foundation child successful functioning come redact",
          "multi classroom context need identify way mixed group child construct collaborative context create zone previous research give insufficient attention type collaboration child support learning",
          "science education large number study instructional practice give",
          "grouping institu- tion consider give question experiment state regulate grouping young child ensure safety foster ecological system theory bronfenbrenner",
          "result happen child experience type program old child unclear",
          "compare child disruptive problem behavior like externalize hyperactivity behavior child inter­ nalizing symptom receive attention teacher problem apparent difficult detect redact teacher comfort child struggle internalize problem increase child anxiety withdrawal symptom negatively impact teacher child interaction quality redact redacted find high average level internalize behavior classroom significantly predict relational conflict teacher child suggest classroom level internalize behavior negatively affect emotional support child internalize behavior function child ability manage emotional distress expect strongly link quality emotional support classroom",
          "natural play pattern child constitute rich source information",
          "participant study draw teacher pro-",
          "mixed class- room relate child outcome compare classroom mixed classroom great variability classmate peer skill determine old child tend skilled young peer",
          "developmental outcome child multigrade",
          "injury leave feel inadequate wonder long continue toddler teacher",
          "high level physical contact toddler injury despite teacher vigilant effort issue preschooler engage enthusiastically learn activity tend compete acknowledgment creation big good",
          "redacted prior study show weakness receptive expressive vocabu­ redacted associate early decode difficulty later read difficulty redact redact phonological awareness define sensitivity ability manipulate sound structure find significant predictor reading skill redact redacted finally child knowledge convention form write language print knowledge find predict reading acquisition control phonological awareness redact redact",
          "learn science small multi group role composition",
          "old one old student young student work closely engage learn activity young student seek imitate behavior model old one redact young child imitate academic social behavior demonstrate old child redacted maintain interest- child child skill like acquire addition unintended natural modeling old student provide direct instruction young one goularte note student show task introduce concept allow practice skill develop nurture behavior",
          "engagement teacher peer task classroom",
          "part study carry apart primary",
          "classroom e.g. redact redact know predictor importantly recent study show characteristic child classroom predictive physical literacy environment instance redact find preschool classroom serve high percentage dual language learner dlls low quality physical literacy environment important characteristic composition preschooler vary greatly redacted redact composition classroom",
          "playground neighborhood adventure playground root principle redact redacted redacted taylor redact redacted child center approach outdoor play mixed grouping pro- fessional nondirective redacted approach support playworker school park range setting redact adventure playground provide free multi play space help child develop creativity confidence minimal adult supervision wide range culturally diverse mixed aged child play playworker understand child play unadulterated agenda accord redacted redacted]er leave child free play intervene carefully measure way support play process old young child bene play adventure playground old child role tutor nurturer mediator redacted ict play young child learn skill develop positive self esteem old young child challenge learn risk socially interact recycled material call loose part",
          "importance peer interaction interpret redact sociocultural theory",
          "peer interaction preschool classroom refer process young child exercise action influence verbal verbal means redact peer interaction peer relationship preschool classroom significantly facilitate young child cognition language social skill redact redact redacted positive peer interaction help child gain sense belonging security promote social communication skill redact psychological adaptability redact exist study peer interaction tend focus value peer interaction characteristic peer interaction factor influence peer interaction peer interaction skill intervention training believe educator sufficiently equip support peer interaction redacted redact classroom possible maximize positive peer influence redact redacted",
          "encourage educational standpoint typically arise economic",
          "expect major influence social participation group child experi- mental program",
          "redacted grouping emphasize homogenous relate expectation child redact redacted",
          "interaction quality head start program moderation composition",
          "effort enhance child development high quality preschool experience primarily focus social interaction emphasize redacted bioecological theory redacted morris research show inconsistent association preschool classroom social interactional quality child emergent literacy skill burchinal redacted call attention aspect classroom experience highlight bioecological theory redacted morris object symbol available child play unique predictive role development redact altun redact include availability display arrangement literacy material book print source write instrument altun redact redact call reflect fact literacy environment predictive child outcome malleable teacher social interaction markussen- brown",
          "dynamic zone proximal development multi classroom present context learn differ markedly teacher center instruction norm redacted redacted develop concept zone redacted point redacted great theory maker redact redact redact like idea situate time like good idea point future discipline",
          "datum family child experiences survey cohort 1073 study consider implication mixed education young child academic achievement experience con- tinuity and/or change classroom composition redacted start result analysis reveal child classroom great number young child redacted start exhibit few gain mathematic language literacy additionally chil- dren transition classroom largely old classmate classroom largely peer exhibit great gain academic child experience mixed classroom stability child teacher hallmark mixed programming associate child academic achievement attenuate negative consequence mixed classroom",
          "overall performance young child class number old one participate group class composition group signi cantly affect overall cognitive achievement young child preferentially determine time factor reach maximum value nding utilize decide composition small group class facilitate young child learning science",
          "redact view interaction necessary tool create zone proximal development particular learner redact accord redact young child develop cognitively socially peer interaction vygotsky peer interaction facilitate young chil­ dren learning development domain important theoretically practically understand peer interaction differ mixed redact redacted preschool classroom study reveal difference young child peer interaction redacted redacted classroom potential reason difference propose pedagogical recommendation support peer interaction young child",
          "center grantee randomly assign control condition treatment condition treatment",
          "enrich content student challenging child different point development take theoretical empirical evidence sug- gest potential positive influence mixed classroom child development universal understand condition child benefit setting imperative",
          "classroom find present academic challenge old child redact redact redact child display low score social motor cognitive development great variability class redact addition researcher find child engage complex form play classroom roopnarine find child engage solitary play participate teacher direct activity classroom redact furthermore study find mixed classroom young child involve negative interaction redacted redact old child detach display onlooker behavior redact research finding conclusive come compare effect mixed classroom young child",
          "peer teacher child interaction central positive academic experience",
          "learning transactive phenomenon exist situation create teacher social interaction skill allow individual bene opportunity learn teacher create environment student collab- orate peer adult redact example environment small mixed ability cooperative group support extensive evi- dence numerous study e.g. redact redact redact redact redact redact student small heterogeneous group help share support learning member provide information prompt cue encouragement response child need redact redact aware peer need teacher explain problem readily understand redact find child achieve work small group class attain high academic outcome motivated achieve redact redact",
          "preschool child enrol some- mixed- care classroom",
          "intend increase heterogeneity group capitalize difference knowledge ability experience child study suggest mixed group young child capable participate contribute complex activity initiate redacted report research social bene indicate child early associate different expectation different group example young child assign old one instructional leadership helpful sympathize role old",
          "researcher examine mixed outdoor play private school redact elementary school playground redact adventure playground redact find social emotional bene mixed play redacted redacted code vignette mixed play interaction observe adolescent old young child redact vignette redacted redacted analyze vign- dren interact shared enjoyment vigorous physical play adolescent olde interact young child help exercise physical skill able exercise mate",
          "extant research focus teacher child interaction quality relate child skill behavior example emotionally",
          "great deal variability composition redacted preschool classroom preschool program tightly restrict range age classroom e.g. program permit case promote wide range age classroom e.g. year variability practice follow lack consen- theoretical empirical literature effect composition classroom individual learning research effect classroom composition indi- vidual growth theoretical writing pioneer field early childhood development redacted redact odd respect predict impact exposure individual child peer variant age cognitive social development redact redact hartup redact redact redact redacted redact",
          "school classroom redact redact redact young child bene old child read write number incorporate skill social play old child literate numerate tend redact young peer acquire skill reading math write play scenario redacted find mixed group kindergarten second grade kindergarten child engage twice literacy activity play sociodramatic",
          "teacher child empirical investigation perceive stress level child teacher facil- itie publish alent mixed classroom relative restrict setting field redact redact hartup redact redact mixed- context play powerful role gender peer playmate selection society level long term promotion gender equality well serve preschool move great diversity term classroom composition argument highly speculative pirical exploration relation preschool classroom composition attitude relate gender equality conduct finally research support notion mixed peer interaction occur naturally outside classroom context redact observational study redact child age find target child peer observation record compare observation involve mixed peer interaction child differ finding relate naturalistic social interaction inconclusive extent peer accessibility child actively seek companionship mixed peer goldman research mixed- versus preschool classroom demonstrate mixed- classroom significantly influence choice naturally well suited develop context mixed group redact redacted",
          "theory social learning redact cognitive development redact guide investigation contend interaction child peer i.e. peer effect primary mechanism classroom experience affect student development example theory suggest classroom ecology high skilled old chil- dren directly promote early learning develop- ment lower skilled young peer child child transmission support theoretical argument lay redacted redacted number study find child classmate shape individual development redact redact redact redact kaderavek redact redact redact redact redact time developmental educational scholar suggest considerable nuance peer ecology careful attention pay individual characteristic child family e.g. redact redact way peer ecology intersect aspect classroom environment e.g. redact redact redact redact redact",
          "additional study examine play behavior context large",
          "participation parent young child especially woman redact foster early developmental",
          "psychological science 2016 redact 27(1 53­–63 redacted permission pss.sagepub.com",
          "classroom redact edu- care enhanced head start program design support child birth fami- lie provide high quality early childhood edu- cation family support service main component redacted model datum utiliza- tion high quality teaching practice embed pro- fessional",
          "preschool classroom influence level problem behavior display e.g. redact redact high rate classroom level problem behavior negatively correlate aspect teacher child interaction quality teacher ability execute instructional activity plan time attention devote continuously deal behavioral issue redact researcher policymaker focus role teacher e.g. qualification training teacher child interaction quality little work consider characteristic child include ability regulate behavior influence quality school despite evidence child contribute classroom environment redact redact redacted",
          "researcher present datum con- cerne peer interaction preschool group alternative mixture example redacted redacted report chil- dren mixed group sociable peer spend time interact adult contrast redact redact redacted redacted port child mixed group sociable peer spend time adult redacted redacted study meaning result concern sociability clear case score sociability dif- ferentiate interactive associative cooperative play noninteractive watch- proximity parallel play aspect social participation",
          "study kindergarten class contrast early learning attend multigrade",
          "researcher study interaction facilitate learning factor lead different pattern interaction redact factor number participant small learning group redact find child bene small group work contingent group size composition redacted redacted suggest group comprise member able interact directly factor prove important member small group redact redact redacted maintain socialization mixed group serve child way socialization note mixed group require accom- modation individual developmental level differ find learn usually take place interaction old child young one",
          "parent grandparent grow segregate school system make contemporary school system natural universal child organize age grade proceed school system sequential grade level curricula accord redacted redacted segre- gation schooling found factory model product industrial revolu- tion permeate world learning see sequence discrete skill complex child assume term development need child child redacted public school typically outside recess break play peer class opportunity school play child grade",
          "teacher class take study member work group",
          "address gap knowledge datum redacted survey faces cohort examine classroom composi- tion affect school readiness threshold association classroom composition child school readiness strong weak address question poise answer basic developmental question role peer effect early care education program policy question implication mixed class- room head start child nation",
          "multilevel modeling approach investigate influence composition urban preschool classroom series hierarchical redacted model demonstrate great variance classroom composition negatively relate development redact cognitive redact social subscale true control class size general classroom quality socioeconomic status classroom level gender baseline ability child level additionally address possible concern relate nonrandom assignment classroom series model include variance developmental i.e. baseline ability classroom level child level result consistent chronological composition developmental composition classroom level great variance classroom developmental composition negatively relate redacted score cognitive redact social subscale furthermore cross level interaction indicate negative influence great variance classroom developmental composition strong child old developmental implication early childhood education policy discuss",
          "mixed- room old child mixed room spend time solitary play time teacher direct",
          "classroom serve preschooler kindergartener kindergarten classroom note",
          "classroom redacted]-supporte classroom enroll child redacted context research",
          "mixed free play elementary school perception student teacher parent",
          "modeling process young child pick behavior observe",
          "child redacted classroom well peer relationship group structure counterpart redacted classroom",
          "child behavior aggregate level relate teacher child interaction quality work examine role mixed classroom i.e. serve child different age classroom roughly head start classroom redact little research explore mixed classroom relate teacher- child interaction quality relationship classroom level problem behavior teacher child interaction quality give developmental trajectory child regulatory capacity preschool period different expectation classroom behavior child vary age process unfold differently classroom serve young e.g. old e.g. child study aim elucidate problem behavior average child classroom contribute teacher child interaction quality mixed head start classroom classroom serve result study assist head start preschool program well understand child behavior relate teacher child interaction quality practically finding provide idea potential professional development ongoing support teacher help manage problem behavior improve overall teacher child interaction quality",
          "mixed classroom redacted find child mixed preschool classroom significantly decrease time spend interact- peer different result study suggest child prefer interact peer place mixed classroom base child care program find long spend mixed child care program frequently speak peer match force pairing author conclude mixed preschool setting facilitate child social development turn increase talk old young child limitation study force pair naturalistic obser- vation classroom dynamic interesting note available research present con- flicte finding experience child mixed- classroom setting difficult extrapolate work classroom composition influence child language development time possible instance speculate base redacted finding variation classroom composition i.e. mixed- classroom little impact child language growth setting child tend interact peer",
          "train researcher i.e. author psychology master student visit",
          "interest understand unique redacted uence classroom",
          "researcher identify simultaneous benefit young old child",
          "term practice redacted grouping enjoy renew popularity early",
          "peer explicitly take account role peer skill child interact peer play educational activity redacted uence peer skill way accord peer- effect framework redact redact redact redact kaderavek redact redact redact child redacted ence peer direct effect path- example child directly learn peer skilled give area child redacted uence peer ability indirect effect pathway change classroom environment occur accom- modate child vary skill level example child bene behaviorally skilled peer likely disrupt class learning activity redact",
          "present study secondary datum collect cluster randomize control trial head start classroom-",
          "come child mixed classroom pro- vide inconsistent evidence early study involve classroom result small sample size conduct wide variety setting include head start center private community sponsor preschool univer- sity base center addition early study look classroom composition binary variable study report well out- come mixed classroom young child redacted redact redact redact contrast nding incon- sistent old child study report old child well outcome mixed classroom redacted redacted similar outcome mixed classroom mounts roopnar- redact posi- tive",
          "redact applied developmental psychology 2002 305–330",
          "similarly argue youn- child expose socially diverse peer group redact old competent peer young child potentially position learn social cognitive skill peer tutoring observation imitation competent behavior",
          "research report paper small scale exploration study design carry real classroom setting part school par- ticipate study class school school different urban area central northern redacted attend student socioeconomic background",
          "redacted believe child likely construct knowledge problem solve exchange idea peer similar skill ability accord redact old child modeling young child imitation young child miss opportunity create knowledge addition old child lack challenging opportunity test problem solve skill contrast group peer similar level social power able gain social skill learn negotiate resolve dispute equal",
          "set variable choose study",
          "peer effect important early childhood class- room direct effect pathway redacted redacted pathway child directly influence peer ability perspective hypothesize mixed classroom beneficial young child deleterious skill development old child second indirect effect pathway teacher modify classroom practice accommodate wide range skill level lead challenging content potential disengagement old child redact pathway particularly salient consider child behav- have wide range behavior classroom high concentration problem behavior challeng- teacher manage redact redact teacher mixed classroom spend time classroom management activity facilitate child learning pathway peer effect feasible evi- dence mixed preschool classroom ambiguous study document posi- tive effect redact redact redact redact redact redact redact redact oth- document null negative association redact redact redact redact hightower redact redacted give conflict evidence remain unclear child benefit mixed- versus restrict classroom advantage apply young old child",
          "peer effect framework redact redact redact redact kaderavek redact redact redact guide study con- trast evidence effect teacher chil- dren literature peer effect child learning directly affect class- mate shallow especially preschool year understand role peer effect period critical classroom instruc- tion early care education program occur peer interaction group activity oppose teacher direct instruction redact redacted omission peer effect past evaluation head start leave critical knowledge fact classroom composition main reason head start program document effective old child young child redact redact redact redact vandell redacted possi- bility test",
          "classroom composition important factor consider show shape",
          "redacted mixed redacted kindergarten classroom observation base redact",
          "composition different way pro- portion young child standard devia- tion child age give classroom redact redact redact green bulot- shearer",
          "peer interaction provide opportunity young child gain social practice experience build healthy peer relationship eventually profoundly impact socio­ emotional development blerta peer interaction include interaction peer mixed peer preschool classroom world arrange have peer interaction important routine early childhood program consequently young child classroom suffer lacking mixed peer interaction problem redact implement child policy redacted child child family redact mean redacted child deprive opportunity have mixed peer interaction home preschool unfortu­ nately negatively impact social development zhang recently redacted pre­ school try promote mixed classroom provide mixed peer interaction redact significant difference peer interaction pattern mixed- redact redacted preschool classroom redact accordingly urgent need explore similarity difference type peer interaction redact context provide educational implication implement mixed classroom policy redact fill study videotape compare redact redacted classroom redacted preschool aim reveal pattern difference associate factor subsequently",
          "mental period last redacted uence life course spearhead expansion preschool education country redact redact program expand include child age classroom e.g. recent national estimate reveal quarter child head start large federally fund pre- school program redacted enrol mixed class- room redact redacted national estimate reveal majority public private preschool program serve and/or erence old young student classroom national geste large proportion preschooler redacted experience mixed education large number mixed- classroom country remain unclear program design provide child multiple year velopmentally appropriate educational opportunity fact date mixed education literature focus child classroom experience year program",
          "young child benefit expose model behavior old child redact support redacted redacted find toddler interact slightly old peer young child exhibit complex language engage complex play family childcare setting redacted redacted similarly find toddler play partner old peer engage complex social play advocate mixed classroom posit old child benefit exposure young child redact redacted example setting old child position readily practice prosocial behavior redact redact leader- ship skill redact redact redact give elevated status mixed group interaction redacted find old child mixed elementary school setting serve mentor young child spontaneously ask specific benefit link mixed peer interaction specific i.e. relevant young old child advocate mixed- classroom maintain specific advantage pre- sumably pass child progress program i.e. young child old child classroom egalitarian ethic preserve research suggest additional benefit mixed classroom child regardless example search redacted suggest mixed preschool classroom engage significantly parallel oppose interactive form play relative classroom investigation redacted kaplan find old young child mixed preschool classroom exhibit great interactive functional play parallel functional play relative classroom redact redact redacted argue interactive play represent mature level play classroom facilitate mature play optimal social cognitive development redacted redacted suggest mixed classroom help lessen likelihood parent caregiver comparison child term development instead mixed room allow parent focus child develop- ment individual mixed classroom crease competition peer focus child instead mastery orient goal study conduct chil- dren adolescent college student confirm focus individual standard i.e. mastery goal optimal term maintain intrinsic motivation achievement classroom redact redact review blasco redacted redacted find child developmental disability particular likely engage mastery play enrol mixed setting redacted redacted speculate benefit tend child teacher result family climate continuity care foster mixed classroom climate encounter move restrict class- room large childcare facility stressful",
          "redact examine parent teacher child perception social behavior mixed aged classroom redacted survey attitude child parent multiage primary level age program parent feel positively multiage structure social academic pro- gress child parent concern old and/or gifted child adequately challenge student similar view child prefer grade classroom express concern help young child redacted teacher perception preschool mixed aged grouping post developmental framework explore investigate complexity issue associate multiage grouping redact teacher understand multiage group support child learning assist child manage- ment positive peer group relation reduce stress work chronologi- cally base grouping redacted redacted teacher rating scale examine child social behavior multiage classroom grade sixty- percent middle income family thirty- percent income home result suggest signi positive prosocial behavior speci cally aggressive prosocial friendship behavior teacher note few child experience social isolation aggressive behavior signi cantly mixed aged classroom",
          "center ongoing professional development head teacher group discuss issue concern child family staff develop action search project study concern apply research practice concern focus",
          "group describe relation- ship playmate mixed group",
          "mixed room compare room recipient prosocial hostile behavior find redact",
          "redact problem behavior display child negatively affect teacher child relationship place extra burden stress teacher stress evoke negative affective behavioral cognitive response teacher child redacted redact undermine teacher child interaction quality introduce burnout cascade response teacher child behavior teacher response behavior continue worsen time teacher child",
          "group wide range redacted redacted describe play grouping school child redact find old student serve role model show responsibility behavior role model interaction old adolescent school child zone proximal development accord redacted mixed grouping allow old child occasion practice nurture leading old child mature one interaction bene practice nurturance leadership demonstrate kindness compassion child young",
          "young child potentially harmful old child begin explore possibility study consider question classroom average peer skill account anticipate inter- action classroom composition child group effect peer likely complex possibility child close peer play particularly important role child development present analy- step well understand role classroom composition peer skill variable jointly consider",
          "central argument favor restrict range preschool classroom concern desire provide child optimal degree challenge utility specialization meet goal criticism levy mixed classroom favor restrict pre- school grouping concern development appropriate curriculum staff training specifically teacher training curriculum uniquely focused developmentally appropriate restricted range child quality classroom climate high room facilitate mature form play redact redact redact redact researcher find evidence contrary suggestive complex effect highlight example redact observe social nonsocial dramatic play preschooler attend same- relative mixed classroom social constructive nonsocial manipulative play see mixed- classroom redact maintain dramatic play complex form play relative manipulative play suggest classroom facilitate sophisticated play behavior redacted kaplan report find great incidence interactive mature form play mixed preschool classroom relative classroom",
          "preschool head start problem behavior teacher child interaction quality mixed classroom",
          "present work concerned learning science child early-",
          "light expansion preschool education redact particularly form state fund pre- kindergarten program braid blend funding early childhood education great deal heterogen- eity age child serve program classroom redact redact program serve early childhood classroom serve child age span e.g.",
          "unfortunately majority study conduct laboratory set- ting child observe dyad triad tell little child interaction classroom setting nonetheless indicate mixed interaction different teraction important way redact",
          "mixed grouping redacted uence young child social development prosocial behavior gray redact redact redact old child mixed classroom setting learn patience tolerance role model young child young child play complex way behave maturely redact redact redact",
          "research single case study redact redacted public elementary school",
          "examine happen head start happen child spend mixed- classroom type empirical analysis important plication policy practice majority child attend head start remain program redact fact empirical inquiry mixed education point potential reason child experience preschool especially head start great gain year second redact redact redact redact redact accordingly research objective assess academic implication mixed classroom",
          "young child dramatic play negative interaction young chil- dren tendency old child onlooker",
          "redact adolescent challenge overwhelm young child child modi rule game goal game challenge",
          "attend multigrade classroom demonstrate",
          "mixed grouping social behavior child longitudinal prospective study extend previous research systematically observe behavior context previously quainte play group randomly assign child group includ- study design determine social behavior young child influence composition group",
          "behavior peer mixed setting unlike previous study redact par- redact focus child rate dis- pense receive positive negative behavior form play engage objective pro- vide descriptive information social participation preschooler kindergartner school ager experimental class- room base finding previous search ungraded classroom hunt",
          "ate conflict disruption classroom redact early study compare incidence peer conflict different group indicate frequent peer conflict child generate resolution occur old group redact redact redact redact redact redact redact hand deal multi- group create challenge teacher try sensitive responsive individual need redact redact study show qual- emotional instructional support lead child dis- play task behavior lack emotional security experience redact lack responsiv- teacher lead child display disruptive havior draw teacher attention redact redact booren accordingly present study expect classroom old peer associate negative engagement classroom high proportion young peer",
          "class teacher implement inquiry base science activity",
          "mixed classroom instance young child mixed- classroom tend involve great number negative interaction attribute potential frus- tration old child result interaction ture young child furthermore redacted redacted find old child mixed classroom likely onlooker detach social interaction similarly goldman find solitary play participation teacher direct activity old child mixed classroom redacted redacted speculate teacher mixed classroom difficult time pro- vide sufficient variety activity suitable keep chil- dren varied ability interested involve proponent mixed classroom focus benefit young child potential cost old child classroom overlook study mixed- elementary school classroom child redact redacted confirm old stu- dent parent rate quality academic multiage classroom positively single class- room despite fail report benefit find old ought special attention help able student see benefit multiage classroom observational investigation play behavior different classroom redact redact redacted monitor family childcare home find frequency interaction old peer associate complex cognitive play interaction young peer associate complex social cognitive play low receptive language score experiment redact compare mixed- versus match competence peer work dyad result experiment suggest regression thinking likely consequence mixed grouping improvement result suggest regard cognitive outcome old child mixed- group suffer furthermore support hypothesis find redact redact study longi- tudinally preschool transition single class- room separate mixed classroom combine study statistical interaction find child classroom composition predict task focus classroom well change mixed classroom observe focused goal direct child age observe demonstrate significantly overt positive affect e.g. smile laughter neutral affect single classroom compare mix aged classroom meta analysis conduct redacted conclude academic social difference elementary school child attend mixed classroom similarly blasco report difference term complex mastery play same- versus mixed classroom observation focus typically develop preschool child benefit attribute mixed classroom port specific child developmental disability",
          "study investigate extent social behavior",
          "presently great deal variability composition preschool classroom",
          "composition effect number study empha- size role child incoming skill level potential moderator classroom effect means disentangle different way classroom com- positional factor shape child early learning related discussion redact redact redact redacted child skill school entry particularly important try understand implication classroom composition child skill behavior shape way child interact peer teacher turn implication way classroom impact child context mixed aged classroom particular importance child language literacy skill enable communicate peer teacher executive functioning allow child manage behavior emotion redacted redacted redacted redacted support point number study find lower- skilled child learn interaction old skilled peer high skilled child harm consistently benefit interaction classmate redact redacted",
          "present study conduct redacted involved student low level education primary primary redacted educational system pre- primary primary school operate separately different timeta- ble composition class different primary class multi usually attend average child age level grouping kindergartener p[redacted kindergartener redact",
          "present study design explore effect same-",
          "study explore link classroom level problem behavior teacher child interaction quality head start preschool classroom moderate role class­ room composition e.g. versus examine dataset child 1114 child classroom level problem behavior operationalize teacher report child problem behavior result indicate classroom level problem behavior specifically oppositional aggressive internalize behavior associate low teacher child interaction quality i.e. emotional support classroom organization instructional support contrast classroom- level hyperactivity negatively relate classroom instructional support moderation result indicate high level classroom level activity relate low level teacher child interaction quality classroom result study implication practice policy",
          "redacted 1996 recent position statement position regard composition preschool classroom recommendation mixed classroom extend bredekamp retract",
          "tion mixed education child academic achievement experience continuity and/or change classroom composi- tion head start program word happen child program transition classroom classmate largely year classroom largely redacted erent peer alternatively happen child enrol classroom largely redacted erent peer school year take multi year perspective child classroom experience ground developmental theory redact allow nuanced understanding redacted erent way classroom dynamic shape child academic success",
          "redacted 1978 theory optimal platform examine multiage grouping unstructured play naturally occur interaction child redacted age discuss zone proximal development dis- tance actual development level determine independent problem solving level potential development determine problem solve adult guidance collaboration capable peer accord redacted theory competent person expert provide competent person novice support guidance achieve task novice able achieve help old child mixed grouping recess support young child climb monkey bar play game soccer shoot basketball redacted redacted contend concept need expand adult experienced peer include interaction social context note multi group old child function- play mentor common feature culture childhood redacted country kind interaction common play construct child interaction people mixed group old child serve natural play mentor young one",
          "national organization evidence type classroom largely inconclusive look child early academic socioemotional development early childhood scholar document positive impact redact redact redact redacted redact redact redact redact redact redact redact redact document null negative association redact redact green bulotsky- shearer redact redact hightower redact redacted study academic bene mixed multi grade classroom serve child ele- mentary grade largely ambiguous study document academic ect positive negative statis- tically indistinguishable redact redact redact redact redact redact redact redact educational spectrum empirical support mixed education largely inconclusive",
          "datum faces cohort fol-",
          "arrangement example group well prepare child school setting invariably composition old child able engage extended com- plex activity interrupt young child addition teacher find setting easy plan prepare activity child diverse developmental level conversely mixed setting provide opportunity young child learn observ- competent old peer old child likely learn practice help behavior mixed setting furthermore argue group prepare child success school mixed- group relevant life outside school",
          "redact redact assistant professor child development family redacted redact teach early childhood education course support teacher inquiry preservice practice teacher teach direct program serve child multiage inclusive setting",
          "student move primary school primary class second study compose entirely group child attend science activity additionally low primary child involve study previously attend",
          "programming potentially crucial mechanism ensure redacted expansion meet desire goal enhance child development decision directly affect classroom composition program respect available program feature redacted redact programming",
          "redacted ability gender special need redacted view play cultural historical lens mean play typically emerge social inter- action peer mixed unstructured play grouping old child operate young child zone proximal development olding occur mixed play support young child level make game enjoyable old child provide help young child want need redact play lead developmental accom- plishment young old child interact social environment play",
          "median year",
          "research finding purpose exploratory study examine relationship classroom composition preschooler vocabulary gain examine relation moderate classroom quality study chil- dren classroom represent subset child enrol classroom result show significant cross level interaction classroom composition child suggest positive effect great variance classroom composition young old child interaction behavior management dimension classroom quality classroom composition significant indicate wide distribution classroom composition positively relate child vocabulary gain class- room characterize well behavior management redacted policy finding underscore importance child social interaction knowledgeable conversational partner pro- mote vocabulary development signify need help teacher learn manage chil- dren behavior provide classroom optimal child learning",
          "eligible teacher consent participate study final analytical sample consist teacher spread",
          "advantage mixed free play elementary school perception student teacher parent",
          "formance science young child class participate small mixed group effort factor redacted uence proportion old child group present study allow quantify role composition small science learn group nding useful decid- group child class facilitate young one learn science",
          "suggest people spend time influence behave",
          "tance actual developmental level determine indepen- dent problem solve level potential development determine problem solve adult guidance collaboration capable peer note definition specify interaction expert adult capable child help nov- ice able child",
          "child skill malleable redact redact redact suwalsky kindergarten particular",
          "school current study address gap literature datum redact",
          "abstract theorist researcher conflicting opinion finding role mixed classroom preschool education accord redacted interaction peer preferable child close likely learn similar way redacted believe interaction child different age provide optimal context development present study aim assess mixed classroom status affect quality peer interaction teacher child interaction child behavior preschool classroom datum teacher place mix three- classroom serve child socio economic status urban preschool analyze general linear models result show mixed classroom teacher report low level conflict peer interaction 9.92 .0001 low level negative teacher child interaction 6.13 .002 marginally low level challenge behavior classroom 1,302 3.41 result study inform theory practice role mixed classroom preschool education prove valuable development implementation preschool program especially serve low- income child",
          "young old child nition peer skill likely vary widely mixed class- room classroom",
          "redacted redacted]ren receive early childhood education redacted redacted program school redacted summary site redacted learning network redacted site participate redacted implementation study child evaluate datum available large sample child multi- classroom datum explore study hypothesis redacted moderate classroom composition relate child outcome young child show high level skill mixed classroom old child show high level skill mixed",
          "child need cultivate diverse skill point redact",
          "classroom redact sample include furthermore sample include vast majority study review come affluent middle class suburban community perspective triage level public policy argument focus attention needy underserved population urban sample low socioeconomic standing typically ignore literature additional limitation extant literature researcher typically focus limited range outcome mask rich ambiguous phenomenon undertake investigation question preschool classroom composition scale large previously conduct child classroom sample include preschool classroom administrative umbrella public school district sized city approximate popula- tion redacted 212,000 include outcome research well- validate measure aspect development cognitive social motor control baseline level enter classroom furthermore assess control gen- eral classroom quality result research offer fresh rich insight question concern consequence preschool classroom composition extend easily urban population",
          "assign dyad redact redact redacted find social activity old child low cross dyad dyad contrast social activity young child frequent cross dyad",
          "redacted longitudinal ethnographic study document recess culture",
          "dence mixed classroom currently wide- spread determine mixed classroom head start classroom redact professional organization redact support mixed classroom belief environment well promote development preschool redacted wide- spread support mixed classroom make important",
          "ization limited number study cross peer interaction naturalistic set- ting seek examine child",
          "scope study datum available",
          "research conduct limit respect laboratory",
          "achievement science young child class student work small multi group redacted uence number old child group context study education study part involve class attend primary child age second include primary class attend student age addition primary class student involve inquiry base science activity source datum lesson recording child assessment datum source separately analyze nding plot",
          "skill level peer factor likely con-",
          "kindergarten class 11,000 study examine",
          "proponent mixed preschool classroom typically focus specific benefit relevant young child grouping example note redacted speak optimal challenge inherent class- room context include child old mature similarly social learning theorist maintain",
          "redacted preschooler multiage grouping",
          "result regression propensity score analysis",
          "peer interaction redacted preschool classroom redact redact recently",
          "regardless multigrade classroom practice pedagogical logistical reason evidence",
          "matter differently good friend",
          "redacted redact social learning redact scholar argue multigrade class-",
          "perspective redact interact peer close preferable child close likely closely match term knowledge skill power result child setting able engage resolve cognitive social conflict play variety role resolution contrast redacted argue interac- tion old competent child provide optimal context cognitive behavioral development redact interestingly relatively little empirical con- sensus emerge despite lack consensus redacted give mixed- classroom endorsement line researcher field e.g. redact redact hartman redact explore extant liter- ature relate preschool classroom composition closely",
          "redact start program base work redacted expect child enrol class- room great share young classmate redacted start demonstrate small gain area literacy math",
          "long redacted educational system little 2001 redact redact early",
          "group child different age preschool classroom i.e. mixed widespread evidence support practice mixed factor play role relation classroom composition child outcome peer skill study sample 6,338 preschooler age examine redacted uence classroom composition peer skill child behavioral language outcome result support grow literature indicate preschooler skill high peer skill high difference relate classroom composition find nding support view peer skill play important role preschool child outcome",
          "heorist researcher mix opinion finding role mixed- classroom preschool education accord redact interaction peer preferable child likely",
          "elementary school year classroom serve child country redact",
          "fund preschool program southeastern redacted implication child academic socio emotional development take study represent rigor- assessment composition general prek classroom provide inconclusive evidence implication have different classmate",
          "impact type classroom environment child development question",
          "redacted group study longitudinally natural experiment capitalize preschool transition redacted separate classroom redacted combine classroom contrast previous research examine redact redacted grouping typically lack appropriate comparison group present study essentially able hold teacher curriculum location teaching philosophy participant population constant total naturalistic time sample classroom observation child attend class conduct course child goal direct activity sustain attention social affiliation inappropriate behavior affect reliably record checklist instrument significant difference behavior redacted classroom typically eliminate context redacted classroom redacted class way like redacted classroom redacted class behave like redacted classroom social behavioral ecology redacted preschool classroom change significantly time child familiar social affiliation advantage redact grouping find i.e. gender desegregation wear time progress effect redact group child social behavioral development appear complicated developmental",
          "redacted preschoolers school readiness redacted teacher qualification",
          "development preschool child low socioeconomic status background order mitigate document achievement area vocabulary e.g. redact redact redacted redact redacted instance recent research focus role young child peer play facil- itating vocabulary development e.g. redact redact redact redact investigation peer effect preschool classroom language skill child classmate significant unique predictor language growth effect attributable instructional quality redacted specifi- cally high peer language skill positively relate child language outcome prekindergarten indicate child benefit classroom aggregate contain old cognitively advanced child particularly true child low language skill finding suggest classroom composition important consideration understand factor influence child vocabulary development early education setting provide information peer characteristic classroom instance child vocabulary growth facilitate interaction peer important young child e.g. opportunity interact old preschooler occur mixed classroom serve",
          "early learn development redact redact redact stuhlman redact redacted][redacted redact burchinal date focus overall structural process quality classroom e.g. class ecers early redact neitzel redact redact redacted hamre tend weak moderate association chil- redact skill gain burchinal pattern weak moderate association surprising individ- chil[redacted experience classroom differently degree chil[redacted benefit high quality classroom drive engage classroom setting redact support assertion emerge body research suggest chil[redacted individual experience include type teacher instruction inter- action teacher vary greatly chil[redacted classroom redacted redact piasta redact o’connell redacted example redacted find small group literacy instruction observe individual chil[redacted grade classroom hour block range minute minute variance chil[redacted individual classroom experience especially large preschool give preschooler spend significant time free play redact redact redact redact redact example redact redact redacted redacted find 7%–23 variance preschooler classroom experience attributable difference chil[redacted compara- variance classroom level i.e. 3%–22 present study move average classroom experi- ence focus chil[redacted individualized experience class- room process quality engagement classroom",
          "redact rise number child attend kindergarten couple",
          "extent relation fall baseline classroom level problem behavior spring post teacher child",
          "particular number aspect teach",
          "tion possible difference same- mixed grouping redact redact redact redacted study task performance same- mixed triad first- grader find conversation triad redacted redacted suggest aggression likely group nurture behavior commonly observe mixed group",
          "meaningful social interaction necessary prerequisite researcher begin examine influence heterogeneity group social behavior young child redact redact redact redact redact hartup",
          "classroom composition peer skill relate acquisition language behavioral skill child attend redact enhanced quality head start program",
          "program participate environment homelike feature",
          "quality strongly associate child gain language literacy social development compare numerous indicator structural quality redact process quality capture experiential aspect preschool include instruction child receive supportiveness teacher modify association composition child learn- development specifically high quality teacher- child interaction indicative classroom effectively meet need young child dif- ferent age e.g. scaffolding individual time low quality classroom indicative teacher struggle high quality classroom alter child classroom experience mixed classroom interaction teacher peer prior study suggest implication child school success redact redact redact redact redact kaderavek redact redact redact",
          "redact example parent caregiver read story old brother sister instigate school play model read guide peer provide help make sign lemon- stand child engage everyday activity people learn literacy redacted argue process natural literacy development hinge experience child reading write activity mediate adult old sibling event child everyday life",
          "redact redact plausible teacher perceive behavioral challenge react differently mixed classroom versus classroom serve instance mixed classroom child exhibit internalize behavior cry parent leave classroom teacher perceive behavior developmentally appropriate warmly comfort child associate high quality classroom conversely classroom level problem behavior classroom relate low teacher child interaction quality teacher oppositional aggressive hyperactivity internalize behavior inap­ propriate word expectation child mixed classroom buffer preschool teacher difficulty handle behavioral challenging classroom study knowledge explore hypothesis",
          "behavior e.g. redact redact present study examine teacher report problem behavior oppositional aggressive hyperactivity internalize behavior child oppositional aggres­ sive behavior conceptualize component externalize behavior characterize overt hostility conduct problem oppositional defiance behavior redact extant research show child exhibit oppositional aggressive behavior likely engage successfully classroom activity redact redact redacted peractive behavior impulsivity inattention frequently operationalize dimension externalize behavior oppositional aggressive preschool e.g. redacted redact research suggest oppositional aggressive hyperactive behavior correlate distinct dimension problem behavior different implication child academic social functioning redact internalize behavior extreme shyness social withdrawal anxiety describe direct self redact child exhibit inter­ nalizing behavior unable form strong peer relationship likely engage isolate behavior social withdrawal e.g. redact",
          "literature review reveal research gap study examine peer interaction redacted redact preschool classroom redact young child sibling experience peer interaction home second study reveal difference similarity peer interaction redacted redact classroom especially redacted preschooler give preschool implement redact classroom policy redact urgently need conduct classroom observational study compare redacted redacted classroom peer interaction pattern generate empirical evidence showcase nuanced difference redacted redacted classroom impact peer interaction study dedicate address follow question videotape observation",
          "incermediate degree teacher regulation 7ompare context iftlich little great deal external structure pracent young classmate redacted].,c1",
          "dren mixed room social room clear",
          "science activity primary education primary school pre- viously involve flexible zone activities",
          "view binary variable classroom label mixed well redacted pol- practice question classroom composition study binary indicator classroom composition compare classroom mixed classroom",
          "school district locate redact redacted follow redacted state department",
          "redact class activities redacted classroom environment redacted kindergarten education redacted redact mixed group",
          "endeavor central devel- opmental theory field early childhood educa- tion social learning cognitive theory child development suggest mechanism development occur interaction",
          "note theoretical assertion mixed- restrict grouping base assumption closely relate ability token ability base grouping expect influence developmental outcome similar base grouping mirror literature support efficacy mixed classroom researcher champion mixed ability grouping term benefit reap disadvantaged child low ability redact redact redact example redacted redacted find kin- dergarten grade classroom ability base grouping placement high ability group exert uni- formly positive effect student learning relate behavior reading achievement typically study implicitly sum cost high ability child mixed- ability grouping negligible exception e.g. redact report detrimental impact high ability child mixed ability grouping theme run study advocate mixed ability group- ing important focal goal ensure need student experience situation place risk disadvantageous academic development entirely different perspective researcher advocate expressly interest gifted tal- ente child researcher focus child high ability tend advocate restricted ability grouping high ability child opportunity interact peer similar ability e.g. redact summarize case literature focus relate grouping literature ability relate grouping mixed furthermore controversial aspect debate concern child mixed context old high ability",
          "redacted preschool classroom aged young child likely similar",
          "multigrade education philosophy define group child grade single classroom",
          "child spontaneous private speech kindergarten clossronm vary function contextual variable type activity immediate presence degree teacher give structure classroom composition child classroom mixed systematically observe regular kindergarten classroom time sample procedure result redact redact logistic regression analysis indicate young child private speech vary systematically accord immediate physical social context specifically child find self regulatory language engage goal direct task activity compare free play activity",
          "similar problem solve skill construct knowledge similar way redacted believe interaction child different age provide optimal context development old young child benefit process scaffold redacted result mixed finding study support benefit mixed- classroom redacted redact study support benefit classroom preschool education redact redact redacted 2008",
          "learn child negative classroom engagement mention classroom composition overlap average level language self regulation skill skill diversity classroom shape conflict child teacher peer gree behavioral dysregulation activity hand child different age display emotional regu- lation social skill skibbe associ-",
          "place versus cross situ- ation study limit investigation interaction",
          "occur child isolated dyad triad question remain way child influence peer vari- age interact member large ongoing group preschool class",
          "ture study redacted note represent national study mixed classroom redacted time head start attendee speci cally redacted document sizeable negative association mixed class- room newly enrol math language literacy learning find classroom composition mean- level association early academic success practically speak drawback mixed classroom rst- time head start attendee amount approximately month academic development attend class- room enrol equal number bene drawback mixed classroom chil- dren socioemotional development redacted",
          "benefit redacted grouping provide appear come cost especially old",
          "classroom alter quality teacher instructional practice teacher child interaction directly predict child engagement teacher redact ample teacher mixed classroom likely",
          "small cooperative group country level education",
          "follow exploratory hypothesis high level classroom oppositional aggressive behavior negatively relate emotional support classroom organization high level classroom hyperactivity negatively relate emotional support classroom organization high level classroom internalize behavior negatively relate emotional support important note hypothesis effect mean classroom problem behavior instructional support research question limited exist research posit exploratory hypothesis teacher- child interaction quality moderate classroom composition mixed classroom high classroom level problem behavior negative teacher child interaction quality relative classroom",
          "teacher child interaction quality critical driver child learning social emotional development",
          "social context old child perceive young child leader helper young child perceive old child need help instruction accord redact redact redacted 1991),\"these mutually reinforce perception create climate expect cooperation beneficial child",
          "document academic bene mixed grouping elementary",
          "importance competence social development researcher question relative merit versus mixed group respect child social behavior argue mixed group consistent human evolution context small hunter gatherer society redact group predominant complex indus- trialize society hartup note study chil- dren social development conduct environment redact hartup consequently knowledge social behavior development context specific",
          "current study design compare social play behavior",
          "classroom level hyperactivity teacher child interaction quality redact classroom level hyperactivity nega­ tively relate classroom management 0.15 0.04 instructional support 0.19 0.01 marginally related negative emotional support redact teacher report sensitive practice respond individual child hyperactive behavior classroom teacher increase sensitivity hyperactive behavior child great awareness hyperactivity symptom adhd teacher understand child able struggle control behavior classroom influence sensitivity teaching positive redact give mixed result hypothesize high rate classroom level hyperactivity negatively relate emotional support classroom organization",
          "study rely observation dyad child previously acquaint redacted redacted show acquaint tod- dler likely interact sustained fashion nonacquainte peer question raise research gener- alize typical care play group context consist child acquaint group study randomly assign child condition standardize observational environ- ment adult role example redact study group contain child mixed group contain child redacted study require child class designate range reduce likelihood difference setting study find include child redact redact definition mixed- vary widely study difference old young child redact great redact outcome assess vary widely study measure effect domain overall social behavior differenti- ate level social play pretend play task performance task orientation variability reflect diversity possible effect replication finding outcome domain essential",
          "redacted propose child mixed age group gain social skill process scaffolding competent individual support learning process competent social interaction modeling scaffolding old child opportunity develop confidence leadership skill young child learn social language skill competent peer researcher find support redact idea example redacted redacted find young child mixed classroom display complex language interaction old child compare child classroom similarly find young child display complex social dramatic play skill result interaction old child study find advantage old child mixed classroom example redacted find interact young child result old child display social behavior empathy likewise redacted find old child mixed classroom display leadership skill lastly research find mixed classroom old child opportunity develop mentorship skill redact",
          "redact redact redacted][redacted redact currently numerous effort local state federal level improve access redacted program young child enhance labor market participation parent redact improve child development cognitive noncognitive skill readiness formal schooling redact presently redact participate formal center base redacted redact number likely increase city state press expand access redact young child country redact universal participation redacted norm include redact redact redact near saturation child redacted average participation rate redacted]-operation redacted redact redact current study complete high",
          "number study investigate relation structural",
          "standing issue limit notable way study examine process national datum con- flicting evidence result prior study having generally small localize sample blasco redact redacted redacted second study redacted redacted provide need albeit con- flicte evidence potential outcome mixed- classroom income child rely teacher report child academic skill problematic report likely bias reflect teacher perception child ability relative classmate redacted redacted particularly con- cerne try tease apart achievement cohort child researcher usu- ally fail control classroom process selection factor limit ability draw firm conclusion class composition finally restrict classroom effective mixed classroom redacted feasible separately serve area country redact word mixed classroom create necessity additional scientific policy question remain answer threshold tipping point ratio young old student mixed classroom deleterious positive effect child",
          "versus classroom serve child broad range example head start program serve separate classroom head start program combine mixed classroom redact knowledge redact investigate interrelation composition teacher child interaction quality child skill find mixed classroom beneficial preschooler couple high- quality interaction addition prior study examine knowledge extent grouping class­ room mixed interact classroom level problem behavior contribute teacher child interaction quality",
          "study purpose connect con-",
          "outside school setting multiage outdoor setting place adventure",
          "child young one need help instruction regard intellectual bene note cognitive development study cognitive occur interact child different level understanding observe mixed group teacher likely identify difference individual child child",
          "study observe old child note unplanned observa-",
          "direct influence classroom composition vary base quality preschool classroom specifically negative association previously document high proportion classroom academic gain see class- room quality hypothesize benefit emerge mixed classroom classroom high quality provide opportunity high quality interaction old skilled peer regard teacher education experience expect negative association composition academic devel- opment reduce classroom edu- cated experienced teacher take study seek examine specific policy amenable characteristic mixed classroom result composition promotive child early learning development examine national sample preschooler able document spe- cific condition mixed classroom beneficial harmful development preschooler",
          "like extant literature classroom level aggression opposition mixed finding relationship",
          "early childhood education redacted program exist world serve important societal goal",
          "study conduct study yield mixed result redact redact redact major difference later study classroom composi- tion operationalize bin- variable study look classroom composition term proportion young child redact range old young child redact standard deviation child redact redact give classroom further- study include large sample participant majority income attend publicly fund program prekindergarten program head start center study account child ini- tial skill level outcome interest notable nonsigni result",
          "child classmate redact redact child active engagement child especially old skilled academically behaviorally facilitate cognitive socioemotional development time furthermore model suggest old child mixed classroom allow practice develop academic behavioral skill scaf- folding modeling behavior young child practical theoretical standpoint mixed classroom advantage chil- dren regardless redact redact redact",
          "classroom quality teacher experience teacher education moderator association composition preschooler academic gain behavioral develop- ment build work redacted colleague examine association family child experiences survey faces datum nationally representative sample redacted child classroom work redacted colleague find classroom high proportion experience few gain literacy math skill com- pare classroom few",
          "suggest grouping sig- nificant influence behavior preschool child study result concern heterogeneity grouping confound number variable child adult ratio curriculum model present study design specifically investigate influ- ence heterogeneity group social relationship child preschool group degree possible intent study apply systematic control parallel laboratory vestigation heterogeneity grouping field investigation social participa- tion child same- versus mixed group study present section compare social participa- tion child same- versus mixed",
          "consider examine classroom compo- sition peer language skill peer behavior problem particular find relate individual child outcome peer skill focus research mixed class- room date account",
          "reveal child attend multigrade class-",
          "redact redact redact redacted find mixed preschool program beneficial couple high quality teacher child interaction study vocabulary development preschool child classroom examine child class- room wide variance demonstrate large gain vocabulary association stron- young child classroom notably strong classroom high quality presumably child high quality classroom opportunity meaningful interaction teacher peer enhance experi- ence mixed environment quality classroom change effect composi- tion rarely examine context related work redact program reveal large degree variation impact generally function classroom instructional quality redact redact support general notion discuss previously",
          "support improve student learning motivation attitude blumen- redacted redact handle large class redact",
          "parent personal characteristic personality level education find affect",
          "son mixed classroom long history preschool initial support educational model come redacted theory posit child learn peer redact mixed classroom provide young child opportunity model behavior old peer exhibit provide old student opportunity scaffold teach young classmate redact redacted mixed classroom provide student great range interaction argue facilitate development wide range social skill include empathy self regulation redact recent study support notion mixed classroom beneficial old child redacted redacted document negative asso- ciation mixed classroom learning old student classroom additional challenge teacher encounter work child great diversity example teach",
          "grader assign triad vary composition ana- lyze result term contribution individual member triad simple block building task find participation grader varied cording composition group grader singleton status grader grader associate high level performance grader little difference per- formance type triad",
          "classroom context provide",
          "resource teacher peer task redact redact redact luck- redact",
          "mixed socialization e.g. redacted feld- redact redact redact redact",
          "child language behavioral skill redacted uence peer skill classroom composition e.g. redacted justice redact redact importance child early language behavioral skill later school success impor- tant examine peer skill help explain mixed classroom link poor outcome old chil- dren well outcome young child",
          "redact redact redact redact hightower redacted find young child bene mixed classroom environment old child redacted discover child mixed class score high child class and-4 trend reverse old child redacted study sustained attention social liation expression and-4- finding suggest well mixed class- room time focused task orient child age demonstrate signi cantly positive ect laughter smile mixed classroom redacted longitudinal study investigate preschool composition preschool child classroom speci bene valid reliable early childhood assessment i.e. redact redacted mately apart nding contradict advocate mixed research redact redact redacted burriss wide range child classroom negatively relate development great variance classroom developmental composition strong child old developmental redacted model claim variation ability ben- cial old child redacted",
          "associate later read difficulty redact redact redact concern researcher practitioner policymaker young child rear poverty give document early lag vocabulary development redact typically persist progress elementary high school redact",
          "base issue outline present study investigate overall per-",
          "grow recognition early childhood critical develop-",
          "love work toddler try prevent split- second action result",
          "base redacted skill promotion cares redacted test social- emotional program implement fall spring sample include head start grantee state cohort school year include northeastern grantee cohort school year comprise grantee include redact redact redacted]/plain head start grantee center participate average classroom center range participate eligible classroom classroom special education center include third classroom morning afternoon mixed classroom",
          "composition beneficial harmful academic achievement composition associate change social- behavior development",
          "age preschool classroom instance recent study examine child learn- mixed- classroom redact redact redacted assert classroom allow teacher target specific group curricu- allow focus developmentally appropriate group lead well classroom quality researcher show preschooler close closely resemble term skill knowledge develop- ment addition contrary redacted redact assertion old child nurture young child mixed classroom redacted redact find evidence old child engage nurturance mentoring mixed group compare group general somewhat unclear preschool child benefit mixed- versus classroom advantage advantage extend old young child setting",
          "common model education preschool program country efficacy respect facilitate child school readiness debate limited date conflict empirical support redact redact recent national analy- head start classroom find sizeable negative asso- ciation mixed education academic learning redacted surprisingly know little classroom teacher charac- teristic modify influence composition study focus feature preschool program central discourse early childhood education potential moderator classroom quality teacher education experience",
          "give conflict empirical evidence long standing model single grade education multigrade class-",
          "classroom school success mechanism",
          "early childhood education programming expand globe increase need understand feature program influence child development composition child classroom feature study feature theoretical empirical evidence suggest child development influence range classmate study examine relation classroom variability child vocabulary development 2,743 child age year enrol early childhood education setting redact finding indicate significant nonlinear relationship range child classroom child vocabulary development classroom maximum range associate great gain vocabulary growth result direction policy effort focus expansion early childhood education programming",
          "second social variable choose index leadership",
          "grade classroom exhibit few gain early learning development teacher provide child",
          "emotion young peer measure child young peer direct internal state language talk young peer feeling want abili- tie perspective take ability redact",
          "head start national publically fund preschool program design redacted child redacted opportunity develop physically socially emotionally promote school readiness redacted head start program strive poor child social educational opportunity successful learner ready school head start program adhere series national performance standard require curricula developmentally appropriate encourage social interaction classroom promote child readiness multiple domain redacted redacted head start follow guideline sponsor redact naeyc encourage mixed classroom study empirically",
          "mix segregate find mixed aged pair engage complex play finding demonstrate play advanced level pair draw toddler play provide appropriate prop tell prop young child engage cooperative social pretend play capability peer redacted find and-4- mixed preschool engage parallel play com- pare associative cooperative form play relative child classroom redacted report teacher research project interaction toddler preschooler small childcare center observation reveal aggressive behavior hit kicking spit take object demanding object reduce multiage group compare behavior group child share object imitate language high rate multiage group compare group",
          "child group grade second grade primary school teaching topic relate physics outer space start systemati- cally fourth grade framework call flexible zone activities redacted provide opportunity innovative peda- gogical didactical approach e.g. class child different grade allow introduction concept phenomena complement introduce formal program enhance basic skill formal activity pro- pose curriculum expect develop relate experience child commonly encounter everyday life teacher identify topic consider interesting important appropriate child speci age include tight timetable school program word select objective design activity choose topic content instruction material accordingly",
          "young child influence composition group laboratory study observe dyad child group accord age redacted example observe same- mixed dyad young dyad exhibit low positive social interaction old dyad display intermedi- level observe mixed dyad similar pattern observe mean length utterance task orientation differ group redacted redacted study dyad pair partner toddler engage social pretend play pair old child redacted observe dyad toddler find young child inter- active positive pair old child mate initiate produce complex initiation imitate old partner peer old child hand few initiation mixed dyad initiate likely long complex peer",
          "datum 1,407 preschooler examine implication classroom compos- ition early learning development classroom attendance result suggest great number young classmate detract language development literacy performance inhibitory control hav- old peer consistently facilitate learn domain enter school inhibitory control print knowledge demonstrate great gain domain attend classroom old classmate class- room young peer take result suggest classroom composition prekindergarten program serve little consequence enter school low skill level domain case have old peer benefit",
          "child develop skill interact peer mature child interact child choose spend time solitary cognitive",
          "redact applied developmental psychology 2002 305–330",
          "time preschool behavioral difficulty reduce opportunity child engage successfully classroom activity",
          "study find bene child longitudinal study",
          "pronounce mixed classroom classroom serve draw developmental theory hypothesize developmentally normative teacher expectation developmentally normative different normative redact prior study demonstrate teacher likely feel frustrated angry child feel like child control behavior",
          "composition aforementioned dimension child- early learning vary function school entry skill",
          "major intent study discover different type play prevalent",
          "level knowledge competency relational power provide unique environment child resolve cognitive conflict peer stimulate social cognitive moral development redact redact redact contrast redacted preschool classroom increase hierarchical structure level complexity group interaction redacted classroom relatively equal comparable young child level peer interaction redacted classroom provide opportunity old child practice develop prosocial self regulatory leadership skill young child gain scaffold growth receive help old child redact compare redacted classroom young child redacted classroom play style prosocial behavior tend depend peer teacher routine redact redact redacted redacted preschool classroom different benefit young child early child­ hood teacher need capitalize benefit peer interaction different preschool classroom facilitate young child early learning development",
          "redact redacted redact redacted redacted investigation large multisite randomize control trial differ- type professional development coaching course- work aim improve quality teacher interaction student area instructional emotional support classroom organization professional development intervention deliver phase follow phase datum collection child participate phase give child participate purpose study datum teacher child partici- pant second phase",
          "child redacted redacted classroom differ peer interaction pattern term",
          "test role mixed classroom redacted start program study focus academic skill redact redact redacted 2013 redacted redact start classroom adhere national performance standard guide curriculum curricular standard mixed classroom program redacted start classroom present ideal setting compare effect classroom composition",
          "preschool important assess group set mixed classroom good promote positive interaction similarly importance address prevent problem behavior preschool study group setting likely result low level problem behavior consider highly informative",
          "child school performance include acquisition emergent literacy skill e.g. redacted justice redact preliminary pattern identify previous study suggest old child classroom high proportion young peer gain emergent literacy skill correspond academic development redacted mechanism link classroom composition child learning unclear investigate underlie mechanism essential give prevalence mixed classroom variability classroom composition factor link classroom composition child learning inform intervention seek optimize child learn mixed setting",
          "teracte classroom similar mixed age sibling interact home environment research sibling study preschool child affective knowledge involve internal state language describe feeling want ability link perspec- tive take ability prosocial behavior redact old sibling home dem- onstrate understanding emotion moral prosocial skill redact",
          "room child early learning development depend quality classroom environment begin substantial evidence suggest classroom quality important feature early child- hood program keys redacted general classroom quality focus domain structural quality process quality current research suggest structural quality include factor leadership preschool teacher qualification child adult ratio necessary pro- duce optimal environment child learn develop redact",
          "multigrade model effective single grade model implement transition",
          "dler young pre- schooler three- old preschooler four- five- program adhere redacted indicator quality brede- redacted group size small ratio quali- fied teacher work",
          "goal present investigation examine",
          "dren engagement peer redacted study long show level child language literacy ability social emotional skill largely depend child skibbe redact redact redact child roll classroom high percentage old child likely interaction peer high lev- language skill great peer language resource redact turn contribute positive gagement peer addition old peer pro- vide young child opportunity learn derstand thought socially desirable strategy approach peer redact redact say previous study suggest lack aged classmate old child classroom associate few positive peer interaction redact likely positive engagement peer occur classroom old peer young peer",
          "result show effectiveness small group child mixed ability redact redacted redacted note term collaborative emphasize importance verbal communication student interaction small group work speci task redact redact redact redacted mention aim collaboration interaction build knowledge talk discussion collaboration introduce stu- dent language discipline study way knowledge acquisition",
          "gagement task illustrate early average skill child classroom shape teacher provision task instructional support redacted influence child maintain focus engage self direct learning redact redact maier provision developmentally appropriate task quality instructional support classroom likely fos- child engagement classroom task large range age classroom pose challenge teacher pro- vide individualized task instructional support redact example recent study redact redact redact redacted show teacher mixed classroom serv- large number young child provide few writing material book average addition mention interpersonal dynamic teacher peer result classroom composition ensure emotional security allow child well engage task redacted redact postulate child classroom old peer display positive engagement task compare child classroom young peer",
          "light exist literature current landscape preschool education redact study seek address question consider researcher policymaker alike effective offer preschool program constrain range child classroom e.g. span determine access allow great heterogeneity program open eligibility specifically address follow research question income child serve state- support prekindergarten program",
          "recent research show composition preschool classroom influence child early learning building prior research study examine association classroom composition child learn development vary base classroom quality teacher characteristic subset family child experiences survey faces nationally representative sample child attend redacted start 2,829 result reveal association composition child academic skill dependent classroom quality classroom quality predictive child skill mixed classroom teacher educa- tion experience moderate influence composition mixed classroom teach teacher high education associate decrease literacy gain old child",
          "room positively relate school outcome child well behavioral skill equip meet demand classroom environment interact successfully peer listen quietly teacher talk- class accordingly preschool behavioral skill find relate child adjust- ment kindergarten academic outcome bulot- shearer fantuzzo redact peer success redact",
          "function partially explain classroom level factor",
          "boy work ditch redact approach shovel ask",
          "continuous measure classroom composition",
          "express support cross interaction mixed grouping play perceive valuable help build friendship develop social skill old child role model young one suggest vygotsky 1978 theory child learn enhance development unstructured play",
          "preschool classroom normally aged redact mixed aged redact redacted preschool classroom young child vary age developmental level place follow specific combination model redact redacted classroom promote development self esteem self confidence old child provide opportunity care young child contrast young child empower identify zone proximal development engage activity cognitive level addition old child serve role model young child induce young child exhibit prosocial behavior future interaction young child redact redact redacted redacted preschool classroom help facilitate peer interaction enhance young child social personality development",
          "social participation examine experimental multiage program preschooler kindergartner school ager enrol peer group record open instruction period datum reveal mixed set preschooler show preference kindergartner preschooler school ager kindergartner school ager show preference mate mate datum discuss respect benefit mixed- socialization",
          "interaction quality decline redact second child problem behavior influence peer exhibit problem behavior i.e. contagion effect child problem behavior encourage behavior problem peer redact redacted",
          "heighten emphasis child early learning redact rorem need know",
          "different aspect classroom engagement mediate link",
          "fundamental development learning redact approximately income preschool child report exhibit moderate clinically significant emotional behavioral need redact redact potentially indicate redact start classroom serve child income background child classroom demonstrate problem behavior addition directly undermine child learning child problem behavior negatively associate overall teacher child interaction quality",
          "challenging content means accommodate wide range skill level result disengagement",
          "redact approach early childhood curriculum strongly support mixed-",
          "accord redacted vygotsky child",
          "preschool classroom composition redacted outcome",
          "redact redact redact redacted classroom effects activity type presence redact mixed grouping paper present redact redact redact report research technical speeches conference papers",
          "redact focus interaction child proximal classroom context propose child academic social- behavioral development shape feature preschool context indi- vidual characteristic specifically focus interaction contextual characteristic classroom age classmate observed quality classroom teacher define qualification importantly hypothesize influence inter- action vary child recognize person characteristic redact referent status peer effect research redact redact redact example positively influence presence old skilled peer regardless quality classroom need par- ticular contextual support demonstrate academic growth classroom young peer frame- work illuminate potential role child critical factor process composi- tion classroom factor influence early aca- demic development",
          "redacted redact risk preschoolers early",
          "socialization remain spect nature degree social teraction occur child het- erogeneous classroom obviously order child benefit group admixture",
          "similar peer interaction teacher child interaction particularly important",
          "scholar argue continuity child peer",
          "redacted examine form cial participation classroom hetero- geneous homogeneous group find child mixed class- room engage solitary play spend time parallel play teacher direct activity child class- room significant difference time spend type social play mixed classroom redacted john- find parallel play evi- dence cross play partner chronological mate study show social interaction mixed classroom common cross peer redact",
          "primary school start duration class compose",
          "redacted base theory idea child learn",
          "social interaction task behavior preschool child mixed",
          "focus gradually shift impact redact young child learning development foster exist literature collectively demonstrate redacted classroom enable peer support child facilitate early cognitive social development redact redact study explore unique impact redact child redact context unlike counterpart country young child redacted primarily child family experience peer interaction home redact redacted young child unique peer interaction pattern redacted preschool class­ room interact elder young child rare study fill research",
          "capture current measure quality particularly important mixed context redact example teacher ability differen- tiate instruction match student need important aspect child classroom experience teach- feel confident ability effec- tively redact redact importance differentiation magnify mixed- classroom child skill likely vari- able classroom accordingly hypothesize teacher education experience change child experience mixed preschool set- ting capture degree teacher comfortable specific practice effec- tive differentiation especially necessary con- text classroom diverse",
          "among older and more skilled children (Mason & Burns, 1996, Urberg & Kaplan, 1986).",
          "research findings study compare peer interaction pattern mixed- redacted preschool classroom videotape behavioral observation total child age mixed class class involve study total valid video obtain include video mixed redacted 10.09 girl classroom redacted 10.84 girl classroom result reveal significant effect frequency duration peer interaction old child have long interaction significant group difference duration peer interaction redacted have long duration redact significant gender preference child prefer interact gender peer redact classroom significantly positive interaction significantly neutral negative interaction redacted classroom redacted class­ room engage significantly dominate neutral interaction redacted one redacted policy finding implication early childhood teaching classroom organization classroom management",
          "researcher focus explore frequency feature factor",
          "cerne influence independent variable researcher begin investigate way interaction mate similar different interaction mate majority study involve laboratory experiment child observe dyad triad example redact redact redact har- compare behavior",
          "present investigation explore role",
          "lack congruence finding available research effect classroom composition child learning researcher consider classroom composition associate preschooler language skill indirectly examine chil- dren communicative interaction peer mixed- program example preschool adopt mixed classroom model researcher find classroom tend spend time interact child oppose spend time give choice compare difference peer interaction find",
          "intellectual development young child begin emphasize essential role play peer process development",
          "supportive manage high quality instructional classroom reduce individual child problem behavior e.g. redacted redact redact reverse relationship i.e. extent child problem behavior influence quality teacher child interaction quality research conceptualize role problem behavior classroom level teacher child interaction quality draw literature transactional model posit development consequence ongoing dynamic interaction child environment redact test bidirectional relationship problem behavior teacher child interaction quality underlying theory necessary understand pathway classroom level problem behavior contribute teacher child interaction quality",
          "serve compare",
          "grow exponentially redact constitute critical developmen-",
          "child commonly refer classroom composition redact give formal regulation preschool redact mixed classroom include child multiple group widely example accord national statistic child head start large publicly fund preschool program redact enrol mixed classroom serve redact national datum reveal roughly preschool classroom include publicly fund program difference old young child report difference great national survey redact finding underscore considerable enrollment preschooler mixed class­ room distribution child different group vary state program redact current study focus variation percentage child group indicator classroom composition",
          "line bioecological model redacted redacted consider specific proximal process prekindergarten classroom shape development young child nest bioecological framework",
          "videotape caregiver child interaction structured play episode rate train",
          "importance teacher child interaction quality child learning development study aim understand",
          "advantage mixed free play elementary school perception student teacher parent",
          "particularly important address context federally state fund program head start commonly mixed classroom program design promote devel- opment young child well accomplish goal program need evidence base",
          "e.g. enrol classroom old child type question",
          "place great value recess mixed grouping single case study inquiry rely multiple source evidence uncover phenomena real world situation week student kindergarten grade grow play club non- organization found redacted author free range kid raise safe redacted help family community bring unstruc- ture play school community speci cally grow play club before- school program student engage free play mixed group out- door tool play available jump rope ball cardboard box adult oversee activity stress child develop game negotiate peer interaction adult interference",
          "associate spring post teacher child interaction quality emotional support classroom organization instructional support",
          "social play skill observa-",
          "datum play social behavior child collect",
          "small multi group science learning science education role mixed grouping learn science small group",
          "redact grouping family grouping ungraded class practice place child apart group class redact redact redact redact unlike factory model grouping assume child vary development need way fully predict- able child learn old young mixed- aged classroom show effective old child opportunity leader teacher redact young child bene modeling old child redact teacher able provide erentiate developmentally appropriate curriculum range student redact redacted handful study redact redact redacted burriss speci cally explore bene mixed grouping play largely continue practice segregation classroom playground redact small number study examine multiage outdoor play beresin redact redact redacted feldman redact redact study speci cally examine grow play club",
          "cultural redact theory learning development perspective interact old competent peer developmentally beneficial child afford young child opportunity engage challenging task experience great cognitive growth child opportunity time afford old child setting opportunity scaffold young child provide benefit instance young child enrich learning observe emulate imitate behavior old child redact old child practice prosocial behavior redact redact leadership skill serve mentor young child provide support guid- ance redact short mixed classroom provide child opportunity form relation wide variety child compare counterpart classroom redacted redacted explicitly discuss positive advantage mixed infant toddler classroom argue classroom provide child family collaborative atmosphere researcher suggest mixed classroom help minimize competitive pressure term academic development make parent focused child individual development decrease competition peer classroom",
          "mixed classroom composition field early childhood development root social cognitive redact redact tierney redact social",
          "discuss plausible",
          "hartup 1976b redacted literature concern peer influ- ence large literature interaction mate overall observational laboratory study peer influence fail include difference independent variable hartup 1976a",
          "redacted child implication classroom com- support redact redact equivocal finding couple widespread prevalence type classroom publicly fund pre- kindergarten program redacted redact redact redact redact hightower suggest imperative document possible con- sequence student learning policy preschool eligibility enrollment research suggest potentially undermine overall effectiveness redact redacted present investigation address potential benefit drawback have dif[redacted peer prek classroom state serve dif[redacted chil- dren classroom roughly state serve public program redact redact spe- cifically",
          "literature effect mixed classroom preschool limited study focus academic skill redact redact redacted 2013 redacted addition mixed classroom promote movement like redacted organization like redact lack consensus mix classroom result benefit young child furthermore study child challenging behavior quality teacher child interaction take account despite central role process preschool classroom addition study restrict number classroom conduct organization study focus program target socio economic status redacted child moller lastly study carry new finding bring light research question present study attempt address literature assess experience large number preschool teacher multiple center serve redacted child",
          "overall cognitive achievement science young child class",
          "small group learning long history redact",
          "child redacted classroom demonstrate long duration frequency peer interaction counterpart redacted classroom",
          "average level peer skill mixed classroom likely somewhat high young child experience classroom low old child experience classroom young child high level peer skill experience mixed classroom likely positive direct indirect effect child outcome propose peer effect framework redact peer skill help explain appear mix",
          "grow recognition early childhood critical developmental period last influence lay groundwork expansion preschool education country redact redact recent national estimate suggest roughly respectively attend preschool great enrollment rate",
          "type solitary parallel interactive play",
          "abstract federal head start program design improve school readiness child income family serve classroom give developmental difference unknown educate classroom benefit group datum family child experiences survey cohort study peer effect framework examine association mixed classroom school readiness nationally representative sample newly enrol 1,644 1,185 head start program result reveal display few gain academic skill enrol classroom effect size correspond academic development contrast classroom composition consistently associate school readiness",
          "laborate child appear bene mixed grouping play context classroom toddler preschool school child empirical study suggest possible cost old child classroom gray extensive qualitative datum interaction adolescent age child demonstrate advantage mix direction",
          "study expressly focus classroom composition target elementary school population make difficult extend conclusion preschool classroom e.g. redact redacted redacted early childhood age period relatively rapid development impact difference classroom composition range likely magnify distinctly different preschool classroom relative find elementary school setting old child furthermore redact point extant research explore effect composition child peer interaction conduct laboratory quasi laboratory setting word exception extant literature lack empirical research preschool classroom composition conduct preschool classroom excep- tion redacted redact redact limit research conduct relatively small number classroom typically restrict single organization example redacted investigation track velopmental trajectory child redacted sample consist",
          "teacher child interaction quality important contributor child social academic development",
          "goal present study advance understanding relation classroom level problem behavior",
          "year education previous study redact science relate performance child age work small multi group inquiry base science activity document high overall learning achievement child participate activity",
          "ture classroom composition examine experi- ence child classroom limited range example work redacted redact provide limited contrast different child span class- room limited range child study partic- ipant generally young old child classroom light literature theoretical argument underpin peer effect child development generally e.g. redact redact complete assessment implica- tion composition child early learning likely necessary fact educational scholar argue have different peer classroom likely effective year grouping redact allow child",
          "study classroom composition note publicly fund program redact sample child urban preschool program northeastern redact find great heterogeneity classroom composition associate optimal school achievement nega- tive association heterogeneity child devel- opment strong old child classroom second recent nationally representative study classroom head start reveal dis- play few gain area early mathematic lan- guage literacy attend classroom great number redact effect size classroom correspond approxi- mately development study docu- mente consistent benefit have old classmate school performance young child classroom redact redact suggest- careful attention pay old child environment finally contrast aforemen- redacted study redact find regardless child",
          "learn modeling scaffolding redact contrast scholar posit child multi-",
          "group social participation observe class class mixed class social participation mixed class differ social participation class compare mate same- class mixed class spend time solitary play time parallel play teacher direct activity mixed class spend time parallel play mixed group appear major factor influence choice playmate result discuss term implication con- cerne developmental potential reside mixed grouping",
          "age meet diverse need child challeng- task teacher redact teacher education experience well prepare challenge expertise enable manage classroom effectively implement activity instruction beneficial child classroom example old research docu- mente positive negative association",
          "study look specifically child achievement time mixed- same-",
          "condition consist classroom classroom implement following incredible preschool paths tool redacted play business usual incredible program redact focus sup­ port child adaptive social behavior reduce problem behavior strengthen teacher classroom behavior management practice preschool paths program redact provide structured group lesson extension activity focus emotion identification social problem solving tools redacted play adaptation extended tools redact executive function intervention teacher restructure include pretend play block design enhance child self regulation executive function structured pretend play activ­ itie redact",
          "hand organize childcare redact",
          "redacted program create expand certain structural feature program directly affect policy create feature include instance teacher child ratio class size teacher credential example state sponsor support redacted program stipulate teacher child ratio maximum class size child provision programming teacher bachelor degree additional structural feature affect policy composition redacted classroom creation expansion policy stipulate range child participate subsidized programming instance redact long run redacted redact provide funding 10,000 state participate center base redacted redact redact drake indirect result policy stipulate participation child lead creation redact",
          "current investigation consider implica-",
          "observe play toddler preschooler randomly assign",
          "give mixed finding literature heavily rely theoretical framework prior study propose",
          "component equally important include emphasis play include mixed play child development public elementary school investigate perceive advantage mixed play perspective stakeholder speci cally teacher parent student qualitative quantitative datum investigate follow research ques- tion perception child teacher parent experience mixed- school redact",
          "childhood education redact redacted advocate redact group early education claim redacted classroom hold social cognitive advantage redacted classroom create rich diverse educational environment minimize normative pressure competition encourage prosocial behavior self regulation social responsibility increase child tolerance diversity decrease gender segregation redact redact redact redact redact redact redact redact redact redacted grouping wide range child competency expect place teacher see well able notice respond individual difference child provide diverse individually tailor experience case",
          "social process peer interaction teacher child interaction represent cornerstone early childhood education promote environment support process consider priority preschool educator classroom composition play important role child interact teacher interact child correspondingly behavioral outcome child classroom positive peer interaction play developmental role preschool predict positive perception school well adjustment kindergarten positive academic outcome elementary high school hand poor interaction peer preschool associate low academic performance emotional maladjustment redact redact redacted addition peer interaction especially important child income urban area experience challenge interaction show protective factor help child resilient face cumulative adversity redacted redacted 2003",
          "composition classroom affect child indirect mean effect teacher child interaction i.e. child teacher child transmission redact redact redact teacher classroom great heterogeneity e.g. face challenge include adjust instruction wide range skill level relative class- room uniform level e.g. upper low end distribu- tion impact child teacher address demand accordingly theory peer ecology classroom suggest composition vary effect child early school performance shape primary pathway preschool program impact child redact justice redacted redacted regardless pathway direct indirect important note present inves- tigation focus intersection child skill peer effect literature focus skill confound",
          "logistical constraint redact redact classroom help hinder",
          "eligible large study follow condition teach publicly fund preschool program majority student individualized education program start classroom instruction primarily deliver english information sampling redact teacher recruit randomly assign treatment control condition family classroom give recruitment packet chil- dren parent consent randomly select boy girl classroom direct assess- ment individualized education program speak english spanish sam- pling procedure priority give classroom child recruit and/or assess study",
          "content instruction material instruction approach develop speci cally primary early primary education topic physics outer space redact inquiry choose approach science activity consider learn meaningful support development appropriate understanding science e.g. redact redact activity hierarchically sequence order support construction meaning implementation begin end",
          "mixed classroom aspect child spend time include time spend play child engagement conversation redact redact redact redact redact redacted variation type activity teacher influence classroom attribute instructional time change com- position influence child development pre- school teacher education experience demonstrate link measure classroom quality early show modest association growth child learning development redact furthermore skill gain prior education experience provide specific boost teach- mixed classroom teacher specific strategy capture global quality measure enable promote development child classroom way assign role group work maximize potential learning opportunity chil- dren different age word teacher education experience well equip create positive developmentally appropriate mixed classroom educate experienced teacher",
          "grow recognition early childhood critical developmental period last influence expansion preschool education redacted redact continue expansion close attention pay dif- ferent way design characteristic pro- gram influence child school success feature commonplace program include redacted]—the nation large federally fund preschool program mixed class pro- gram serve child different age class- room roughly redacted classroom mixed redact redact",
          "expose young old classmate pro- gress accordingly com- prehensive assessment classroom composition involve wide range different classmate child",
          "increase standardization run counter child learn play estimate percent child enter grade school work job exist need crucial critical thinking skill well prepared future market redact critical thinking",
          "early redact redact pianta sideris redacted goal examine classroom feature modify association composition child learning development head start classroom",
          "positive social interaction find preschool class mixed",
          "tribute difference mixed classroom previous research classroom composition consider chronological",
          "redacted note mixed grouping especially early childhood setting",
          "overall classroom experience little know predict preschooler engagement developmental ecological per- spective possible driver classroom level com- position child classroom classroom composition impose different demand teacher provision instruction activity shape child interact peer play factor influence child interpersonal dynam- teacher peer physical interaction task study incorporate factor classroom- child level seek examine extent classroom composition associate classroom engagement child classroom engage- ment mediate association classroom composition language literacy growth take result work potential inform classroom config- uration optimization child classroom experience",
          "important gain nuanced understand- effect classroom composition child outcome directly relate pol- question mixed preschool classroom policy practice",
          "play group play group contain child contain child apart difference find overall pattern play measure redacted play code negative behavior occur infrequently setting young child tend exhibit negative interaction setting old child exhibit negative interaction mixed setting younger child mixed setting play old playmate expect rate old child mixed setting likely choose old child playmate result differ extent previous research familiarity child peer group common care experience prior study",
          "composition mention research relevant",
          "current study hypothesize",
          "young old female young room male female",
          "redacted mix group early childhood education setting support",
          "half year redacted]skips playground pull skirt high nounce underpant redacted look shake head reply toddler redact toddler wear diaper",
          "mixed group show effective classroom setting handful study explore mixed grouping play research case study redacted public elementary school grea recess mixed grouping school implement grow redact school week student kindergarten redacted grade child interview teacher interview parent survey examine perception mixed outdoor play provide redacted school generally",
          "peer ecology classmate largely absent recent evaluation classroom composition redact redact consider child",
          "redacted mixed chinese kindergarten classroom observation base redact",
          "follow nding importance child prefer teach chil-",
          "engage parallel play mixed room indication",
          "believe multi education offer context explore",
          "child behavior teacher child interaction quality unfold interact differently classroom serve old child",
          "burnout cascade theory teacher tend feel negative stress perceive aggression opposition behavior classroom lead anger frustration behavior hamper teaching ability redact follow contagion theory child exhibit aggression opposition classroom high level aggression/ opposition redact classroom level aggression opposition inhibit teacher ability provide consistent emotional support positive behavior management redacted reduce available instructional time redact contrary prior research redact find high level child aggression oppo­ sition behavior problem fall relate high classroom emotional climate fall emotional climate child- teacher- classroom level covariate mixed result suggest work need understand relationship classroom level aggression opposition teacher child interaction quality consider research suggest aggression opposition behavior relate negative behavior peer teacher posit exploratory hypothesis high level classroom aggression opposition behavior negatively relate emotional climate classroom organization",
          "dren to-6 year implement golden principle golden principle include mixed play family involvement meaningful lesson event redacted erentiate lesson young old child pair teacher child ques- tion integration vygotskian principle golden principle mixed- play enhance home school link result improvement child learn- social interaction teacher report improve social interaction child imply trust care respect p.142 mixed play home school family pedagogy result old child look young child child feeling cousin school family play group",
          "child care program come family redacted]as faculty staff student preschooler redact preschooler redact young peer redacted",
          "poor cognitive outcome child class- room peer high level behav- problem redact redact study relate child lan- guage skill classroom peer high language skill child peer high language skill redact redact justice mash- burn study measure peer skill redacted redacted create composite score peer ability level ecte cognitive skill prereading skill lan- guage skill basic skill classroom peer find child cognitive skill expressive lan- guage skill prereading skill high classroom high peer composite skill level measure noncognitive pre- school competency redacted colleague find individual child noncognitive competency high interact preschool peer high level noncognitive competency redact redact redact",
          "preschool teacher believe young child need access rich",
          "child associate increase physical size privilege status cause high low status determine grouping influence child social",
          "predict mixed classroom moderate relationship classroom level problem behavior teacher-",
          "redacted describe setting redacted primary school chil-",
          "mixed play work class multiracial public elementary school redacted recess follow lunch grade redacted focus lunch recess grade to-6 personal email communication redact redacted describe mixed child surveil- lance adult create story rhyme song game scotch wrestling basketball audio video tape student interview commentary social interaction document way child negotiate thing take turn space make friend mixed recess ethnically diverse elementary school child provide powerful space learn form friendship social network",
          "mixed grouping know multiage grouping heterogeneous grouping ver-",
          "literature type problem behavior typically examine include externalize behavior internalize",
          "room require continued attention inquiry especially necessary early elementary school year",
          "adult feel anxious child safety mixed play environment play safety forum redact true teacher work mixed aged class button redact redact example redacted find redacted redacted daycare center report positive social learning outcome mix age empathy caring risk taking resilience pre- ferre segregate child preschool child safety pre- caution button redacted find similar concern study redacted practitioner attitude risk deliver mixed outdoor play ses- sion redacted]s child center adult facilitate play base access woodland button redact redacted initially concerned risky play woodland deliver session multiage child able justify developmental emotional bene child work learn outdoors mixed grouping",
          "study look play behavior function",
          "redact classroom refer classroom enroll chil- dren particular range typically enroll classroom characterize mixed classroom child age span goodlad anderson redact serve set chil- dren young year e.g. redact child group classroom highly variable unclear class- room composition impact child growth particularly area vocabulary development primary study determine extent classroom composition operationalize base variation child chronological associate child vocabulary development address examine vocabulary gain child enrol preschool classroom represent subset child enrol classroom give information age child enrol classroom study represent exploratory examination classroom composition influence child language growth",
          "redacted kindergarten classroom child academic achievement executive function socioemotional development",
          "education redacted framework social emotional learning redact redacted frame- work establish maintain safe supportive school environment order student develop social emotional competency superintendent estab- lishe standard school district consist component physical growth emotional growth academic growth redacted peas believe",
          "laboratory study suggest old child social influence young child",
          "dren old redact old child effective model young child redact reciprocal imitation charac- teristic child interaction old child young child redact redact",
          "composition school year ground long stand educational developmental model overarching framework work base redact bioecological theory emphasize importance contextual redacted uence child early learning development redact morris line theory current investigation consider speci proximal process redact start classroom composition teacher continuity redacted uence child academic achievement redact social learning theory redact theory cognitive development shape developmental framework study contend primary mechanism development occur early childhood program interaction child classmate younger child observe old skilled child classroom mimic behavior action old child redact young child turn cement skill knowledge take transactional process peer constitute mechanism early childhood program impact child academic social behavioral development e.g. redact redact redact redact kaderavek redact redact redact redact redact",
          "young old",
          "teacher child interaction quality vary depend type classroom level problem behavior display posit",
          "central role peer interactions redacted children behavior preschool",
          "child redacted classroom outperform redacted classroom peer interaction",
          "accord redacted development occur rapidly child col-",
          "case depend enrollment class compose chil- dren group kindergartener kinder- gartener primary teacher require implement redact propose kind activity child free activity choose carry child direct involvement teacher teacher organize activity plan organize teacher accord objective teacher organize activity topic relate phenomena child encounter life topic arise child interest question child inter- est bring issue teacher consider important appropriate pre- primary child design activity meet select objective choose topic content instruction material accordingly domain topic activity draw include physics outer space physics curriculum pro- pose topic relate concept weight sound light motion temperature magnetism basic characteristic material property matter redacted oating/ sink melting dissolve water space relate topic include redacted sphericity motion phenomenon night choice classroom organiz- ation instructional approach topic teacher organize activity leave teacher",
          "redact expansion pre- school stem fact program facilitate child school preparedness find narrow developmental disparity life course redact redact redact promise preschool couple continued expansion grow interest understand driver program impact child redact aspect researcher policymaker compos- ition large program regulate access notwithstanding regulation preschool expand head start state prekindergarten prek fund serve child common classroom i.e. blend braiding local state federal fund increase number serve classroom make class- room enroll different child prevalent experience preschooler country redact national survey redact",
          "fall baseline classroom level problem behavior oppositional aggressive hyperactivity internalize behavior",
          "ceptance confidence family neighborhood child spend time mixed group learn teach",
          "peer young child classroom relate indi- vidual child outcome study generally measure skill subsample child classmate study relate child outcome behavior classroom peer",
          "learn science small multi group role composition",
          "child school success subject great debate ground developmental theory cog-",
          "room effective single grade model child skill stimulate",
          "classroom preschool claim help child learn regulate emotion develop social skill similarly redacted naeyc redacted foremost professional organization early childhood educator follow redact redacted approach endorse implementation mixed early childhood classroom redacted naeyc 1996 despite lack consensus field relatively little research available area mixed classroom fairly common preschool program redact especially serve income child head start present study aim address literature assess mixed group affect social process preschool classroom include peer interaction teacher child interaction challenge behavior",
          "contrast find association classroom level problem behavior teacher child interaction quality",
          "social emotional instructional interaction student howes redacted document critical aspect child early edu- cational experience redact redact redact example large scale study kindergarten program country find measure process",
          "child play major role modify social experience evoke specific reaction redact",
          "argument oppose mixed classroom favor restrict range",
          "reap maximum bene redact ample young child classroom bene ting immediately redact motivate child like old classmate redact child start school skill allow effectively redact young peer cement skill knowledge hand recent report redacted clearly show vast majority educator feel underprepared individualize redacted erentiate instruction redact redact conceivable regardless child prior experience mixed setting type environment optimal early learning regardless outcome type longitudinal empirical inquiry utmost importance transition likely represent qualitatively redact erent experience alter meaning mixed education child examine head start program particular present unique opportunity assess plication transition address objective concern child classroom transition redacted erent way",
          "early childhood present critical window opportunity address issue inequality life course redact mount interest publicly fund preschool pro- gram include expansion preschool education redact poten- tial policy lever prepare child school understand implication expansion effort utmost importance program include head start large federally fund preschool pro- gram redacted]—often serve classroom fact roughly head start classroom mixed redacted",
          "preschool classroom redacted redact preschool teacher generally adult child interaction outside family positive teacher child relationship help child develop social skill negotiate challenge situation help child positive perception school redacted redacted positive teacher child interaction preschool positive influence child language academic performance social competence elementary school redact child ability respond social demand appropriate behavior skill develop preschool year life level child ability control moderate behavior response social situation remain stable rest development raikes hand challenging behavior big concern preschool teacher behavior play central role child ability transition adjust school succeed academically furthermore teacher consider behavior big challenge early education lack academic skill example rimm- kaufman redacted redacted find national representative group kindergarten teacher redact teacher consider problem behavior big challenge child adjustment kindergarten academic competency finding point importance look developmental stage prevent challenging behavior",
          null
         ],
         "marker": {
          "opacity": 0.5,
          "size": 5
         },
         "mode": "markers+text",
         "name": "0_child_classroom_redact",
         "text": [
          "",
          "",
          "",
          "",
          "",
          "",
          "",
          "",
          "",
          "",
          "",
          "",
          "",
          "",
          "",
          "",
          "",
          "",
          "",
          "",
          "",
          "",
          "",
          "",
          "",
          "",
          "",
          "",
          "",
          "",
          "",
          "",
          "",
          "",
          "",
          "",
          "",
          "",
          "",
          "",
          "",
          "",
          "",
          "",
          "",
          "",
          "",
          "",
          "",
          "",
          "",
          "",
          "",
          "",
          "",
          "",
          "",
          "",
          "",
          "",
          "",
          "",
          "",
          "",
          "",
          "",
          "",
          "",
          "",
          "",
          "",
          "",
          "",
          "",
          "",
          "",
          "",
          "",
          "",
          "",
          "",
          "",
          "",
          "",
          "",
          "",
          "",
          "",
          "",
          "",
          "",
          "",
          "",
          "",
          "",
          "",
          "",
          "",
          "",
          "",
          "",
          "",
          "",
          "",
          "",
          "",
          "",
          "",
          "",
          "",
          "",
          "",
          "",
          "",
          "",
          "",
          "",
          "",
          "",
          "",
          "",
          "",
          "",
          "",
          "",
          "",
          "",
          "",
          "",
          "",
          "",
          "",
          "",
          "",
          "",
          "",
          "",
          "",
          "",
          "",
          "",
          "",
          "",
          "",
          "",
          "",
          "",
          "",
          "",
          "",
          "",
          "",
          "",
          "",
          "",
          "",
          "",
          "",
          "",
          "",
          "",
          "",
          "",
          "",
          "",
          "",
          "",
          "",
          "",
          "",
          "",
          "",
          "",
          "",
          "",
          "",
          "",
          "",
          "",
          "",
          "",
          "",
          "",
          "",
          "",
          "",
          "",
          "",
          "",
          "",
          "",
          "",
          "",
          "",
          "",
          "",
          "",
          "",
          "",
          "",
          "",
          "",
          "",
          "",
          "",
          "",
          "",
          "",
          "",
          "",
          "",
          "",
          "",
          "",
          "",
          "",
          "",
          "",
          "",
          "",
          "",
          "",
          "",
          "",
          "",
          "",
          "",
          "",
          "",
          "",
          "",
          "",
          "",
          "",
          "",
          "",
          "",
          "",
          "",
          "",
          "",
          "",
          "",
          "",
          "",
          "",
          "",
          "",
          "",
          "",
          "",
          "",
          "",
          "",
          "",
          "",
          "",
          "",
          "",
          "",
          "",
          "",
          "",
          "",
          "",
          "",
          "",
          "",
          "",
          "",
          "",
          "",
          "",
          "",
          "",
          "",
          "",
          "",
          "",
          "",
          "",
          "",
          "",
          "",
          "",
          "",
          "",
          "",
          "",
          "",
          "",
          "",
          "",
          "",
          "",
          "",
          "",
          "",
          "",
          "",
          "",
          "",
          "",
          "",
          "",
          "",
          "",
          "",
          "",
          "",
          "",
          "",
          "",
          "",
          "",
          "",
          "",
          "",
          "",
          "",
          "",
          "",
          "",
          "",
          "",
          "",
          "",
          "",
          "",
          "",
          "",
          "",
          "",
          "",
          "",
          "",
          "",
          "",
          "",
          "",
          "",
          "",
          "",
          "",
          "",
          "",
          "",
          "",
          "",
          "",
          "",
          "",
          "",
          "",
          "",
          "",
          "",
          "",
          "",
          "",
          "",
          "",
          "",
          "",
          "",
          "",
          "",
          "",
          "",
          "",
          "",
          "",
          "",
          "",
          "",
          "",
          "",
          "",
          "",
          "",
          "",
          "",
          "",
          "",
          "",
          "",
          "",
          "",
          "",
          "",
          "",
          "",
          "",
          "",
          "",
          "",
          "",
          "",
          "",
          "",
          "",
          "",
          "",
          "",
          "",
          "",
          "",
          "",
          "",
          "",
          "",
          "",
          "",
          "",
          "",
          "",
          "",
          "",
          "",
          "",
          "",
          "",
          "",
          "",
          "",
          "",
          "",
          "",
          "",
          "",
          "",
          "",
          "",
          "",
          "",
          "",
          "",
          "",
          "",
          "",
          "",
          "",
          "",
          "",
          "",
          "",
          "",
          "",
          "",
          "",
          "",
          "",
          "",
          "",
          "",
          "",
          "",
          "",
          "",
          "",
          "",
          "",
          "",
          "",
          "",
          "",
          "",
          "",
          "",
          "",
          "0_child_classroom_redact"
         ],
         "textfont": {
          "size": 12
         },
         "type": "scattergl",
         "x": {
          "bdata": "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",
          "dtype": "f4"
         },
         "y": {
          "bdata": "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",
          "dtype": "f4"
         }
        },
        {
         "hoverinfo": "text",
         "hovertext": [
          "research finding classroom physical literacy environment malleable domain specific contributor child emergent literacy acquisition shape physical literacy environment remain unclear study draw sample classroom redacted test role classroom composition shape physical literacy environment additionally examine extent physical literacy environment explain association classroom composition emer­ gent literacy outcome find classroom high proportion young child provide book write redact write room notably lack writing display room serve potential reason demon­ strate small gain expressive language skill classroom redacted policy finding highlight need invest classroom physical literacy environment ensure meet need child mixed classroom",
          "understanding express vocabulary skill strongly associate early reading",
          "child language literacy learn distinct albeit overlap way example child engage pos- itively teacher peer find positive relationship experience dyadic conversa- tion rich language individualized learning child engage teacher peer positively redact redact redact redact redact bell piasta outcome child lan- guage literacy learn redact redact redact redact forston sabol example child sustained engagement task self regulate learning facil- itate efficiency internalize language literacy knowl- edge redact redact contrast child negative engagement teacher peer task find result few opportunity child participate activity involve explicit implicit language literacy learn sabol redact redact redact redact howes review information suggest child classroom engagement multi dimensional con- cept reflect essential aspect child individual class- room experience play critical role later language literacy development",
          "redacted preschool classroom composition physical literacy environment influence children emergent literacy outcomes early education",
          "vocabulary development focus apply developmental research address early childhood programming central importance child school readiness later academic achievement e.g. redact redact redact redact redact redact fact preschool child vocabulary skill consistently predict later achievement reading comprehension redact skibbe redact redact redact redact early delay vocabulary development",
          "surprisingly considerable attention focus way facilitate early vocabulary",
          "study speak benefit drawback type program young child",
          "classroom composition preschooler language literacy gain role classroom engagement",
          "language literacy executive function skill outcome important precursor long term educa- tional success redacted redacted redacted give equivocal nature exist literature discuss lack empirical work area look executive function particular leave study hypothesis largely exploratory despite effort important acknow- ledge datum prohibit examine out- come nonetheless understand group child benefit harm mixed- environment remain important endeavor goal early childhood education ensure chil- dren reap maximum benefit program",
          "zone proximal development concept widely accept",
          "less provision literacy relate material space classroom young child especially distinct come writing relate material space evidence show teacher agree research concern language literacy skill child know preschool believe child learn write worry spelling knowledge child learn write watch teacher write redact",
          "tion zone proximal development natural learning namic mixed interaction collaboration expert- novice directionality prevail researcher observe child classroom encourage collaborative learning peer suggest complex model zone example redacted redacted argue social interaction involve expert peer adult provide opportunity child learn world",
          "old classmate facilitate positive classroom engagement reduce negative engagement translate large gain language literacy skill chil[redacted study document classroom composition measure proportion young classmate variability range chil- redact classroom associate chil[redacted lan- guage literacy development redacted redact redact bleses højen redacted ample redacted find preschooler dis- play small gain language literacy skill classroom large proportion negative associa- tion equal roughly academic development despite document association mechanism classroom composition contribute chil[redacted language literacy gain understand give possi- influence classroom composition chil[redacted class- room engagement classroom engagement language lit- eracy learning test mediate role classroom engage- ment association classroom composition preschooler language literacy gain datum limitation fact classroom composition matter differ- entially chil[redacted different group redacted redacted focus experience mixed classroom unpack mechanism link class- room composition chil[redacted language literacy devel- opment specifically study address follow search question",
          "research highlight importance physical literacy environment preschool",
          "consider physical literacy environment theoretical explanation",
          "despite promising evidence physical literacy environment important child early",
          "icte empirical evidence exist litera-",
          "accord view literacy development occur zone proxi-",
          "mention belief contrary emergent literacy relate research",
          "play kindergarten child group child mixed group redact engage large collaborative literacy group kindergarten child combination literacy expert literacy novice increase literacy experience sociodramatic play center",
          "emergent literacy highlight development literacy start prior formal reading writing instruction term emergent literacy skill refer variety foundational skill enable skilled fluent reading writing redact redact current study focus emergent literacy skill highlight instructional focus preschool period receptive expressive vocabulary phonological awareness print knowledge redacted skill moderately highly correlate redact redact strong independent predictor reading writing acquisition redact",
          "current study propose classroom physical literacy environment",
          "emergent literacy skill limited research factor shape literacy environment exist research suggest physical literacy environment malleable example intervention aim improve teacher language instruction implementation language- focus curriculum show significant positive change quality classroom literacy environment redact redact promising inquiry need influence classroom literacy environment factor relate young child emergent literacy skill",
          "function potential mechanism classroom composition shape child emergent literacy learning indirect evidence link classroom compo­ sition teacher practice lend support hypothesis example redacted redacted find great classroom diversity create challenge teacher provide child high quality emotional instructional support example teacher serve class­ room large proportion young child find provide opportunity child engage group academic instruction redact similarly classroom composition shape classroom physical literacy environment teacher belief young child literacy learning development discuss",
          "duration complexity literacy relate play redact example child intervention classroom enrich literacy object target play area e.g. cozy corner library observe spend time engage reading writing activity incorporate literacy object diverse functional way explicit language nonintervention group redact study classroom high quality classroom physical literacy environment strongly associate child general literacy interest engagement literacy activity factor turn predict phonological awareness expressive vocabulary redact study demonstrate direct association physical literacy environment emergent literacy acquisition example redact find positive association engage high quality physical literacy environment child print knowledge similarly study find quality classroom literacy area significantly associate child alphabet knowledge writing ability redact redact expressive receptive vocabulary phonological awareness altun finding suggest link feature physical literacy environment child emergent literacy skill altun redact redact redacted",
          "child like ability scaffold literacy activity",
          "redact redact provide type expert novice scaffolding literacy enrich play setting",
          "engage large broad range col- laborative literacy activity child kindergarten find collabora- tive interaction occur play center complex zone proximal development lead believe collaborative interac- tion group multi directional nature expert novice role firmly",
          "interest child turn influence provision high quality physical literacy environment example classroom language composition measure percentage dll classroom find significantly associate quality physical literacy environment instruction classroom serve large proportion dll rate have low quality literacy environment redact justice",
          "redacted den zone proximal development dis-",
          "child language literacy learn redacted pinto redact early language liter- skill critical child short- long term school success redact redact shenassa redacted loni- redact study structural process qual- classroom reveal small modest association preschooler language literacy growth burchinal light modest association researcher begin focus individual level experience child classroom potential mechanism produce language literacy gain redacted redact redact downer portant aspect child individualized classroom experience engagement classroom core developmental",
          "teraction occur literacy enrich play center classroom organize multi classroom kindergartner grader second grader classroom traditional kindergarten stu- dent teacher room arrangement material play center remain physical setting remain constant important element social environment range child teracte play setting change",
          "way characterize classroom physical literacy environment classroom",
          "addition need examine zone proximal development",
          "enrollment high quality preschool education improve childhood outcome emergent literacy acquisition implication long term school success redact redacted redact characteristic high quality preschool classroom important aspect physical literacy environment commonly define reading write resource available classroom arrange altun redact example physical literacy material include book write utensil language base puzzle alphabet display additionally certain classroom area desig­ nate reading writing area utilize subject activity incorporate resource redact provision material area promote child emergent literacy acquisition allow engage language- literacy- relate symbol object redact",
          "note exist litera-",
          "present study examine collaborative reading write",
          "development stage child partially master skill skill help redact tem- porary assistance scaffolding provide child able engage literacy activity turn extend child knowledge skill high level",
          "redacted redacted suggest literacy setting include physical surrounding human relationship termine situation child engage cultural tool literacy social interactionist per- spective postulate high order cognitive function nclude literacy",
          "physical literacy environment compare old child redact example study redact start teacher reveal teacher believe young child engage literacy material master social behavioral skill follow direction abide classroom rule relate peer redact teacher belief degree child learn emergent literacy skill young age find positively associate teacher language literacy relate instructional practice redact teacher mention belief provide few literacy relate material space teach­ classroom high percentage young child example classroom teacher provide book engaging complex narrative few writing material e.g. pencil paper word card template writing dis­ play room e.g. sign poster chart child writing display",
          "notable feature classroom shape literacy environment age",
          "rich physical literacy environment numerous varied book material literacy area write material teacher- child direct writing display prop classroom high quality physical literacy environment include book vary difficulty level genre e.g. rhyme text alphabet book flap book relate different curriculum theme arrange different activity center e.g. dramatic play area block center science table redact addition high quality classroom provide designate area write tool material promote writing model writing e.g. newspaper map redact redact example teacher- child direct writing print product guide daily learning experience e.g. sign poster write sample redact redact",
          "study describe collaborative literacy activity occur teacher sociodramatic play cen- situation teach multi class teach same- kindergarten situation hour free play videotape detailed transcript action dialogue occur analyze datum compare collaborative literacy interaction occur play center grouping arrangement test assumption collabo- rative learning flow expert novice basic tenet zone proximal development finding show child multi group",
          "classroom composition gain language literacy skill preschool",
          "preschool classroom composition physical literacy environment influence children emergent literacy outcomes",
          "cept zone proximal development purpose exam- type collaborative literacy interaction curre play center grouping arrangement supporter multi grouping cite zone claim broad child classroom great opportunity collaborative learn- scant evidence claim multi- advocate correct find large broad range collaborative literacy interaction occur multi- class kindergarten second purpose examine directionality collaborative literacy exchange zone concept assume collaboration unidirectional old competent child help young competent peer want learn collaborative exchange actually simple complex pattern interaction emerge change closely examine",
          "classroom influence inhibitory control language literacy development child",
          "attention focus product collaboration",
          "skill demonstrate optimal executive function",
          "importance malleability physical literacy environment warrant depth study shape undoubtedly shape large contextual force e.g. program funding understand proximal predictor important mirror bidirectional relation person context propose bioecological theory redact physical literacy environment influence child emergent literacy learning simultaneously shape collective characteristic child classroom characteristic influence teacher perception belief developmental need",
          "redact classroom environment children emergent literacy development",
          "classroom composition preschooler language literacy gain role classroom engagement",
          "give importance malleability classroom physical literacy environment child emergent literacy learning critical investigate factor influence child characteristic include shape teacher belief practice provide classroom environment redact redact focus classroom composi­ tion potential factor influence physical literacy environment additionally physical literacy environment theoretically empirically suggest predictor child literacy learning altun redact examine aspect physical literacy environment potential mediator explain association classroom composition child emergent literacy outcome redacted redacted specifically examine extent classroom composition associate classroom physical literacy environment classroom physical literacy environment account association classroom composition child emergent literacy acquisition hypothesize child gain emergent literacy skill classroom high percentage young peer teacher fail provide high quality appropriate physical literacy environment conceptual framework show figure",
          "ment language literacy development redact sabol redact know relatively little predict classroom engagement redact redacted study examine role classroom composition opera- tionalize proportion child different group classroom level focus aspect class- room set predictor child engagement rea- son unlike redact preschool classroom serve chil- dren multiple group accord national statistic state allow preschool program mixed group- ing roughly head start classroom mixed redact redact redact redact redacted redacted redact state provide varied quirement expect number child group teacher child ratio contribute hetero- geneity distribution child different group doc- umented prior work redact redact gershoff second recent work show mixture age preschool classroom implication teacher classroom prac- tice child early learn redacted redact green- field bulotsky shearer redact redact redacted redact redact redact example enrol class- room demonstrate small gain aca- demic skill redacted notwithstanding widespread mixed classroom connection child early learning know little need ensure mixed classroom successfully meet need child study aim fill knowledge examine child classroom engagement potential mechanism highlight evidence suggest composition play role type classroom engagement",
          "theory establish child able develop emergent literacy skill puranik lonigan redact inadequate access literacy stimulate environment preschool classroom associate preschooler small gain emergent literacy skill altun redact give potential variation classroom physical literacy environment base age child classroom influence child emergent literacy development hypothesize classroom physical literacy environment mediate association classroom composition child emergent literacy development",
          "influence zone apparent movement multi-",
          "show shape classroom environment numerous way include classroom quality redacted][redacted child engagement redact presumably child age shape way teacher organize classroom provide material support emergent literacy acquisition study examine extent classroom composition associate classroom physical literacy environment classroom composition associate child emergent literacy skill gain physical literacy environment inquiry question implication optimize classroom environment facilitate child emergent literacy learning mixed classroom",
          "considerable influence early childhood education program example zone commonly rationale establishment literacy enrich play center traditional dramatic play area housekeeping restaurant center stock theme relate lit- eracy material example restaurant center equip menu wall sign pencil notepad take food order research- assert aspect setting encourage child incorpo- rate familiar literacy routine activity play literacy artifact tool place play center opportunity child interact adult capable peer connection material redact redact redact redact qualitative study establish adult redact redact peer",
          "take physical literacy environment directly elicit literacy relate exploration manipulation elaboration imagination child solitary activity prompt adult- mediate literacy enrich play teacher model scaffold child physical literacy resource redact redact redact",
          "young able child provide assistance old classmate lim- ited research support possibility redacted report child similar ability work literacy task opportunity emerge pool knowl- edge negotiate possible solution problem encounter stone redact examine literacy activity multi classroom find collaborative literacy exchange involve grade peer involve young child help old classmate",
          "young old peer classroom language literacy executive function skill examine heterogeneity association function skill entry prek.",
          "classroom rich literacy material area find increase frequency",
          "shed light physical literacy environment shape child emergent literacy learning redacted theory suggest organization structure complexity physical environment stimulate solitary interaction object symbol provide condition stimulus interpersonal interaction involve literacy relate instruction redacted eling redact addition sociocultural theory emphasize child internalization symbol sign support presence prop object- orientate play involve physical interaction object material vygotsky",
          null
         ],
         "marker": {
          "opacity": 0.5,
          "size": 5
         },
         "mode": "markers+text",
         "name": "1_literacy_environment_physical",
         "text": [
          "",
          "",
          "",
          "",
          "",
          "",
          "",
          "",
          "",
          "",
          "",
          "",
          "",
          "",
          "",
          "",
          "",
          "",
          "",
          "",
          "",
          "",
          "",
          "",
          "",
          "",
          "",
          "",
          "",
          "",
          "",
          "",
          "",
          "",
          "",
          "",
          "",
          "",
          "",
          "",
          "",
          "",
          "",
          "",
          "",
          "",
          "",
          "",
          "",
          "",
          "",
          "",
          "",
          "",
          "",
          "",
          "",
          "",
          "",
          "",
          "",
          "",
          "",
          "1_literacy_environment_physical"
         ],
         "textfont": {
          "size": 12
         },
         "type": "scattergl",
         "x": {
          "bdata": "B3sCQbeEC0HkcxRBPNj+QPv2D0ECdw5BJg4YQRFuCEHaNBJB1tcWQYYgBEFrCBNBcgYYQf2J+kDLSP1AtGT7QAjZCEFbFw9B7sEIQXQsD0G8+QtBTxP8QPq8A0GLkwxBgowKQTxNCUHrwQxBt1kQQTAGBEEIIhdBo/4RQYLcDUFKo/xARYgWQQ4QCkFlxQhBbu4OQU9dDEFrUAlBhBoEQbrT/kB5nQVBFr0QQdPwB0HzC/xAyssQQW49CEGoPhBBKxMSQeaAAUHQzwNBLIgIQapUAkH7OBhB6pYDQdmZF0EFdAJBeaYKQX74AUEyqBRB0yMQQV4ZBUHhQQJBBGYKQQ==",
          "dtype": "f4"
         },
         "y": {
          "bdata": "Sh05QYF4L0EGMS1BEoE2QbKDMEGsjy1B1jIhQd0yL0H6mi1B+dQ8QQv6OEFj/zpBMtUuQYMlN0Fx0TdBg2g2QZoKPEEw/DtBjFY5Qdd+OUF4HzVBEMA3QevjOEGchiBBz9U3QSBkMkFlgThB5Yo6QajMOUGCvDxBjrEwQVJ8OUGkxjdB8iE9QTAwN0E+5DxB++U5QRvOMUELyThB66c5QdJKOEELrzlBk3Q7QR/TL0HQ4zZBSxQ7QT3lL0HrzClBVc0rQcRbOUHv7TZBen0vQbUAOUEe6S1B6903QWpEPEE5CjhB6gU4QbYfOUH+6i1BE/QsQbayOkFrjzlBGYQ1QQ==",
          "dtype": "f4"
         }
        },
        {
         "hoverinfo": "text",
         "hovertext": [
          "final sample include female caregiver child care center child care group",
          "unlikely exploit consumer parent distribute profit control organization conversely profit orient organiza- tion profit child care parent directly evaluate quality service child actually receive child qualified evaluate service motivation legal sanction promote increase profit accordingly profit firm likely cost reduce quality base reasoning nonprofit child care center likely superior quality relative profit child care center research consistently verify assumption redact redact redact profit child care center characterize low adult child ratio generally better- train staff redact redact group size quality environment include quality interaction staff child clearly relate type child care program redact redact redact",
          "research child care teaching provide limit answer question",
          "impact childcare group situational composition caregiver child interaction",
          "different group child care center allow multilevel analysis examine variance quality caregiver behavior lie different level i.e. individual caregiver child care group child care center variance level explain potential determinant information helpful interpret possible effect specific predictor caregiver behavior include present study discuss possible source variance remain redacted explain present predictor expect variance behavior professional caregiver level child care group level child care center influence mold quality caregiver behavior group specific support colleague child care group center specific support supervisor existence center",
          "study aim investigate role situational peer group composition include range number child present young median quality caregiver- child interaction measure emotional behavioural support engage support learn base previous research hypothe- sized situational peer group range negatively associate caregiver child interaction quality median positively associate caregiver child interaction quality appropriate care infant constitute challenge caregiver especially mixed setting necessary account number young child present accordingly aim examine peer group range closely explore ect range explain number child present age",
          "tend child care center acquire different type socioemotional knowledge home",
          "address locator child care website regional telephone directory child care center",
          "adult child ratio consider policy researcher regulation authority",
          "quality caregiving professional caregiver child care center establish important",
          "adult low ratio e.g. child adult likely affect child development study concern adult child ratio typically investigate effect difference ratio low clear positive effect emerge comparison include high ratio",
          "large research investigate role childcare child learning social emotional development psychosocial adjustment study association suggest spending time high quality childcare positive impact child outcome redact redact redact mashburn redact redact miller- redact redact redact redact redacted redact redact redact steinberg redact redacted quality consider multidimensional construct mea- sure assess structural process characteristic redact redact redact redact redact redact redact redact redact abbott shim structural childcare quality refer feature group size caregiver child ratio caregiver general",
          "educational level professional caregiver frequently report associate quality",
          "care surprisingly little attention award potential impact work environment professional child care provider quality care despite wide recognition demand stress involve redact redact redacted find favorable work condition relate high quality care report positive relation high satisfaction low turnover rate hand quality care accordingly present study anticipate quantitative qualitative workload workplace associate low quality caregiving secondly supportive relation colleague supervisor positively affect caregiver behavior child redact postulation confirm numerous study review redact take support examine association study field occupational psychology show supportive relation coworker setting boost performance profession redact redact redact redact murray",
          "mention assess caregiver home workload support work family interaction study",
          "year start mandatory kindergarten link primary school additionally childcare redacted characterize high degree redact exibility term child attendance schedule parent work time choose attendance depend individual relate need vary possible individual child attend childcare week morning afternoon majority child attend childcare time week redacted federal statistical average group size child signi number available childcare place share child e.g. child use childcare place morning afternoon redacted childcare association provide guideline standard caregive quality childcare take child redacted cation account calculate caregiver child ratio redact majority professional caregiver redacted childcare complete apprenticeship combine school attendance service training week caregiver trainee i.e. young person attend internship completion mandatory schooling apprentice work alongside qua- redact professional caregiver redact redact",
          "present study observe different caregiver work child care group caregiver",
          "grandmother act differ- ently",
          "care group young child professional child care setting generally consider strenuous stressful good physical condition absence health problem crucial particularly field care education common staff continue work suffer health problem redact redact profession negative relation health problem performance find redacted anticipate similar association professional caregiving",
          "characteristic childcare high degree variability child- care group composition country childcare programme favour traditional grouping centre mixed- grouping provide extended range group family like programme highly redacted exible require few redacted classroom schedule time mixed grouping consequence child engagement quality caregiving date little research examine ect",
          "question child group homogeneously het-",
          "level quali cation process quality childcare refer dynamic aspect caregiver behaviour interaction caregiver child child curriculum implementation redact redacted redact redact redact redact redact cumulative research nding redacted indicate process variable consistently long term associate child cognitive social emotional development redact redact redact zubrick lynch redact redact redact redact taggart redact childcare researcher emphasize high quality social interac- tion caregiver child important determinant quality early education care redact redact redact hamre redacted redact redacted redact redact redact stuhlman",
          "group size reyhing present study explicitly focus situational composition childcare group",
          "person influence child care quality child development statisti- cally reliable relationship moderately positive study e.g. redact redact redact redact redact redact redact redact rodning galluzzo redacted e.g. redact redact redact redact redact redact redacted redact redact redact fail support notion high child care quality case high adult child ratio contradictory finding suggest importance predictor child care quality instance strong consensus teacher aide involve idea educational goal mean accomplish goal compensate decrease adult child ratio interpretation consistent finding redact palme´rus ha¨gglund variation teacher education experience likely relevant explain child care quality redacted possibility relationship child care quality adult child ratio nonlinear respect difference adult child ratio negligible effect certain ratio e.g. child",
          "finally include caregiver physical health potential determinant caregiving behavior",
          "influence aspect child development redact redacted duncan study devote quality professional child care effect child development review redact redact determine quality caregiving behavior professional involve care young child remain unclear ample study dedicate explication individual difference parental caregiving behavior inspire redacted seminal model determinant parenting model assume parenting shape multiple determinant domain parental personality personal psychological resource child characteristic contextual source stress support theoretical model available professional caregiving redact model guideline choice potential determinant keep model hypothesize group characteristic multiply determine quality nonparental caregiving personal characteristic caregiver characteristic child care group characteristic caregiving context report present study elaborate hypothesis regard group determinant perspective early research",
          "child group data collection begin familiar",
          "view policy decision range child",
          "tion redact prosocial help havior redacted caretaking behavior redact redacted redact study con- ducte child care program mixed- group try link aspect preschooler social knowledge knowledge emotion perspective taking",
          "rate redacted participation redacted country provision universal child care important feature welfare state redact",
          "care provide redact redact date confirm redact possibly restricted variance educational level professional caregiver work redacted child care center redact redact redact redact redact redact redact redact child care worker receive general vocational training specifically prepare work young child learn hand experience caregiver education present study expect caregiver work experience relate quality professional caregiving early observe redacted redacted confirm redacted study redacted redact",
          "study multiple determinant professional caregiving caregiver range redact child care center extensively observe interaction child usual care group choice potential determinant caregiving quality guide redacted redact determinant parenting process model redact 83–96 model determinant parenting consistent redact model quality caregiving find multiply determine characteristic caregiver child caregiving context specifically low quality care provide young caregiver young child caregiver report high physical occupational workload difference participate child care center prove explain variance quality professional caregiving difference individual caregiver",
          "city redacted redacted surround area i.e. middle southern region redact adhere invitation participate center director call ask caregiver willingness join trial total center agree participate caregiver volunteer take study i.e. caregiver involve care care group participating center give busy objection videotape reason refusal incomplete datum caregiver exclude analysis caregiver male exclude datum analysis",
          "school child care child typically group",
          "observed situation exclude possibility contribution individual factor quality caregiver behavior different depend situation caregiver child interaction observe example workload support experience colleague explain variance caregiver behavior observe everyday interaction child entire morning relatively short structure play episode small group child decide sitation apart explore behavior caregiver different situation relate different combination predictor",
          "expect factor domain contribute quality caregiver behavior",
          "authority authorize help fund private child care redact instance private nonprofit profit child care center receive approximately subsidy public center provide center comply specify quality relate parameter e.g. hiring train teacher yearly evaluation planning accessibility disabled risk child nonprofit private child care redacted double leave child attend child care private nonprofit center profit child care transformation occur redact child care system naturalistic experiment feasible main purpose study examine potential effect adult child ratio profit child care teaching child social cognitive achievement",
          "advantage childcare provider help parent well reconcile need family career hand redacted exible childcare result high degree redacted uctuation makeup child- care group permanent change situational group composition e.g. composition group size behaviour pattern peer group dynamic impact quality caregiving caregiver constantly face challenge match adapt resource redacted erent need interest speci group e.g. infant toddler schooler time",
          "care study redacted child care center redact find positive association quality caregiver behavior study fail find relationship redact riksen walraven mother positive association quality parenting find redact confirm recent study redact redact redact redacted demonstrate association quality parenting particularly prominent young mother give professional caregiver work child care center relatively young expect find positive association caregiver quality caregiver behavior present study",
          "child care center caregiver interaction involve child define child characteristic level care group purpose present study large group size high child caregiver ratio young mean child deem relevant care group characteristic variable associate low quality caregiving numerous study redact redact early study current sample observation structured play session reveal quality caregiver child interaction low group contain child caregiver versus especially include young child redact riksen walraven redacted expect aspect associate low quality caregiver behavior situation structure play",
          "fect center care child moral behavior indicate prosocial behavior relate temperament friendship sta- positive social interaction length oftime spend quality program redacted]husby branstetter mother pectation care quality redact attend half- full- redact relate child moral behavior",
          "repeatedly demonstrate work home domain affect negatively positively review redacted study consequently hypothesize perceive home workload negatively relate quality care support home contribute positively quality care",
          "accord redact nonprofit organization public child care",
          "erogeneously respect important apply implication care- giver organizer early childhood program argument",
          "observe behavior large cohort caregiver child care different situation structured play small group child lunch complete care group morning explain line redact model determinant parenting expect factor domain independently contribute quality professional caregiving regard domain i.e. professional caregiver personal characteristic expect high quality caregiving associate well general mood professional experience high few health problem second domain i.e. characteristic child care group expect high quality caregiving occur case low child caregiver ratio small group size old child finally propos domain contextual characteristic observed situation expect high quality care case low workload support work context home",
          "characteristic process quality base assumption structural childcare quality predict teacher provide care education sensitive reliable emotionally available child study provide evidence positive caregiving common group size child adult ratio small redact redact redact redact redact redact gevers deynoot- redact redact redact redact redact redact redact redact caregiver education training find associate high quality caregiver skill redact cryer redact redact redact redact kontos redact redact redact study find weak association child- care structural quality caregiving quality fail association redacted redacted redacted redact redact",
          "quality caregiving redact redact redact ready redact redact redact study examine effect personal characteristic professional caregiver quality care restricted focus i.e. effect depressive symptom similar finding parent result indicate caregiver report depressive symptom display low quality caregiving behavior report few depressive symptom redact previous study present sample professional caregiver redact riksen walraven redacted self report general mood i.e. optimism happiness find significantly positively relate quality care observe structured play episode present study caregiver general mood expect relation caregiver behavior caregiving situation",
          "present study investigate role situational composition quality caregiving speci cally examine impact range number child present young median caregiver child interaction quality unique condition redacted exible heterogeneous childcare caregiver child interaction childcare group observe morning observation cycle result multilevel structural equation modelling show wide range high number young child present relate low quality observed behavioural emotional learn support importantly nding suggest ect range explain number child implication research mixed programme practice policy discuss",
          "study investigate effect program auspice nonprofit profit child care adult child ratio 1:4.6–1:8.7 span child care class teaching child social cognitive achievement sample include child child care center result profit child care center large child group nonprofit child care center low adult child ratio positive staff attitude teaching goal gender social background span child care class significant predictor child social cognitive achievement adult child ratio teaching style prove good predictor child social cognitive achievement",
          "present study multilevel approach examine quality professional caregiving child care center formulate specific hypothesis relative proportion variance explain different level merely explore",
          "redacted childcare centre child usually place mixed group wide range age maternity leave",
          "parental caregiving study caregiver quality investigate relative characteristic individual child",
          "sition investigate impact caregiver child interaction multivariate multilevel analysis unique particularly favourable con- dition redacted exible heterogeneous childcare recent study redacted show situational group characteristic group activity number child present strong predictor caregiver child interaction quality structural feature",
          "peer group composition context early education childcare country e.g. redact redacted adopt extended range include child regular preschool class helmerhorst redact previous study compare multi setting focus child behavioural outcome research association peer group composition caregiver behaviour limited overall research provide evidence caregive mixed group low quality tietze redacted find range negatively redacted uence quality interaction preschool teacher chil- dren teacher provide few teacher guide activity elaborate instruction group wide range redacted redacted show extension range group strong predictor low interaction quality caregiver child ally include number child age analysis show presence single child negative impact quality caregiving redact result consistent nding redacted study investigate mixed group comprise child age schipper riksen walraven redacted study indicate number infant group signi predictor caregiving quality group few child age receive well quality care study redacted childcare context demonstrate caregiver sensitive responsiveness educational skill low infant group preschool group mixed group helmerhorst study recog- nizing composition potential determinant caregiver behaviour childcare centre report high mean childcare group correlate high quality caregiving behaviour redact redact redact redact summarize previous research provide evidence wide range high number infant group low mean group associate low caregiver child interaction quality",
          "activity child work group traditionally group work involve",
          "examine swedish profit nonprofit child care relationships adult child ratio",
          "impact childcare group situational composition caregiver child interaction",
          "group determinant i.e. contextual characteristic special interest field professional child",
          "child care center serve child long remember center class tod-",
          "severe economic cut child care budget redacted sharp increase number child child care class observe redact average class size rise country great difference community rare child class class child simultaneously increase class number employee child care center decrease average child time employee number child time employee increase redact law significant impact redact child care system profit child care center base redacted receive public funding average cost child public agency 10,000 redacted federal govern- ment funding local authority subsidize approximately cost parental fee finance remain impractical private child care public funding local",
          null
         ],
         "marker": {
          "opacity": 0.5,
          "size": 5
         },
         "mode": "markers+text",
         "name": "2_care_caregiver_child",
         "text": [
          "",
          "",
          "",
          "",
          "",
          "",
          "",
          "",
          "",
          "",
          "",
          "",
          "",
          "",
          "",
          "",
          "",
          "",
          "",
          "",
          "",
          "",
          "",
          "",
          "",
          "",
          "",
          "",
          "",
          "",
          "",
          "",
          "",
          "",
          "",
          "",
          "",
          "",
          "",
          "",
          "",
          "",
          "",
          "",
          "",
          "",
          "",
          "",
          "",
          "",
          "",
          "",
          "",
          "",
          "",
          "",
          "",
          "",
          "",
          "",
          "2_care_caregiver_child"
         ],
         "textfont": {
          "size": 12
         },
         "type": "scattergl",
         "x": {
          "bdata": "r1QpQSNzNUEtzzNBHHgoQYi/K0EK6ypBuwAoQXMSKEHcgjRBn2IoQdIeNEEGVjJBzX8pQWl2MEEnPixBIRY0QTmUKkHARShB92EsQTxvK0EopSZB5eI0QSGSJ0FdUjNBFPcoQStrLUFdESVBjjI0QcIyM0FU2jhB8AoyQTnuKkHmZTJBtqEmQdOiK0HCEClB7BI1QXRnK0EynjFBjCcsQdW6GEEvCS1B4V42QUDTK0HooipBM/0yQfFXL0FaEyxBfRw0QUvAKkGjaC5B/XUpQcTULEEG+DBBG4wmQd6rNEHY9yhBC2EnQWPIJ0H/czhBM3EtQQ==",
          "dtype": "f4"
         },
         "y": {
          "bdata": "+UWeQEproUC6nrZAjmetQPlHmUBoVqxAS42dQHo0nUCe2rFAh+KYQIcbsEBEPZlAhXGVQHSckkDhV5NAYxyXQAx8m0DF6ZFA64uWQKtKokDXVLVAJvuWQB2RsUAmj5tADA6SQLN1kkD4K8RAhAa2QDicmUCpDahAXJWTQFupk0AoL5VAxYS1QOUTlUDW6JJAf1GtQBtXnUDtGpRA3aacQKLSq0AX6pBAgjupQN52n0BkIZVAAWCVQCJukUBnJaFAwHCwQM7dl0B1kKFAsiWUQG4fn0DZV55AQXS7QDgHrkA8ZKxAc7qyQM3PmkDB7qVAQKigQA==",
          "dtype": "f4"
         }
        },
        {
         "hoverinfo": "text",
         "hovertext": [
          "funding information redact redacted number redact redacted redact redact redact redact redacted number r305b130013",
          "redact redact redact redact",
          "redacted redacted redacted",
          "redacted redacted redacted redacted redacted redacted",
          "redact redact redact redacted redact",
          "researcher find support redact idea example mixed",
          "date study include redacted",
          "redacted redacted redacted dorthe bleses redacted",
          "redacted redacted redacted",
          "redacted naeyc collaborate redacted digitize preserve extend access redact",
          "redacted language",
          "nding report base research conduct redact fund redacted redacted contract redact conjunction redact generous local source fund school local evaluator redacted consist representa- tive program participate evaluation local research team evaluation contractor redact",
          "redact redact",
          "redacted redacted redact",
          "redact society research redact inc. 0009 3920/81/02 0028$01.00",
          "accord redacted development occur rapidly chil-",
          "request reprint send redact redact redact",
          "copy right redacted iation redact",
          "redacted profit service help scholar researcher student discover build wide range content trust digital archive information technology tool increase productivity facilitate form scholarship information redact contact redact redacted archive indicate acceptance redact available",
          "redacted 1016–1034 redacted 1040 9289 print/1556 6935 online",
          "redacted redacted head start program",
          "understand similarity difference mixed redact",
          "redacted redacted redacted redact",
          "redacted redacted observe play pair",
          "redact redact",
          "correspondence redact redact redact redacted email redact",
          "redacted redacted redacted collaborate redacted digitize preserve extend access redact",
          "redact redacted quarterly 2007 312–326",
          "behavioral skill redact redact redact redact tho- redact redact redact purpose",
          "datum present study derive redact",
          "empirical support claim mixed redacted redact",
          "redact redacted quarterly 2007 312–326",
          "redact redact redact redact redact redact redact dentistry redact redact department redact like thank responsible manage redact early childhood assessment partnership project include redact redact redact redact redact partic- ular thank redacted help expertise manage clean dataset analysis derive finally thank redact redact redact insightful moller redact redact 0407 redact redact 17325 mail redacted gettysburg.edu",
          "request reprint send redact redact",
          "study redact redact blaise hammer",
          "base presentation redacted educ onal esearch redacted conference redacted cisco redacted correspond ence redact redacted consumer redacted redacted mail leder sche id@niu .edu",
          "direct correspondence redact redact redact redacted redact redact phone 5135 5150 mail redact",
          "meeting redact redact wish thank redacted partnership design conduct study child teacher director redact redact redacted redacted redacted cooperation study possible wish thank chronological order redact redact redact redact redact redact redact help carry phase research request reprint address redact",
          "redact redact redact redact redacted 27514 electronic mail send redact",
          "redacted redacted",
          "corresponding author department redact college redacted address redacted redact redacted redact",
          "correspondence request reprint send redact redact",
          "redact redact redact redacted arya ansari",
          "redact redacted quarterly 2007 312–326",
          "redact 2610 redact teacher hall redact redact mail redact",
          "www.thelearner.com redacted print redacted online redact suite redact redacted +1-[redacted www.commongroundpublishing.com selection editorial matter redacted]research criticism review permit applicable copyright legislation work reproduce process written permission publisher permission inquiry contact redact",
          "redacted redacted redacted redacted redacted",
          "partial fulfillment requirement redact research support redact portion research present conference international society study behavioral development redact redact redact",
          "redacted profit service help scholar researcher student discover build wide range content trust digital archive information technology tool increase productivity facilitate form scholarship information redact contact redact redacted archive indicate acceptance redact available",
          "redact redact redact redacted redact redacted redact redact redacted redact redacted redacted]learning peer review scholar active participant redacted thematically related redact reviewer acknowledge associate past current associate editor visit find submission process visit member redacted thematically content find visit www.thelearner.com/about/become-a-member electronic print format subscribe gain access content entire backlist contact redact ijlecl.cgpublisher.com access allow work reach wide audience broaden dissemination research find responsibility error omission publication publisher make warranty express imply respect material contain",
          null
         ],
         "marker": {
          "opacity": 0.5,
          "size": 5
         },
         "mode": "markers+text",
         "name": "3_redact_redacted_mail",
         "text": [
          "",
          "",
          "",
          "",
          "",
          "",
          "",
          "",
          "",
          "",
          "",
          "",
          "",
          "",
          "",
          "",
          "",
          "",
          "",
          "",
          "",
          "",
          "",
          "",
          "",
          "",
          "",
          "",
          "",
          "",
          "",
          "",
          "",
          "",
          "",
          "",
          "",
          "",
          "",
          "",
          "",
          "",
          "",
          "",
          "",
          "",
          "",
          "",
          "",
          "",
          "3_redact_redacted_mail"
         ],
         "textfont": {
          "size": 12
         },
         "type": "scattergl",
         "x": {
          "bdata": "2Ix1Qb9ScUEevHNBCeR0QZF7ckH9LWVBavd0QfUYdUFXx3VBi8dzQYOMdUHULWZBE39wQfDQdEHknnBB6ppPQWRedEGGs3NBmmVnQTIwdUG+lHRBaV1uQXDTdEEi4XVBbWJwQZ+qcUHzeXRBywd1QXLEcEFPEmtB6UBsQdAndUFWemdB5qRzQQyicEFjTm5BLXVyQQqhZkHzpXVBuVR1QTyccUFjX3NBRE9zQXUYdUEtGnJB5ilxQbAUdUHkcWZBQ2ZnQeq4aEERWnBB",
          "dtype": "f4"
         },
         "y": {
          "bdata": "Q1AXQQwrDEHadQ9BC4IPQYgaDEG7ewxBg9MWQeOkD0Ex0RBBzasOQdiAEUEx7gpBj+8LQf7TD0EZCg9B9DYnQek6CUGTSw5B0XQKQdaYFkFzSBFBrrUMQURpD0HcTxBBya8MQYBWC0HBoA5BRXgWQSHdC0EIiQ5BwpIOQWOSFkGYKwtBARwKQQOnDUEDBxBBm+MLQRnwC0G7+QxBpQESQd12C0H42wlBlm8OQXSdFkE5ZwxBaTcLQaSTD0G/tQtBdDsKQZy/CkE/Ag9B",
          "dtype": "f4"
         }
        }
       ],
       "layout": {
        "annotations": [
         {
          "showarrow": false,
          "text": "D1",
          "x": -10.790531587600707,
          "y": 8.872869217395783,
          "yshift": 10
         },
         {
          "showarrow": false,
          "text": "D2",
          "x": 3.441026043891908,
          "xshift": 10,
          "y": 13.896449327468872
         }
        ],
        "height": 750,
        "shapes": [
         {
          "line": {
           "color": "#CFD8DC",
           "width": 2
          },
          "type": "line",
          "x0": 3.441026043891908,
          "x1": 3.441026043891908,
          "y0": 3.8492891073226927,
          "y1": 13.896449327468872
         },
         {
          "line": {
           "color": "#9E9E9E",
           "width": 2
          },
          "type": "line",
          "x0": -10.790531587600707,
          "x1": 17.672583675384523,
          "y0": 8.872869217395783,
          "y1": 8.872869217395783
         }
        ],
        "template": {
         "data": {
          "bar": [
           {
            "error_x": {
             "color": "rgb(36,36,36)"
            },
            "error_y": {
             "color": "rgb(36,36,36)"
            },
            "marker": {
             "line": {
              "color": "white",
              "width": 0.5
             },
             "pattern": {
              "fillmode": "overlay",
              "size": 10,
              "solidity": 0.2
             }
            },
            "type": "bar"
           }
          ],
          "barpolar": [
           {
            "marker": {
             "line": {
              "color": "white",
              "width": 0.5
             },
             "pattern": {
              "fillmode": "overlay",
              "size": 10,
              "solidity": 0.2
             }
            },
            "type": "barpolar"
           }
          ],
          "carpet": [
           {
            "aaxis": {
             "endlinecolor": "rgb(36,36,36)",
             "gridcolor": "white",
             "linecolor": "white",
             "minorgridcolor": "white",
             "startlinecolor": "rgb(36,36,36)"
            },
            "baxis": {
             "endlinecolor": "rgb(36,36,36)",
             "gridcolor": "white",
             "linecolor": "white",
             "minorgridcolor": "white",
             "startlinecolor": "rgb(36,36,36)"
            },
            "type": "carpet"
           }
          ],
          "choropleth": [
           {
            "colorbar": {
             "outlinewidth": 1,
             "tickcolor": "rgb(36,36,36)",
             "ticks": "outside"
            },
            "type": "choropleth"
           }
          ],
          "contour": [
           {
            "colorbar": {
             "outlinewidth": 1,
             "tickcolor": "rgb(36,36,36)",
             "ticks": "outside"
            },
            "colorscale": [
             [
              0,
              "#440154"
             ],
             [
              0.1111111111111111,
              "#482878"
             ],
             [
              0.2222222222222222,
              "#3e4989"
             ],
             [
              0.3333333333333333,
              "#31688e"
             ],
             [
              0.4444444444444444,
              "#26828e"
             ],
             [
              0.5555555555555556,
              "#1f9e89"
             ],
             [
              0.6666666666666666,
              "#35b779"
             ],
             [
              0.7777777777777778,
              "#6ece58"
             ],
             [
              0.8888888888888888,
              "#b5de2b"
             ],
             [
              1,
              "#fde725"
             ]
            ],
            "type": "contour"
           }
          ],
          "contourcarpet": [
           {
            "colorbar": {
             "outlinewidth": 1,
             "tickcolor": "rgb(36,36,36)",
             "ticks": "outside"
            },
            "type": "contourcarpet"
           }
          ],
          "heatmap": [
           {
            "colorbar": {
             "outlinewidth": 1,
             "tickcolor": "rgb(36,36,36)",
             "ticks": "outside"
            },
            "colorscale": [
             [
              0,
              "#440154"
             ],
             [
              0.1111111111111111,
              "#482878"
             ],
             [
              0.2222222222222222,
              "#3e4989"
             ],
             [
              0.3333333333333333,
              "#31688e"
             ],
             [
              0.4444444444444444,
              "#26828e"
             ],
             [
              0.5555555555555556,
              "#1f9e89"
             ],
             [
              0.6666666666666666,
              "#35b779"
             ],
             [
              0.7777777777777778,
              "#6ece58"
             ],
             [
              0.8888888888888888,
              "#b5de2b"
             ],
             [
              1,
              "#fde725"
             ]
            ],
            "type": "heatmap"
           }
          ],
          "histogram": [
           {
            "marker": {
             "line": {
              "color": "white",
              "width": 0.6
             }
            },
            "type": "histogram"
           }
          ],
          "histogram2d": [
           {
            "colorbar": {
             "outlinewidth": 1,
             "tickcolor": "rgb(36,36,36)",
             "ticks": "outside"
            },
            "colorscale": [
             [
              0,
              "#440154"
             ],
             [
              0.1111111111111111,
              "#482878"
             ],
             [
              0.2222222222222222,
              "#3e4989"
             ],
             [
              0.3333333333333333,
              "#31688e"
             ],
             [
              0.4444444444444444,
              "#26828e"
             ],
             [
              0.5555555555555556,
              "#1f9e89"
             ],
             [
              0.6666666666666666,
              "#35b779"
             ],
             [
              0.7777777777777778,
              "#6ece58"
             ],
             [
              0.8888888888888888,
              "#b5de2b"
             ],
             [
              1,
              "#fde725"
             ]
            ],
            "type": "histogram2d"
           }
          ],
          "histogram2dcontour": [
           {
            "colorbar": {
             "outlinewidth": 1,
             "tickcolor": "rgb(36,36,36)",
             "ticks": "outside"
            },
            "colorscale": [
             [
              0,
              "#440154"
             ],
             [
              0.1111111111111111,
              "#482878"
             ],
             [
              0.2222222222222222,
              "#3e4989"
             ],
             [
              0.3333333333333333,
              "#31688e"
             ],
             [
              0.4444444444444444,
              "#26828e"
             ],
             [
              0.5555555555555556,
              "#1f9e89"
             ],
             [
              0.6666666666666666,
              "#35b779"
             ],
             [
              0.7777777777777778,
              "#6ece58"
             ],
             [
              0.8888888888888888,
              "#b5de2b"
             ],
             [
              1,
              "#fde725"
             ]
            ],
            "type": "histogram2dcontour"
           }
          ],
          "mesh3d": [
           {
            "colorbar": {
             "outlinewidth": 1,
             "tickcolor": "rgb(36,36,36)",
             "ticks": "outside"
            },
            "type": "mesh3d"
           }
          ],
          "parcoords": [
           {
            "line": {
             "colorbar": {
              "outlinewidth": 1,
              "tickcolor": "rgb(36,36,36)",
              "ticks": "outside"
             }
            },
            "type": "parcoords"
           }
          ],
          "pie": [
           {
            "automargin": true,
            "type": "pie"
           }
          ],
          "scatter": [
           {
            "fillpattern": {
             "fillmode": "overlay",
             "size": 10,
             "solidity": 0.2
            },
            "type": "scatter"
           }
          ],
          "scatter3d": [
           {
            "line": {
             "colorbar": {
              "outlinewidth": 1,
              "tickcolor": "rgb(36,36,36)",
              "ticks": "outside"
             }
            },
            "marker": {
             "colorbar": {
              "outlinewidth": 1,
              "tickcolor": "rgb(36,36,36)",
              "ticks": "outside"
             }
            },
            "type": "scatter3d"
           }
          ],
          "scattercarpet": [
           {
            "marker": {
             "colorbar": {
              "outlinewidth": 1,
              "tickcolor": "rgb(36,36,36)",
              "ticks": "outside"
             }
            },
            "type": "scattercarpet"
           }
          ],
          "scattergeo": [
           {
            "marker": {
             "colorbar": {
              "outlinewidth": 1,
              "tickcolor": "rgb(36,36,36)",
              "ticks": "outside"
             }
            },
            "type": "scattergeo"
           }
          ],
          "scattergl": [
           {
            "marker": {
             "colorbar": {
              "outlinewidth": 1,
              "tickcolor": "rgb(36,36,36)",
              "ticks": "outside"
             }
            },
            "type": "scattergl"
           }
          ],
          "scattermap": [
           {
            "marker": {
             "colorbar": {
              "outlinewidth": 1,
              "tickcolor": "rgb(36,36,36)",
              "ticks": "outside"
             }
            },
            "type": "scattermap"
           }
          ],
          "scattermapbox": [
           {
            "marker": {
             "colorbar": {
              "outlinewidth": 1,
              "tickcolor": "rgb(36,36,36)",
              "ticks": "outside"
             }
            },
            "type": "scattermapbox"
           }
          ],
          "scatterpolar": [
           {
            "marker": {
             "colorbar": {
              "outlinewidth": 1,
              "tickcolor": "rgb(36,36,36)",
              "ticks": "outside"
             }
            },
            "type": "scatterpolar"
           }
          ],
          "scatterpolargl": [
           {
            "marker": {
             "colorbar": {
              "outlinewidth": 1,
              "tickcolor": "rgb(36,36,36)",
              "ticks": "outside"
             }
            },
            "type": "scatterpolargl"
           }
          ],
          "scatterternary": [
           {
            "marker": {
             "colorbar": {
              "outlinewidth": 1,
              "tickcolor": "rgb(36,36,36)",
              "ticks": "outside"
             }
            },
            "type": "scatterternary"
           }
          ],
          "surface": [
           {
            "colorbar": {
             "outlinewidth": 1,
             "tickcolor": "rgb(36,36,36)",
             "ticks": "outside"
            },
            "colorscale": [
             [
              0,
              "#440154"
             ],
             [
              0.1111111111111111,
              "#482878"
             ],
             [
              0.2222222222222222,
              "#3e4989"
             ],
             [
              0.3333333333333333,
              "#31688e"
             ],
             [
              0.4444444444444444,
              "#26828e"
             ],
             [
              0.5555555555555556,
              "#1f9e89"
             ],
             [
              0.6666666666666666,
              "#35b779"
             ],
             [
              0.7777777777777778,
              "#6ece58"
             ],
             [
              0.8888888888888888,
              "#b5de2b"
             ],
             [
              1,
              "#fde725"
             ]
            ],
            "type": "surface"
           }
          ],
          "table": [
           {
            "cells": {
             "fill": {
              "color": "rgb(237,237,237)"
             },
             "line": {
              "color": "white"
             }
            },
            "header": {
             "fill": {
              "color": "rgb(217,217,217)"
             },
             "line": {
              "color": "white"
             }
            },
            "type": "table"
           }
          ]
         },
         "layout": {
          "annotationdefaults": {
           "arrowhead": 0,
           "arrowwidth": 1
          },
          "autotypenumbers": "strict",
          "coloraxis": {
           "colorbar": {
            "outlinewidth": 1,
            "tickcolor": "rgb(36,36,36)",
            "ticks": "outside"
           }
          },
          "colorscale": {
           "diverging": [
            [
             0,
             "rgb(103,0,31)"
            ],
            [
             0.1,
             "rgb(178,24,43)"
            ],
            [
             0.2,
             "rgb(214,96,77)"
            ],
            [
             0.3,
             "rgb(244,165,130)"
            ],
            [
             0.4,
             "rgb(253,219,199)"
            ],
            [
             0.5,
             "rgb(247,247,247)"
            ],
            [
             0.6,
             "rgb(209,229,240)"
            ],
            [
             0.7,
             "rgb(146,197,222)"
            ],
            [
             0.8,
             "rgb(67,147,195)"
            ],
            [
             0.9,
             "rgb(33,102,172)"
            ],
            [
             1,
             "rgb(5,48,97)"
            ]
           ],
           "sequential": [
            [
             0,
             "#440154"
            ],
            [
             0.1111111111111111,
             "#482878"
            ],
            [
             0.2222222222222222,
             "#3e4989"
            ],
            [
             0.3333333333333333,
             "#31688e"
            ],
            [
             0.4444444444444444,
             "#26828e"
            ],
            [
             0.5555555555555556,
             "#1f9e89"
            ],
            [
             0.6666666666666666,
             "#35b779"
            ],
            [
             0.7777777777777778,
             "#6ece58"
            ],
            [
             0.8888888888888888,
             "#b5de2b"
            ],
            [
             1,
             "#fde725"
            ]
           ],
           "sequentialminus": [
            [
             0,
             "#440154"
            ],
            [
             0.1111111111111111,
             "#482878"
            ],
            [
             0.2222222222222222,
             "#3e4989"
            ],
            [
             0.3333333333333333,
             "#31688e"
            ],
            [
             0.4444444444444444,
             "#26828e"
            ],
            [
             0.5555555555555556,
             "#1f9e89"
            ],
            [
             0.6666666666666666,
             "#35b779"
            ],
            [
             0.7777777777777778,
             "#6ece58"
            ],
            [
             0.8888888888888888,
             "#b5de2b"
            ],
            [
             1,
             "#fde725"
            ]
           ]
          },
          "colorway": [
           "#1F77B4",
           "#FF7F0E",
           "#2CA02C",
           "#D62728",
           "#9467BD",
           "#8C564B",
           "#E377C2",
           "#7F7F7F",
           "#BCBD22",
           "#17BECF"
          ],
          "font": {
           "color": "rgb(36,36,36)"
          },
          "geo": {
           "bgcolor": "white",
           "lakecolor": "white",
           "landcolor": "white",
           "showlakes": true,
           "showland": true,
           "subunitcolor": "white"
          },
          "hoverlabel": {
           "align": "left"
          },
          "hovermode": "closest",
          "mapbox": {
           "style": "light"
          },
          "paper_bgcolor": "white",
          "plot_bgcolor": "white",
          "polar": {
           "angularaxis": {
            "gridcolor": "rgb(232,232,232)",
            "linecolor": "rgb(36,36,36)",
            "showgrid": false,
            "showline": true,
            "ticks": "outside"
           },
           "bgcolor": "white",
           "radialaxis": {
            "gridcolor": "rgb(232,232,232)",
            "linecolor": "rgb(36,36,36)",
            "showgrid": false,
            "showline": true,
            "ticks": "outside"
           }
          },
          "scene": {
           "xaxis": {
            "backgroundcolor": "white",
            "gridcolor": "rgb(232,232,232)",
            "gridwidth": 2,
            "linecolor": "rgb(36,36,36)",
            "showbackground": true,
            "showgrid": false,
            "showline": true,
            "ticks": "outside",
            "zeroline": false,
            "zerolinecolor": "rgb(36,36,36)"
           },
           "yaxis": {
            "backgroundcolor": "white",
            "gridcolor": "rgb(232,232,232)",
            "gridwidth": 2,
            "linecolor": "rgb(36,36,36)",
            "showbackground": true,
            "showgrid": false,
            "showline": true,
            "ticks": "outside",
            "zeroline": false,
            "zerolinecolor": "rgb(36,36,36)"
           },
           "zaxis": {
            "backgroundcolor": "white",
            "gridcolor": "rgb(232,232,232)",
            "gridwidth": 2,
            "linecolor": "rgb(36,36,36)",
            "showbackground": true,
            "showgrid": false,
            "showline": true,
            "ticks": "outside",
            "zeroline": false,
            "zerolinecolor": "rgb(36,36,36)"
           }
          },
          "shapedefaults": {
           "fillcolor": "black",
           "line": {
            "width": 0
           },
           "opacity": 0.3
          },
          "ternary": {
           "aaxis": {
            "gridcolor": "rgb(232,232,232)",
            "linecolor": "rgb(36,36,36)",
            "showgrid": false,
            "showline": true,
            "ticks": "outside"
           },
           "baxis": {
            "gridcolor": "rgb(232,232,232)",
            "linecolor": "rgb(36,36,36)",
            "showgrid": false,
            "showline": true,
            "ticks": "outside"
           },
           "bgcolor": "white",
           "caxis": {
            "gridcolor": "rgb(232,232,232)",
            "linecolor": "rgb(36,36,36)",
            "showgrid": false,
            "showline": true,
            "ticks": "outside"
           }
          },
          "title": {
           "x": 0.05
          },
          "xaxis": {
           "automargin": true,
           "gridcolor": "rgb(232,232,232)",
           "linecolor": "rgb(36,36,36)",
           "showgrid": false,
           "showline": true,
           "ticks": "outside",
           "title": {
            "standoff": 15
           },
           "zeroline": false,
           "zerolinecolor": "rgb(36,36,36)"
          },
          "yaxis": {
           "automargin": true,
           "gridcolor": "rgb(232,232,232)",
           "linecolor": "rgb(36,36,36)",
           "showgrid": false,
           "showline": true,
           "ticks": "outside",
           "title": {
            "standoff": 15
           },
           "zeroline": false,
           "zerolinecolor": "rgb(36,36,36)"
          }
         }
        },
        "title": {
         "font": {
          "color": "Black",
          "size": 22
         },
         "text": "<b>Documents and Topics</b>",
         "x": 0.5,
         "xanchor": "center",
         "yanchor": "top"
        },
        "width": 1200,
        "xaxis": {
         "visible": false
        },
        "yaxis": {
         "visible": false
        }
       }
      },
      "text/html": [
       "<div>                        <script type=\"text/javascript\">window.PlotlyConfig = {MathJaxConfig: 'local'};</script>\n",
       "        <script charset=\"utf-8\" src=\"https://cdn.plot.ly/plotly-3.0.0.min.js\"></script>                <div id=\"1ff41f33-21f8-4f50-a8cc-828566cd95bd\" class=\"plotly-graph-div\" style=\"height:750px; width:1200px;\"></div>            <script type=\"text/javascript\">                window.PLOTLYENV=window.PLOTLYENV || {};                                if (document.getElementById(\"1ff41f33-21f8-4f50-a8cc-828566cd95bd\")) {                    Plotly.newPlot(                        \"1ff41f33-21f8-4f50-a8cc-828566cd95bd\",                        [{\"hoverinfo\":\"text\",\"hovertext\":[\"terms conditions access find\",\"primary question ofthis present study moral behavior under- standing display preschool aged sib- ling interact young sibling home see interaction mixed age child care center\",\"terms conditions access find\",\"student work small multi group change relation number old child participate group\",\"ence home- center care pre- school child understanding moral social transgression find home- care child likely under- stand recognize moral transgression social transgression child attend center care redacted\",\"searcher hypothesize preschool child nurture help young peer prosoc behavior include moral behavior positively late attend child development ori- ente mixed child care center\",\"child moral development conduct environment e.g. redact nucci,1987 research investigate effect mixed grouping child moral behavior example research find preschooler attend program mixed grouping display coopera-\",\"stigat wheth preschool childr moral help behav- ior relate young peer direct ernal state languag talk young peer redact want redact perspective take skill attendance child developm orient mixed child care center redacted enty- pair child old peer youngerpeer otape whil play toy puzzl pre ente singly result indicat moral help behavior positively significan relate frequency vocal turn young peer perspective- abilit length redacted mixed center datum support developmental notion perspectiv take ability relate mixed group settin facilitate young child demonstration understanding ect moral development help behavior perspectiv take ability\",\"student learn interact teacher interest educational researcher practitioner highly evaluate goal redact social skill individual allow participate learn activity small group learn redact redacted suggest child knowledge idea develop interaction view social interaction capable peer play role under- stand meaning concept learning achieve student need learning environment promote interactive learning process preferably low grade education redact heart view learn situation context learning take place take consideration\",\"Arya Ansari a , \\u204e , Kelly M. Purtell b\",\"Natalia M. Rojas   a , * , Rachel M. Abenavoli   b\",\"reproduction distribution work permission provide original work attribute specify sage\",\"terms conditions access find\",\"Linda  E.  Derscheid N orthern  Illinois  Univ er sit y\",\"hypothesize preschool child moral behavior attend mixed center care relate preschool child understanding\",\"child participate mixed group likely child attend group classroom need investigate mixed group preschool child moral behav- understanding\",\"terms conditions access find\",\"permit unrestricted distribution reproduction medium provide original work properly cite term\",\"terms conditions access find\",\"terms conditions access find\",\"terms conditions access find\",\"terms conditions access find\",\"benefit especially area socioemotionaldevelopment includingmoral prosocial development involve coopera- tion nurture help behavior\",\"Elles J. de Schipper   a , J. Marianne Riksen-Walraven   a , \\u2217 , Sabine A.E. Geurts   b\",\"terms conditions access find\",null],\"marker\":{\"color\":\"#CFD8DC\",\"opacity\":0.5,\"size\":5},\"mode\":\"markers+text\",\"name\":\"other\",\"showlegend\":false,\"x\":{\"dtype\":\"f4\",\"bdata\":\"OyAWweOkFkE5IBbBY2MjQcmrF0FiWxdBYCQXQa2NF0HiGTtB8SpOQVxbTEFVrWJBNiAWwVHdS0HGARdBYE8WQSkgFsGMNGJBJyAWwcofFsEPIRbBSiAWwQxbF0Hpw0tBVyAWwYa1bEA=\"},\"y\":{\"dtype\":\"f4\",\"bdata\":\"0YSeQIKGrkDvhJ5AN0vIQGX\\u002frEAkZ65Aio6tQMiUrkCVSBZB+s0LQdl3CkFUog5BHIWeQBl7CUHXsa1AqhawQDGFnkAZaw5BYYWeQMmHnkBvf55AkYSeQEZerkAYgwlBVYSeQFzvx0A=\"},\"type\":\"scattergl\"},{\"hoverinfo\":\"text\",\"hovertext\":[\"redact math skill redact child lan- guage skill find relate self- regulation development contribute child ability function effectively class- room environment redact redact redact redact\",\"socialization cognitive development peer interaction redacted idea base belief young child bene family like experience preschooler help classroom young child help old child redacted argue large range mixed classroom cult teacher provide developmentally appropriate activity child great variation child skill need redact redact\",\"caregiver school year hallmark mixed classroom bene cial child early learning development redact redact redact redact contend type setting likely conducive child give demand associate mixed education redact purpose current investigation address compete hypothesis examine academic implication have redact erent peer role tea- cher continuity evaluate bene drawback mixed classroom head start type longitudinal empirical inquiry grow importance give fact scholar profes- sional national association promote mixed grouping bene cial child early childhood program little evidence support type educational programming redacted\",\"redact redacted same- versus mixed group redact point time sampling procedure study investigate time child same- versus mixed group spend form social participation relationship child mixed\",\"relate classroom composition academic redact social emotional behavior skill redact redact study find mixed classroom negative effect old child difference mixed classroom young child acquisition academic skill redact overall development redact particular compare old child classroom old child mixed classroom show low level total social motor cognitive redact math language literacy redact skill\",\"room prekindergartener small gain math liter-\",\"preschool burchinal redact high quality preschool influence child learning development domain include child motivation learn socioemotional behavioral skill development positive peer relation\\u00ad ship redact redacted teacher child interaction quality characterize teacher practice behavior social interaction child instructional practice redact domain teacher child interaction quality recognize critical contributor child learning development emotional support class\\u00ad room organization instructional support redact emotional support characterize warm sensitive responsive individualized interaction redacted organization define teacher structure manage classroom activity routine material support child self regulation attention engagement learning finally instructional support reflect teacher cognitively stimulating practice child encouraging problem solve high order reasoning advanced language redact date substantial literature examine predictor quality program- teacher level preschool setting e.g. redacted redact rarely association child behavior teacher child interaction quality examine\",\"study classroom\",\"example redacted observe mixed classroom young old child engage parallel play interactive play redacted similarly mixed- classroom parent teacher comparison base focus child individual whale kantor result decrease competition peer focus mastery orient goal mixed classroom find especially beneficial child disability benefit decrease comparison competition focus individual goal natural mixed classroom redact\",\"combine child single class common center base pre- school mixed classroom widely preschool center especially head start redact redact redact redact believe develop- mentally appropriate preschooler classroom redact redact hartman evidence mixed mixed classroom relate bet- outcome preschooler redact redact hightower account previous work peer skill consider study classroom composition great variation peer skill average mixed classroom classroom fairly consistent evidence indicate peer skill redacted ence\",\"velopment embed social interaction teacher peer conjunction physical interac- tion object main resource mechanism child achieve high level skill importantly way child engage teacher peer task positive negative redact redact redact olson prior study concep- tualize child classroom engagement distinct construct redact sabol dimen- sion positive engagement teacher capture child emo- tional connection communication teacher degree child seek proximity teacher second dimension positive engagement peer refer child initiation maintenance positive interaction classmate include successful initiation conversation play dimension positive engagement task tap degree child orient class- room activity remain focus activity extended period finally fourth final dimension negative classroom engagement include child conflict teacher peer display task dysregulated behavior redacted take aspect engage- ment collectively reflect way child engage experience classroom setting\",\"perience challenge provide appropriate literacy stimula- tion didactic instruction redact challenge expe- rience teacher young child hav- relatively low skill average result exposure effective instruction old child class- room redact redacted particular reduce exposure richness variabil- vocabulary syntactic structure redact redact redact redact furthermore study examine inter- actional quality conclude teacher teach young child teach diverse setting display low quality interac- tion redacted pianta redact redact redact engage positive interaction old well behave child vitiello pothesize child classroom old peer positive engagement teacher compare chil- dren classroom young peer\",\"mix group early childhood education setting support child language development\",\"redacted same- versus mixed group\",\"watch old child young child develop skill redacted resolution important life skill courtesy manner redacted\",\"extent classroom composition influence\",\"ment previous study show child positive negative engagement teacher peer task uniquely predictive early school success include language literacy development redact sabol redact importantly association effect global classroom quality unit change child classroom engagement equal |0.02 0.15| unit growth language skill |0.02 0.38| unit growth literacy skill sabol take domain classroom engagement shape\",\"case mixed multi group- recently redacted redact redacted ofthe research finding report indi- cat partici pation mixed agegroup tend benefit young partici- pant\",\"redact old preschool old preschool\",\"student redact study group student form feel number provide good opportunity interaction member allow different combination group child probability interact group assume few young old child group young child high probability interact old purpose study vary number young child group class keep total size group group class composition\",\"current study include redacted erent aspect peer group compo-\",\"suggest young child large gain mixed classroom old chil- dren large gain class- room researcher examine redacted uence classroom composition appear agree mixed classroom caution particularly negative result concern old child redact redact redact con- redacted icte evidence suggest examine class- room factor necessary well understand composition impact pre- school child development\",\"play behavior datum free play time child observe second\",\"peer interaction young child worthwhile endeavor theoretical practical reason term theory redact redact work suggest differential effect child cognitive social development asymmetric redacted oppose symmetric redacted peer interaction redact redact redact redact redact redact redact redact interaction redacted peer likely equal term knowledge skill power think provide unique context child engage resolve cognitive conflict stimulate cognitive social moral development redact redact redact interaction old competent child see optimal context facilitate cognitive behavioral development accord redacted social learning cognitive theory redact redact redacted 1930\\u20131935\\u002f1978 interaction young child think afford old child opportunity practice develop prosocial self regulatory leadership skill redact redact redact redact redact redact hartman redact redact redact redact redact old socially withdraw child opportunity facilitate social participation social skill redact redact redacted important note connection research explore effect composition child peer interaction conduct laboratory quasi laboratory setting e.g. place child age ability level room task observe happen understand dynamic redacted redacted peer interaction occur naturalistic setting early childhood classroom\",\"mixed classroom promote school readiness outcome addition date level peer skill classroom examine potential mediator despite logical argu- ment peer skill old preschooler high classroom mixed class- room young preschooler high mixed classroom classroom study aim address issue consider peer language behavioral skill examine mixed classroom promote skill old young preschooler\",\"continuity change classroom composition achievement head start\",\"classroom redact redacted inter- estingly type setting family characteris- tic participant explain difference nding study\",\"behavioral development important implication child later success school setting able comprehend language foundational child ability navigate academic social context classroom chil- dren language skill link chil- dren\",\"classroom high peer language low peer behavior problem relate well school readiness outcome child peer skill partially\",\"child care group redacted observe naturally occur class consist- mixture mixed group spend time solitary play time parallel play teacher direct activity counterpart group mixed group spend time parallel play group mixed group playmate choice likely influence partner gender field observe same- mixed group report mixed group result verbal interaction imitation fantasy play redacted redact find interactive functional play mixed group child conversation parallel functional interaction group younger child engage dramatic play negative interaction mixed group\",\"example researcher show presence young child fos- development caretaking behavior redact prosocial behav- ior redact communicative skill redact intellectual skill old child redact\",\"child separate\",\"teacher child interaction quality diverse sample redact start program potential mixed classroom common model preschool program increase decrease challenge teaching classroom high level classroom problem behavior follow research question examine\",\"child attend kindergarten\",\"redact toddler teacher thumb accident report clipboard incident biting scratch deep draw blood bump head report parent brace reaction\",\"young child imitate old sibling imitate old child\",\"have child multiple age preschool classroom common practice compo- sition show shape child learning little understanding mech- anisms link composition child development study examine extent classroom composition shape child classroom engagement mediate role classroom engagement link classroom composition child language literacy gain datum draw teacher professional development study study classroom find positive engagement teacher mediate associ- ation classroom composition child vocabulary gain specifically classroom great number young classmate experience positive engagement teacher turn contribute small vocabulary gain addition great number old classmate associate low negative engagement classroom result discuss relation explore critical role child individual level classroom perience mixed preschool classroom\",\"old redacted national survey redact suggest previously regard association composition early childhood classroom child school performance empirical evidence mixed scholar document positive impact classroom enroll different child blasco redact redact redact redact redact redact redact redact document largely null negative association redacted redact redact redact redact\",\"child interaction quality base theoretical limited empirical literature direction hypothesis remain exploratory give limited prior research theory plausible negative association classroom level problem behavior teacher child interaction quality pronounced mixed classroom classroom serve association pronounce existent prior study suggest manage classroom wide range age diverse need challenge redact uniquely stressful teacher redact mixed classroom broad range behavior developmental skill negatively relate teacher ability provide high quality instructional support emotional support classroom organization example redacted redacted find teacher teach mixed classroom demonstrate optimal teacher child interaction quality plausible mixed grouping negatively relate teacher child interaction quality redacted redact classroom- level problem behavior negatively relate teacher child interaction quality redact challenge magnify combination result low teacher child interaction quality\",\"mixed- multi classroom similar family setting mixed sibling child attend mixed child care\",\"period shape child long term life success redacted redact redact\",\"dren collaborate child appear bene mixed grouping play context classroom toddler preschool school chil- dren empirical study suggest possible cost old child classroom redacted extensive qualitative datum interaction adolescent age child demonstrate advantage mix direction parent concern safety chil- dren mixed play redact redact teacher bene risky play mixed aged outdoor play button wilde paucity research relate mixed play outdoors recess grow play club handful researcher redact redacted redact assess parent teacher child perception mixed play context classroom outdoor play\",\"attention pay association child internalize behavior teacher child interaction quality\",\"classroom redact redact multi advocate claim presence old child create social context courage fruitful collaboration novice expert gold-\",\"classroom composition face head start peer effect school readiness\",\"report base experimental program con- ratory research support grant redacted redact assistance collect datum teacher child redact cooperation\",\"collaboration communication critical thinking creativity content knowl- edge confidence increasingly see essential child future success redact skill explicitly teach class- room learn child engage unstructured play redact redacted redact especially child redacted age redacted stress importance social environment social interaction particularly skilled child cognitive development play critical learning experience shape mental process lay foundation child successful functioning come redact\",\"multi classroom context need identify way mixed group child construct collaborative context create zone previous research give insufficient attention type collaboration child support learning\",\"science education large number study instructional practice give\",\"grouping institu- tion consider give question experiment state regulate grouping young child ensure safety foster ecological system theory bronfenbrenner\",\"result happen child experience type program old child unclear\",\"compare child disruptive problem behavior like externalize hyperactivity behavior child inter\\u00ad nalizing symptom receive attention teacher problem apparent difficult detect redact teacher comfort child struggle internalize problem increase child anxiety withdrawal symptom negatively impact teacher child interaction quality redact redacted find high average level internalize behavior classroom significantly predict relational conflict teacher child suggest classroom level internalize behavior negatively affect emotional support child internalize behavior function child ability manage emotional distress expect strongly link quality emotional support classroom\",\"natural play pattern child constitute rich source information\",\"participant study draw teacher pro-\",\"mixed class- room relate child outcome compare classroom mixed classroom great variability classmate peer skill determine old child tend skilled young peer\",\"developmental outcome child multigrade\",\"injury leave feel inadequate wonder long continue toddler teacher\",\"high level physical contact toddler injury despite teacher vigilant effort issue preschooler engage enthusiastically learn activity tend compete acknowledgment creation big good\",\"redacted prior study show weakness receptive expressive vocabu\\u00ad redacted associate early decode difficulty later read difficulty redact redact phonological awareness define sensitivity ability manipulate sound structure find significant predictor reading skill redact redacted finally child knowledge convention form write language print knowledge find predict reading acquisition control phonological awareness redact redact\",\"learn science small multi group role composition\",\"old one old student young student work closely engage learn activity young student seek imitate behavior model old one redact young child imitate academic social behavior demonstrate old child redacted maintain interest- child child skill like acquire addition unintended natural modeling old student provide direct instruction young one goularte note student show task introduce concept allow practice skill develop nurture behavior\",\"engagement teacher peer task classroom\",\"part study carry apart primary\",\"classroom e.g. redact redact know predictor importantly recent study show characteristic child classroom predictive physical literacy environment instance redact find preschool classroom serve high percentage dual language learner dlls low quality physical literacy environment important characteristic composition preschooler vary greatly redacted redact composition classroom\",\"playground neighborhood adventure playground root principle redact redacted redacted taylor redact redacted child center approach outdoor play mixed grouping pro- fessional nondirective redacted approach support playworker school park range setting redact adventure playground provide free multi play space help child develop creativity confidence minimal adult supervision wide range culturally diverse mixed aged child play playworker understand child play unadulterated agenda accord redacted redacted]er leave child free play intervene carefully measure way support play process old young child bene play adventure playground old child role tutor nurturer mediator redacted ict play young child learn skill develop positive self esteem old young child challenge learn risk socially interact recycled material call loose part\",\"importance peer interaction interpret redact sociocultural theory\",\"peer interaction preschool classroom refer process young child exercise action influence verbal verbal means redact peer interaction peer relationship preschool classroom significantly facilitate young child cognition language social skill redact redact redacted positive peer interaction help child gain sense belonging security promote social communication skill redact psychological adaptability redact exist study peer interaction tend focus value peer interaction characteristic peer interaction factor influence peer interaction peer interaction skill intervention training believe educator sufficiently equip support peer interaction redacted redact classroom possible maximize positive peer influence redact redacted\",\"encourage educational standpoint typically arise economic\",\"expect major influence social participation group child experi- mental program\",\"redacted grouping emphasize homogenous relate expectation child redact redacted\",\"interaction quality head start program moderation composition\",\"effort enhance child development high quality preschool experience primarily focus social interaction emphasize redacted bioecological theory redacted morris research show inconsistent association preschool classroom social interactional quality child emergent literacy skill burchinal redacted call attention aspect classroom experience highlight bioecological theory redacted morris object symbol available child play unique predictive role development redact altun redact include availability display arrangement literacy material book print source write instrument altun redact redact call reflect fact literacy environment predictive child outcome malleable teacher social interaction markussen- brown\",\"dynamic zone proximal development multi classroom present context learn differ markedly teacher center instruction norm redacted redacted develop concept zone redacted point redacted great theory maker redact redact redact like idea situate time like good idea point future discipline\",\"datum family child experiences survey cohort 1073 study consider implication mixed education young child academic achievement experience con- tinuity and\\u002for change classroom composition redacted start result analysis reveal child classroom great number young child redacted start exhibit few gain mathematic language literacy additionally chil- dren transition classroom largely old classmate classroom largely peer exhibit great gain academic child experience mixed classroom stability child teacher hallmark mixed programming associate child academic achievement attenuate negative consequence mixed classroom\",\"overall performance young child class number old one participate group class composition group signi cantly affect overall cognitive achievement young child preferentially determine time factor reach maximum value nding utilize decide composition small group class facilitate young child learning science\",\"redact view interaction necessary tool create zone proximal development particular learner redact accord redact young child develop cognitively socially peer interaction vygotsky peer interaction facilitate young chil\\u00ad dren learning development domain important theoretically practically understand peer interaction differ mixed redact redacted preschool classroom study reveal difference young child peer interaction redacted redacted classroom potential reason difference propose pedagogical recommendation support peer interaction young child\",\"center grantee randomly assign control condition treatment condition treatment\",\"enrich content student challenging child different point development take theoretical empirical evidence sug- gest potential positive influence mixed classroom child development universal understand condition child benefit setting imperative\",\"classroom find present academic challenge old child redact redact redact child display low score social motor cognitive development great variability class redact addition researcher find child engage complex form play classroom roopnarine find child engage solitary play participate teacher direct activity classroom redact furthermore study find mixed classroom young child involve negative interaction redacted redact old child detach display onlooker behavior redact research finding conclusive come compare effect mixed classroom young child\",\"peer teacher child interaction central positive academic experience\",\"learning transactive phenomenon exist situation create teacher social interaction skill allow individual bene opportunity learn teacher create environment student collab- orate peer adult redact example environment small mixed ability cooperative group support extensive evi- dence numerous study e.g. redact redact redact redact redact redact student small heterogeneous group help share support learning member provide information prompt cue encouragement response child need redact redact aware peer need teacher explain problem readily understand redact find child achieve work small group class attain high academic outcome motivated achieve redact redact\",\"preschool child enrol some- mixed- care classroom\",\"intend increase heterogeneity group capitalize difference knowledge ability experience child study suggest mixed group young child capable participate contribute complex activity initiate redacted report research social bene indicate child early associate different expectation different group example young child assign old one instructional leadership helpful sympathize role old\",\"researcher examine mixed outdoor play private school redact elementary school playground redact adventure playground redact find social emotional bene mixed play redacted redacted code vignette mixed play interaction observe adolescent old young child redact vignette redacted redacted analyze vign- dren interact shared enjoyment vigorous physical play adolescent olde interact young child help exercise physical skill able exercise mate\",\"extant research focus teacher child interaction quality relate child skill behavior example emotionally\",\"great deal variability composition redacted preschool classroom preschool program tightly restrict range age classroom e.g. program permit case promote wide range age classroom e.g. year variability practice follow lack consen- theoretical empirical literature effect composition classroom individual learning research effect classroom composition indi- vidual growth theoretical writing pioneer field early childhood development redacted redact odd respect predict impact exposure individual child peer variant age cognitive social development redact redact hartup redact redact redact redacted redact\",\"school classroom redact redact redact young child bene old child read write number incorporate skill social play old child literate numerate tend redact young peer acquire skill reading math write play scenario redacted find mixed group kindergarten second grade kindergarten child engage twice literacy activity play sociodramatic\",\"teacher child empirical investigation perceive stress level child teacher facil- itie publish alent mixed classroom relative restrict setting field redact redact hartup redact redact mixed- context play powerful role gender peer playmate selection society level long term promotion gender equality well serve preschool move great diversity term classroom composition argument highly speculative pirical exploration relation preschool classroom composition attitude relate gender equality conduct finally research support notion mixed peer interaction occur naturally outside classroom context redact observational study redact child age find target child peer observation record compare observation involve mixed peer interaction child differ finding relate naturalistic social interaction inconclusive extent peer accessibility child actively seek companionship mixed peer goldman research mixed- versus preschool classroom demonstrate mixed- classroom significantly influence choice naturally well suited develop context mixed group redact redacted\",\"theory social learning redact cognitive development redact guide investigation contend interaction child peer i.e. peer effect primary mechanism classroom experience affect student development example theory suggest classroom ecology high skilled old chil- dren directly promote early learning develop- ment lower skilled young peer child child transmission support theoretical argument lay redacted redacted number study find child classmate shape individual development redact redact redact redact kaderavek redact redact redact redact redact time developmental educational scholar suggest considerable nuance peer ecology careful attention pay individual characteristic child family e.g. redact redact way peer ecology intersect aspect classroom environment e.g. redact redact redact redact redact\",\"additional study examine play behavior context large\",\"participation parent young child especially woman redact foster early developmental\",\"psychological science 2016 redact 27(1 53\\u00ad\\u201363 redacted permission pss.sagepub.com\",\"classroom redact edu- care enhanced head start program design support child birth fami- lie provide high quality early childhood edu- cation family support service main component redacted model datum utiliza- tion high quality teaching practice embed pro- fessional\",\"preschool classroom influence level problem behavior display e.g. redact redact high rate classroom level problem behavior negatively correlate aspect teacher child interaction quality teacher ability execute instructional activity plan time attention devote continuously deal behavioral issue redact researcher policymaker focus role teacher e.g. qualification training teacher child interaction quality little work consider characteristic child include ability regulate behavior influence quality school despite evidence child contribute classroom environment redact redact redacted\",\"researcher present datum con- cerne peer interaction preschool group alternative mixture example redacted redacted report chil- dren mixed group sociable peer spend time interact adult contrast redact redact redacted redacted port child mixed group sociable peer spend time adult redacted redacted study meaning result concern sociability clear case score sociability dif- ferentiate interactive associative cooperative play noninteractive watch- proximity parallel play aspect social participation\",\"study kindergarten class contrast early learning attend multigrade\",\"researcher study interaction facilitate learning factor lead different pattern interaction redact factor number participant small learning group redact find child bene small group work contingent group size composition redacted redacted suggest group comprise member able interact directly factor prove important member small group redact redact redacted maintain socialization mixed group serve child way socialization note mixed group require accom- modation individual developmental level differ find learn usually take place interaction old child young one\",\"parent grandparent grow segregate school system make contemporary school system natural universal child organize age grade proceed school system sequential grade level curricula accord redacted redacted segre- gation schooling found factory model product industrial revolu- tion permeate world learning see sequence discrete skill complex child assume term development need child child redacted public school typically outside recess break play peer class opportunity school play child grade\",\"teacher class take study member work group\",\"address gap knowledge datum redacted survey faces cohort examine classroom composi- tion affect school readiness threshold association classroom composition child school readiness strong weak address question poise answer basic developmental question role peer effect early care education program policy question implication mixed class- room head start child nation\",\"multilevel modeling approach investigate influence composition urban preschool classroom series hierarchical redacted model demonstrate great variance classroom composition negatively relate development redact cognitive redact social subscale true control class size general classroom quality socioeconomic status classroom level gender baseline ability child level additionally address possible concern relate nonrandom assignment classroom series model include variance developmental i.e. baseline ability classroom level child level result consistent chronological composition developmental composition classroom level great variance classroom developmental composition negatively relate redacted score cognitive redact social subscale furthermore cross level interaction indicate negative influence great variance classroom developmental composition strong child old developmental implication early childhood education policy discuss\",\"mixed- room old child mixed room spend time solitary play time teacher direct\",\"classroom serve preschooler kindergartener kindergarten classroom note\",\"classroom redacted]-supporte classroom enroll child redacted context research\",\"mixed free play elementary school perception student teacher parent\",\"modeling process young child pick behavior observe\",\"child redacted classroom well peer relationship group structure counterpart redacted classroom\",\"child behavior aggregate level relate teacher child interaction quality work examine role mixed classroom i.e. serve child different age classroom roughly head start classroom redact little research explore mixed classroom relate teacher- child interaction quality relationship classroom level problem behavior teacher child interaction quality give developmental trajectory child regulatory capacity preschool period different expectation classroom behavior child vary age process unfold differently classroom serve young e.g. old e.g. child study aim elucidate problem behavior average child classroom contribute teacher child interaction quality mixed head start classroom classroom serve result study assist head start preschool program well understand child behavior relate teacher child interaction quality practically finding provide idea potential professional development ongoing support teacher help manage problem behavior improve overall teacher child interaction quality\",\"mixed classroom redacted find child mixed preschool classroom significantly decrease time spend interact- peer different result study suggest child prefer interact peer place mixed classroom base child care program find long spend mixed child care program frequently speak peer match force pairing author conclude mixed preschool setting facilitate child social development turn increase talk old young child limitation study force pair naturalistic obser- vation classroom dynamic interesting note available research present con- flicte finding experience child mixed- classroom setting difficult extrapolate work classroom composition influence child language development time possible instance speculate base redacted finding variation classroom composition i.e. mixed- classroom little impact child language growth setting child tend interact peer\",\"train researcher i.e. author psychology master student visit\",\"interest understand unique redacted uence classroom\",\"researcher identify simultaneous benefit young old child\",\"term practice redacted grouping enjoy renew popularity early\",\"peer explicitly take account role peer skill child interact peer play educational activity redacted uence peer skill way accord peer- effect framework redact redact redact redact kaderavek redact redact redact child redacted ence peer direct effect path- example child directly learn peer skilled give area child redacted uence peer ability indirect effect pathway change classroom environment occur accom- modate child vary skill level example child bene behaviorally skilled peer likely disrupt class learning activity redact\",\"present study secondary datum collect cluster randomize control trial head start classroom-\",\"come child mixed classroom pro- vide inconsistent evidence early study involve classroom result small sample size conduct wide variety setting include head start center private community sponsor preschool univer- sity base center addition early study look classroom composition binary variable study report well out- come mixed classroom young child redacted redact redact redact contrast nding incon- sistent old child study report old child well outcome mixed classroom redacted redacted similar outcome mixed classroom mounts roopnar- redact posi- tive\",\"redact applied developmental psychology 2002 305\\u2013330\",\"similarly argue youn- child expose socially diverse peer group redact old competent peer young child potentially position learn social cognitive skill peer tutoring observation imitation competent behavior\",\"research report paper small scale exploration study design carry real classroom setting part school par- ticipate study class school school different urban area central northern redacted attend student socioeconomic background\",\"redacted believe child likely construct knowledge problem solve exchange idea peer similar skill ability accord redact old child modeling young child imitation young child miss opportunity create knowledge addition old child lack challenging opportunity test problem solve skill contrast group peer similar level social power able gain social skill learn negotiate resolve dispute equal\",\"set variable choose study\",\"peer effect important early childhood class- room direct effect pathway redacted redacted pathway child directly influence peer ability perspective hypothesize mixed classroom beneficial young child deleterious skill development old child second indirect effect pathway teacher modify classroom practice accommodate wide range skill level lead challenging content potential disengagement old child redact pathway particularly salient consider child behav- have wide range behavior classroom high concentration problem behavior challeng- teacher manage redact redact teacher mixed classroom spend time classroom management activity facilitate child learning pathway peer effect feasible evi- dence mixed preschool classroom ambiguous study document posi- tive effect redact redact redact redact redact redact redact redact oth- document null negative association redact redact redact redact hightower redact redacted give conflict evidence remain unclear child benefit mixed- versus restrict classroom advantage apply young old child\",\"peer effect framework redact redact redact redact kaderavek redact redact redact guide study con- trast evidence effect teacher chil- dren literature peer effect child learning directly affect class- mate shallow especially preschool year understand role peer effect period critical classroom instruc- tion early care education program occur peer interaction group activity oppose teacher direct instruction redact redacted omission peer effect past evaluation head start leave critical knowledge fact classroom composition main reason head start program document effective old child young child redact redact redact redact vandell redacted possi- bility test\",\"classroom composition important factor consider show shape\",\"redacted mixed redacted kindergarten classroom observation base redact\",\"composition different way pro- portion young child standard devia- tion child age give classroom redact redact redact green bulot- shearer\",\"peer interaction provide opportunity young child gain social practice experience build healthy peer relationship eventually profoundly impact socio\\u00ad emotional development blerta peer interaction include interaction peer mixed peer preschool classroom world arrange have peer interaction important routine early childhood program consequently young child classroom suffer lacking mixed peer interaction problem redact implement child policy redacted child child family redact mean redacted child deprive opportunity have mixed peer interaction home preschool unfortu\\u00ad nately negatively impact social development zhang recently redacted pre\\u00ad school try promote mixed classroom provide mixed peer interaction redact significant difference peer interaction pattern mixed- redact redacted preschool classroom redact accordingly urgent need explore similarity difference type peer interaction redact context provide educational implication implement mixed classroom policy redact fill study videotape compare redact redacted classroom redacted preschool aim reveal pattern difference associate factor subsequently\",\"mental period last redacted uence life course spearhead expansion preschool education country redact redact program expand include child age classroom e.g. recent national estimate reveal quarter child head start large federally fund pre- school program redacted enrol mixed class- room redact redacted national estimate reveal majority public private preschool program serve and\\u002for erence old young student classroom national geste large proportion preschooler redacted experience mixed education large number mixed- classroom country remain unclear program design provide child multiple year velopmentally appropriate educational opportunity fact date mixed education literature focus child classroom experience year program\",\"young child benefit expose model behavior old child redact support redacted redacted find toddler interact slightly old peer young child exhibit complex language engage complex play family childcare setting redacted redacted similarly find toddler play partner old peer engage complex social play advocate mixed classroom posit old child benefit exposure young child redact redacted example setting old child position readily practice prosocial behavior redact redact leader- ship skill redact redact redact give elevated status mixed group interaction redacted find old child mixed elementary school setting serve mentor young child spontaneously ask specific benefit link mixed peer interaction specific i.e. relevant young old child advocate mixed- classroom maintain specific advantage pre- sumably pass child progress program i.e. young child old child classroom egalitarian ethic preserve research suggest additional benefit mixed classroom child regardless example search redacted suggest mixed preschool classroom engage significantly parallel oppose interactive form play relative classroom investigation redacted kaplan find old young child mixed preschool classroom exhibit great interactive functional play parallel functional play relative classroom redact redact redacted argue interactive play represent mature level play classroom facilitate mature play optimal social cognitive development redacted redacted suggest mixed classroom help lessen likelihood parent caregiver comparison child term development instead mixed room allow parent focus child develop- ment individual mixed classroom crease competition peer focus child instead mastery orient goal study conduct chil- dren adolescent college student confirm focus individual standard i.e. mastery goal optimal term maintain intrinsic motivation achievement classroom redact redact review blasco redacted redacted find child developmental disability particular likely engage mastery play enrol mixed setting redacted redacted speculate benefit tend child teacher result family climate continuity care foster mixed classroom climate encounter move restrict class- room large childcare facility stressful\",\"redact examine parent teacher child perception social behavior mixed aged classroom redacted survey attitude child parent multiage primary level age program parent feel positively multiage structure social academic pro- gress child parent concern old and\\u002for gifted child adequately challenge student similar view child prefer grade classroom express concern help young child redacted teacher perception preschool mixed aged grouping post developmental framework explore investigate complexity issue associate multiage grouping redact teacher understand multiage group support child learning assist child manage- ment positive peer group relation reduce stress work chronologi- cally base grouping redacted redacted teacher rating scale examine child social behavior multiage classroom grade sixty- percent middle income family thirty- percent income home result suggest signi positive prosocial behavior speci cally aggressive prosocial friendship behavior teacher note few child experience social isolation aggressive behavior signi cantly mixed aged classroom\",\"center ongoing professional development head teacher group discuss issue concern child family staff develop action search project study concern apply research practice concern focus\",\"group describe relation- ship playmate mixed group\",\"mixed room compare room recipient prosocial hostile behavior find redact\",\"redact problem behavior display child negatively affect teacher child relationship place extra burden stress teacher stress evoke negative affective behavioral cognitive response teacher child redacted redact undermine teacher child interaction quality introduce burnout cascade response teacher child behavior teacher response behavior continue worsen time teacher child\",\"group wide range redacted redacted describe play grouping school child redact find old student serve role model show responsibility behavior role model interaction old adolescent school child zone proximal development accord redacted mixed grouping allow old child occasion practice nurture leading old child mature one interaction bene practice nurturance leadership demonstrate kindness compassion child young\",\"young child potentially harmful old child begin explore possibility study consider question classroom average peer skill account anticipate inter- action classroom composition child group effect peer likely complex possibility child close peer play particularly important role child development present analy- step well understand role classroom composition peer skill variable jointly consider\",\"central argument favor restrict range preschool classroom concern desire provide child optimal degree challenge utility specialization meet goal criticism levy mixed classroom favor restrict pre- school grouping concern development appropriate curriculum staff training specifically teacher training curriculum uniquely focused developmentally appropriate restricted range child quality classroom climate high room facilitate mature form play redact redact redact redact researcher find evidence contrary suggestive complex effect highlight example redact observe social nonsocial dramatic play preschooler attend same- relative mixed classroom social constructive nonsocial manipulative play see mixed- classroom redact maintain dramatic play complex form play relative manipulative play suggest classroom facilitate sophisticated play behavior redacted kaplan report find great incidence interactive mature form play mixed preschool classroom relative classroom\",\"preschool head start problem behavior teacher child interaction quality mixed classroom\",\"present work concerned learning science child early-\",\"light expansion preschool education redact particularly form state fund pre- kindergarten program braid blend funding early childhood education great deal heterogen- eity age child serve program classroom redact redact program serve early childhood classroom serve child age span e.g.\",\"unfortunately majority study conduct laboratory set- ting child observe dyad triad tell little child interaction classroom setting nonetheless indicate mixed interaction different teraction important way redact\",\"mixed grouping redacted uence young child social development prosocial behavior gray redact redact redact old child mixed classroom setting learn patience tolerance role model young child young child play complex way behave maturely redact redact redact\",\"research single case study redact redacted public elementary school\",\"examine happen head start happen child spend mixed- classroom type empirical analysis important plication policy practice majority child attend head start remain program redact fact empirical inquiry mixed education point potential reason child experience preschool especially head start great gain year second redact redact redact redact redact accordingly research objective assess academic implication mixed classroom\",\"young child dramatic play negative interaction young chil- dren tendency old child onlooker\",\"redact adolescent challenge overwhelm young child child modi rule game goal game challenge\",\"attend multigrade classroom demonstrate\",\"mixed grouping social behavior child longitudinal prospective study extend previous research systematically observe behavior context previously quainte play group randomly assign child group includ- study design determine social behavior young child influence composition group\",\"behavior peer mixed setting unlike previous study redact par- redact focus child rate dis- pense receive positive negative behavior form play engage objective pro- vide descriptive information social participation preschooler kindergartner school ager experimental class- room base finding previous search ungraded classroom hunt\",\"ate conflict disruption classroom redact early study compare incidence peer conflict different group indicate frequent peer conflict child generate resolution occur old group redact redact redact redact redact redact redact hand deal multi- group create challenge teacher try sensitive responsive individual need redact redact study show qual- emotional instructional support lead child dis- play task behavior lack emotional security experience redact lack responsiv- teacher lead child display disruptive havior draw teacher attention redact redact booren accordingly present study expect classroom old peer associate negative engagement classroom high proportion young peer\",\"class teacher implement inquiry base science activity\",\"mixed classroom instance young child mixed- classroom tend involve great number negative interaction attribute potential frus- tration old child result interaction ture young child furthermore redacted redacted find old child mixed classroom likely onlooker detach social interaction similarly goldman find solitary play participation teacher direct activity old child mixed classroom redacted redacted speculate teacher mixed classroom difficult time pro- vide sufficient variety activity suitable keep chil- dren varied ability interested involve proponent mixed classroom focus benefit young child potential cost old child classroom overlook study mixed- elementary school classroom child redact redacted confirm old stu- dent parent rate quality academic multiage classroom positively single class- room despite fail report benefit find old ought special attention help able student see benefit multiage classroom observational investigation play behavior different classroom redact redact redacted monitor family childcare home find frequency interaction old peer associate complex cognitive play interaction young peer associate complex social cognitive play low receptive language score experiment redact compare mixed- versus match competence peer work dyad result experiment suggest regression thinking likely consequence mixed grouping improvement result suggest regard cognitive outcome old child mixed- group suffer furthermore support hypothesis find redact redact study longi- tudinally preschool transition single class- room separate mixed classroom combine study statistical interaction find child classroom composition predict task focus classroom well change mixed classroom observe focused goal direct child age observe demonstrate significantly overt positive affect e.g. smile laughter neutral affect single classroom compare mix aged classroom meta analysis conduct redacted conclude academic social difference elementary school child attend mixed classroom similarly blasco report difference term complex mastery play same- versus mixed classroom observation focus typically develop preschool child benefit attribute mixed classroom port specific child developmental disability\",\"study investigate extent social behavior\",\"presently great deal variability composition preschool classroom\",\"composition effect number study empha- size role child incoming skill level potential moderator classroom effect means disentangle different way classroom com- positional factor shape child early learning related discussion redact redact redact redacted child skill school entry particularly important try understand implication classroom composition child skill behavior shape way child interact peer teacher turn implication way classroom impact child context mixed aged classroom particular importance child language literacy skill enable communicate peer teacher executive functioning allow child manage behavior emotion redacted redacted redacted redacted support point number study find lower- skilled child learn interaction old skilled peer high skilled child harm consistently benefit interaction classmate redact redacted\",\"present study conduct redacted involved student low level education primary primary redacted educational system pre- primary primary school operate separately different timeta- ble composition class different primary class multi usually attend average child age level grouping kindergartener p[redacted kindergartener redact\",\"present study design explore effect same-\",\"study explore link classroom level problem behavior teacher child interaction quality head start preschool classroom moderate role class\\u00ad room composition e.g. versus examine dataset child 1114 child classroom level problem behavior operationalize teacher report child problem behavior result indicate classroom level problem behavior specifically oppositional aggressive internalize behavior associate low teacher child interaction quality i.e. emotional support classroom organization instructional support contrast classroom- level hyperactivity negatively relate classroom instructional support moderation result indicate high level classroom level activity relate low level teacher child interaction quality classroom result study implication practice policy\",\"redacted 1996 recent position statement position regard composition preschool classroom recommendation mixed classroom extend bredekamp retract\",\"tion mixed education child academic achievement experience continuity and\\u002for change classroom composi- tion head start program word happen child program transition classroom classmate largely year classroom largely redacted erent peer alternatively happen child enrol classroom largely redacted erent peer school year take multi year perspective child classroom experience ground developmental theory redact allow nuanced understanding redacted erent way classroom dynamic shape child academic success\",\"redacted 1978 theory optimal platform examine multiage grouping unstructured play naturally occur interaction child redacted age discuss zone proximal development dis- tance actual development level determine independent problem solving level potential development determine problem solve adult guidance collaboration capable peer accord redacted theory competent person expert provide competent person novice support guidance achieve task novice able achieve help old child mixed grouping recess support young child climb monkey bar play game soccer shoot basketball redacted redacted contend concept need expand adult experienced peer include interaction social context note multi group old child function- play mentor common feature culture childhood redacted country kind interaction common play construct child interaction people mixed group old child serve natural play mentor young one\",\"national organization evidence type classroom largely inconclusive look child early academic socioemotional development early childhood scholar document positive impact redact redact redact redacted redact redact redact redact redact redact redact redact document null negative association redact redact green bulotsky- shearer redact redact hightower redact redacted study academic bene mixed multi grade classroom serve child ele- mentary grade largely ambiguous study document academic ect positive negative statis- tically indistinguishable redact redact redact redact redact redact redact redact educational spectrum empirical support mixed education largely inconclusive\",\"datum faces cohort fol-\",\"arrangement example group well prepare child school setting invariably composition old child able engage extended com- plex activity interrupt young child addition teacher find setting easy plan prepare activity child diverse developmental level conversely mixed setting provide opportunity young child learn observ- competent old peer old child likely learn practice help behavior mixed setting furthermore argue group prepare child success school mixed- group relevant life outside school\",\"redact redact assistant professor child development family redacted redact teach early childhood education course support teacher inquiry preservice practice teacher teach direct program serve child multiage inclusive setting\",\"student move primary school primary class second study compose entirely group child attend science activity additionally low primary child involve study previously attend\",\"programming potentially crucial mechanism ensure redacted expansion meet desire goal enhance child development decision directly affect classroom composition program respect available program feature redacted redact programming\",\"redacted ability gender special need redacted view play cultural historical lens mean play typically emerge social inter- action peer mixed unstructured play grouping old child operate young child zone proximal development olding occur mixed play support young child level make game enjoyable old child provide help young child want need redact play lead developmental accom- plishment young old child interact social environment play\",\"median year\",\"research finding purpose exploratory study examine relationship classroom composition preschooler vocabulary gain examine relation moderate classroom quality study chil- dren classroom represent subset child enrol classroom result show significant cross level interaction classroom composition child suggest positive effect great variance classroom composition young old child interaction behavior management dimension classroom quality classroom composition significant indicate wide distribution classroom composition positively relate child vocabulary gain class- room characterize well behavior management redacted policy finding underscore importance child social interaction knowledgeable conversational partner pro- mote vocabulary development signify need help teacher learn manage chil- dren behavior provide classroom optimal child learning\",\"eligible teacher consent participate study final analytical sample consist teacher spread\",\"advantage mixed free play elementary school perception student teacher parent\",\"formance science young child class participate small mixed group effort factor redacted uence proportion old child group present study allow quantify role composition small science learn group nding useful decid- group child class facilitate young one learn science\",\"suggest people spend time influence behave\",\"tance actual developmental level determine indepen- dent problem solve level potential development determine problem solve adult guidance collaboration capable peer note definition specify interaction expert adult capable child help nov- ice able child\",\"child skill malleable redact redact redact suwalsky kindergarten particular\",\"school current study address gap literature datum redact\",\"abstract theorist researcher conflicting opinion finding role mixed classroom preschool education accord redacted interaction peer preferable child close likely learn similar way redacted believe interaction child different age provide optimal context development present study aim assess mixed classroom status affect quality peer interaction teacher child interaction child behavior preschool classroom datum teacher place mix three- classroom serve child socio economic status urban preschool analyze general linear models result show mixed classroom teacher report low level conflict peer interaction 9.92 .0001 low level negative teacher child interaction 6.13 .002 marginally low level challenge behavior classroom 1,302 3.41 result study inform theory practice role mixed classroom preschool education prove valuable development implementation preschool program especially serve low- income child\",\"young old child nition peer skill likely vary widely mixed class- room classroom\",\"redacted redacted]ren receive early childhood education redacted redacted program school redacted summary site redacted learning network redacted site participate redacted implementation study child evaluate datum available large sample child multi- classroom datum explore study hypothesis redacted moderate classroom composition relate child outcome young child show high level skill mixed classroom old child show high level skill mixed\",\"child need cultivate diverse skill point redact\",\"classroom redact sample include furthermore sample include vast majority study review come affluent middle class suburban community perspective triage level public policy argument focus attention needy underserved population urban sample low socioeconomic standing typically ignore literature additional limitation extant literature researcher typically focus limited range outcome mask rich ambiguous phenomenon undertake investigation question preschool classroom composition scale large previously conduct child classroom sample include preschool classroom administrative umbrella public school district sized city approximate popula- tion redacted 212,000 include outcome research well- validate measure aspect development cognitive social motor control baseline level enter classroom furthermore assess control gen- eral classroom quality result research offer fresh rich insight question concern consequence preschool classroom composition extend easily urban population\",\"assign dyad redact redact redacted find social activity old child low cross dyad dyad contrast social activity young child frequent cross dyad\",\"redacted longitudinal ethnographic study document recess culture\",\"dence mixed classroom currently wide- spread determine mixed classroom head start classroom redact professional organization redact support mixed classroom belief environment well promote development preschool redacted wide- spread support mixed classroom make important\",\"ization limited number study cross peer interaction naturalistic set- ting seek examine child\",\"scope study datum available\",\"research conduct limit respect laboratory\",\"achievement science young child class student work small multi group redacted uence number old child group context study education study part involve class attend primary child age second include primary class attend student age addition primary class student involve inquiry base science activity source datum lesson recording child assessment datum source separately analyze nding plot\",\"skill level peer factor likely con-\",\"kindergarten class 11,000 study examine\",\"proponent mixed preschool classroom typically focus specific benefit relevant young child grouping example note redacted speak optimal challenge inherent class- room context include child old mature similarly social learning theorist maintain\",\"redacted preschooler multiage grouping\",\"result regression propensity score analysis\",\"peer interaction redacted preschool classroom redact redact recently\",\"regardless multigrade classroom practice pedagogical logistical reason evidence\",\"matter differently good friend\",\"redacted redact social learning redact scholar argue multigrade class-\",\"perspective redact interact peer close preferable child close likely closely match term knowledge skill power result child setting able engage resolve cognitive social conflict play variety role resolution contrast redacted argue interac- tion old competent child provide optimal context cognitive behavioral development redact interestingly relatively little empirical con- sensus emerge despite lack consensus redacted give mixed- classroom endorsement line researcher field e.g. redact redact hartman redact explore extant liter- ature relate preschool classroom composition closely\",\"redact start program base work redacted expect child enrol class- room great share young classmate redacted start demonstrate small gain area literacy math\",\"long redacted educational system little 2001 redact redact early\",\"group child different age preschool classroom i.e. mixed widespread evidence support practice mixed factor play role relation classroom composition child outcome peer skill study sample 6,338 preschooler age examine redacted uence classroom composition peer skill child behavioral language outcome result support grow literature indicate preschooler skill high peer skill high difference relate classroom composition find nding support view peer skill play important role preschool child outcome\",\"heorist researcher mix opinion finding role mixed- classroom preschool education accord redact interaction peer preferable child likely\",\"elementary school year classroom serve child country redact\",\"fund preschool program southeastern redacted implication child academic socio emotional development take study represent rigor- assessment composition general prek classroom provide inconclusive evidence implication have different classmate\",\"impact type classroom environment child development question\",\"redacted group study longitudinally natural experiment capitalize preschool transition redacted separate classroom redacted combine classroom contrast previous research examine redact redacted grouping typically lack appropriate comparison group present study essentially able hold teacher curriculum location teaching philosophy participant population constant total naturalistic time sample classroom observation child attend class conduct course child goal direct activity sustain attention social affiliation inappropriate behavior affect reliably record checklist instrument significant difference behavior redacted classroom typically eliminate context redacted classroom redacted class way like redacted classroom redacted class behave like redacted classroom social behavioral ecology redacted preschool classroom change significantly time child familiar social affiliation advantage redact grouping find i.e. gender desegregation wear time progress effect redact group child social behavioral development appear complicated developmental\",\"redacted preschoolers school readiness redacted teacher qualification\",\"development preschool child low socioeconomic status background order mitigate document achievement area vocabulary e.g. redact redact redacted redact redacted instance recent research focus role young child peer play facil- itating vocabulary development e.g. redact redact redact redact investigation peer effect preschool classroom language skill child classmate significant unique predictor language growth effect attributable instructional quality redacted specifi- cally high peer language skill positively relate child language outcome prekindergarten indicate child benefit classroom aggregate contain old cognitively advanced child particularly true child low language skill finding suggest classroom composition important consideration understand factor influence child vocabulary development early education setting provide information peer characteristic classroom instance child vocabulary growth facilitate interaction peer important young child e.g. opportunity interact old preschooler occur mixed classroom serve\",\"early learn development redact redact redact stuhlman redact redacted][redacted redact burchinal date focus overall structural process quality classroom e.g. class ecers early redact neitzel redact redact redacted hamre tend weak moderate association chil- redact skill gain burchinal pattern weak moderate association surprising individ- chil[redacted experience classroom differently degree chil[redacted benefit high quality classroom drive engage classroom setting redact support assertion emerge body research suggest chil[redacted individual experience include type teacher instruction inter- action teacher vary greatly chil[redacted classroom redacted redact piasta redact o\\u2019connell redacted example redacted find small group literacy instruction observe individual chil[redacted grade classroom hour block range minute minute variance chil[redacted individual classroom experience especially large preschool give preschooler spend significant time free play redact redact redact redact redact example redact redact redacted redacted find 7%\\u201323 variance preschooler classroom experience attributable difference chil[redacted compara- variance classroom level i.e. 3%\\u201322 present study move average classroom experi- ence focus chil[redacted individualized experience class- room process quality engagement classroom\",\"redact rise number child attend kindergarten couple\",\"extent relation fall baseline classroom level problem behavior spring post teacher child\",\"particular number aspect teach\",\"tion possible difference same- mixed grouping redact redact redact redacted study task performance same- mixed triad first- grader find conversation triad redacted redacted suggest aggression likely group nurture behavior commonly observe mixed group\",\"meaningful social interaction necessary prerequisite researcher begin examine influence heterogeneity group social behavior young child redact redact redact redact redact hartup\",\"classroom composition peer skill relate acquisition language behavioral skill child attend redact enhanced quality head start program\",\"program participate environment homelike feature\",\"quality strongly associate child gain language literacy social development compare numerous indicator structural quality redact process quality capture experiential aspect preschool include instruction child receive supportiveness teacher modify association composition child learn- development specifically high quality teacher- child interaction indicative classroom effectively meet need young child dif- ferent age e.g. scaffolding individual time low quality classroom indicative teacher struggle high quality classroom alter child classroom experience mixed classroom interaction teacher peer prior study suggest implication child school success redact redact redact redact redact kaderavek redact redact redact\",\"redact example parent caregiver read story old brother sister instigate school play model read guide peer provide help make sign lemon- stand child engage everyday activity people learn literacy redacted argue process natural literacy development hinge experience child reading write activity mediate adult old sibling event child everyday life\",\"redact redact plausible teacher perceive behavioral challenge react differently mixed classroom versus classroom serve instance mixed classroom child exhibit internalize behavior cry parent leave classroom teacher perceive behavior developmentally appropriate warmly comfort child associate high quality classroom conversely classroom level problem behavior classroom relate low teacher child interaction quality teacher oppositional aggressive hyperactivity internalize behavior inap\\u00ad propriate word expectation child mixed classroom buffer preschool teacher difficulty handle behavioral challenging classroom study knowledge explore hypothesis\",\"behavior e.g. redact redact present study examine teacher report problem behavior oppositional aggressive hyperactivity internalize behavior child oppositional aggres\\u00ad sive behavior conceptualize component externalize behavior characterize overt hostility conduct problem oppositional defiance behavior redact extant research show child exhibit oppositional aggressive behavior likely engage successfully classroom activity redact redact redacted peractive behavior impulsivity inattention frequently operationalize dimension externalize behavior oppositional aggressive preschool e.g. redacted redact research suggest oppositional aggressive hyperactive behavior correlate distinct dimension problem behavior different implication child academic social functioning redact internalize behavior extreme shyness social withdrawal anxiety describe direct self redact child exhibit inter\\u00ad nalizing behavior unable form strong peer relationship likely engage isolate behavior social withdrawal e.g. redact\",\"literature review reveal research gap study examine peer interaction redacted redact preschool classroom redact young child sibling experience peer interaction home second study reveal difference similarity peer interaction redacted redact classroom especially redacted preschooler give preschool implement redact classroom policy redact urgently need conduct classroom observational study compare redacted redacted classroom peer interaction pattern generate empirical evidence showcase nuanced difference redacted redacted classroom impact peer interaction study dedicate address follow question videotape observation\",\"incermediate degree teacher regulation 7ompare context iftlich little great deal external structure pracent young classmate redacted].,c1\",\"dren mixed room social room clear\",\"science activity primary education primary school pre- viously involve flexible zone activities\",\"view binary variable classroom label mixed well redacted pol- practice question classroom composition study binary indicator classroom composition compare classroom mixed classroom\",\"school district locate redact redacted follow redacted state department\",\"redact class activities redacted classroom environment redacted kindergarten education redacted redact mixed group\",\"endeavor central devel- opmental theory field early childhood educa- tion social learning cognitive theory child development suggest mechanism development occur interaction\",\"note theoretical assertion mixed- restrict grouping base assumption closely relate ability token ability base grouping expect influence developmental outcome similar base grouping mirror literature support efficacy mixed classroom researcher champion mixed ability grouping term benefit reap disadvantaged child low ability redact redact redact example redacted redacted find kin- dergarten grade classroom ability base grouping placement high ability group exert uni- formly positive effect student learning relate behavior reading achievement typically study implicitly sum cost high ability child mixed- ability grouping negligible exception e.g. redact report detrimental impact high ability child mixed ability grouping theme run study advocate mixed ability group- ing important focal goal ensure need student experience situation place risk disadvantageous academic development entirely different perspective researcher advocate expressly interest gifted tal- ente child researcher focus child high ability tend advocate restricted ability grouping high ability child opportunity interact peer similar ability e.g. redact summarize case literature focus relate grouping literature ability relate grouping mixed furthermore controversial aspect debate concern child mixed context old high ability\",\"redacted preschool classroom aged young child likely similar\",\"multigrade education philosophy define group child grade single classroom\",\"child spontaneous private speech kindergarten clossronm vary function contextual variable type activity immediate presence degree teacher give structure classroom composition child classroom mixed systematically observe regular kindergarten classroom time sample procedure result redact redact logistic regression analysis indicate young child private speech vary systematically accord immediate physical social context specifically child find self regulatory language engage goal direct task activity compare free play activity\",\"similar problem solve skill construct knowledge similar way redacted believe interaction child different age provide optimal context development old young child benefit process scaffold redacted result mixed finding study support benefit mixed- classroom redacted redact study support benefit classroom preschool education redact redact redacted 2008\",\"learn child negative classroom engagement mention classroom composition overlap average level language self regulation skill skill diversity classroom shape conflict child teacher peer gree behavioral dysregulation activity hand child different age display emotional regu- lation social skill skibbe associ-\",\"place versus cross situ- ation study limit investigation interaction\",\"occur child isolated dyad triad question remain way child influence peer vari- age interact member large ongoing group preschool class\",\"ture study redacted note represent national study mixed classroom redacted time head start attendee speci cally redacted document sizeable negative association mixed class- room newly enrol math language literacy learning find classroom composition mean- level association early academic success practically speak drawback mixed classroom rst- time head start attendee amount approximately month academic development attend class- room enrol equal number bene drawback mixed classroom chil- dren socioemotional development redacted\",\"benefit redacted grouping provide appear come cost especially old\",\"classroom alter quality teacher instructional practice teacher child interaction directly predict child engagement teacher redact ample teacher mixed classroom likely\",\"small cooperative group country level education\",\"follow exploratory hypothesis high level classroom oppositional aggressive behavior negatively relate emotional support classroom organization high level classroom hyperactivity negatively relate emotional support classroom organization high level classroom internalize behavior negatively relate emotional support important note hypothesis effect mean classroom problem behavior instructional support research question limited exist research posit exploratory hypothesis teacher- child interaction quality moderate classroom composition mixed classroom high classroom level problem behavior negative teacher child interaction quality relative classroom\",\"teacher child interaction quality critical driver child learning social emotional development\",\"social context old child perceive young child leader helper young child perceive old child need help instruction accord redact redact redacted 1991),\\\"these mutually reinforce perception create climate expect cooperation beneficial child\",\"document academic bene mixed grouping elementary\",\"importance competence social development researcher question relative merit versus mixed group respect child social behavior argue mixed group consistent human evolution context small hunter gatherer society redact group predominant complex indus- trialize society hartup note study chil- dren social development conduct environment redact hartup consequently knowledge social behavior development context specific\",\"current study design compare social play behavior\",\"classroom level hyperactivity teacher child interaction quality redact classroom level hyperactivity nega\\u00ad tively relate classroom management 0.15 0.04 instructional support 0.19 0.01 marginally related negative emotional support redact teacher report sensitive practice respond individual child hyperactive behavior classroom teacher increase sensitivity hyperactive behavior child great awareness hyperactivity symptom adhd teacher understand child able struggle control behavior classroom influence sensitivity teaching positive redact give mixed result hypothesize high rate classroom level hyperactivity negatively relate emotional support classroom organization\",\"study rely observation dyad child previously acquaint redacted redacted show acquaint tod- dler likely interact sustained fashion nonacquainte peer question raise research gener- alize typical care play group context consist child acquaint group study randomly assign child condition standardize observational environ- ment adult role example redact study group contain child mixed group contain child redacted study require child class designate range reduce likelihood difference setting study find include child redact redact definition mixed- vary widely study difference old young child redact great redact outcome assess vary widely study measure effect domain overall social behavior differenti- ate level social play pretend play task performance task orientation variability reflect diversity possible effect replication finding outcome domain essential\",\"redacted propose child mixed age group gain social skill process scaffolding competent individual support learning process competent social interaction modeling scaffolding old child opportunity develop confidence leadership skill young child learn social language skill competent peer researcher find support redact idea example redacted redacted find young child mixed classroom display complex language interaction old child compare child classroom similarly find young child display complex social dramatic play skill result interaction old child study find advantage old child mixed classroom example redacted find interact young child result old child display social behavior empathy likewise redacted find old child mixed classroom display leadership skill lastly research find mixed classroom old child opportunity develop mentorship skill redact\",\"redact redact redacted][redacted redact currently numerous effort local state federal level improve access redacted program young child enhance labor market participation parent redact improve child development cognitive noncognitive skill readiness formal schooling redact presently redact participate formal center base redacted redact number likely increase city state press expand access redact young child country redact universal participation redacted norm include redact redact redact near saturation child redacted average participation rate redacted]-operation redacted redact redact current study complete high\",\"number study investigate relation structural\",\"standing issue limit notable way study examine process national datum con- flicting evidence result prior study having generally small localize sample blasco redact redacted redacted second study redacted redacted provide need albeit con- flicte evidence potential outcome mixed- classroom income child rely teacher report child academic skill problematic report likely bias reflect teacher perception child ability relative classmate redacted redacted particularly con- cerne try tease apart achievement cohort child researcher usu- ally fail control classroom process selection factor limit ability draw firm conclusion class composition finally restrict classroom effective mixed classroom redacted feasible separately serve area country redact word mixed classroom create necessity additional scientific policy question remain answer threshold tipping point ratio young old student mixed classroom deleterious positive effect child\",\"versus classroom serve child broad range example head start program serve separate classroom head start program combine mixed classroom redact knowledge redact investigate interrelation composition teacher child interaction quality child skill find mixed classroom beneficial preschooler couple high- quality interaction addition prior study examine knowledge extent grouping class\\u00ad room mixed interact classroom level problem behavior contribute teacher child interaction quality\",\"study purpose connect con-\",\"outside school setting multiage outdoor setting place adventure\",\"child young one need help instruction regard intellectual bene note cognitive development study cognitive occur interact child different level understanding observe mixed group teacher likely identify difference individual child child\",\"study observe old child note unplanned observa-\",\"direct influence classroom composition vary base quality preschool classroom specifically negative association previously document high proportion classroom academic gain see class- room quality hypothesize benefit emerge mixed classroom classroom high quality provide opportunity high quality interaction old skilled peer regard teacher education experience expect negative association composition academic devel- opment reduce classroom edu- cated experienced teacher take study seek examine specific policy amenable characteristic mixed classroom result composition promotive child early learning development examine national sample preschooler able document spe- cific condition mixed classroom beneficial harmful development preschooler\",\"like extant literature classroom level aggression opposition mixed finding relationship\",\"early childhood education redacted program exist world serve important societal goal\",\"study conduct study yield mixed result redact redact redact major difference later study classroom composi- tion operationalize bin- variable study look classroom composition term proportion young child redact range old young child redact standard deviation child redact redact give classroom further- study include large sample participant majority income attend publicly fund program prekindergarten program head start center study account child ini- tial skill level outcome interest notable nonsigni result\",\"child classmate redact redact child active engagement child especially old skilled academically behaviorally facilitate cognitive socioemotional development time furthermore model suggest old child mixed classroom allow practice develop academic behavioral skill scaf- folding modeling behavior young child practical theoretical standpoint mixed classroom advantage chil- dren regardless redact redact redact\",\"classroom quality teacher experience teacher education moderator association composition preschooler academic gain behavioral develop- ment build work redacted colleague examine association family child experiences survey faces datum nationally representative sample redacted child classroom work redacted colleague find classroom high proportion experience few gain literacy math skill com- pare classroom few\",\"suggest grouping sig- nificant influence behavior preschool child study result concern heterogeneity grouping confound number variable child adult ratio curriculum model present study design specifically investigate influ- ence heterogeneity group social relationship child preschool group degree possible intent study apply systematic control parallel laboratory vestigation heterogeneity grouping field investigation social participa- tion child same- versus mixed group study present section compare social participa- tion child same- versus mixed\",\"consider examine classroom compo- sition peer language skill peer behavior problem particular find relate individual child outcome peer skill focus research mixed class- room date account\",\"reveal child attend multigrade class-\",\"redact redact redact redacted find mixed preschool program beneficial couple high quality teacher child interaction study vocabulary development preschool child classroom examine child class- room wide variance demonstrate large gain vocabulary association stron- young child classroom notably strong classroom high quality presumably child high quality classroom opportunity meaningful interaction teacher peer enhance experi- ence mixed environment quality classroom change effect composi- tion rarely examine context related work redact program reveal large degree variation impact generally function classroom instructional quality redact redact support general notion discuss previously\",\"support improve student learning motivation attitude blumen- redacted redact handle large class redact\",\"parent personal characteristic personality level education find affect\",\"son mixed classroom long history preschool initial support educational model come redacted theory posit child learn peer redact mixed classroom provide young child opportunity model behavior old peer exhibit provide old student opportunity scaffold teach young classmate redact redacted mixed classroom provide student great range interaction argue facilitate development wide range social skill include empathy self regulation redact recent study support notion mixed classroom beneficial old child redacted redacted document negative asso- ciation mixed classroom learning old student classroom additional challenge teacher encounter work child great diversity example teach\",\"grader assign triad vary composition ana- lyze result term contribution individual member triad simple block building task find participation grader varied cording composition group grader singleton status grader grader associate high level performance grader little difference per- formance type triad\",\"classroom context provide\",\"resource teacher peer task redact redact redact luck- redact\",\"mixed socialization e.g. redacted feld- redact redact redact redact\",\"child language behavioral skill redacted uence peer skill classroom composition e.g. redacted justice redact redact importance child early language behavioral skill later school success impor- tant examine peer skill help explain mixed classroom link poor outcome old chil- dren well outcome young child\",\"redact redact redact redact hightower redacted find young child bene mixed classroom environment old child redacted discover child mixed class score high child class and-4 trend reverse old child redacted study sustained attention social liation expression and-4- finding suggest well mixed class- room time focused task orient child age demonstrate signi cantly positive ect laughter smile mixed classroom redacted longitudinal study investigate preschool composition preschool child classroom speci bene valid reliable early childhood assessment i.e. redact redacted mately apart nding contradict advocate mixed research redact redact redacted burriss wide range child classroom negatively relate development great variance classroom developmental composition strong child old developmental redacted model claim variation ability ben- cial old child redacted\",\"associate later read difficulty redact redact redact concern researcher practitioner policymaker young child rear poverty give document early lag vocabulary development redact typically persist progress elementary high school redact\",\"base issue outline present study investigate overall per-\",\"grow recognition early childhood critical develop-\",\"love work toddler try prevent split- second action result\",\"base redacted skill promotion cares redacted test social- emotional program implement fall spring sample include head start grantee state cohort school year include northeastern grantee cohort school year comprise grantee include redact redact redacted]\\u002fplain head start grantee center participate average classroom center range participate eligible classroom classroom special education center include third classroom morning afternoon mixed classroom\",\"composition beneficial harmful academic achievement composition associate change social- behavior development\",\"age preschool classroom instance recent study examine child learn- mixed- classroom redact redact redacted assert classroom allow teacher target specific group curricu- allow focus developmentally appropriate group lead well classroom quality researcher show preschooler close closely resemble term skill knowledge develop- ment addition contrary redacted redact assertion old child nurture young child mixed classroom redacted redact find evidence old child engage nurturance mentoring mixed group compare group general somewhat unclear preschool child benefit mixed- versus classroom advantage advantage extend old young child setting\",\"common model education preschool program country efficacy respect facilitate child school readiness debate limited date conflict empirical support redact redact recent national analy- head start classroom find sizeable negative asso- ciation mixed education academic learning redacted surprisingly know little classroom teacher charac- teristic modify influence composition study focus feature preschool program central discourse early childhood education potential moderator classroom quality teacher education experience\",\"give conflict empirical evidence long standing model single grade education multigrade class-\",\"classroom school success mechanism\",\"early childhood education programming expand globe increase need understand feature program influence child development composition child classroom feature study feature theoretical empirical evidence suggest child development influence range classmate study examine relation classroom variability child vocabulary development 2,743 child age year enrol early childhood education setting redact finding indicate significant nonlinear relationship range child classroom child vocabulary development classroom maximum range associate great gain vocabulary growth result direction policy effort focus expansion early childhood education programming\",\"second social variable choose index leadership\",\"grade classroom exhibit few gain early learning development teacher provide child\",\"emotion young peer measure child young peer direct internal state language talk young peer feeling want abili- tie perspective take ability redact\",\"head start national publically fund preschool program design redacted child redacted opportunity develop physically socially emotionally promote school readiness redacted head start program strive poor child social educational opportunity successful learner ready school head start program adhere series national performance standard require curricula developmentally appropriate encourage social interaction classroom promote child readiness multiple domain redacted redacted head start follow guideline sponsor redact naeyc encourage mixed classroom study empirically\",\"mix segregate find mixed aged pair engage complex play finding demonstrate play advanced level pair draw toddler play provide appropriate prop tell prop young child engage cooperative social pretend play capability peer redacted find and-4- mixed preschool engage parallel play com- pare associative cooperative form play relative child classroom redacted report teacher research project interaction toddler preschooler small childcare center observation reveal aggressive behavior hit kicking spit take object demanding object reduce multiage group compare behavior group child share object imitate language high rate multiage group compare group\",\"child group grade second grade primary school teaching topic relate physics outer space start systemati- cally fourth grade framework call flexible zone activities redacted provide opportunity innovative peda- gogical didactical approach e.g. class child different grade allow introduction concept phenomena complement introduce formal program enhance basic skill formal activity pro- pose curriculum expect develop relate experience child commonly encounter everyday life teacher identify topic consider interesting important appropriate child speci age include tight timetable school program word select objective design activity choose topic content instruction material accordingly\",\"young child influence composition group laboratory study observe dyad child group accord age redacted example observe same- mixed dyad young dyad exhibit low positive social interaction old dyad display intermedi- level observe mixed dyad similar pattern observe mean length utterance task orientation differ group redacted redacted study dyad pair partner toddler engage social pretend play pair old child redacted observe dyad toddler find young child inter- active positive pair old child mate initiate produce complex initiation imitate old partner peer old child hand few initiation mixed dyad initiate likely long complex peer\",\"datum 1,407 preschooler examine implication classroom compos- ition early learning development classroom attendance result suggest great number young classmate detract language development literacy performance inhibitory control hav- old peer consistently facilitate learn domain enter school inhibitory control print knowledge demonstrate great gain domain attend classroom old classmate class- room young peer take result suggest classroom composition prekindergarten program serve little consequence enter school low skill level domain case have old peer benefit\",\"child develop skill interact peer mature child interact child choose spend time solitary cognitive\",\"redact applied developmental psychology 2002 305\\u2013330\",\"time preschool behavioral difficulty reduce opportunity child engage successfully classroom activity\",\"study find bene child longitudinal study\",\"pronounce mixed classroom classroom serve draw developmental theory hypothesize developmentally normative teacher expectation developmentally normative different normative redact prior study demonstrate teacher likely feel frustrated angry child feel like child control behavior\",\"composition aforementioned dimension child- early learning vary function school entry skill\",\"major intent study discover different type play prevalent\",\"level knowledge competency relational power provide unique environment child resolve cognitive conflict peer stimulate social cognitive moral development redact redact redact contrast redacted preschool classroom increase hierarchical structure level complexity group interaction redacted classroom relatively equal comparable young child level peer interaction redacted classroom provide opportunity old child practice develop prosocial self regulatory leadership skill young child gain scaffold growth receive help old child redact compare redacted classroom young child redacted classroom play style prosocial behavior tend depend peer teacher routine redact redact redacted redacted preschool classroom different benefit young child early child\\u00ad hood teacher need capitalize benefit peer interaction different preschool classroom facilitate young child early learning development\",\"redact redacted redact redacted redacted investigation large multisite randomize control trial differ- type professional development coaching course- work aim improve quality teacher interaction student area instructional emotional support classroom organization professional development intervention deliver phase follow phase datum collection child participate phase give child participate purpose study datum teacher child partici- pant second phase\",\"child redacted redacted classroom differ peer interaction pattern term\",\"test role mixed classroom redacted start program study focus academic skill redact redact redacted 2013 redacted redact start classroom adhere national performance standard guide curriculum curricular standard mixed classroom program redacted start classroom present ideal setting compare effect classroom composition\",\"preschool important assess group set mixed classroom good promote positive interaction similarly importance address prevent problem behavior preschool study group setting likely result low level problem behavior consider highly informative\",\"child school performance include acquisition emergent literacy skill e.g. redacted justice redact preliminary pattern identify previous study suggest old child classroom high proportion young peer gain emergent literacy skill correspond academic development redacted mechanism link classroom composition child learning unclear investigate underlie mechanism essential give prevalence mixed classroom variability classroom composition factor link classroom composition child learning inform intervention seek optimize child learn mixed setting\",\"teracte classroom similar mixed age sibling interact home environment research sibling study preschool child affective knowledge involve internal state language describe feeling want ability link perspec- tive take ability prosocial behavior redact old sibling home dem- onstrate understanding emotion moral prosocial skill redact\",\"room child early learning development depend quality classroom environment begin substantial evidence suggest classroom quality important feature early child- hood program keys redacted general classroom quality focus domain structural quality process quality current research suggest structural quality include factor leadership preschool teacher qualification child adult ratio necessary pro- duce optimal environment child learn develop redact\",\"multigrade model effective single grade model implement transition\",\"dler young pre- schooler three- old preschooler four- five- program adhere redacted indicator quality brede- redacted group size small ratio quali- fied teacher work\",\"goal present investigation examine\",\"dren engagement peer redacted study long show level child language literacy ability social emotional skill largely depend child skibbe redact redact redact child roll classroom high percentage old child likely interaction peer high lev- language skill great peer language resource redact turn contribute positive gagement peer addition old peer pro- vide young child opportunity learn derstand thought socially desirable strategy approach peer redact redact say previous study suggest lack aged classmate old child classroom associate few positive peer interaction redact likely positive engagement peer occur classroom old peer young peer\",\"result show effectiveness small group child mixed ability redact redacted redacted note term collaborative emphasize importance verbal communication student interaction small group work speci task redact redact redact redacted mention aim collaboration interaction build knowledge talk discussion collaboration introduce stu- dent language discipline study way knowledge acquisition\",\"gagement task illustrate early average skill child classroom shape teacher provision task instructional support redacted influence child maintain focus engage self direct learning redact redact maier provision developmentally appropriate task quality instructional support classroom likely fos- child engagement classroom task large range age classroom pose challenge teacher pro- vide individualized task instructional support redact example recent study redact redact redact redacted show teacher mixed classroom serv- large number young child provide few writing material book average addition mention interpersonal dynamic teacher peer result classroom composition ensure emotional security allow child well engage task redacted redact postulate child classroom old peer display positive engagement task compare child classroom young peer\",\"light exist literature current landscape preschool education redact study seek address question consider researcher policymaker alike effective offer preschool program constrain range child classroom e.g. span determine access allow great heterogeneity program open eligibility specifically address follow research question income child serve state- support prekindergarten program\",\"recent research show composition preschool classroom influence child early learning building prior research study examine association classroom composition child learn development vary base classroom quality teacher characteristic subset family child experiences survey faces nationally representative sample child attend redacted start 2,829 result reveal association composition child academic skill dependent classroom quality classroom quality predictive child skill mixed classroom teacher educa- tion experience moderate influence composition mixed classroom teach teacher high education associate decrease literacy gain old child\",\"room positively relate school outcome child well behavioral skill equip meet demand classroom environment interact successfully peer listen quietly teacher talk- class accordingly preschool behavioral skill find relate child adjust- ment kindergarten academic outcome bulot- shearer fantuzzo redact peer success redact\",\"function partially explain classroom level factor\",\"boy work ditch redact approach shovel ask\",\"continuous measure classroom composition\",\"express support cross interaction mixed grouping play perceive valuable help build friendship develop social skill old child role model young one suggest vygotsky 1978 theory child learn enhance development unstructured play\",\"preschool classroom normally aged redact mixed aged redact redacted preschool classroom young child vary age developmental level place follow specific combination model redact redacted classroom promote development self esteem self confidence old child provide opportunity care young child contrast young child empower identify zone proximal development engage activity cognitive level addition old child serve role model young child induce young child exhibit prosocial behavior future interaction young child redact redact redacted redacted preschool classroom help facilitate peer interaction enhance young child social personality development\",\"social participation examine experimental multiage program preschooler kindergartner school ager enrol peer group record open instruction period datum reveal mixed set preschooler show preference kindergartner preschooler school ager kindergartner school ager show preference mate mate datum discuss respect benefit mixed- socialization\",\"interaction quality decline redact second child problem behavior influence peer exhibit problem behavior i.e. contagion effect child problem behavior encourage behavior problem peer redact redacted\",\"heighten emphasis child early learning redact rorem need know\",\"different aspect classroom engagement mediate link\",\"fundamental development learning redact approximately income preschool child report exhibit moderate clinically significant emotional behavioral need redact redact potentially indicate redact start classroom serve child income background child classroom demonstrate problem behavior addition directly undermine child learning child problem behavior negatively associate overall teacher child interaction quality\",\"challenging content means accommodate wide range skill level result disengagement\",\"redact approach early childhood curriculum strongly support mixed-\",\"accord redacted vygotsky child\",\"preschool classroom composition redacted outcome\",\"redact redact redact redacted classroom effects activity type presence redact mixed grouping paper present redact redact redact report research technical speeches conference papers\",\"redact focus interaction child proximal classroom context propose child academic social- behavioral development shape feature preschool context indi- vidual characteristic specifically focus interaction contextual characteristic classroom age classmate observed quality classroom teacher define qualification importantly hypothesize influence inter- action vary child recognize person characteristic redact referent status peer effect research redact redact redact example positively influence presence old skilled peer regardless quality classroom need par- ticular contextual support demonstrate academic growth classroom young peer frame- work illuminate potential role child critical factor process composi- tion classroom factor influence early aca- demic development\",\"redacted redact risk preschoolers early\",\"socialization remain spect nature degree social teraction occur child het- erogeneous classroom obviously order child benefit group admixture\",\"similar peer interaction teacher child interaction particularly important\",\"scholar argue continuity child peer\",\"redacted examine form cial participation classroom hetero- geneous homogeneous group find child mixed class- room engage solitary play spend time parallel play teacher direct activity child class- room significant difference time spend type social play mixed classroom redacted john- find parallel play evi- dence cross play partner chronological mate study show social interaction mixed classroom common cross peer redact\",\"primary school start duration class compose\",\"redacted base theory idea child learn\",\"social interaction task behavior preschool child mixed\",\"focus gradually shift impact redact young child learning development foster exist literature collectively demonstrate redacted classroom enable peer support child facilitate early cognitive social development redact redact study explore unique impact redact child redact context unlike counterpart country young child redacted primarily child family experience peer interaction home redact redacted young child unique peer interaction pattern redacted preschool class\\u00ad room interact elder young child rare study fill research\",\"capture current measure quality particularly important mixed context redact example teacher ability differen- tiate instruction match student need important aspect child classroom experience teach- feel confident ability effec- tively redact redact importance differentiation magnify mixed- classroom child skill likely vari- able classroom accordingly hypothesize teacher education experience change child experience mixed preschool set- ting capture degree teacher comfortable specific practice effec- tive differentiation especially necessary con- text classroom diverse\",\"among older and more skilled children (Mason & Burns, 1996, Urberg & Kaplan, 1986).\",\"research findings study compare peer interaction pattern mixed- redacted preschool classroom videotape behavioral observation total child age mixed class class involve study total valid video obtain include video mixed redacted 10.09 girl classroom redacted 10.84 girl classroom result reveal significant effect frequency duration peer interaction old child have long interaction significant group difference duration peer interaction redacted have long duration redact significant gender preference child prefer interact gender peer redact classroom significantly positive interaction significantly neutral negative interaction redacted classroom redacted class\\u00ad room engage significantly dominate neutral interaction redacted one redacted policy finding implication early childhood teaching classroom organization classroom management\",\"researcher focus explore frequency feature factor\",\"cerne influence independent variable researcher begin investigate way interaction mate similar different interaction mate majority study involve laboratory experiment child observe dyad triad example redact redact redact har- compare behavior\",\"present investigation explore role\",\"lack congruence finding available research effect classroom composition child learning researcher consider classroom composition associate preschooler language skill indirectly examine chil- dren communicative interaction peer mixed- program example preschool adopt mixed classroom model researcher find classroom tend spend time interact child oppose spend time give choice compare difference peer interaction find\",\"intellectual development young child begin emphasize essential role play peer process development\",\"supportive manage high quality instructional classroom reduce individual child problem behavior e.g. redacted redact redact reverse relationship i.e. extent child problem behavior influence quality teacher child interaction quality research conceptualize role problem behavior classroom level teacher child interaction quality draw literature transactional model posit development consequence ongoing dynamic interaction child environment redact test bidirectional relationship problem behavior teacher child interaction quality underlying theory necessary understand pathway classroom level problem behavior contribute teacher child interaction quality\",\"serve compare\",\"grow exponentially redact constitute critical developmen-\",\"child commonly refer classroom composition redact give formal regulation preschool redact mixed classroom include child multiple group widely example accord national statistic child head start large publicly fund preschool program redact enrol mixed classroom serve redact national datum reveal roughly preschool classroom include publicly fund program difference old young child report difference great national survey redact finding underscore considerable enrollment preschooler mixed class\\u00ad room distribution child different group vary state program redact current study focus variation percentage child group indicator classroom composition\",\"line bioecological model redacted redacted consider specific proximal process prekindergarten classroom shape development young child nest bioecological framework\",\"videotape caregiver child interaction structured play episode rate train\",\"importance teacher child interaction quality child learning development study aim understand\",\"advantage mixed free play elementary school perception student teacher parent\",\"particularly important address context federally state fund program head start commonly mixed classroom program design promote devel- opment young child well accomplish goal program need evidence base\",\"e.g. enrol classroom old child type question\",\"place great value recess mixed grouping single case study inquiry rely multiple source evidence uncover phenomena real world situation week student kindergarten grade grow play club non- organization found redacted author free range kid raise safe redacted help family community bring unstruc- ture play school community speci cally grow play club before- school program student engage free play mixed group out- door tool play available jump rope ball cardboard box adult oversee activity stress child develop game negotiate peer interaction adult interference\",\"associate spring post teacher child interaction quality emotional support classroom organization instructional support\",\"social play skill observa-\",\"datum play social behavior child collect\",\"small multi group science learning science education role mixed grouping learn science small group\",\"redact grouping family grouping ungraded class practice place child apart group class redact redact redact redact unlike factory model grouping assume child vary development need way fully predict- able child learn old young mixed- aged classroom show effective old child opportunity leader teacher redact young child bene modeling old child redact teacher able provide erentiate developmentally appropriate curriculum range student redact redacted handful study redact redact redacted burriss speci cally explore bene mixed grouping play largely continue practice segregation classroom playground redact small number study examine multiage outdoor play beresin redact redact redacted feldman redact redact study speci cally examine grow play club\",\"cultural redact theory learning development perspective interact old competent peer developmentally beneficial child afford young child opportunity engage challenging task experience great cognitive growth child opportunity time afford old child setting opportunity scaffold young child provide benefit instance young child enrich learning observe emulate imitate behavior old child redact old child practice prosocial behavior redact redact leadership skill serve mentor young child provide support guid- ance redact short mixed classroom provide child opportunity form relation wide variety child compare counterpart classroom redacted redacted explicitly discuss positive advantage mixed infant toddler classroom argue classroom provide child family collaborative atmosphere researcher suggest mixed classroom help minimize competitive pressure term academic development make parent focused child individual development decrease competition peer classroom\",\"mixed classroom composition field early childhood development root social cognitive redact redact tierney redact social\",\"discuss plausible\",\"hartup 1976b redacted literature concern peer influ- ence large literature interaction mate overall observational laboratory study peer influence fail include difference independent variable hartup 1976a\",\"redacted child implication classroom com- support redact redact equivocal finding couple widespread prevalence type classroom publicly fund pre- kindergarten program redacted redact redact redact redact hightower suggest imperative document possible con- sequence student learning policy preschool eligibility enrollment research suggest potentially undermine overall effectiveness redact redacted present investigation address potential benefit drawback have dif[redacted peer prek classroom state serve dif[redacted chil- dren classroom roughly state serve public program redact redact spe- cifically\",\"literature effect mixed classroom preschool limited study focus academic skill redact redact redacted 2013 redacted addition mixed classroom promote movement like redacted organization like redact lack consensus mix classroom result benefit young child furthermore study child challenging behavior quality teacher child interaction take account despite central role process preschool classroom addition study restrict number classroom conduct organization study focus program target socio economic status redacted child moller lastly study carry new finding bring light research question present study attempt address literature assess experience large number preschool teacher multiple center serve redacted child\",\"overall cognitive achievement science young child class\",\"small group learning long history redact\",\"child redacted classroom demonstrate long duration frequency peer interaction counterpart redacted classroom\",\"average level peer skill mixed classroom likely somewhat high young child experience classroom low old child experience classroom young child high level peer skill experience mixed classroom likely positive direct indirect effect child outcome propose peer effect framework redact peer skill help explain appear mix\",\"grow recognition early childhood critical developmental period last influence lay groundwork expansion preschool education country redact redact recent national estimate suggest roughly respectively attend preschool great enrollment rate\",\"type solitary parallel interactive play\",\"abstract federal head start program design improve school readiness child income family serve classroom give developmental difference unknown educate classroom benefit group datum family child experiences survey cohort study peer effect framework examine association mixed classroom school readiness nationally representative sample newly enrol 1,644 1,185 head start program result reveal display few gain academic skill enrol classroom effect size correspond academic development contrast classroom composition consistently associate school readiness\",\"laborate child appear bene mixed grouping play context classroom toddler preschool school child empirical study suggest possible cost old child classroom gray extensive qualitative datum interaction adolescent age child demonstrate advantage mix direction\",\"study expressly focus classroom composition target elementary school population make difficult extend conclusion preschool classroom e.g. redact redacted redacted early childhood age period relatively rapid development impact difference classroom composition range likely magnify distinctly different preschool classroom relative find elementary school setting old child furthermore redact point extant research explore effect composition child peer interaction conduct laboratory quasi laboratory setting word exception extant literature lack empirical research preschool classroom composition conduct preschool classroom excep- tion redacted redact redact limit research conduct relatively small number classroom typically restrict single organization example redacted investigation track velopmental trajectory child redacted sample consist\",\"teacher child interaction quality important contributor child social academic development\",\"goal present study advance understanding relation classroom level problem behavior\",\"year education previous study redact science relate performance child age work small multi group inquiry base science activity document high overall learning achievement child participate activity\",\"ture classroom composition examine experi- ence child classroom limited range example work redacted redact provide limited contrast different child span class- room limited range child study partic- ipant generally young old child classroom light literature theoretical argument underpin peer effect child development generally e.g. redact redact complete assessment implica- tion composition child early learning likely necessary fact educational scholar argue have different peer classroom likely effective year grouping redact allow child\",\"study classroom composition note publicly fund program redact sample child urban preschool program northeastern redact find great heterogeneity classroom composition associate optimal school achievement nega- tive association heterogeneity child devel- opment strong old child classroom second recent nationally representative study classroom head start reveal dis- play few gain area early mathematic lan- guage literacy attend classroom great number redact effect size classroom correspond approxi- mately development study docu- mente consistent benefit have old classmate school performance young child classroom redact redact suggest- careful attention pay old child environment finally contrast aforemen- redacted study redact find regardless child\",\"learn modeling scaffolding redact contrast scholar posit child multi-\",\"group social participation observe class class mixed class social participation mixed class differ social participation class compare mate same- class mixed class spend time solitary play time parallel play teacher direct activity mixed class spend time parallel play mixed group appear major factor influence choice playmate result discuss term implication con- cerne developmental potential reside mixed grouping\",\"age meet diverse need child challeng- task teacher redact teacher education experience well prepare challenge expertise enable manage classroom effectively implement activity instruction beneficial child classroom example old research docu- mente positive negative association\",\"study look specifically child achievement time mixed- same-\",\"condition consist classroom classroom implement following incredible preschool paths tool redacted play business usual incredible program redact focus sup\\u00ad port child adaptive social behavior reduce problem behavior strengthen teacher classroom behavior management practice preschool paths program redact provide structured group lesson extension activity focus emotion identification social problem solving tools redacted play adaptation extended tools redact executive function intervention teacher restructure include pretend play block design enhance child self regulation executive function structured pretend play activ\\u00ad itie redact\",\"hand organize childcare redact\",\"redacted program create expand certain structural feature program directly affect policy create feature include instance teacher child ratio class size teacher credential example state sponsor support redacted program stipulate teacher child ratio maximum class size child provision programming teacher bachelor degree additional structural feature affect policy composition redacted classroom creation expansion policy stipulate range child participate subsidized programming instance redact long run redacted redact provide funding 10,000 state participate center base redacted redact redact drake indirect result policy stipulate participation child lead creation redact\",\"current investigation consider implica-\",\"observe play toddler preschooler randomly assign\",\"give mixed finding literature heavily rely theoretical framework prior study propose\",\"component equally important include emphasis play include mixed play child development public elementary school investigate perceive advantage mixed play perspective stakeholder speci cally teacher parent student qualitative quantitative datum investigate follow research ques- tion perception child teacher parent experience mixed- school redact\",\"childhood education redact redacted advocate redact group early education claim redacted classroom hold social cognitive advantage redacted classroom create rich diverse educational environment minimize normative pressure competition encourage prosocial behavior self regulation social responsibility increase child tolerance diversity decrease gender segregation redact redact redact redact redact redact redact redact redact redacted grouping wide range child competency expect place teacher see well able notice respond individual difference child provide diverse individually tailor experience case\",\"social process peer interaction teacher child interaction represent cornerstone early childhood education promote environment support process consider priority preschool educator classroom composition play important role child interact teacher interact child correspondingly behavioral outcome child classroom positive peer interaction play developmental role preschool predict positive perception school well adjustment kindergarten positive academic outcome elementary high school hand poor interaction peer preschool associate low academic performance emotional maladjustment redact redact redacted addition peer interaction especially important child income urban area experience challenge interaction show protective factor help child resilient face cumulative adversity redacted redacted 2003\",\"composition classroom affect child indirect mean effect teacher child interaction i.e. child teacher child transmission redact redact redact teacher classroom great heterogeneity e.g. face challenge include adjust instruction wide range skill level relative class- room uniform level e.g. upper low end distribu- tion impact child teacher address demand accordingly theory peer ecology classroom suggest composition vary effect child early school performance shape primary pathway preschool program impact child redact justice redacted redacted regardless pathway direct indirect important note present inves- tigation focus intersection child skill peer effect literature focus skill confound\",\"logistical constraint redact redact classroom help hinder\",\"eligible large study follow condition teach publicly fund preschool program majority student individualized education program start classroom instruction primarily deliver english information sampling redact teacher recruit randomly assign treatment control condition family classroom give recruitment packet chil- dren parent consent randomly select boy girl classroom direct assess- ment individualized education program speak english spanish sam- pling procedure priority give classroom child recruit and\\u002for assess study\",\"content instruction material instruction approach develop speci cally primary early primary education topic physics outer space redact inquiry choose approach science activity consider learn meaningful support development appropriate understanding science e.g. redact redact activity hierarchically sequence order support construction meaning implementation begin end\",\"mixed classroom aspect child spend time include time spend play child engagement conversation redact redact redact redact redact redacted variation type activity teacher influence classroom attribute instructional time change com- position influence child development pre- school teacher education experience demonstrate link measure classroom quality early show modest association growth child learning development redact furthermore skill gain prior education experience provide specific boost teach- mixed classroom teacher specific strategy capture global quality measure enable promote development child classroom way assign role group work maximize potential learning opportunity chil- dren different age word teacher education experience well equip create positive developmentally appropriate mixed classroom educate experienced teacher\",\"grow recognition early childhood critical developmental period last influence expansion preschool education redacted redact continue expansion close attention pay dif- ferent way design characteristic pro- gram influence child school success feature commonplace program include redacted]\\u2014the nation large federally fund preschool program mixed class pro- gram serve child different age class- room roughly redacted classroom mixed redact redact\",\"expose young old classmate pro- gress accordingly com- prehensive assessment classroom composition involve wide range different classmate child\",\"increase standardization run counter child learn play estimate percent child enter grade school work job exist need crucial critical thinking skill well prepared future market redact critical thinking\",\"early redact redact pianta sideris redacted goal examine classroom feature modify association composition child learning development head start classroom\",\"positive social interaction find preschool class mixed\",\"tribute difference mixed classroom previous research classroom composition consider chronological\",\"redacted note mixed grouping especially early childhood setting\",\"overall classroom experience little know predict preschooler engagement developmental ecological per- spective possible driver classroom level com- position child classroom classroom composition impose different demand teacher provision instruction activity shape child interact peer play factor influence child interpersonal dynam- teacher peer physical interaction task study incorporate factor classroom- child level seek examine extent classroom composition associate classroom engagement child classroom engage- ment mediate association classroom composition language literacy growth take result work potential inform classroom config- uration optimization child classroom experience\",\"important gain nuanced understand- effect classroom composition child outcome directly relate pol- question mixed preschool classroom policy practice\",\"play group play group contain child contain child apart difference find overall pattern play measure redacted play code negative behavior occur infrequently setting young child tend exhibit negative interaction setting old child exhibit negative interaction mixed setting younger child mixed setting play old playmate expect rate old child mixed setting likely choose old child playmate result differ extent previous research familiarity child peer group common care experience prior study\",\"composition mention research relevant\",\"current study hypothesize\",\"young old female young room male female\",\"redacted mix group early childhood education setting support\",\"half year redacted]skips playground pull skirt high nounce underpant redacted look shake head reply toddler redact toddler wear diaper\",\"mixed group show effective classroom setting handful study explore mixed grouping play research case study redacted public elementary school grea recess mixed grouping school implement grow redact school week student kindergarten redacted grade child interview teacher interview parent survey examine perception mixed outdoor play provide redacted school generally\",\"peer ecology classmate largely absent recent evaluation classroom composition redact redact consider child\",\"redacted mixed chinese kindergarten classroom observation base redact\",\"follow nding importance child prefer teach chil-\",\"engage parallel play mixed room indication\",\"believe multi education offer context explore\",\"child behavior teacher child interaction quality unfold interact differently classroom serve old child\",\"burnout cascade theory teacher tend feel negative stress perceive aggression opposition behavior classroom lead anger frustration behavior hamper teaching ability redact follow contagion theory child exhibit aggression opposition classroom high level aggression\\u002f opposition redact classroom level aggression opposition inhibit teacher ability provide consistent emotional support positive behavior management redacted reduce available instructional time redact contrary prior research redact find high level child aggression oppo\\u00ad sition behavior problem fall relate high classroom emotional climate fall emotional climate child- teacher- classroom level covariate mixed result suggest work need understand relationship classroom level aggression opposition teacher child interaction quality consider research suggest aggression opposition behavior relate negative behavior peer teacher posit exploratory hypothesis high level classroom aggression opposition behavior negatively relate emotional climate classroom organization\",\"dren to-6 year implement golden principle golden principle include mixed play family involvement meaningful lesson event redacted erentiate lesson young old child pair teacher child ques- tion integration vygotskian principle golden principle mixed- play enhance home school link result improvement child learn- social interaction teacher report improve social interaction child imply trust care respect p.142 mixed play home school family pedagogy result old child look young child child feeling cousin school family play group\",\"child care program come family redacted]as faculty staff student preschooler redact preschooler redact young peer redacted\",\"poor cognitive outcome child class- room peer high level behav- problem redact redact study relate child lan- guage skill classroom peer high language skill child peer high language skill redact redact justice mash- burn study measure peer skill redacted redacted create composite score peer ability level ecte cognitive skill prereading skill lan- guage skill basic skill classroom peer find child cognitive skill expressive lan- guage skill prereading skill high classroom high peer composite skill level measure noncognitive pre- school competency redacted colleague find individual child noncognitive competency high interact preschool peer high level noncognitive competency redact redact redact\",\"preschool teacher believe young child need access rich\",\"child associate increase physical size privilege status cause high low status determine grouping influence child social\",\"predict mixed classroom moderate relationship classroom level problem behavior teacher-\",\"redacted describe setting redacted primary school chil-\",\"mixed play work class multiracial public elementary school redacted recess follow lunch grade redacted focus lunch recess grade to-6 personal email communication redact redacted describe mixed child surveil- lance adult create story rhyme song game scotch wrestling basketball audio video tape student interview commentary social interaction document way child negotiate thing take turn space make friend mixed recess ethnically diverse elementary school child provide powerful space learn form friendship social network\",\"mixed grouping know multiage grouping heterogeneous grouping ver-\",\"literature type problem behavior typically examine include externalize behavior internalize\",\"room require continued attention inquiry especially necessary early elementary school year\",\"adult feel anxious child safety mixed play environment play safety forum redact true teacher work mixed aged class button redact redact example redacted find redacted redacted daycare center report positive social learning outcome mix age empathy caring risk taking resilience pre- ferre segregate child preschool child safety pre- caution button redacted find similar concern study redacted practitioner attitude risk deliver mixed outdoor play ses- sion redacted]s child center adult facilitate play base access woodland button redact redacted initially concerned risky play woodland deliver session multiage child able justify developmental emotional bene child work learn outdoors mixed grouping\",\"study look play behavior function\",\"redact classroom refer classroom enroll chil- dren particular range typically enroll classroom characterize mixed classroom child age span goodlad anderson redact serve set chil- dren young year e.g. redact child group classroom highly variable unclear class- room composition impact child growth particularly area vocabulary development primary study determine extent classroom composition operationalize base variation child chronological associate child vocabulary development address examine vocabulary gain child enrol preschool classroom represent subset child enrol classroom give information age child enrol classroom study represent exploratory examination classroom composition influence child language growth\",\"redacted kindergarten classroom child academic achievement executive function socioemotional development\",\"education redacted framework social emotional learning redact redacted frame- work establish maintain safe supportive school environment order student develop social emotional competency superintendent estab- lishe standard school district consist component physical growth emotional growth academic growth redacted peas believe\",\"laboratory study suggest old child social influence young child\",\"dren old redact old child effective model young child redact reciprocal imitation charac- teristic child interaction old child young child redact redact\",\"composition school year ground long stand educational developmental model overarching framework work base redact bioecological theory emphasize importance contextual redacted uence child early learning development redact morris line theory current investigation consider speci proximal process redact start classroom composition teacher continuity redacted uence child academic achievement redact social learning theory redact theory cognitive development shape developmental framework study contend primary mechanism development occur early childhood program interaction child classmate younger child observe old skilled child classroom mimic behavior action old child redact young child turn cement skill knowledge take transactional process peer constitute mechanism early childhood program impact child academic social behavioral development e.g. redact redact redact redact kaderavek redact redact redact redact redact\",\"young old\",\"teacher child interaction quality vary depend type classroom level problem behavior display posit\",\"central role peer interactions redacted children behavior preschool\",\"child redacted classroom outperform redacted classroom peer interaction\",\"accord redacted development occur rapidly child col-\",\"case depend enrollment class compose chil- dren group kindergartener kinder- gartener primary teacher require implement redact propose kind activity child free activity choose carry child direct involvement teacher teacher organize activity plan organize teacher accord objective teacher organize activity topic relate phenomena child encounter life topic arise child interest question child inter- est bring issue teacher consider important appropriate pre- primary child design activity meet select objective choose topic content instruction material accordingly domain topic activity draw include physics outer space physics curriculum pro- pose topic relate concept weight sound light motion temperature magnetism basic characteristic material property matter redacted oating\\u002f sink melting dissolve water space relate topic include redacted sphericity motion phenomenon night choice classroom organiz- ation instructional approach topic teacher organize activity leave teacher\",\"redact expansion pre- school stem fact program facilitate child school preparedness find narrow developmental disparity life course redact redact redact promise preschool couple continued expansion grow interest understand driver program impact child redact aspect researcher policymaker compos- ition large program regulate access notwithstanding regulation preschool expand head start state prekindergarten prek fund serve child common classroom i.e. blend braiding local state federal fund increase number serve classroom make class- room enroll different child prevalent experience preschooler country redact national survey redact\",\"fall baseline classroom level problem behavior oppositional aggressive hyperactivity internalize behavior\",\"ceptance confidence family neighborhood child spend time mixed group learn teach\",\"peer young child classroom relate indi- vidual child outcome study generally measure skill subsample child classmate study relate child outcome behavior classroom peer\",\"learn science small multi group role composition\",\"child school success subject great debate ground developmental theory cog-\",\"room effective single grade model child skill stimulate\",\"classroom preschool claim help child learn regulate emotion develop social skill similarly redacted naeyc redacted foremost professional organization early childhood educator follow redact redacted approach endorse implementation mixed early childhood classroom redacted naeyc 1996 despite lack consensus field relatively little research available area mixed classroom fairly common preschool program redact especially serve income child head start present study aim address literature assess mixed group affect social process preschool classroom include peer interaction teacher child interaction challenge behavior\",\"contrast find association classroom level problem behavior teacher child interaction quality\",\"social emotional instructional interaction student howes redacted document critical aspect child early edu- cational experience redact redact redact example large scale study kindergarten program country find measure process\",\"child play major role modify social experience evoke specific reaction redact\",\"argument oppose mixed classroom favor restrict range\",\"reap maximum bene redact ample young child classroom bene ting immediately redact motivate child like old classmate redact child start school skill allow effectively redact young peer cement skill knowledge hand recent report redacted clearly show vast majority educator feel underprepared individualize redacted erentiate instruction redact redact conceivable regardless child prior experience mixed setting type environment optimal early learning regardless outcome type longitudinal empirical inquiry utmost importance transition likely represent qualitatively redact erent experience alter meaning mixed education child examine head start program particular present unique opportunity assess plication transition address objective concern child classroom transition redacted erent way\",\"early childhood present critical window opportunity address issue inequality life course redact mount interest publicly fund preschool pro- gram include expansion preschool education redact poten- tial policy lever prepare child school understand implication expansion effort utmost importance program include head start large federally fund preschool pro- gram redacted]\\u2014often serve classroom fact roughly head start classroom mixed redacted\",\"preschool classroom redacted redact preschool teacher generally adult child interaction outside family positive teacher child relationship help child develop social skill negotiate challenge situation help child positive perception school redacted redacted positive teacher child interaction preschool positive influence child language academic performance social competence elementary school redact child ability respond social demand appropriate behavior skill develop preschool year life level child ability control moderate behavior response social situation remain stable rest development raikes hand challenging behavior big concern preschool teacher behavior play central role child ability transition adjust school succeed academically furthermore teacher consider behavior big challenge early education lack academic skill example rimm- kaufman redacted redacted find national representative group kindergarten teacher redact teacher consider problem behavior big challenge child adjustment kindergarten academic competency finding point importance look developmental stage prevent challenging behavior\",null],\"marker\":{\"opacity\":0.5,\"size\":5},\"mode\":\"markers+text\",\"name\":\"0_child_classroom_redact\",\"text\":[\"\",\"\",\"\",\"\",\"\",\"\",\"\",\"\",\"\",\"\",\"\",\"\",\"\",\"\",\"\",\"\",\"\",\"\",\"\",\"\",\"\",\"\",\"\",\"\",\"\",\"\",\"\",\"\",\"\",\"\",\"\",\"\",\"\",\"\",\"\",\"\",\"\",\"\",\"\",\"\",\"\",\"\",\"\",\"\",\"\",\"\",\"\",\"\",\"\",\"\",\"\",\"\",\"\",\"\",\"\",\"\",\"\",\"\",\"\",\"\",\"\",\"\",\"\",\"\",\"\",\"\",\"\",\"\",\"\",\"\",\"\",\"\",\"\",\"\",\"\",\"\",\"\",\"\",\"\",\"\",\"\",\"\",\"\",\"\",\"\",\"\",\"\",\"\",\"\",\"\",\"\",\"\",\"\",\"\",\"\",\"\",\"\",\"\",\"\",\"\",\"\",\"\",\"\",\"\",\"\",\"\",\"\",\"\",\"\",\"\",\"\",\"\",\"\",\"\",\"\",\"\",\"\",\"\",\"\",\"\",\"\",\"\",\"\",\"\",\"\",\"\",\"\",\"\",\"\",\"\",\"\",\"\",\"\",\"\",\"\",\"\",\"\",\"\",\"\",\"\",\"\",\"\",\"\",\"\",\"\",\"\",\"\",\"\",\"\",\"\",\"\",\"\",\"\",\"\",\"\",\"\",\"\",\"\",\"\",\"\",\"\",\"\",\"\",\"\",\"\",\"\",\"\",\"\",\"\",\"\",\"\",\"\",\"\",\"\",\"\",\"\",\"\",\"\",\"\",\"\",\"\",\"\",\"\",\"\",\"\",\"\",\"\",\"\",\"\",\"\",\"\",\"\",\"\",\"\",\"\",\"\",\"\",\"\",\"\",\"\",\"\",\"\",\"\",\"\",\"\",\"\",\"\",\"\",\"\",\"\",\"\",\"\",\"\",\"\",\"\",\"\",\"\",\"\",\"\",\"\",\"\",\"\",\"\",\"\",\"\",\"\",\"\",\"\",\"\",\"\",\"\",\"\",\"\",\"\",\"\",\"\",\"\",\"\",\"\",\"\",\"\",\"\",\"\",\"\",\"\",\"\",\"\",\"\",\"\",\"\",\"\",\"\",\"\",\"\",\"\",\"\",\"\",\"\",\"\",\"\",\"\",\"\",\"\",\"\",\"\",\"\",\"\",\"\",\"\",\"\",\"\",\"\",\"\",\"\",\"\",\"\",\"\",\"\",\"\",\"\",\"\",\"\",\"\",\"\",\"\",\"\",\"\",\"\",\"\",\"\",\"\",\"\",\"\",\"\",\"\",\"\",\"\",\"\",\"\",\"\",\"\",\"\",\"\",\"\",\"\",\"\",\"\",\"\",\"\",\"\",\"\",\"\",\"\",\"\",\"\",\"\",\"\",\"\",\"\",\"\",\"\",\"\",\"\",\"\",\"\",\"\",\"\",\"\",\"\",\"\",\"\",\"\",\"\",\"\",\"\",\"\",\"\",\"\",\"\",\"\",\"\",\"\",\"\",\"\",\"\",\"\",\"\",\"\",\"\",\"\",\"\",\"\",\"\",\"\",\"\",\"\",\"\",\"\",\"\",\"\",\"\",\"\",\"\",\"\",\"\",\"\",\"\",\"\",\"\",\"\",\"\",\"\",\"\",\"\",\"\",\"\",\"\",\"\",\"\",\"\",\"\",\"\",\"\",\"\",\"\",\"\",\"\",\"\",\"\",\"\",\"\",\"\",\"\",\"\",\"\",\"\",\"\",\"\",\"\",\"\",\"\",\"\",\"\",\"\",\"\",\"\",\"\",\"\",\"\",\"\",\"\",\"\",\"\",\"\",\"\",\"\",\"\",\"\",\"\",\"\",\"\",\"\",\"\",\"\",\"\",\"\",\"\",\"\",\"\",\"\",\"\",\"\",\"\",\"\",\"\",\"\",\"\",\"\",\"\",\"\",\"\",\"\",\"\",\"\",\"\",\"\",\"\",\"\",\"\",\"\",\"\",\"\",\"\",\"\",\"\",\"\",\"\",\"\",\"\",\"\",\"\",\"\",\"\",\"\",\"\",\"\",\"\",\"\",\"\",\"\",\"0_child_classroom_redact\"],\"textfont\":{\"size\":12},\"x\":{\"dtype\":\"f4\",\"bdata\":\"YhMxQeTeMUFJtjJByLA\\u002fQXHPL0HfwBdB+REfQX93G0ELMS9Ba9AqQXyUEEGHciJBPj0LQdduREH+7DlBErQSQTCvEUGT40FBx6RIQePgHEFLuF1BsScuQS\\u002fpOUEHSzFBiOodQaYKFEEjkjhBdyIeQftRH0Gc6DtBoT47QQEoKEFiOgZBEzYXQS4FRUG9uDNBvT8PQceZNkFF3gNBYgIhQSBnS0Gc0DNBPBP+QEmCM0HCMxZBzLVCQeiUG0Grxx1BTU8XQTdAKkFuciBB9UYBQY6RPUH7lxNBu1wiQTNhHUGmpgNB7lAEQWJmO0HE8BdBGSY6QSYUC0Fs6R1BVBstQSsDOkG6CDZBDcorQbjrGEGuUC9B7rVFQcBtBkE1jhxBJesZQcYCF0FZtxRBwXAzQegLMkHvORVBBeoxQeW3\\u002fEBxMjZBviMhQRIZKUEUBTpBhXP6QObzLEH0VDJBUAUnQfRPN0FatD1B36M5QevpQUEUDzVBeawBQcr0OEGaqxlBJ0I8QfEbM0Gr\\u002fhtBV34zQeckJ0GRuiVBqBQYQahsPkEzgTNBXJ4mQcLpQkECjAlB0BUiQVE1L0GS+D1BUPogQdM2SEEW1C1BZmY9QbujLkEEDEFBjukqQQaHJ0FFODVBjZQtQSquLUFCbTVB4osRQQ9IRUHooS5BaI8uQRAfNEEuXjBBGiooQQAtC0GIfD1BkdpBQWu2AUFn2D5Bv7IjQauIIkFwmAVBYzsYQZUSNEH03DdBDn8\\u002fQeL9QkGDqDFBpKU4QWYKOUHhiRlBxu0xQZNfLEFbgzJB6pcVQZBlKUFk1TRB\\u002fzEpQZ14JkFkLy9B7oMxQSxDBEF3tCZBQ7IzQeRjOEFGaDJBlr4+QYwEIUHRaEJBKBgaQb8+N0GHHTpBXKYsQfFjEEEs\\u002fhJBj2ozQYTYGUFfezNBaF82QRhzRkHcRDZBLXYfQduoI0EbnDRBH7EzQdx1K0GlaT1BlMs0QfNoL0GZsChBPWw9QZISNUFHahxBvd4lQRhmGkHX3htBAHw\\u002fQSlaMUH\\u002fnERBWocZQQB\\u002fM0H85kBBUm0xQY4gMkEZvENBqz4dQcQLJUGF3EFBgVokQSCUD0HevzVBZfZBQWVSIEHosjJBaOVGQZS9AUGaSg5BpgJCQZk1PkFQQB9Bu8EvQdORGkHseTJBS7cCQVr\\u002fAEEBmjVBpAIpQYjgKEEgjxdBpZcXQa34c0FgvUBBD3wcQXyzJ0GNwEZBdVoZQRoNKEH\\u002f5TZBO+cLQWKpM0Fx0TJBwAQuQSZtS0EDQQZBab0YQZ3nAUEQaftAgrE3QVHIQkGpsCxBmso8Qf1IAkGtkj9B9dE3QZSEOUE+HQ9BbQMvQbx6CEH2XzFBxHAoQfxfDUG0CSJBrvETQf+IBkFdozlBaiwuQWHcO0HBoxZB1pUpQfryH0ESeBlBImw0QYP3N0G3gQtB44w3QUhZF0E9iBtBNNpCQbRlQ0G8jSBBIXU1QTSwPUHHpyxBCsEzQS05OEG4XDRB1XgUQcpiHkEFPx5BKyUZQasmGkHQDhFBx\\u002fkrQSX3FEFFGCFBoOMwQeZBO0H5wxVBlF48QbB7GEHKTidBfrJAQfwODEFsEyJBhswGQRZWE0HvhD9BBagrQTReN0HXs0JBYew0QVAyCkER\\u002fhxBSyMvQVgvFkHRcxlBsDYfQTh8MUEe7B5BJNQ7QeZiIUFoLzNB5SoTQevVHUFz3g5BNcs2Qeb0E0Hp8zJBXysrQST6LkFCP0FBiG02QUYMDEGDTD9BRfEzQeWTOkGRL0tBQgEpQcidP0EwWy1B7BRIQWZGLUEJ5\\u002fxAkW4qQezhOUFxvBRB+oY6QX9rC0FqGDlB2rYXQaEJGUHmXTZBrkgwQaNVQUEuQDNB21sVQWFiJkGaEQJBLE8+Qe4eTUGy3ypBWWM5QU6SOkFbEP1AMH0zQftwMkGRoyBBte4yQdn4\\u002fEC2Dj1BmHU8QZgqGEFGEUNBFx44Qfy0OUFAHjRBCqRCQe4uP0GgCCxBj8cVQQphRkGFPENB6s8jQSLnM0FMtz1BVh4wQR99MkF9JitBfl37QP3YAkELmhhBVxosQZvELkHTszpBti40QdX1GEFnySBBaWsiQWCZSUGZbjZBQjM0QRa+N0He2kZBF4kxQboyNUFR1CdB2hAoQWxZQUF6LjFBOgEWQYKgF0HUqTNBKXInQXLcG0EsAjhBWcwKQbTVFEEoqkNBX2wQQYdIFkHlUzxBsm4RQcTQM0FaDCtBNpA6QWlwSkGPPy1BVo5EQQqlQ0ElEQVBWdQ7QXzcGUHXJv5AmMoBQSF+MEGJgkdB\\u002fpcsQYrUFUFdbS1BWQECQdMxREENajNBsrtAQeyZAEFB7yRB+gQ6QfX7PUHDaydBII0eQXP9MUFKEDJB6mc8QapWOUHMzy5Bq14BQcm2K0EHAURB5xRNQd0vFUF4BjRB3f8AQVWeH0HAQCJBVEEYQUW6G0HHdyNBCHglQeoiAEFxKC9BbE86QXyEHEEowTRBLk0zQQpfIkF+uClB\"},\"y\":{\"dtype\":\"f4\",\"bdata\":\"PnsiQe2PGkFFkTZBID4TQQIGJUH1lRRB+GwnQSUl60DlKhVBBrIvQaeZH0HHVidBe+UrQcqKEkEmZBxB7DYRQeo+IUFhEA9BttowQe6W5UBryw1ByxkvQUqE\\u002fUDZBhpBOdETQcV+EEG80ylBU\\u002fsdQdIeFEF9ZARBCu0fQZXF\\u002fEBLmBBB7BgeQSjqLkHeLBBB9f0ZQSOYMEFHHBFB5skDQZb8L0F1XglBLiELQVRyG0FBOA9BPrQwQfNIJ0HIHwNBHznkQCer60A1s\\u002fVArWUWQRg++UAJ7fVAVYwPQS79+UCv4ihBW6MpQU7NJEEWg9xA\\u002fT0aQQUrHEG7a+FA56UvQaUED0EXcB1BragcQfcJCEGOeupAOZ4TQRs\\u002fDkG5wCdBeTk7QaxaGUGCMQ1BkZIhQRvY40CoSRhBqmEeQf0\\u002fCUFltB5BDdAFQfGb6kAbcA1Bv+oJQaX+LEGLQR1BSOgdQV5SH0GqSflA2w8cQVP2HEFy3jtBDOEWQRBeBEHGTvtAgKkVQYdMFUEiL+lA\\u002f\\u002f45QSSdIUENhAlBAnYgQYQpMkFmqQRBn2AMQVozJ0F4yhJBx0gWQbkO2kCoZDFBOKj0QNcCF0E5sBtBAsTnQHKUM0Hbnh1B2BARQT3rAUHEsxdB2CnfQDSwH0FK\\u002fyJBgzoNQQOQMEHShC9BnEQfQRwAQEELvxZBdMgYQUV3E0Fr2AJBt14WQcdmFkGHRhFB8VYTQdcsIUHwTwxBz8DlQE9fQEEigSdBH0EVQey\\u002fMUFOKjdBZdcIQUOJEEEdhP1Av3LzQDUMFEEQziFBW8bpQMkSGEHSYfFAeZEpQadkH0Gb9TNBtLnWQNTIEEHUCSZBVVg1QZ9KEEHUCzNBUy7pQPc9BUHFGjVBwx3mQFRoMUFUNA1BaQvXQE\\u002fxGEHquPZA5wIFQdvk4UDeaPNAneMSQbDmMEFv4TdBrIIYQRPeDkFVDTFB1FcgQS+1LkHcug5Bag4NQbt8NEHGTw5Bz+bmQK13ykBk3+hAVeEQQcnu6kASbxZByZQFQUDq4UAOqitBMY\\u002f\\u002fQBSj+UAc7SxBp1ofQeXRLUF4Di5BCYwYQcWZGEH3UDNBmmYjQR9MH0EFGCpB\\u002fZo1QWo6H0EZlSxBWJMxQdaDDkHW4gdBDhoWQV9TFUGfkRxB24P9QB\\u002fxJkHmGRxBwQ8WQZS9FkFnJyNBKDUhQbeCCkGKTedAmh8QQZM1EkFpATBBJqUNQf65GEF87C9BVQz+QLmTG0HBjRhB7v8ZQXY00kB8uQdBf3I1QdHnFUFtfxBB7ozdQMxQFEEMRQpBl2oYQegjDUHbjfRAaev3QBuaFEGkxgtBeSYZQbMKqkBhcARBEvcyQUvMEUHxw9NAFs4CQcDLEUFis\\u002fFA79IZQZw5FkHuEDpB62M0QcPwHkGnGCJB3qLqQLEcE0F0r\\u002f1AkqwtQYxAL0EJAhlBUREaQcdxC0H1ZwRBOZQwQWTZFEF+gR1BVpApQQpcJ0EMndZAh1dBQUZRAEFSjS9BJw8PQeeNJ0G\\u002fvSZBKWn\\u002fQGzHDUFWlhpBznDsQK7PGkEKaRxB4QQ+QQJiA0GVvelAGRoJQY6UGkFPAg5BOXcdQaAMDEEin\\u002fFANcQXQWrzEkHMwvpAPasbQaLuMEFMtidBLnkvQZqSC0E5nR1BzaUZQb1VHUGU5P5AXZApQWG71EBuaR5BuVQiQYSpJkHi9T9BlE8ZQeGiE0Hzdg5B2oYfQXZYD0GCJgZBuWwfQZ4i\\u002fkBBZyZB6uM0QaziHEFqPB9BPaMaQXNCNkGAAyxBbvMrQYVJLEFlHSFBmvgwQQmj8EDzhwlBGgQPQV+TBEESMBFBdkUsQYrPCkHovyBBmnkmQf5E5UAd7yNBSyvWQMgaCkFrtdRAaKMXQVDPD0HG3xFBusP5QC1mKEEghjBBMYcsQTX2\\u002fkDQrAlBd6UEQek8QEEbUQVBEQQLQc7oDEFI6vhAt1j2QBSY3kBx7BJBXAwaQel6LkEjc9dA9FUKQStlM0H+Pi9BZ6YMQee0IUEBUihB5A8TQe\\u002ffQEH7PflAnR8+QRCPBkG8PC5BS6oJQW5sD0FlxeVAr\\u002fUsQWrKMEHpYCVBV6T7QHNVJEE1p+9AzA4mQavUM0EgRjxBjNTUQDk7\\u002f0CXJgJB6AEHQZoKL0EXsx9Bb4MjQZS\\u002fMUGETT1BfxXpQCtaJEH8PUBBafcpQe7\\u002fJUHd6DFBFYAKQTDID0E6chJBysEaQYlSF0FZkAJB4B4nQbri1kAdLAtBWT44QdK7MEEI\\u002fQZB00MqQTtyL0HSowhBUFD9QDIEAEEnHgtBc4EVQf0FBkGVnjNB78EjQXs0HUFl9O5AkO0PQRnOMEEFxAtBz8kFQRrLFkFL\\u002fgpBcEoPQZII+UC7tCpBVHAhQVBQKUFW2PRADFoeQf8gLEFnzgxBwRENQc9RGkHx3ShBpZAoQRCx60Dv6D9Bwp8WQeJ4A0F6sBFBfnndQPtwDkFGFQ5Bwx4lQXMjDEFsnyhBSC8KQVmyEUHt3zRBYJVAQYn0JUHH9RVB\"},\"type\":\"scattergl\"},{\"hoverinfo\":\"text\",\"hovertext\":[\"research finding classroom physical literacy environment malleable domain specific contributor child emergent literacy acquisition shape physical literacy environment remain unclear study draw sample classroom redacted test role classroom composition shape physical literacy environment additionally examine extent physical literacy environment explain association classroom composition emer\\u00ad gent literacy outcome find classroom high proportion young child provide book write redact write room notably lack writing display room serve potential reason demon\\u00ad strate small gain expressive language skill classroom redacted policy finding highlight need invest classroom physical literacy environment ensure meet need child mixed classroom\",\"understanding express vocabulary skill strongly associate early reading\",\"child language literacy learn distinct albeit overlap way example child engage pos- itively teacher peer find positive relationship experience dyadic conversa- tion rich language individualized learning child engage teacher peer positively redact redact redact redact redact bell piasta outcome child lan- guage literacy learn redact redact redact redact forston sabol example child sustained engagement task self regulate learning facil- itate efficiency internalize language literacy knowl- edge redact redact contrast child negative engagement teacher peer task find result few opportunity child participate activity involve explicit implicit language literacy learn sabol redact redact redact redact howes review information suggest child classroom engagement multi dimensional con- cept reflect essential aspect child individual class- room experience play critical role later language literacy development\",\"redacted preschool classroom composition physical literacy environment influence children emergent literacy outcomes early education\",\"vocabulary development focus apply developmental research address early childhood programming central importance child school readiness later academic achievement e.g. redact redact redact redact redact redact fact preschool child vocabulary skill consistently predict later achievement reading comprehension redact skibbe redact redact redact redact early delay vocabulary development\",\"surprisingly considerable attention focus way facilitate early vocabulary\",\"study speak benefit drawback type program young child\",\"classroom composition preschooler language literacy gain role classroom engagement\",\"language literacy executive function skill outcome important precursor long term educa- tional success redacted redacted redacted give equivocal nature exist literature discuss lack empirical work area look executive function particular leave study hypothesis largely exploratory despite effort important acknow- ledge datum prohibit examine out- come nonetheless understand group child benefit harm mixed- environment remain important endeavor goal early childhood education ensure chil- dren reap maximum benefit program\",\"zone proximal development concept widely accept\",\"less provision literacy relate material space classroom young child especially distinct come writing relate material space evidence show teacher agree research concern language literacy skill child know preschool believe child learn write worry spelling knowledge child learn write watch teacher write redact\",\"tion zone proximal development natural learning namic mixed interaction collaboration expert- novice directionality prevail researcher observe child classroom encourage collaborative learning peer suggest complex model zone example redacted redacted argue social interaction involve expert peer adult provide opportunity child learn world\",\"old classmate facilitate positive classroom engagement reduce negative engagement translate large gain language literacy skill chil[redacted study document classroom composition measure proportion young classmate variability range chil- redact classroom associate chil[redacted lan- guage literacy development redacted redact redact bleses h\\u00f8jen redacted ample redacted find preschooler dis- play small gain language literacy skill classroom large proportion negative associa- tion equal roughly academic development despite document association mechanism classroom composition contribute chil[redacted language literacy gain understand give possi- influence classroom composition chil[redacted class- room engagement classroom engagement language lit- eracy learning test mediate role classroom engage- ment association classroom composition preschooler language literacy gain datum limitation fact classroom composition matter differ- entially chil[redacted different group redacted redacted focus experience mixed classroom unpack mechanism link class- room composition chil[redacted language literacy devel- opment specifically study address follow search question\",\"research highlight importance physical literacy environment preschool\",\"consider physical literacy environment theoretical explanation\",\"despite promising evidence physical literacy environment important child early\",\"icte empirical evidence exist litera-\",\"accord view literacy development occur zone proxi-\",\"mention belief contrary emergent literacy relate research\",\"play kindergarten child group child mixed group redact engage large collaborative literacy group kindergarten child combination literacy expert literacy novice increase literacy experience sociodramatic play center\",\"emergent literacy highlight development literacy start prior formal reading writing instruction term emergent literacy skill refer variety foundational skill enable skilled fluent reading writing redact redact current study focus emergent literacy skill highlight instructional focus preschool period receptive expressive vocabulary phonological awareness print knowledge redacted skill moderately highly correlate redact redact strong independent predictor reading writing acquisition redact\",\"current study propose classroom physical literacy environment\",\"emergent literacy skill limited research factor shape literacy environment exist research suggest physical literacy environment malleable example intervention aim improve teacher language instruction implementation language- focus curriculum show significant positive change quality classroom literacy environment redact redact promising inquiry need influence classroom literacy environment factor relate young child emergent literacy skill\",\"function potential mechanism classroom composition shape child emergent literacy learning indirect evidence link classroom compo\\u00ad sition teacher practice lend support hypothesis example redacted redacted find great classroom diversity create challenge teacher provide child high quality emotional instructional support example teacher serve class\\u00ad room large proportion young child find provide opportunity child engage group academic instruction redact similarly classroom composition shape classroom physical literacy environment teacher belief young child literacy learning development discuss\",\"duration complexity literacy relate play redact example child intervention classroom enrich literacy object target play area e.g. cozy corner library observe spend time engage reading writing activity incorporate literacy object diverse functional way explicit language nonintervention group redact study classroom high quality classroom physical literacy environment strongly associate child general literacy interest engagement literacy activity factor turn predict phonological awareness expressive vocabulary redact study demonstrate direct association physical literacy environment emergent literacy acquisition example redact find positive association engage high quality physical literacy environment child print knowledge similarly study find quality classroom literacy area significantly associate child alphabet knowledge writing ability redact redact expressive receptive vocabulary phonological awareness altun finding suggest link feature physical literacy environment child emergent literacy skill altun redact redact redacted\",\"child like ability scaffold literacy activity\",\"redact redact provide type expert novice scaffolding literacy enrich play setting\",\"engage large broad range col- laborative literacy activity child kindergarten find collabora- tive interaction occur play center complex zone proximal development lead believe collaborative interac- tion group multi directional nature expert novice role firmly\",\"interest child turn influence provision high quality physical literacy environment example classroom language composition measure percentage dll classroom find significantly associate quality physical literacy environment instruction classroom serve large proportion dll rate have low quality literacy environment redact justice\",\"redacted den zone proximal development dis-\",\"child language literacy learn redacted pinto redact early language liter- skill critical child short- long term school success redact redact shenassa redacted loni- redact study structural process qual- classroom reveal small modest association preschooler language literacy growth burchinal light modest association researcher begin focus individual level experience child classroom potential mechanism produce language literacy gain redacted redact redact downer portant aspect child individualized classroom experience engagement classroom core developmental\",\"teraction occur literacy enrich play center classroom organize multi classroom kindergartner grader second grader classroom traditional kindergarten stu- dent teacher room arrangement material play center remain physical setting remain constant important element social environment range child teracte play setting change\",\"way characterize classroom physical literacy environment classroom\",\"addition need examine zone proximal development\",\"enrollment high quality preschool education improve childhood outcome emergent literacy acquisition implication long term school success redact redacted redact characteristic high quality preschool classroom important aspect physical literacy environment commonly define reading write resource available classroom arrange altun redact example physical literacy material include book write utensil language base puzzle alphabet display additionally certain classroom area desig\\u00ad nate reading writing area utilize subject activity incorporate resource redact provision material area promote child emergent literacy acquisition allow engage language- literacy- relate symbol object redact\",\"note exist litera-\",\"present study examine collaborative reading write\",\"development stage child partially master skill skill help redact tem- porary assistance scaffolding provide child able engage literacy activity turn extend child knowledge skill high level\",\"redacted redacted suggest literacy setting include physical surrounding human relationship termine situation child engage cultural tool literacy social interactionist per- spective postulate high order cognitive function nclude literacy\",\"physical literacy environment compare old child redact example study redact start teacher reveal teacher believe young child engage literacy material master social behavioral skill follow direction abide classroom rule relate peer redact teacher belief degree child learn emergent literacy skill young age find positively associate teacher language literacy relate instructional practice redact teacher mention belief provide few literacy relate material space teach\\u00ad classroom high percentage young child example classroom teacher provide book engaging complex narrative few writing material e.g. pencil paper word card template writing dis\\u00ad play room e.g. sign poster chart child writing display\",\"notable feature classroom shape literacy environment age\",\"rich physical literacy environment numerous varied book material literacy area write material teacher- child direct writing display prop classroom high quality physical literacy environment include book vary difficulty level genre e.g. rhyme text alphabet book flap book relate different curriculum theme arrange different activity center e.g. dramatic play area block center science table redact addition high quality classroom provide designate area write tool material promote writing model writing e.g. newspaper map redact redact example teacher- child direct writing print product guide daily learning experience e.g. sign poster write sample redact redact\",\"study describe collaborative literacy activity occur teacher sociodramatic play cen- situation teach multi class teach same- kindergarten situation hour free play videotape detailed transcript action dialogue occur analyze datum compare collaborative literacy interaction occur play center grouping arrangement test assumption collabo- rative learning flow expert novice basic tenet zone proximal development finding show child multi group\",\"classroom composition gain language literacy skill preschool\",\"preschool classroom composition physical literacy environment influence children emergent literacy outcomes\",\"cept zone proximal development purpose exam- type collaborative literacy interaction curre play center grouping arrangement supporter multi grouping cite zone claim broad child classroom great opportunity collaborative learn- scant evidence claim multi- advocate correct find large broad range collaborative literacy interaction occur multi- class kindergarten second purpose examine directionality collaborative literacy exchange zone concept assume collaboration unidirectional old competent child help young competent peer want learn collaborative exchange actually simple complex pattern interaction emerge change closely examine\",\"classroom influence inhibitory control language literacy development child\",\"attention focus product collaboration\",\"skill demonstrate optimal executive function\",\"importance malleability physical literacy environment warrant depth study shape undoubtedly shape large contextual force e.g. program funding understand proximal predictor important mirror bidirectional relation person context propose bioecological theory redact physical literacy environment influence child emergent literacy learning simultaneously shape collective characteristic child classroom characteristic influence teacher perception belief developmental need\",\"redact classroom environment children emergent literacy development\",\"classroom composition preschooler language literacy gain role classroom engagement\",\"give importance malleability classroom physical literacy environment child emergent literacy learning critical investigate factor influence child characteristic include shape teacher belief practice provide classroom environment redact redact focus classroom composi\\u00ad tion potential factor influence physical literacy environment additionally physical literacy environment theoretically empirically suggest predictor child literacy learning altun redact examine aspect physical literacy environment potential mediator explain association classroom composition child emergent literacy outcome redacted redacted specifically examine extent classroom composition associate classroom physical literacy environment classroom physical literacy environment account association classroom composition child emergent literacy acquisition hypothesize child gain emergent literacy skill classroom high percentage young peer teacher fail provide high quality appropriate physical literacy environment conceptual framework show figure\",\"ment language literacy development redact sabol redact know relatively little predict classroom engagement redact redacted study examine role classroom composition opera- tionalize proportion child different group classroom level focus aspect class- room set predictor child engagement rea- son unlike redact preschool classroom serve chil- dren multiple group accord national statistic state allow preschool program mixed group- ing roughly head start classroom mixed redact redact redact redact redacted redacted redact state provide varied quirement expect number child group teacher child ratio contribute hetero- geneity distribution child different group doc- umented prior work redact redact gershoff second recent work show mixture age preschool classroom implication teacher classroom prac- tice child early learn redacted redact green- field bulotsky shearer redact redact redacted redact redact redact example enrol class- room demonstrate small gain aca- demic skill redacted notwithstanding widespread mixed classroom connection child early learning know little need ensure mixed classroom successfully meet need child study aim fill knowledge examine child classroom engagement potential mechanism highlight evidence suggest composition play role type classroom engagement\",\"theory establish child able develop emergent literacy skill puranik lonigan redact inadequate access literacy stimulate environment preschool classroom associate preschooler small gain emergent literacy skill altun redact give potential variation classroom physical literacy environment base age child classroom influence child emergent literacy development hypothesize classroom physical literacy environment mediate association classroom composition child emergent literacy development\",\"influence zone apparent movement multi-\",\"show shape classroom environment numerous way include classroom quality redacted][redacted child engagement redact presumably child age shape way teacher organize classroom provide material support emergent literacy acquisition study examine extent classroom composition associate classroom physical literacy environment classroom composition associate child emergent literacy skill gain physical literacy environment inquiry question implication optimize classroom environment facilitate child emergent literacy learning mixed classroom\",\"considerable influence early childhood education program example zone commonly rationale establishment literacy enrich play center traditional dramatic play area housekeeping restaurant center stock theme relate lit- eracy material example restaurant center equip menu wall sign pencil notepad take food order research- assert aspect setting encourage child incorpo- rate familiar literacy routine activity play literacy artifact tool place play center opportunity child interact adult capable peer connection material redact redact redact redact qualitative study establish adult redact redact peer\",\"take physical literacy environment directly elicit literacy relate exploration manipulation elaboration imagination child solitary activity prompt adult- mediate literacy enrich play teacher model scaffold child physical literacy resource redact redact redact\",\"young able child provide assistance old classmate lim- ited research support possibility redacted report child similar ability work literacy task opportunity emerge pool knowl- edge negotiate possible solution problem encounter stone redact examine literacy activity multi classroom find collaborative literacy exchange involve grade peer involve young child help old classmate\",\"young old peer classroom language literacy executive function skill examine heterogeneity association function skill entry prek.\",\"classroom rich literacy material area find increase frequency\",\"shed light physical literacy environment shape child emergent literacy learning redacted theory suggest organization structure complexity physical environment stimulate solitary interaction object symbol provide condition stimulus interpersonal interaction involve literacy relate instruction redacted eling redact addition sociocultural theory emphasize child internalization symbol sign support presence prop object- orientate play involve physical interaction object material vygotsky\",null],\"marker\":{\"opacity\":0.5,\"size\":5},\"mode\":\"markers+text\",\"name\":\"1_literacy_environment_physical\",\"text\":[\"\",\"\",\"\",\"\",\"\",\"\",\"\",\"\",\"\",\"\",\"\",\"\",\"\",\"\",\"\",\"\",\"\",\"\",\"\",\"\",\"\",\"\",\"\",\"\",\"\",\"\",\"\",\"\",\"\",\"\",\"\",\"\",\"\",\"\",\"\",\"\",\"\",\"\",\"\",\"\",\"\",\"\",\"\",\"\",\"\",\"\",\"\",\"\",\"\",\"\",\"\",\"\",\"\",\"\",\"\",\"\",\"\",\"\",\"\",\"\",\"\",\"\",\"\",\"1_literacy_environment_physical\"],\"textfont\":{\"size\":12},\"x\":{\"dtype\":\"f4\",\"bdata\":\"B3sCQbeEC0HkcxRBPNj+QPv2D0ECdw5BJg4YQRFuCEHaNBJB1tcWQYYgBEFrCBNBcgYYQf2J+kDLSP1AtGT7QAjZCEFbFw9B7sEIQXQsD0G8+QtBTxP8QPq8A0GLkwxBgowKQTxNCUHrwQxBt1kQQTAGBEEIIhdBo\\u002f4RQYLcDUFKo\\u002fxARYgWQQ4QCkFlxQhBbu4OQU9dDEFrUAlBhBoEQbrT\\u002fkB5nQVBFr0QQdPwB0HzC\\u002fxAyssQQW49CEGoPhBBKxMSQeaAAUHQzwNBLIgIQapUAkH7OBhB6pYDQdmZF0EFdAJBeaYKQX74AUEyqBRB0yMQQV4ZBUHhQQJBBGYKQQ==\"},\"y\":{\"dtype\":\"f4\",\"bdata\":\"Sh05QYF4L0EGMS1BEoE2QbKDMEGsjy1B1jIhQd0yL0H6mi1B+dQ8QQv6OEFj\\u002fzpBMtUuQYMlN0Fx0TdBg2g2QZoKPEEw\\u002fDtBjFY5Qdd+OUF4HzVBEMA3QevjOEGchiBBz9U3QSBkMkFlgThB5Yo6QajMOUGCvDxBjrEwQVJ8OUGkxjdB8iE9QTAwN0E+5DxB++U5QRvOMUELyThB66c5QdJKOEELrzlBk3Q7QR\\u002fTL0HQ4zZBSxQ7QT3lL0HrzClBVc0rQcRbOUHv7TZBen0vQbUAOUEe6S1B6903QWpEPEE5CjhB6gU4QbYfOUH+6i1BE\\u002fQsQbayOkFrjzlBGYQ1QQ==\"},\"type\":\"scattergl\"},{\"hoverinfo\":\"text\",\"hovertext\":[\"final sample include female caregiver child care center child care group\",\"unlikely exploit consumer parent distribute profit control organization conversely profit orient organiza- tion profit child care parent directly evaluate quality service child actually receive child qualified evaluate service motivation legal sanction promote increase profit accordingly profit firm likely cost reduce quality base reasoning nonprofit child care center likely superior quality relative profit child care center research consistently verify assumption redact redact redact profit child care center characterize low adult child ratio generally better- train staff redact redact group size quality environment include quality interaction staff child clearly relate type child care program redact redact redact\",\"research child care teaching provide limit answer question\",\"impact childcare group situational composition caregiver child interaction\",\"different group child care center allow multilevel analysis examine variance quality caregiver behavior lie different level i.e. individual caregiver child care group child care center variance level explain potential determinant information helpful interpret possible effect specific predictor caregiver behavior include present study discuss possible source variance remain redacted explain present predictor expect variance behavior professional caregiver level child care group level child care center influence mold quality caregiver behavior group specific support colleague child care group center specific support supervisor existence center\",\"study aim investigate role situational peer group composition include range number child present young median quality caregiver- child interaction measure emotional behavioural support engage support learn base previous research hypothe- sized situational peer group range negatively associate caregiver child interaction quality median positively associate caregiver child interaction quality appropriate care infant constitute challenge caregiver especially mixed setting necessary account number young child present accordingly aim examine peer group range closely explore ect range explain number child present age\",\"tend child care center acquire different type socioemotional knowledge home\",\"address locator child care website regional telephone directory child care center\",\"adult child ratio consider policy researcher regulation authority\",\"quality caregiving professional caregiver child care center establish important\",\"adult low ratio e.g. child adult likely affect child development study concern adult child ratio typically investigate effect difference ratio low clear positive effect emerge comparison include high ratio\",\"large research investigate role childcare child learning social emotional development psychosocial adjustment study association suggest spending time high quality childcare positive impact child outcome redact redact redact mashburn redact redact miller- redact redact redact redact redacted redact redact redact steinberg redact redacted quality consider multidimensional construct mea- sure assess structural process characteristic redact redact redact redact redact redact redact redact redact abbott shim structural childcare quality refer feature group size caregiver child ratio caregiver general\",\"educational level professional caregiver frequently report associate quality\",\"care surprisingly little attention award potential impact work environment professional child care provider quality care despite wide recognition demand stress involve redact redact redacted find favorable work condition relate high quality care report positive relation high satisfaction low turnover rate hand quality care accordingly present study anticipate quantitative qualitative workload workplace associate low quality caregiving secondly supportive relation colleague supervisor positively affect caregiver behavior child redact postulation confirm numerous study review redact take support examine association study field occupational psychology show supportive relation coworker setting boost performance profession redact redact redact redact murray\",\"mention assess caregiver home workload support work family interaction study\",\"year start mandatory kindergarten link primary school additionally childcare redacted characterize high degree redact exibility term child attendance schedule parent work time choose attendance depend individual relate need vary possible individual child attend childcare week morning afternoon majority child attend childcare time week redacted federal statistical average group size child signi number available childcare place share child e.g. child use childcare place morning afternoon redacted childcare association provide guideline standard caregive quality childcare take child redacted cation account calculate caregiver child ratio redact majority professional caregiver redacted childcare complete apprenticeship combine school attendance service training week caregiver trainee i.e. young person attend internship completion mandatory schooling apprentice work alongside qua- redact professional caregiver redact redact\",\"present study observe different caregiver work child care group caregiver\",\"grandmother act differ- ently\",\"care group young child professional child care setting generally consider strenuous stressful good physical condition absence health problem crucial particularly field care education common staff continue work suffer health problem redact redact profession negative relation health problem performance find redacted anticipate similar association professional caregiving\",\"characteristic childcare high degree variability child- care group composition country childcare programme favour traditional grouping centre mixed- grouping provide extended range group family like programme highly redacted exible require few redacted classroom schedule time mixed grouping consequence child engagement quality caregiving date little research examine ect\",\"question child group homogeneously het-\",\"level quali cation process quality childcare refer dynamic aspect caregiver behaviour interaction caregiver child child curriculum implementation redact redacted redact redact redact redact redact cumulative research nding redacted indicate process variable consistently long term associate child cognitive social emotional development redact redact redact zubrick lynch redact redact redact redact taggart redact childcare researcher emphasize high quality social interac- tion caregiver child important determinant quality early education care redact redact redact hamre redacted redact redacted redact redact redact stuhlman\",\"group size reyhing present study explicitly focus situational composition childcare group\",\"person influence child care quality child development statisti- cally reliable relationship moderately positive study e.g. redact redact redact redact redact redact redact redact rodning galluzzo redacted e.g. redact redact redact redact redact redact redacted redact redact redact fail support notion high child care quality case high adult child ratio contradictory finding suggest importance predictor child care quality instance strong consensus teacher aide involve idea educational goal mean accomplish goal compensate decrease adult child ratio interpretation consistent finding redact palme\\u00b4rus ha\\u00a8gglund variation teacher education experience likely relevant explain child care quality redacted possibility relationship child care quality adult child ratio nonlinear respect difference adult child ratio negligible effect certain ratio e.g. child\",\"finally include caregiver physical health potential determinant caregiving behavior\",\"influence aspect child development redact redacted duncan study devote quality professional child care effect child development review redact redact determine quality caregiving behavior professional involve care young child remain unclear ample study dedicate explication individual difference parental caregiving behavior inspire redacted seminal model determinant parenting model assume parenting shape multiple determinant domain parental personality personal psychological resource child characteristic contextual source stress support theoretical model available professional caregiving redact model guideline choice potential determinant keep model hypothesize group characteristic multiply determine quality nonparental caregiving personal characteristic caregiver characteristic child care group characteristic caregiving context report present study elaborate hypothesis regard group determinant perspective early research\",\"child group data collection begin familiar\",\"view policy decision range child\",\"tion redact prosocial help havior redacted caretaking behavior redact redacted redact study con- ducte child care program mixed- group try link aspect preschooler social knowledge knowledge emotion perspective taking\",\"rate redacted participation redacted country provision universal child care important feature welfare state redact\",\"care provide redact redact date confirm redact possibly restricted variance educational level professional caregiver work redacted child care center redact redact redact redact redact redact redact redact child care worker receive general vocational training specifically prepare work young child learn hand experience caregiver education present study expect caregiver work experience relate quality professional caregiving early observe redacted redacted confirm redacted study redacted redact\",\"study multiple determinant professional caregiving caregiver range redact child care center extensively observe interaction child usual care group choice potential determinant caregiving quality guide redacted redact determinant parenting process model redact 83\\u201396 model determinant parenting consistent redact model quality caregiving find multiply determine characteristic caregiver child caregiving context specifically low quality care provide young caregiver young child caregiver report high physical occupational workload difference participate child care center prove explain variance quality professional caregiving difference individual caregiver\",\"city redacted redacted surround area i.e. middle southern region redact adhere invitation participate center director call ask caregiver willingness join trial total center agree participate caregiver volunteer take study i.e. caregiver involve care care group participating center give busy objection videotape reason refusal incomplete datum caregiver exclude analysis caregiver male exclude datum analysis\",\"school child care child typically group\",\"observed situation exclude possibility contribution individual factor quality caregiver behavior different depend situation caregiver child interaction observe example workload support experience colleague explain variance caregiver behavior observe everyday interaction child entire morning relatively short structure play episode small group child decide sitation apart explore behavior caregiver different situation relate different combination predictor\",\"expect factor domain contribute quality caregiver behavior\",\"authority authorize help fund private child care redact instance private nonprofit profit child care center receive approximately subsidy public center provide center comply specify quality relate parameter e.g. hiring train teacher yearly evaluation planning accessibility disabled risk child nonprofit private child care redacted double leave child attend child care private nonprofit center profit child care transformation occur redact child care system naturalistic experiment feasible main purpose study examine potential effect adult child ratio profit child care teaching child social cognitive achievement\",\"advantage childcare provider help parent well reconcile need family career hand redacted exible childcare result high degree redacted uctuation makeup child- care group permanent change situational group composition e.g. composition group size behaviour pattern peer group dynamic impact quality caregiving caregiver constantly face challenge match adapt resource redacted erent need interest speci group e.g. infant toddler schooler time\",\"care study redacted child care center redact find positive association quality caregiver behavior study fail find relationship redact riksen walraven mother positive association quality parenting find redact confirm recent study redact redact redact redacted demonstrate association quality parenting particularly prominent young mother give professional caregiver work child care center relatively young expect find positive association caregiver quality caregiver behavior present study\",\"child care center caregiver interaction involve child define child characteristic level care group purpose present study large group size high child caregiver ratio young mean child deem relevant care group characteristic variable associate low quality caregiving numerous study redact redact early study current sample observation structured play session reveal quality caregiver child interaction low group contain child caregiver versus especially include young child redact riksen walraven redacted expect aspect associate low quality caregiver behavior situation structure play\",\"fect center care child moral behavior indicate prosocial behavior relate temperament friendship sta- positive social interaction length oftime spend quality program redacted]husby branstetter mother pectation care quality redact attend half- full- redact relate child moral behavior\",\"repeatedly demonstrate work home domain affect negatively positively review redacted study consequently hypothesize perceive home workload negatively relate quality care support home contribute positively quality care\",\"accord redact nonprofit organization public child care\",\"erogeneously respect important apply implication care- giver organizer early childhood program argument\",\"observe behavior large cohort caregiver child care different situation structured play small group child lunch complete care group morning explain line redact model determinant parenting expect factor domain independently contribute quality professional caregiving regard domain i.e. professional caregiver personal characteristic expect high quality caregiving associate well general mood professional experience high few health problem second domain i.e. characteristic child care group expect high quality caregiving occur case low child caregiver ratio small group size old child finally propos domain contextual characteristic observed situation expect high quality care case low workload support work context home\",\"characteristic process quality base assumption structural childcare quality predict teacher provide care education sensitive reliable emotionally available child study provide evidence positive caregiving common group size child adult ratio small redact redact redact redact redact redact gevers deynoot- redact redact redact redact redact redact redact redact caregiver education training find associate high quality caregiver skill redact cryer redact redact redact redact kontos redact redact redact study find weak association child- care structural quality caregiving quality fail association redacted redacted redacted redact redact\",\"quality caregiving redact redact redact ready redact redact redact study examine effect personal characteristic professional caregiver quality care restricted focus i.e. effect depressive symptom similar finding parent result indicate caregiver report depressive symptom display low quality caregiving behavior report few depressive symptom redact previous study present sample professional caregiver redact riksen walraven redacted self report general mood i.e. optimism happiness find significantly positively relate quality care observe structured play episode present study caregiver general mood expect relation caregiver behavior caregiving situation\",\"present study investigate role situational composition quality caregiving speci cally examine impact range number child present young median caregiver child interaction quality unique condition redacted exible heterogeneous childcare caregiver child interaction childcare group observe morning observation cycle result multilevel structural equation modelling show wide range high number young child present relate low quality observed behavioural emotional learn support importantly nding suggest ect range explain number child implication research mixed programme practice policy discuss\",\"study investigate effect program auspice nonprofit profit child care adult child ratio 1:4.6\\u20131:8.7 span child care class teaching child social cognitive achievement sample include child child care center result profit child care center large child group nonprofit child care center low adult child ratio positive staff attitude teaching goal gender social background span child care class significant predictor child social cognitive achievement adult child ratio teaching style prove good predictor child social cognitive achievement\",\"present study multilevel approach examine quality professional caregiving child care center formulate specific hypothesis relative proportion variance explain different level merely explore\",\"redacted childcare centre child usually place mixed group wide range age maternity leave\",\"parental caregiving study caregiver quality investigate relative characteristic individual child\",\"sition investigate impact caregiver child interaction multivariate multilevel analysis unique particularly favourable con- dition redacted exible heterogeneous childcare recent study redacted show situational group characteristic group activity number child present strong predictor caregiver child interaction quality structural feature\",\"peer group composition context early education childcare country e.g. redact redacted adopt extended range include child regular preschool class helmerhorst redact previous study compare multi setting focus child behavioural outcome research association peer group composition caregiver behaviour limited overall research provide evidence caregive mixed group low quality tietze redacted find range negatively redacted uence quality interaction preschool teacher chil- dren teacher provide few teacher guide activity elaborate instruction group wide range redacted redacted show extension range group strong predictor low interaction quality caregiver child ally include number child age analysis show presence single child negative impact quality caregiving redact result consistent nding redacted study investigate mixed group comprise child age schipper riksen walraven redacted study indicate number infant group signi predictor caregiving quality group few child age receive well quality care study redacted childcare context demonstrate caregiver sensitive responsiveness educational skill low infant group preschool group mixed group helmerhorst study recog- nizing composition potential determinant caregiver behaviour childcare centre report high mean childcare group correlate high quality caregiving behaviour redact redact redact redact summarize previous research provide evidence wide range high number infant group low mean group associate low caregiver child interaction quality\",\"activity child work group traditionally group work involve\",\"examine swedish profit nonprofit child care relationships adult child ratio\",\"impact childcare group situational composition caregiver child interaction\",\"group determinant i.e. contextual characteristic special interest field professional child\",\"child care center serve child long remember center class tod-\",\"severe economic cut child care budget redacted sharp increase number child child care class observe redact average class size rise country great difference community rare child class class child simultaneously increase class number employee child care center decrease average child time employee number child time employee increase redact law significant impact redact child care system profit child care center base redacted receive public funding average cost child public agency 10,000 redacted federal govern- ment funding local authority subsidize approximately cost parental fee finance remain impractical private child care public funding local\",null],\"marker\":{\"opacity\":0.5,\"size\":5},\"mode\":\"markers+text\",\"name\":\"2_care_caregiver_child\",\"text\":[\"\",\"\",\"\",\"\",\"\",\"\",\"\",\"\",\"\",\"\",\"\",\"\",\"\",\"\",\"\",\"\",\"\",\"\",\"\",\"\",\"\",\"\",\"\",\"\",\"\",\"\",\"\",\"\",\"\",\"\",\"\",\"\",\"\",\"\",\"\",\"\",\"\",\"\",\"\",\"\",\"\",\"\",\"\",\"\",\"\",\"\",\"\",\"\",\"\",\"\",\"\",\"\",\"\",\"\",\"\",\"\",\"\",\"\",\"\",\"\",\"2_care_caregiver_child\"],\"textfont\":{\"size\":12},\"x\":{\"dtype\":\"f4\",\"bdata\":\"r1QpQSNzNUEtzzNBHHgoQYi\\u002fK0EK6ypBuwAoQXMSKEHcgjRBn2IoQdIeNEEGVjJBzX8pQWl2MEEnPixBIRY0QTmUKkHARShB92EsQTxvK0EopSZB5eI0QSGSJ0FdUjNBFPcoQStrLUFdESVBjjI0QcIyM0FU2jhB8AoyQTnuKkHmZTJBtqEmQdOiK0HCEClB7BI1QXRnK0EynjFBjCcsQdW6GEEvCS1B4V42QUDTK0HooipBM\\u002f0yQfFXL0FaEyxBfRw0QUvAKkGjaC5B\\u002fXUpQcTULEEG+DBBG4wmQd6rNEHY9yhBC2EnQWPIJ0H\\u002fczhBM3EtQQ==\"},\"y\":{\"dtype\":\"f4\",\"bdata\":\"+UWeQEproUC6nrZAjmetQPlHmUBoVqxAS42dQHo0nUCe2rFAh+KYQIcbsEBEPZlAhXGVQHSckkDhV5NAYxyXQAx8m0DF6ZFA64uWQKtKokDXVLVAJvuWQB2RsUAmj5tADA6SQLN1kkD4K8RAhAa2QDicmUCpDahAXJWTQFupk0AoL5VAxYS1QOUTlUDW6JJAf1GtQBtXnUDtGpRA3aacQKLSq0AX6pBAgjupQN52n0BkIZVAAWCVQCJukUBnJaFAwHCwQM7dl0B1kKFAsiWUQG4fn0DZV55AQXS7QDgHrkA8ZKxAc7qyQM3PmkDB7qVAQKigQA==\"},\"type\":\"scattergl\"},{\"hoverinfo\":\"text\",\"hovertext\":[\"funding information redact redacted number redact redacted redact redact redact redact redacted number r305b130013\",\"redact redact redact redact\",\"redacted redacted redacted\",\"redacted redacted redacted redacted redacted redacted\",\"redact redact redact redacted redact\",\"researcher find support redact idea example mixed\",\"date study include redacted\",\"redacted redacted redacted dorthe bleses redacted\",\"redacted redacted redacted\",\"redacted naeyc collaborate redacted digitize preserve extend access redact\",\"redacted language\",\"nding report base research conduct redact fund redacted redacted contract redact conjunction redact generous local source fund school local evaluator redacted consist representa- tive program participate evaluation local research team evaluation contractor redact\",\"redact redact\",\"redacted redacted redact\",\"redact society research redact inc. 0009 3920\\u002f81\\u002f02 0028$01.00\",\"accord redacted development occur rapidly chil-\",\"request reprint send redact redact redact\",\"copy right redacted iation redact\",\"redacted profit service help scholar researcher student discover build wide range content trust digital archive information technology tool increase productivity facilitate form scholarship information redact contact redact redacted archive indicate acceptance redact available\",\"redacted 1016\\u20131034 redacted 1040 9289 print\\u002f1556 6935 online\",\"redacted redacted head start program\",\"understand similarity difference mixed redact\",\"redacted redacted redacted redact\",\"redacted redacted observe play pair\",\"redact redact\",\"correspondence redact redact redact redacted email redact\",\"redacted redacted redacted collaborate redacted digitize preserve extend access redact\",\"redact redacted quarterly 2007 312\\u2013326\",\"behavioral skill redact redact redact redact tho- redact redact redact purpose\",\"datum present study derive redact\",\"empirical support claim mixed redacted redact\",\"redact redacted quarterly 2007 312\\u2013326\",\"redact redact redact redact redact redact redact dentistry redact redact department redact like thank responsible manage redact early childhood assessment partnership project include redact redact redact redact redact partic- ular thank redacted help expertise manage clean dataset analysis derive finally thank redact redact redact insightful moller redact redact 0407 redact redact 17325 mail redacted gettysburg.edu\",\"request reprint send redact redact\",\"study redact redact blaise hammer\",\"base presentation redacted educ onal esearch redacted conference redacted cisco redacted correspond ence redact redacted consumer redacted redacted mail leder sche id@niu .edu\",\"direct correspondence redact redact redact redacted redact redact phone 5135 5150 mail redact\",\"meeting redact redact wish thank redacted partnership design conduct study child teacher director redact redact redacted redacted redacted cooperation study possible wish thank chronological order redact redact redact redact redact redact redact help carry phase research request reprint address redact\",\"redact redact redact redact redacted 27514 electronic mail send redact\",\"redacted redacted\",\"corresponding author department redact college redacted address redacted redact redacted redact\",\"correspondence request reprint send redact redact\",\"redact redact redact redacted arya ansari\",\"redact redacted quarterly 2007 312\\u2013326\",\"redact 2610 redact teacher hall redact redact mail redact\",\"www.thelearner.com redacted print redacted online redact suite redact redacted +1-[redacted www.commongroundpublishing.com selection editorial matter redacted]research criticism review permit applicable copyright legislation work reproduce process written permission publisher permission inquiry contact redact\",\"redacted redacted redacted redacted redacted\",\"partial fulfillment requirement redact research support redact portion research present conference international society study behavioral development redact redact redact\",\"redacted profit service help scholar researcher student discover build wide range content trust digital archive information technology tool increase productivity facilitate form scholarship information redact contact redact redacted archive indicate acceptance redact available\",\"redact redact redact redacted redact redacted redact redact redacted redact redacted redacted]learning peer review scholar active participant redacted thematically related redact reviewer acknowledge associate past current associate editor visit find submission process visit member redacted thematically content find visit www.thelearner.com\\u002fabout\\u002fbecome-a-member electronic print format subscribe gain access content entire backlist contact redact ijlecl.cgpublisher.com access allow work reach wide audience broaden dissemination research find responsibility error omission publication publisher make warranty express imply respect material contain\",null],\"marker\":{\"opacity\":0.5,\"size\":5},\"mode\":\"markers+text\",\"name\":\"3_redact_redacted_mail\",\"text\":[\"\",\"\",\"\",\"\",\"\",\"\",\"\",\"\",\"\",\"\",\"\",\"\",\"\",\"\",\"\",\"\",\"\",\"\",\"\",\"\",\"\",\"\",\"\",\"\",\"\",\"\",\"\",\"\",\"\",\"\",\"\",\"\",\"\",\"\",\"\",\"\",\"\",\"\",\"\",\"\",\"\",\"\",\"\",\"\",\"\",\"\",\"\",\"\",\"\",\"\",\"3_redact_redacted_mail\"],\"textfont\":{\"size\":12},\"x\":{\"dtype\":\"f4\",\"bdata\":\"2Ix1Qb9ScUEevHNBCeR0QZF7ckH9LWVBavd0QfUYdUFXx3VBi8dzQYOMdUHULWZBE39wQfDQdEHknnBB6ppPQWRedEGGs3NBmmVnQTIwdUG+lHRBaV1uQXDTdEEi4XVBbWJwQZ+qcUHzeXRBywd1QXLEcEFPEmtB6UBsQdAndUFWemdB5qRzQQyicEFjTm5BLXVyQQqhZkHzpXVBuVR1QTyccUFjX3NBRE9zQXUYdUEtGnJB5ilxQbAUdUHkcWZBQ2ZnQeq4aEERWnBB\"},\"y\":{\"dtype\":\"f4\",\"bdata\":\"Q1AXQQwrDEHadQ9BC4IPQYgaDEG7ewxBg9MWQeOkD0Ex0RBBzasOQdiAEUEx7gpBj+8LQf7TD0EZCg9B9DYnQek6CUGTSw5B0XQKQdaYFkFzSBFBrrUMQURpD0HcTxBBya8MQYBWC0HBoA5BRXgWQSHdC0EIiQ5BwpIOQWOSFkGYKwtBARwKQQOnDUEDBxBBm+MLQRnwC0G7+QxBpQESQd12C0H42wlBlm8OQXSdFkE5ZwxBaTcLQaSTD0G\\u002ftQtBdDsKQZy\\u002fCkE\\u002fAg9B\"},\"type\":\"scattergl\"}],                        {\"template\":{\"data\":{\"barpolar\":[{\"marker\":{\"line\":{\"color\":\"white\",\"width\":0.5},\"pattern\":{\"fillmode\":\"overlay\",\"size\":10,\"solidity\":0.2}},\"type\":\"barpolar\"}],\"bar\":[{\"error_x\":{\"color\":\"rgb(36,36,36)\"},\"error_y\":{\"color\":\"rgb(36,36,36)\"},\"marker\":{\"line\":{\"color\":\"white\",\"width\":0.5},\"pattern\":{\"fillmode\":\"overlay\",\"size\":10,\"solidity\":0.2}},\"type\":\"bar\"}],\"carpet\":[{\"aaxis\":{\"endlinecolor\":\"rgb(36,36,36)\",\"gridcolor\":\"white\",\"linecolor\":\"white\",\"minorgridcolor\":\"white\",\"startlinecolor\":\"rgb(36,36,36)\"},\"baxis\":{\"endlinecolor\":\"rgb(36,36,36)\",\"gridcolor\":\"white\",\"linecolor\":\"white\",\"minorgridcolor\":\"white\",\"startlinecolor\":\"rgb(36,36,36)\"},\"type\":\"carpet\"}],\"choropleth\":[{\"colorbar\":{\"outlinewidth\":1,\"tickcolor\":\"rgb(36,36,36)\",\"ticks\":\"outside\"},\"type\":\"choropleth\"}],\"contourcarpet\":[{\"colorbar\":{\"outlinewidth\":1,\"tickcolor\":\"rgb(36,36,36)\",\"ticks\":\"outside\"},\"type\":\"contourcarpet\"}],\"contour\":[{\"colorbar\":{\"outlinewidth\":1,\"tickcolor\":\"rgb(36,36,36)\",\"ticks\":\"outside\"},\"colorscale\":[[0.0,\"#440154\"],[0.1111111111111111,\"#482878\"],[0.2222222222222222,\"#3e4989\"],[0.3333333333333333,\"#31688e\"],[0.4444444444444444,\"#26828e\"],[0.5555555555555556,\"#1f9e89\"],[0.6666666666666666,\"#35b779\"],[0.7777777777777778,\"#6ece58\"],[0.8888888888888888,\"#b5de2b\"],[1.0,\"#fde725\"]],\"type\":\"contour\"}],\"heatmap\":[{\"colorbar\":{\"outlinewidth\":1,\"tickcolor\":\"rgb(36,36,36)\",\"ticks\":\"outside\"},\"colorscale\":[[0.0,\"#440154\"],[0.1111111111111111,\"#482878\"],[0.2222222222222222,\"#3e4989\"],[0.3333333333333333,\"#31688e\"],[0.4444444444444444,\"#26828e\"],[0.5555555555555556,\"#1f9e89\"],[0.6666666666666666,\"#35b779\"],[0.7777777777777778,\"#6ece58\"],[0.8888888888888888,\"#b5de2b\"],[1.0,\"#fde725\"]],\"type\":\"heatmap\"}],\"histogram2dcontour\":[{\"colorbar\":{\"outlinewidth\":1,\"tickcolor\":\"rgb(36,36,36)\",\"ticks\":\"outside\"},\"colorscale\":[[0.0,\"#440154\"],[0.1111111111111111,\"#482878\"],[0.2222222222222222,\"#3e4989\"],[0.3333333333333333,\"#31688e\"],[0.4444444444444444,\"#26828e\"],[0.5555555555555556,\"#1f9e89\"],[0.6666666666666666,\"#35b779\"],[0.7777777777777778,\"#6ece58\"],[0.8888888888888888,\"#b5de2b\"],[1.0,\"#fde725\"]],\"type\":\"histogram2dcontour\"}],\"histogram2d\":[{\"colorbar\":{\"outlinewidth\":1,\"tickcolor\":\"rgb(36,36,36)\",\"ticks\":\"outside\"},\"colorscale\":[[0.0,\"#440154\"],[0.1111111111111111,\"#482878\"],[0.2222222222222222,\"#3e4989\"],[0.3333333333333333,\"#31688e\"],[0.4444444444444444,\"#26828e\"],[0.5555555555555556,\"#1f9e89\"],[0.6666666666666666,\"#35b779\"],[0.7777777777777778,\"#6ece58\"],[0.8888888888888888,\"#b5de2b\"],[1.0,\"#fde725\"]],\"type\":\"histogram2d\"}],\"histogram\":[{\"marker\":{\"line\":{\"color\":\"white\",\"width\":0.6}},\"type\":\"histogram\"}],\"mesh3d\":[{\"colorbar\":{\"outlinewidth\":1,\"tickcolor\":\"rgb(36,36,36)\",\"ticks\":\"outside\"},\"type\":\"mesh3d\"}],\"parcoords\":[{\"line\":{\"colorbar\":{\"outlinewidth\":1,\"tickcolor\":\"rgb(36,36,36)\",\"ticks\":\"outside\"}},\"type\":\"parcoords\"}],\"pie\":[{\"automargin\":true,\"type\":\"pie\"}],\"scatter3d\":[{\"line\":{\"colorbar\":{\"outlinewidth\":1,\"tickcolor\":\"rgb(36,36,36)\",\"ticks\":\"outside\"}},\"marker\":{\"colorbar\":{\"outlinewidth\":1,\"tickcolor\":\"rgb(36,36,36)\",\"ticks\":\"outside\"}},\"type\":\"scatter3d\"}],\"scattercarpet\":[{\"marker\":{\"colorbar\":{\"outlinewidth\":1,\"tickcolor\":\"rgb(36,36,36)\",\"ticks\":\"outside\"}},\"type\":\"scattercarpet\"}],\"scattergeo\":[{\"marker\":{\"colorbar\":{\"outlinewidth\":1,\"tickcolor\":\"rgb(36,36,36)\",\"ticks\":\"outside\"}},\"type\":\"scattergeo\"}],\"scattergl\":[{\"marker\":{\"colorbar\":{\"outlinewidth\":1,\"tickcolor\":\"rgb(36,36,36)\",\"ticks\":\"outside\"}},\"type\":\"scattergl\"}],\"scattermapbox\":[{\"marker\":{\"colorbar\":{\"outlinewidth\":1,\"tickcolor\":\"rgb(36,36,36)\",\"ticks\":\"outside\"}},\"type\":\"scattermapbox\"}],\"scattermap\":[{\"marker\":{\"colorbar\":{\"outlinewidth\":1,\"tickcolor\":\"rgb(36,36,36)\",\"ticks\":\"outside\"}},\"type\":\"scattermap\"}],\"scatterpolargl\":[{\"marker\":{\"colorbar\":{\"outlinewidth\":1,\"tickcolor\":\"rgb(36,36,36)\",\"ticks\":\"outside\"}},\"type\":\"scatterpolargl\"}],\"scatterpolar\":[{\"marker\":{\"colorbar\":{\"outlinewidth\":1,\"tickcolor\":\"rgb(36,36,36)\",\"ticks\":\"outside\"}},\"type\":\"scatterpolar\"}],\"scatter\":[{\"fillpattern\":{\"fillmode\":\"overlay\",\"size\":10,\"solidity\":0.2},\"type\":\"scatter\"}],\"scatterternary\":[{\"marker\":{\"colorbar\":{\"outlinewidth\":1,\"tickcolor\":\"rgb(36,36,36)\",\"ticks\":\"outside\"}},\"type\":\"scatterternary\"}],\"surface\":[{\"colorbar\":{\"outlinewidth\":1,\"tickcolor\":\"rgb(36,36,36)\",\"ticks\":\"outside\"},\"colorscale\":[[0.0,\"#440154\"],[0.1111111111111111,\"#482878\"],[0.2222222222222222,\"#3e4989\"],[0.3333333333333333,\"#31688e\"],[0.4444444444444444,\"#26828e\"],[0.5555555555555556,\"#1f9e89\"],[0.6666666666666666,\"#35b779\"],[0.7777777777777778,\"#6ece58\"],[0.8888888888888888,\"#b5de2b\"],[1.0,\"#fde725\"]],\"type\":\"surface\"}],\"table\":[{\"cells\":{\"fill\":{\"color\":\"rgb(237,237,237)\"},\"line\":{\"color\":\"white\"}},\"header\":{\"fill\":{\"color\":\"rgb(217,217,217)\"},\"line\":{\"color\":\"white\"}},\"type\":\"table\"}]},\"layout\":{\"annotationdefaults\":{\"arrowhead\":0,\"arrowwidth\":1},\"autotypenumbers\":\"strict\",\"coloraxis\":{\"colorbar\":{\"outlinewidth\":1,\"tickcolor\":\"rgb(36,36,36)\",\"ticks\":\"outside\"}},\"colorscale\":{\"diverging\":[[0.0,\"rgb(103,0,31)\"],[0.1,\"rgb(178,24,43)\"],[0.2,\"rgb(214,96,77)\"],[0.3,\"rgb(244,165,130)\"],[0.4,\"rgb(253,219,199)\"],[0.5,\"rgb(247,247,247)\"],[0.6,\"rgb(209,229,240)\"],[0.7,\"rgb(146,197,222)\"],[0.8,\"rgb(67,147,195)\"],[0.9,\"rgb(33,102,172)\"],[1.0,\"rgb(5,48,97)\"]],\"sequential\":[[0.0,\"#440154\"],[0.1111111111111111,\"#482878\"],[0.2222222222222222,\"#3e4989\"],[0.3333333333333333,\"#31688e\"],[0.4444444444444444,\"#26828e\"],[0.5555555555555556,\"#1f9e89\"],[0.6666666666666666,\"#35b779\"],[0.7777777777777778,\"#6ece58\"],[0.8888888888888888,\"#b5de2b\"],[1.0,\"#fde725\"]],\"sequentialminus\":[[0.0,\"#440154\"],[0.1111111111111111,\"#482878\"],[0.2222222222222222,\"#3e4989\"],[0.3333333333333333,\"#31688e\"],[0.4444444444444444,\"#26828e\"],[0.5555555555555556,\"#1f9e89\"],[0.6666666666666666,\"#35b779\"],[0.7777777777777778,\"#6ece58\"],[0.8888888888888888,\"#b5de2b\"],[1.0,\"#fde725\"]]},\"colorway\":[\"#1F77B4\",\"#FF7F0E\",\"#2CA02C\",\"#D62728\",\"#9467BD\",\"#8C564B\",\"#E377C2\",\"#7F7F7F\",\"#BCBD22\",\"#17BECF\"],\"font\":{\"color\":\"rgb(36,36,36)\"},\"geo\":{\"bgcolor\":\"white\",\"lakecolor\":\"white\",\"landcolor\":\"white\",\"showlakes\":true,\"showland\":true,\"subunitcolor\":\"white\"},\"hoverlabel\":{\"align\":\"left\"},\"hovermode\":\"closest\",\"mapbox\":{\"style\":\"light\"},\"paper_bgcolor\":\"white\",\"plot_bgcolor\":\"white\",\"polar\":{\"angularaxis\":{\"gridcolor\":\"rgb(232,232,232)\",\"linecolor\":\"rgb(36,36,36)\",\"showgrid\":false,\"showline\":true,\"ticks\":\"outside\"},\"bgcolor\":\"white\",\"radialaxis\":{\"gridcolor\":\"rgb(232,232,232)\",\"linecolor\":\"rgb(36,36,36)\",\"showgrid\":false,\"showline\":true,\"ticks\":\"outside\"}},\"scene\":{\"xaxis\":{\"backgroundcolor\":\"white\",\"gridcolor\":\"rgb(232,232,232)\",\"gridwidth\":2,\"linecolor\":\"rgb(36,36,36)\",\"showbackground\":true,\"showgrid\":false,\"showline\":true,\"ticks\":\"outside\",\"zeroline\":false,\"zerolinecolor\":\"rgb(36,36,36)\"},\"yaxis\":{\"backgroundcolor\":\"white\",\"gridcolor\":\"rgb(232,232,232)\",\"gridwidth\":2,\"linecolor\":\"rgb(36,36,36)\",\"showbackground\":true,\"showgrid\":false,\"showline\":true,\"ticks\":\"outside\",\"zeroline\":false,\"zerolinecolor\":\"rgb(36,36,36)\"},\"zaxis\":{\"backgroundcolor\":\"white\",\"gridcolor\":\"rgb(232,232,232)\",\"gridwidth\":2,\"linecolor\":\"rgb(36,36,36)\",\"showbackground\":true,\"showgrid\":false,\"showline\":true,\"ticks\":\"outside\",\"zeroline\":false,\"zerolinecolor\":\"rgb(36,36,36)\"}},\"shapedefaults\":{\"fillcolor\":\"black\",\"line\":{\"width\":0},\"opacity\":0.3},\"ternary\":{\"aaxis\":{\"gridcolor\":\"rgb(232,232,232)\",\"linecolor\":\"rgb(36,36,36)\",\"showgrid\":false,\"showline\":true,\"ticks\":\"outside\"},\"baxis\":{\"gridcolor\":\"rgb(232,232,232)\",\"linecolor\":\"rgb(36,36,36)\",\"showgrid\":false,\"showline\":true,\"ticks\":\"outside\"},\"bgcolor\":\"white\",\"caxis\":{\"gridcolor\":\"rgb(232,232,232)\",\"linecolor\":\"rgb(36,36,36)\",\"showgrid\":false,\"showline\":true,\"ticks\":\"outside\"}},\"title\":{\"x\":0.05},\"xaxis\":{\"automargin\":true,\"gridcolor\":\"rgb(232,232,232)\",\"linecolor\":\"rgb(36,36,36)\",\"showgrid\":false,\"showline\":true,\"ticks\":\"outside\",\"title\":{\"standoff\":15},\"zeroline\":false,\"zerolinecolor\":\"rgb(36,36,36)\"},\"yaxis\":{\"automargin\":true,\"gridcolor\":\"rgb(232,232,232)\",\"linecolor\":\"rgb(36,36,36)\",\"showgrid\":false,\"showline\":true,\"ticks\":\"outside\",\"title\":{\"standoff\":15},\"zeroline\":false,\"zerolinecolor\":\"rgb(36,36,36)\"}}},\"shapes\":[{\"line\":{\"color\":\"#CFD8DC\",\"width\":2},\"type\":\"line\",\"x0\":3.441026043891908,\"x1\":3.441026043891908,\"y0\":3.8492891073226927,\"y1\":13.896449327468872},{\"line\":{\"color\":\"#9E9E9E\",\"width\":2},\"type\":\"line\",\"x0\":-10.790531587600707,\"x1\":17.672583675384523,\"y0\":8.872869217395783,\"y1\":8.872869217395783}],\"annotations\":[{\"showarrow\":false,\"text\":\"D1\",\"x\":-10.790531587600707,\"y\":8.872869217395783,\"yshift\":10},{\"showarrow\":false,\"text\":\"D2\",\"x\":3.441026043891908,\"xshift\":10,\"y\":13.896449327468872}],\"title\":{\"font\":{\"size\":22,\"color\":\"Black\"},\"text\":\"\\u003cb\\u003eDocuments and Topics\\u003c\\u002fb\\u003e\",\"x\":0.5,\"xanchor\":\"center\",\"yanchor\":\"top\"},\"width\":1200,\"height\":750,\"xaxis\":{\"visible\":false},\"yaxis\":{\"visible\":false}},                        {\"responsive\": true}                    )                };            </script>        </div>"
      ],
      "text/plain": [
       "Figure({\n",
       "    'data': [{'hoverinfo': 'text',\n",
       "              'hovertext': array(['terms conditions access find',\n",
       "                                  'primary question ofthis present study moral behavior under- standing display preschool aged sib- ling interact young sibling home see interaction mixed age child care center',\n",
       "                                  'terms conditions access find',\n",
       "                                  'student work small multi group change relation number old child participate group',\n",
       "                                  'ence home- center care pre- school child understanding moral social transgression find home- care child likely under- stand recognize moral transgression social transgression child attend center care redacted',\n",
       "                                  'searcher hypothesize preschool child nurture help young peer prosoc behavior include moral behavior positively late attend child development ori- ente mixed child care center',\n",
       "                                  'child moral development conduct environment e.g. redact nucci,1987 research investigate effect mixed grouping child moral behavior example research find preschooler attend program mixed grouping display coopera-',\n",
       "                                  'stigat wheth preschool childr moral help behav- ior relate young peer direct ernal state languag talk young peer redact want redact perspective take skill attendance child developm orient mixed child care center redacted enty- pair child old peer youngerpeer otape whil play toy puzzl pre ente singly result indicat moral help behavior positively significan relate frequency vocal turn young peer perspective- abilit length redacted mixed center datum support developmental notion perspectiv take ability relate mixed group settin facilitate young child demonstration understanding ect moral development help behavior perspectiv take ability',\n",
       "                                  'student learn interact teacher interest educational researcher practitioner highly evaluate goal redact social skill individual allow participate learn activity small group learn redact redacted suggest child knowledge idea develop interaction view social interaction capable peer play role under- stand meaning concept learning achieve student need learning environment promote interactive learning process preferably low grade education redact heart view learn situation context learning take place take consideration',\n",
       "                                  'Arya Ansari a , ⁎ , Kelly M. Purtell b',\n",
       "                                  'Natalia M. Rojas   a , * , Rachel M. Abenavoli   b',\n",
       "                                  'reproduction distribution work permission provide original work attribute specify sage',\n",
       "                                  'terms conditions access find',\n",
       "                                  'Linda  E.  Derscheid N orthern  Illinois  Univ er sit y',\n",
       "                                  'hypothesize preschool child moral behavior attend mixed center care relate preschool child understanding',\n",
       "                                  'child participate mixed group likely child attend group classroom need investigate mixed group preschool child moral behav- understanding',\n",
       "                                  'terms conditions access find',\n",
       "                                  'permit unrestricted distribution reproduction medium provide original work properly cite term',\n",
       "                                  'terms conditions access find', 'terms conditions access find',\n",
       "                                  'terms conditions access find', 'terms conditions access find',\n",
       "                                  'benefit especially area socioemotionaldevelopment includingmoral prosocial development involve coopera- tion nurture help behavior',\n",
       "                                  'Elles J. de Schipper   a , J. Marianne Riksen-Walraven   a , ∗ , Sabine A.E. Geurts   b',\n",
       "                                  'terms conditions access find', None], dtype=object),\n",
       "              'marker': {'color': '#CFD8DC', 'opacity': 0.5, 'size': 5},\n",
       "              'mode': 'markers+text',\n",
       "              'name': 'other',\n",
       "              'showlegend': False,\n",
       "              'type': 'scattergl',\n",
       "              'x': {'bdata': ('OyAWweOkFkE5IBbBY2MjQcmrF0FiWx' ... 'bBSiAWwQxbF0Hpw0tBVyAWwYa1bEA='),\n",
       "                    'dtype': 'f4'},\n",
       "              'y': {'bdata': ('0YSeQIKGrkDvhJ5AN0vIQGX/rEAkZ6' ... '5AkYSeQEZerkAYgwlBVYSeQFzvx0A='),\n",
       "                    'dtype': 'f4'}},\n",
       "             {'hoverinfo': 'text',\n",
       "              'hovertext': array(['redact math skill redact child lan- guage skill find relate self- regulation development contribute child ability function effectively class- room environment redact redact redact redact',\n",
       "                                  'socialization cognitive development peer interaction redacted idea base belief young child bene family like experience preschooler help classroom young child help old child redacted argue large range mixed classroom cult teacher provide developmentally appropriate activity child great variation child skill need redact redact',\n",
       "                                  'caregiver school year hallmark mixed classroom bene cial child early learning development redact redact redact redact contend type setting likely conducive child give demand associate mixed education redact purpose current investigation address compete hypothesis examine academic implication have redact erent peer role tea- cher continuity evaluate bene drawback mixed classroom head start type longitudinal empirical inquiry grow importance give fact scholar profes- sional national association promote mixed grouping bene cial child early childhood program little evidence support type educational programming redacted',\n",
       "                                  ...,\n",
       "                                  'early childhood present critical window opportunity address issue inequality life course redact mount interest publicly fund preschool pro- gram include expansion preschool education redact poten- tial policy lever prepare child school understand implication expansion effort utmost importance program include head start large federally fund preschool pro- gram redacted]—often serve classroom fact roughly head start classroom mixed redacted',\n",
       "                                  'preschool classroom redacted redact preschool teacher generally adult child interaction outside family positive teacher child relationship help child develop social skill negotiate challenge situation help child positive perception school redacted redacted positive teacher child interaction preschool positive influence child language academic performance social competence elementary school redact child ability respond social demand appropriate behavior skill develop preschool year life level child ability control moderate behavior response social situation remain stable rest development raikes hand challenging behavior big concern preschool teacher behavior play central role child ability transition adjust school succeed academically furthermore teacher consider behavior big challenge early education lack academic skill example rimm- kaufman redacted redacted find national representative group kindergarten teacher redact teacher consider problem behavior big challenge child adjustment kindergarten academic competency finding point importance look developmental stage prevent challenging behavior',\n",
       "                                  None], dtype=object),\n",
       "              'marker': {'opacity': 0.5, 'size': 5},\n",
       "              'mode': 'markers+text',\n",
       "              'name': '0_child_classroom_redact',\n",
       "              'text': array(['', '', '', ..., '', '', '0_child_classroom_redact'], dtype=object),\n",
       "              'textfont': {'size': 12},\n",
       "              'type': 'scattergl',\n",
       "              'x': {'bdata': ('YhMxQeTeMUFJtjJByLA/QXHPL0HfwB' ... '86QXyEHEEowTRBLk0zQQpfIkF+uClB'),\n",
       "                    'dtype': 'f4'},\n",
       "              'y': {'bdata': ('PnsiQe2PGkFFkTZBID4TQQIGJUH1lR' ... '8KQVmyEUHt3zRBYJVAQYn0JUHH9RVB'),\n",
       "                    'dtype': 'f4'}},\n",
       "             {'hoverinfo': 'text',\n",
       "              'hovertext': array(['research finding classroom physical literacy environment malleable domain specific contributor child emergent literacy acquisition shape physical literacy environment remain unclear study draw sample classroom redacted test role classroom composition shape physical literacy environment additionally examine extent physical literacy environment explain association classroom composition emer\\xad gent literacy outcome find classroom high proportion young child provide book write redact write room notably lack writing display room serve potential reason demon\\xad strate small gain expressive language skill classroom redacted policy finding highlight need invest classroom physical literacy environment ensure meet need child mixed classroom',\n",
       "                                  'understanding express vocabulary skill strongly associate early reading',\n",
       "                                  'child language literacy learn distinct albeit overlap way example child engage pos- itively teacher peer find positive relationship experience dyadic conversa- tion rich language individualized learning child engage teacher peer positively redact redact redact redact redact bell piasta outcome child lan- guage literacy learn redact redact redact redact forston sabol example child sustained engagement task self regulate learning facil- itate efficiency internalize language literacy knowl- edge redact redact contrast child negative engagement teacher peer task find result few opportunity child participate activity involve explicit implicit language literacy learn sabol redact redact redact redact howes review information suggest child classroom engagement multi dimensional con- cept reflect essential aspect child individual class- room experience play critical role later language literacy development',\n",
       "                                  'redacted preschool classroom composition physical literacy environment influence children emergent literacy outcomes early education',\n",
       "                                  'vocabulary development focus apply developmental research address early childhood programming central importance child school readiness later academic achievement e.g. redact redact redact redact redact redact fact preschool child vocabulary skill consistently predict later achievement reading comprehension redact skibbe redact redact redact redact early delay vocabulary development',\n",
       "                                  'surprisingly considerable attention focus way facilitate early vocabulary',\n",
       "                                  'study speak benefit drawback type program young child',\n",
       "                                  'classroom composition preschooler language literacy gain role classroom engagement',\n",
       "                                  'language literacy executive function skill outcome important precursor long term educa- tional success redacted redacted redacted give equivocal nature exist literature discuss lack empirical work area look executive function particular leave study hypothesis largely exploratory despite effort important acknow- ledge datum prohibit examine out- come nonetheless understand group child benefit harm mixed- environment remain important endeavor goal early childhood education ensure chil- dren reap maximum benefit program',\n",
       "                                  'zone proximal development concept widely accept',\n",
       "                                  'less provision literacy relate material space classroom young child especially distinct come writing relate material space evidence show teacher agree research concern language literacy skill child know preschool believe child learn write worry spelling knowledge child learn write watch teacher write redact',\n",
       "                                  'tion zone proximal development natural learning namic mixed interaction collaboration expert- novice directionality prevail researcher observe child classroom encourage collaborative learning peer suggest complex model zone example redacted redacted argue social interaction involve expert peer adult provide opportunity child learn world',\n",
       "                                  'old classmate facilitate positive classroom engagement reduce negative engagement translate large gain language literacy skill chil[redacted study document classroom composition measure proportion young classmate variability range chil- redact classroom associate chil[redacted lan- guage literacy development redacted redact redact bleses højen redacted ample redacted find preschooler dis- play small gain language literacy skill classroom large proportion negative associa- tion equal roughly academic development despite document association mechanism classroom composition contribute chil[redacted language literacy gain understand give possi- influence classroom composition chil[redacted class- room engagement classroom engagement language lit- eracy learning test mediate role classroom engage- ment association classroom composition preschooler language literacy gain datum limitation fact classroom composition matter differ- entially chil[redacted different group redacted redacted focus experience mixed classroom unpack mechanism link class- room composition chil[redacted language literacy devel- opment specifically study address follow search question',\n",
       "                                  'research highlight importance physical literacy environment preschool',\n",
       "                                  'consider physical literacy environment theoretical explanation',\n",
       "                                  'despite promising evidence physical literacy environment important child early',\n",
       "                                  'icte empirical evidence exist litera-',\n",
       "                                  'accord view literacy development occur zone proxi-',\n",
       "                                  'mention belief contrary emergent literacy relate research',\n",
       "                                  'play kindergarten child group child mixed group redact engage large collaborative literacy group kindergarten child combination literacy expert literacy novice increase literacy experience sociodramatic play center',\n",
       "                                  'emergent literacy highlight development literacy start prior formal reading writing instruction term emergent literacy skill refer variety foundational skill enable skilled fluent reading writing redact redact current study focus emergent literacy skill highlight instructional focus preschool period receptive expressive vocabulary phonological awareness print knowledge redacted skill moderately highly correlate redact redact strong independent predictor reading writing acquisition redact',\n",
       "                                  'current study propose classroom physical literacy environment',\n",
       "                                  'emergent literacy skill limited research factor shape literacy environment exist research suggest physical literacy environment malleable example intervention aim improve teacher language instruction implementation language- focus curriculum show significant positive change quality classroom literacy environment redact redact promising inquiry need influence classroom literacy environment factor relate young child emergent literacy skill',\n",
       "                                  'function potential mechanism classroom composition shape child emergent literacy learning indirect evidence link classroom compo\\xad sition teacher practice lend support hypothesis example redacted redacted find great classroom diversity create challenge teacher provide child high quality emotional instructional support example teacher serve class\\xad room large proportion young child find provide opportunity child engage group academic instruction redact similarly classroom composition shape classroom physical literacy environment teacher belief young child literacy learning development discuss',\n",
       "                                  'duration complexity literacy relate play redact example child intervention classroom enrich literacy object target play area e.g. cozy corner library observe spend time engage reading writing activity incorporate literacy object diverse functional way explicit language nonintervention group redact study classroom high quality classroom physical literacy environment strongly associate child general literacy interest engagement literacy activity factor turn predict phonological awareness expressive vocabulary redact study demonstrate direct association physical literacy environment emergent literacy acquisition example redact find positive association engage high quality physical literacy environment child print knowledge similarly study find quality classroom literacy area significantly associate child alphabet knowledge writing ability redact redact expressive receptive vocabulary phonological awareness altun finding suggest link feature physical literacy environment child emergent literacy skill altun redact redact redacted',\n",
       "                                  'child like ability scaffold literacy activity',\n",
       "                                  'redact redact provide type expert novice scaffolding literacy enrich play setting',\n",
       "                                  'engage large broad range col- laborative literacy activity child kindergarten find collabora- tive interaction occur play center complex zone proximal development lead believe collaborative interac- tion group multi directional nature expert novice role firmly',\n",
       "                                  'interest child turn influence provision high quality physical literacy environment example classroom language composition measure percentage dll classroom find significantly associate quality physical literacy environment instruction classroom serve large proportion dll rate have low quality literacy environment redact justice',\n",
       "                                  'redacted den zone proximal development dis-',\n",
       "                                  'child language literacy learn redacted pinto redact early language liter- skill critical child short- long term school success redact redact shenassa redacted loni- redact study structural process qual- classroom reveal small modest association preschooler language literacy growth burchinal light modest association researcher begin focus individual level experience child classroom potential mechanism produce language literacy gain redacted redact redact downer portant aspect child individualized classroom experience engagement classroom core developmental',\n",
       "                                  'teraction occur literacy enrich play center classroom organize multi classroom kindergartner grader second grader classroom traditional kindergarten stu- dent teacher room arrangement material play center remain physical setting remain constant important element social environment range child teracte play setting change',\n",
       "                                  'way characterize classroom physical literacy environment classroom',\n",
       "                                  'addition need examine zone proximal development',\n",
       "                                  'enrollment high quality preschool education improve childhood outcome emergent literacy acquisition implication long term school success redact redacted redact characteristic high quality preschool classroom important aspect physical literacy environment commonly define reading write resource available classroom arrange altun redact example physical literacy material include book write utensil language base puzzle alphabet display additionally certain classroom area desig\\xad nate reading writing area utilize subject activity incorporate resource redact provision material area promote child emergent literacy acquisition allow engage language- literacy- relate symbol object redact',\n",
       "                                  'note exist litera-',\n",
       "                                  'present study examine collaborative reading write',\n",
       "                                  'development stage child partially master skill skill help redact tem- porary assistance scaffolding provide child able engage literacy activity turn extend child knowledge skill high level',\n",
       "                                  'redacted redacted suggest literacy setting include physical surrounding human relationship termine situation child engage cultural tool literacy social interactionist per- spective postulate high order cognitive function nclude literacy',\n",
       "                                  'physical literacy environment compare old child redact example study redact start teacher reveal teacher believe young child engage literacy material master social behavioral skill follow direction abide classroom rule relate peer redact teacher belief degree child learn emergent literacy skill young age find positively associate teacher language literacy relate instructional practice redact teacher mention belief provide few literacy relate material space teach\\xad classroom high percentage young child example classroom teacher provide book engaging complex narrative few writing material e.g. pencil paper word card template writing dis\\xad play room e.g. sign poster chart child writing display',\n",
       "                                  'notable feature classroom shape literacy environment age',\n",
       "                                  'rich physical literacy environment numerous varied book material literacy area write material teacher- child direct writing display prop classroom high quality physical literacy environment include book vary difficulty level genre e.g. rhyme text alphabet book flap book relate different curriculum theme arrange different activity center e.g. dramatic play area block center science table redact addition high quality classroom provide designate area write tool material promote writing model writing e.g. newspaper map redact redact example teacher- child direct writing print product guide daily learning experience e.g. sign poster write sample redact redact',\n",
       "                                  'study describe collaborative literacy activity occur teacher sociodramatic play cen- situation teach multi class teach same- kindergarten situation hour free play videotape detailed transcript action dialogue occur analyze datum compare collaborative literacy interaction occur play center grouping arrangement test assumption collabo- rative learning flow expert novice basic tenet zone proximal development finding show child multi group',\n",
       "                                  'classroom composition gain language literacy skill preschool',\n",
       "                                  'preschool classroom composition physical literacy environment influence children emergent literacy outcomes',\n",
       "                                  'cept zone proximal development purpose exam- type collaborative literacy interaction curre play center grouping arrangement supporter multi grouping cite zone claim broad child classroom great opportunity collaborative learn- scant evidence claim multi- advocate correct find large broad range collaborative literacy interaction occur multi- class kindergarten second purpose examine directionality collaborative literacy exchange zone concept assume collaboration unidirectional old competent child help young competent peer want learn collaborative exchange actually simple complex pattern interaction emerge change closely examine',\n",
       "                                  'classroom influence inhibitory control language literacy development child',\n",
       "                                  'attention focus product collaboration',\n",
       "                                  'skill demonstrate optimal executive function',\n",
       "                                  'importance malleability physical literacy environment warrant depth study shape undoubtedly shape large contextual force e.g. program funding understand proximal predictor important mirror bidirectional relation person context propose bioecological theory redact physical literacy environment influence child emergent literacy learning simultaneously shape collective characteristic child classroom characteristic influence teacher perception belief developmental need',\n",
       "                                  'redact classroom environment children emergent literacy development',\n",
       "                                  'classroom composition preschooler language literacy gain role classroom engagement',\n",
       "                                  'give importance malleability classroom physical literacy environment child emergent literacy learning critical investigate factor influence child characteristic include shape teacher belief practice provide classroom environment redact redact focus classroom composi\\xad tion potential factor influence physical literacy environment additionally physical literacy environment theoretically empirically suggest predictor child literacy learning altun redact examine aspect physical literacy environment potential mediator explain association classroom composition child emergent literacy outcome redacted redacted specifically examine extent classroom composition associate classroom physical literacy environment classroom physical literacy environment account association classroom composition child emergent literacy acquisition hypothesize child gain emergent literacy skill classroom high percentage young peer teacher fail provide high quality appropriate physical literacy environment conceptual framework show figure',\n",
       "                                  'ment language literacy development redact sabol redact know relatively little predict classroom engagement redact redacted study examine role classroom composition opera- tionalize proportion child different group classroom level focus aspect class- room set predictor child engagement rea- son unlike redact preschool classroom serve chil- dren multiple group accord national statistic state allow preschool program mixed group- ing roughly head start classroom mixed redact redact redact redact redacted redacted redact state provide varied quirement expect number child group teacher child ratio contribute hetero- geneity distribution child different group doc- umented prior work redact redact gershoff second recent work show mixture age preschool classroom implication teacher classroom prac- tice child early learn redacted redact green- field bulotsky shearer redact redact redacted redact redact redact example enrol class- room demonstrate small gain aca- demic skill redacted notwithstanding widespread mixed classroom connection child early learning know little need ensure mixed classroom successfully meet need child study aim fill knowledge examine child classroom engagement potential mechanism highlight evidence suggest composition play role type classroom engagement',\n",
       "                                  'theory establish child able develop emergent literacy skill puranik lonigan redact inadequate access literacy stimulate environment preschool classroom associate preschooler small gain emergent literacy skill altun redact give potential variation classroom physical literacy environment base age child classroom influence child emergent literacy development hypothesize classroom physical literacy environment mediate association classroom composition child emergent literacy development',\n",
       "                                  'influence zone apparent movement multi-',\n",
       "                                  'show shape classroom environment numerous way include classroom quality redacted][redacted child engagement redact presumably child age shape way teacher organize classroom provide material support emergent literacy acquisition study examine extent classroom composition associate classroom physical literacy environment classroom composition associate child emergent literacy skill gain physical literacy environment inquiry question implication optimize classroom environment facilitate child emergent literacy learning mixed classroom',\n",
       "                                  'considerable influence early childhood education program example zone commonly rationale establishment literacy enrich play center traditional dramatic play area housekeeping restaurant center stock theme relate lit- eracy material example restaurant center equip menu wall sign pencil notepad take food order research- assert aspect setting encourage child incorpo- rate familiar literacy routine activity play literacy artifact tool place play center opportunity child interact adult capable peer connection material redact redact redact redact qualitative study establish adult redact redact peer',\n",
       "                                  'take physical literacy environment directly elicit literacy relate exploration manipulation elaboration imagination child solitary activity prompt adult- mediate literacy enrich play teacher model scaffold child physical literacy resource redact redact redact',\n",
       "                                  'young able child provide assistance old classmate lim- ited research support possibility redacted report child similar ability work literacy task opportunity emerge pool knowl- edge negotiate possible solution problem encounter stone redact examine literacy activity multi classroom find collaborative literacy exchange involve grade peer involve young child help old classmate',\n",
       "                                  'young old peer classroom language literacy executive function skill examine heterogeneity association function skill entry prek.',\n",
       "                                  'classroom rich literacy material area find increase frequency',\n",
       "                                  'shed light physical literacy environment shape child emergent literacy learning redacted theory suggest organization structure complexity physical environment stimulate solitary interaction object symbol provide condition stimulus interpersonal interaction involve literacy relate instruction redacted eling redact addition sociocultural theory emphasize child internalization symbol sign support presence prop object- orientate play involve physical interaction object material vygotsky',\n",
       "                                  None], dtype=object),\n",
       "              'marker': {'opacity': 0.5, 'size': 5},\n",
       "              'mode': 'markers+text',\n",
       "              'name': '1_literacy_environment_physical',\n",
       "              'text': array(['', '', '', '', '', '', '', '', '', '', '', '', '', '', '', '', '', '',\n",
       "                             '', '', '', '', '', '', '', '', '', '', '', '', '', '', '', '', '', '',\n",
       "                             '', '', '', '', '', '', '', '', '', '', '', '', '', '', '', '', '', '',\n",
       "                             '', '', '', '', '', '', '', '', '', '1_literacy_environment_physical'],\n",
       "                            dtype=object),\n",
       "              'textfont': {'size': 12},\n",
       "              'type': 'scattergl',\n",
       "              'x': {'bdata': ('B3sCQbeEC0HkcxRBPNj+QPv2D0ECdw' ... 'EyqBRB0yMQQV4ZBUHhQQJBBGYKQQ=='),\n",
       "                    'dtype': 'f4'},\n",
       "              'y': {'bdata': ('Sh05QYF4L0EGMS1BEoE2QbKDMEGsjy' ... 'H+6i1BE/QsQbayOkFrjzlBGYQ1QQ=='),\n",
       "                    'dtype': 'f4'}},\n",
       "             {'hoverinfo': 'text',\n",
       "              'hovertext': array(['final sample include female caregiver child care center child care group',\n",
       "                                  'unlikely exploit consumer parent distribute profit control organization conversely profit orient organiza- tion profit child care parent directly evaluate quality service child actually receive child qualified evaluate service motivation legal sanction promote increase profit accordingly profit firm likely cost reduce quality base reasoning nonprofit child care center likely superior quality relative profit child care center research consistently verify assumption redact redact redact profit child care center characterize low adult child ratio generally better- train staff redact redact group size quality environment include quality interaction staff child clearly relate type child care program redact redact redact',\n",
       "                                  'research child care teaching provide limit answer question',\n",
       "                                  'impact childcare group situational composition caregiver child interaction',\n",
       "                                  'different group child care center allow multilevel analysis examine variance quality caregiver behavior lie different level i.e. individual caregiver child care group child care center variance level explain potential determinant information helpful interpret possible effect specific predictor caregiver behavior include present study discuss possible source variance remain redacted explain present predictor expect variance behavior professional caregiver level child care group level child care center influence mold quality caregiver behavior group specific support colleague child care group center specific support supervisor existence center',\n",
       "                                  'study aim investigate role situational peer group composition include range number child present young median quality caregiver- child interaction measure emotional behavioural support engage support learn base previous research hypothe- sized situational peer group range negatively associate caregiver child interaction quality median positively associate caregiver child interaction quality appropriate care infant constitute challenge caregiver especially mixed setting necessary account number young child present accordingly aim examine peer group range closely explore ect range explain number child present age',\n",
       "                                  'tend child care center acquire different type socioemotional knowledge home',\n",
       "                                  'address locator child care website regional telephone directory child care center',\n",
       "                                  'adult child ratio consider policy researcher regulation authority',\n",
       "                                  'quality caregiving professional caregiver child care center establish important',\n",
       "                                  'adult low ratio e.g. child adult likely affect child development study concern adult child ratio typically investigate effect difference ratio low clear positive effect emerge comparison include high ratio',\n",
       "                                  'large research investigate role childcare child learning social emotional development psychosocial adjustment study association suggest spending time high quality childcare positive impact child outcome redact redact redact mashburn redact redact miller- redact redact redact redact redacted redact redact redact steinberg redact redacted quality consider multidimensional construct mea- sure assess structural process characteristic redact redact redact redact redact redact redact redact redact abbott shim structural childcare quality refer feature group size caregiver child ratio caregiver general',\n",
       "                                  'educational level professional caregiver frequently report associate quality',\n",
       "                                  'care surprisingly little attention award potential impact work environment professional child care provider quality care despite wide recognition demand stress involve redact redact redacted find favorable work condition relate high quality care report positive relation high satisfaction low turnover rate hand quality care accordingly present study anticipate quantitative qualitative workload workplace associate low quality caregiving secondly supportive relation colleague supervisor positively affect caregiver behavior child redact postulation confirm numerous study review redact take support examine association study field occupational psychology show supportive relation coworker setting boost performance profession redact redact redact redact murray',\n",
       "                                  'mention assess caregiver home workload support work family interaction study',\n",
       "                                  'year start mandatory kindergarten link primary school additionally childcare redacted characterize high degree redact exibility term child attendance schedule parent work time choose attendance depend individual relate need vary possible individual child attend childcare week morning afternoon majority child attend childcare time week redacted federal statistical average group size child signi number available childcare place share child e.g. child use childcare place morning afternoon redacted childcare association provide guideline standard caregive quality childcare take child redacted cation account calculate caregiver child ratio redact majority professional caregiver redacted childcare complete apprenticeship combine school attendance service training week caregiver trainee i.e. young person attend internship completion mandatory schooling apprentice work alongside qua- redact professional caregiver redact redact',\n",
       "                                  'present study observe different caregiver work child care group caregiver',\n",
       "                                  'grandmother act differ- ently',\n",
       "                                  'care group young child professional child care setting generally consider strenuous stressful good physical condition absence health problem crucial particularly field care education common staff continue work suffer health problem redact redact profession negative relation health problem performance find redacted anticipate similar association professional caregiving',\n",
       "                                  'characteristic childcare high degree variability child- care group composition country childcare programme favour traditional grouping centre mixed- grouping provide extended range group family like programme highly redacted exible require few redacted classroom schedule time mixed grouping consequence child engagement quality caregiving date little research examine ect',\n",
       "                                  'question child group homogeneously het-',\n",
       "                                  'level quali cation process quality childcare refer dynamic aspect caregiver behaviour interaction caregiver child child curriculum implementation redact redacted redact redact redact redact redact cumulative research nding redacted indicate process variable consistently long term associate child cognitive social emotional development redact redact redact zubrick lynch redact redact redact redact taggart redact childcare researcher emphasize high quality social interac- tion caregiver child important determinant quality early education care redact redact redact hamre redacted redact redacted redact redact redact stuhlman',\n",
       "                                  'group size reyhing present study explicitly focus situational composition childcare group',\n",
       "                                  'person influence child care quality child development statisti- cally reliable relationship moderately positive study e.g. redact redact redact redact redact redact redact redact rodning galluzzo redacted e.g. redact redact redact redact redact redact redacted redact redact redact fail support notion high child care quality case high adult child ratio contradictory finding suggest importance predictor child care quality instance strong consensus teacher aide involve idea educational goal mean accomplish goal compensate decrease adult child ratio interpretation consistent finding redact palme´rus ha¨gglund variation teacher education experience likely relevant explain child care quality redacted possibility relationship child care quality adult child ratio nonlinear respect difference adult child ratio negligible effect certain ratio e.g. child',\n",
       "                                  'finally include caregiver physical health potential determinant caregiving behavior',\n",
       "                                  'influence aspect child development redact redacted duncan study devote quality professional child care effect child development review redact redact determine quality caregiving behavior professional involve care young child remain unclear ample study dedicate explication individual difference parental caregiving behavior inspire redacted seminal model determinant parenting model assume parenting shape multiple determinant domain parental personality personal psychological resource child characteristic contextual source stress support theoretical model available professional caregiving redact model guideline choice potential determinant keep model hypothesize group characteristic multiply determine quality nonparental caregiving personal characteristic caregiver characteristic child care group characteristic caregiving context report present study elaborate hypothesis regard group determinant perspective early research',\n",
       "                                  'child group data collection begin familiar',\n",
       "                                  'view policy decision range child',\n",
       "                                  'tion redact prosocial help havior redacted caretaking behavior redact redacted redact study con- ducte child care program mixed- group try link aspect preschooler social knowledge knowledge emotion perspective taking',\n",
       "                                  'rate redacted participation redacted country provision universal child care important feature welfare state redact',\n",
       "                                  'care provide redact redact date confirm redact possibly restricted variance educational level professional caregiver work redacted child care center redact redact redact redact redact redact redact redact child care worker receive general vocational training specifically prepare work young child learn hand experience caregiver education present study expect caregiver work experience relate quality professional caregiving early observe redacted redacted confirm redacted study redacted redact',\n",
       "                                  'study multiple determinant professional caregiving caregiver range redact child care center extensively observe interaction child usual care group choice potential determinant caregiving quality guide redacted redact determinant parenting process model redact 83–96 model determinant parenting consistent redact model quality caregiving find multiply determine characteristic caregiver child caregiving context specifically low quality care provide young caregiver young child caregiver report high physical occupational workload difference participate child care center prove explain variance quality professional caregiving difference individual caregiver',\n",
       "                                  'city redacted redacted surround area i.e. middle southern region redact adhere invitation participate center director call ask caregiver willingness join trial total center agree participate caregiver volunteer take study i.e. caregiver involve care care group participating center give busy objection videotape reason refusal incomplete datum caregiver exclude analysis caregiver male exclude datum analysis',\n",
       "                                  'school child care child typically group',\n",
       "                                  'observed situation exclude possibility contribution individual factor quality caregiver behavior different depend situation caregiver child interaction observe example workload support experience colleague explain variance caregiver behavior observe everyday interaction child entire morning relatively short structure play episode small group child decide sitation apart explore behavior caregiver different situation relate different combination predictor',\n",
       "                                  'expect factor domain contribute quality caregiver behavior',\n",
       "                                  'authority authorize help fund private child care redact instance private nonprofit profit child care center receive approximately subsidy public center provide center comply specify quality relate parameter e.g. hiring train teacher yearly evaluation planning accessibility disabled risk child nonprofit private child care redacted double leave child attend child care private nonprofit center profit child care transformation occur redact child care system naturalistic experiment feasible main purpose study examine potential effect adult child ratio profit child care teaching child social cognitive achievement',\n",
       "                                  'advantage childcare provider help parent well reconcile need family career hand redacted exible childcare result high degree redacted uctuation makeup child- care group permanent change situational group composition e.g. composition group size behaviour pattern peer group dynamic impact quality caregiving caregiver constantly face challenge match adapt resource redacted erent need interest speci group e.g. infant toddler schooler time',\n",
       "                                  'care study redacted child care center redact find positive association quality caregiver behavior study fail find relationship redact riksen walraven mother positive association quality parenting find redact confirm recent study redact redact redact redacted demonstrate association quality parenting particularly prominent young mother give professional caregiver work child care center relatively young expect find positive association caregiver quality caregiver behavior present study',\n",
       "                                  'child care center caregiver interaction involve child define child characteristic level care group purpose present study large group size high child caregiver ratio young mean child deem relevant care group characteristic variable associate low quality caregiving numerous study redact redact early study current sample observation structured play session reveal quality caregiver child interaction low group contain child caregiver versus especially include young child redact riksen walraven redacted expect aspect associate low quality caregiver behavior situation structure play',\n",
       "                                  'fect center care child moral behavior indicate prosocial behavior relate temperament friendship sta- positive social interaction length oftime spend quality program redacted]husby branstetter mother pectation care quality redact attend half- full- redact relate child moral behavior',\n",
       "                                  'repeatedly demonstrate work home domain affect negatively positively review redacted study consequently hypothesize perceive home workload negatively relate quality care support home contribute positively quality care',\n",
       "                                  'accord redact nonprofit organization public child care',\n",
       "                                  'erogeneously respect important apply implication care- giver organizer early childhood program argument',\n",
       "                                  'observe behavior large cohort caregiver child care different situation structured play small group child lunch complete care group morning explain line redact model determinant parenting expect factor domain independently contribute quality professional caregiving regard domain i.e. professional caregiver personal characteristic expect high quality caregiving associate well general mood professional experience high few health problem second domain i.e. characteristic child care group expect high quality caregiving occur case low child caregiver ratio small group size old child finally propos domain contextual characteristic observed situation expect high quality care case low workload support work context home',\n",
       "                                  'characteristic process quality base assumption structural childcare quality predict teacher provide care education sensitive reliable emotionally available child study provide evidence positive caregiving common group size child adult ratio small redact redact redact redact redact redact gevers deynoot- redact redact redact redact redact redact redact redact caregiver education training find associate high quality caregiver skill redact cryer redact redact redact redact kontos redact redact redact study find weak association child- care structural quality caregiving quality fail association redacted redacted redacted redact redact',\n",
       "                                  'quality caregiving redact redact redact ready redact redact redact study examine effect personal characteristic professional caregiver quality care restricted focus i.e. effect depressive symptom similar finding parent result indicate caregiver report depressive symptom display low quality caregiving behavior report few depressive symptom redact previous study present sample professional caregiver redact riksen walraven redacted self report general mood i.e. optimism happiness find significantly positively relate quality care observe structured play episode present study caregiver general mood expect relation caregiver behavior caregiving situation',\n",
       "                                  'present study investigate role situational composition quality caregiving speci cally examine impact range number child present young median caregiver child interaction quality unique condition redacted exible heterogeneous childcare caregiver child interaction childcare group observe morning observation cycle result multilevel structural equation modelling show wide range high number young child present relate low quality observed behavioural emotional learn support importantly nding suggest ect range explain number child implication research mixed programme practice policy discuss',\n",
       "                                  'study investigate effect program auspice nonprofit profit child care adult child ratio 1:4.6–1:8.7 span child care class teaching child social cognitive achievement sample include child child care center result profit child care center large child group nonprofit child care center low adult child ratio positive staff attitude teaching goal gender social background span child care class significant predictor child social cognitive achievement adult child ratio teaching style prove good predictor child social cognitive achievement',\n",
       "                                  'present study multilevel approach examine quality professional caregiving child care center formulate specific hypothesis relative proportion variance explain different level merely explore',\n",
       "                                  'redacted childcare centre child usually place mixed group wide range age maternity leave',\n",
       "                                  'parental caregiving study caregiver quality investigate relative characteristic individual child',\n",
       "                                  'sition investigate impact caregiver child interaction multivariate multilevel analysis unique particularly favourable con- dition redacted exible heterogeneous childcare recent study redacted show situational group characteristic group activity number child present strong predictor caregiver child interaction quality structural feature',\n",
       "                                  'peer group composition context early education childcare country e.g. redact redacted adopt extended range include child regular preschool class helmerhorst redact previous study compare multi setting focus child behavioural outcome research association peer group composition caregiver behaviour limited overall research provide evidence caregive mixed group low quality tietze redacted find range negatively redacted uence quality interaction preschool teacher chil- dren teacher provide few teacher guide activity elaborate instruction group wide range redacted redacted show extension range group strong predictor low interaction quality caregiver child ally include number child age analysis show presence single child negative impact quality caregiving redact result consistent nding redacted study investigate mixed group comprise child age schipper riksen walraven redacted study indicate number infant group signi predictor caregiving quality group few child age receive well quality care study redacted childcare context demonstrate caregiver sensitive responsiveness educational skill low infant group preschool group mixed group helmerhorst study recog- nizing composition potential determinant caregiver behaviour childcare centre report high mean childcare group correlate high quality caregiving behaviour redact redact redact redact summarize previous research provide evidence wide range high number infant group low mean group associate low caregiver child interaction quality',\n",
       "                                  'activity child work group traditionally group work involve',\n",
       "                                  'examine swedish profit nonprofit child care relationships adult child ratio',\n",
       "                                  'impact childcare group situational composition caregiver child interaction',\n",
       "                                  'group determinant i.e. contextual characteristic special interest field professional child',\n",
       "                                  'child care center serve child long remember center class tod-',\n",
       "                                  'severe economic cut child care budget redacted sharp increase number child child care class observe redact average class size rise country great difference community rare child class class child simultaneously increase class number employee child care center decrease average child time employee number child time employee increase redact law significant impact redact child care system profit child care center base redacted receive public funding average cost child public agency 10,000 redacted federal govern- ment funding local authority subsidize approximately cost parental fee finance remain impractical private child care public funding local',\n",
       "                                  None], dtype=object),\n",
       "              'marker': {'opacity': 0.5, 'size': 5},\n",
       "              'mode': 'markers+text',\n",
       "              'name': '2_care_caregiver_child',\n",
       "              'text': array(['', '', '', '', '', '', '', '', '', '', '', '', '', '', '', '', '', '',\n",
       "                             '', '', '', '', '', '', '', '', '', '', '', '', '', '', '', '', '', '',\n",
       "                             '', '', '', '', '', '', '', '', '', '', '', '', '', '', '', '', '', '',\n",
       "                             '', '', '', '', '', '', '2_care_caregiver_child'], dtype=object),\n",
       "              'textfont': {'size': 12},\n",
       "              'type': 'scattergl',\n",
       "              'x': {'bdata': ('r1QpQSNzNUEtzzNBHHgoQYi/K0EK6y' ... 'HY9yhBC2EnQWPIJ0H/czhBM3EtQQ=='),\n",
       "                    'dtype': 'f4'},\n",
       "              'y': {'bdata': ('+UWeQEproUC6nrZAjmetQPlHmUBoVq' ... 'A8ZKxAc7qyQM3PmkDB7qVAQKigQA=='),\n",
       "                    'dtype': 'f4'}},\n",
       "             {'hoverinfo': 'text',\n",
       "              'hovertext': array(['funding information redact redacted number redact redacted redact redact redact redact redacted number r305b130013',\n",
       "                                  'redact redact redact redact', 'redacted redacted redacted',\n",
       "                                  'redacted redacted redacted redacted redacted redacted',\n",
       "                                  'redact redact redact redacted redact',\n",
       "                                  'researcher find support redact idea example mixed',\n",
       "                                  'date study include redacted',\n",
       "                                  'redacted redacted redacted dorthe bleses redacted',\n",
       "                                  'redacted redacted redacted',\n",
       "                                  'redacted naeyc collaborate redacted digitize preserve extend access redact',\n",
       "                                  'redacted language',\n",
       "                                  'nding report base research conduct redact fund redacted redacted contract redact conjunction redact generous local source fund school local evaluator redacted consist representa- tive program participate evaluation local research team evaluation contractor redact',\n",
       "                                  'redact redact', 'redacted redacted redact',\n",
       "                                  'redact society research redact inc. 0009 3920/81/02 0028$01.00',\n",
       "                                  'accord redacted development occur rapidly chil-',\n",
       "                                  'request reprint send redact redact redact',\n",
       "                                  'copy right redacted iation redact',\n",
       "                                  'redacted profit service help scholar researcher student discover build wide range content trust digital archive information technology tool increase productivity facilitate form scholarship information redact contact redact redacted archive indicate acceptance redact available',\n",
       "                                  'redacted 1016–1034 redacted 1040 9289 print/1556 6935 online',\n",
       "                                  'redacted redacted head start program',\n",
       "                                  'understand similarity difference mixed redact',\n",
       "                                  'redacted redacted redacted redact',\n",
       "                                  'redacted redacted observe play pair', 'redact redact',\n",
       "                                  'correspondence redact redact redact redacted email redact',\n",
       "                                  'redacted redacted redacted collaborate redacted digitize preserve extend access redact',\n",
       "                                  'redact redacted quarterly 2007 312–326',\n",
       "                                  'behavioral skill redact redact redact redact tho- redact redact redact purpose',\n",
       "                                  'datum present study derive redact',\n",
       "                                  'empirical support claim mixed redacted redact',\n",
       "                                  'redact redacted quarterly 2007 312–326',\n",
       "                                  'redact redact redact redact redact redact redact dentistry redact redact department redact like thank responsible manage redact early childhood assessment partnership project include redact redact redact redact redact partic- ular thank redacted help expertise manage clean dataset analysis derive finally thank redact redact redact insightful moller redact redact 0407 redact redact 17325 mail redacted gettysburg.edu',\n",
       "                                  'request reprint send redact redact',\n",
       "                                  'study redact redact blaise hammer',\n",
       "                                  'base presentation redacted educ onal esearch redacted conference redacted cisco redacted correspond ence redact redacted consumer redacted redacted mail leder sche id@niu .edu',\n",
       "                                  'direct correspondence redact redact redact redacted redact redact phone 5135 5150 mail redact',\n",
       "                                  'meeting redact redact wish thank redacted partnership design conduct study child teacher director redact redact redacted redacted redacted cooperation study possible wish thank chronological order redact redact redact redact redact redact redact help carry phase research request reprint address redact',\n",
       "                                  'redact redact redact redact redacted 27514 electronic mail send redact',\n",
       "                                  'redacted redacted',\n",
       "                                  'corresponding author department redact college redacted address redacted redact redacted redact',\n",
       "                                  'correspondence request reprint send redact redact',\n",
       "                                  'redact redact redact redacted arya ansari',\n",
       "                                  'redact redacted quarterly 2007 312–326',\n",
       "                                  'redact 2610 redact teacher hall redact redact mail redact',\n",
       "                                  'www.thelearner.com redacted print redacted online redact suite redact redacted +1-[redacted www.commongroundpublishing.com selection editorial matter redacted]research criticism review permit applicable copyright legislation work reproduce process written permission publisher permission inquiry contact redact',\n",
       "                                  'redacted redacted redacted redacted redacted',\n",
       "                                  'partial fulfillment requirement redact research support redact portion research present conference international society study behavioral development redact redact redact',\n",
       "                                  'redacted profit service help scholar researcher student discover build wide range content trust digital archive information technology tool increase productivity facilitate form scholarship information redact contact redact redacted archive indicate acceptance redact available',\n",
       "                                  'redact redact redact redacted redact redacted redact redact redacted redact redacted redacted]learning peer review scholar active participant redacted thematically related redact reviewer acknowledge associate past current associate editor visit find submission process visit member redacted thematically content find visit www.thelearner.com/about/become-a-member electronic print format subscribe gain access content entire backlist contact redact ijlecl.cgpublisher.com access allow work reach wide audience broaden dissemination research find responsibility error omission publication publisher make warranty express imply respect material contain',\n",
       "                                  None], dtype=object),\n",
       "              'marker': {'opacity': 0.5, 'size': 5},\n",
       "              'mode': 'markers+text',\n",
       "              'name': '3_redact_redacted_mail',\n",
       "              'text': array(['', '', '', '', '', '', '', '', '', '', '', '', '', '', '', '', '', '',\n",
       "                             '', '', '', '', '', '', '', '', '', '', '', '', '', '', '', '', '', '',\n",
       "                             '', '', '', '', '', '', '', '', '', '', '', '', '', '',\n",
       "                             '3_redact_redacted_mail'], dtype=object),\n",
       "              'textfont': {'size': 12},\n",
       "              'type': 'scattergl',\n",
       "              'x': {'bdata': ('2Ix1Qb9ScUEevHNBCeR0QZF7ckH9LW' ... 'lxQbAUdUHkcWZBQ2ZnQeq4aEERWnBB'),\n",
       "                    'dtype': 'f4'},\n",
       "              'y': {'bdata': ('Q1AXQQwrDEHadQ9BC4IPQYgaDEG7ew' ... 'cLQaSTD0G/tQtBdDsKQZy/CkE/Ag9B'),\n",
       "                    'dtype': 'f4'}}],\n",
       "    'layout': {'annotations': [{'showarrow': False,\n",
       "                                'text': 'D1',\n",
       "                                'x': -10.790531587600707,\n",
       "                                'y': 8.872869217395783,\n",
       "                                'yshift': 10},\n",
       "                               {'showarrow': False,\n",
       "                                'text': 'D2',\n",
       "                                'x': 3.441026043891908,\n",
       "                                'xshift': 10,\n",
       "                                'y': 13.896449327468872}],\n",
       "               'height': 750,\n",
       "               'shapes': [{'line': {'color': '#CFD8DC', 'width': 2},\n",
       "                           'type': 'line',\n",
       "                           'x0': 3.441026043891908,\n",
       "                           'x1': 3.441026043891908,\n",
       "                           'y0': 3.8492891073226927,\n",
       "                           'y1': 13.896449327468872},\n",
       "                          {'line': {'color': '#9E9E9E', 'width': 2},\n",
       "                           'type': 'line',\n",
       "                           'x0': -10.790531587600707,\n",
       "                           'x1': 17.672583675384523,\n",
       "                           'y0': 8.872869217395783,\n",
       "                           'y1': 8.872869217395783}],\n",
       "               'template': '...',\n",
       "               'title': {'font': {'color': 'Black', 'size': 22},\n",
       "                         'text': '<b>Documents and Topics</b>',\n",
       "                         'x': 0.5,\n",
       "                         'xanchor': 'center',\n",
       "                         'yanchor': 'top'},\n",
       "               'width': 1200,\n",
       "               'xaxis': {'visible': False},\n",
       "               'yaxis': {'visible': False}}\n",
       "})"
      ]
     },
     "execution_count": 26,
     "metadata": {},
     "output_type": "execute_result"
    }
   ],
   "source": [
    "topic_model.visualize_documents(df_gdpr['GDPR_Text'])"
   ]
  },
  {
   "cell_type": "code",
   "execution_count": 29,
   "metadata": {},
   "outputs": [],
   "source": [
    "# Add topics and probabilities to the original DataFrame\n",
    "df_gdpr[\"topic_number\"] = np.argmax(probabilities, axis=1)\n",
    "\n",
    "# Also extract the topic names and assign them to the DataFrame\n",
    "info = topic_model.get_topic_info()\n",
    "topic_names = info['Representation']\n",
    "\n",
    "df_gdpr['topic_name'] = df_gdpr['topic_number'].map(topic_names)\n",
    "\n",
    "# Save the updated DataFrame to a CSV\n",
    "\n",
    "df_gdpr['topic_name'] = df_gdpr['topic_number'].map(topic_names)\n",
    "\n",
    "# Save to a new CSV file\n",
    "df_gdpr.to_csv(\"studies_lobke_with_topics.csv\", index=False)\n"
   ]
  },
  {
   "cell_type": "code",
   "execution_count": 30,
   "metadata": {},
   "outputs": [
    {
     "data": {
      "text/html": [
       "<div>\n",
       "<style scoped>\n",
       "    .dataframe tbody tr th:only-of-type {\n",
       "        vertical-align: middle;\n",
       "    }\n",
       "\n",
       "    .dataframe tbody tr th {\n",
       "        vertical-align: top;\n",
       "    }\n",
       "\n",
       "    .dataframe thead th {\n",
       "        text-align: right;\n",
       "    }\n",
       "</style>\n",
       "<table border=\"1\" class=\"dataframe\">\n",
       "  <thead>\n",
       "    <tr style=\"text-align: right;\">\n",
       "      <th></th>\n",
       "      <th>File</th>\n",
       "      <th>Page</th>\n",
       "      <th>Language</th>\n",
       "      <th>GDPR_Text</th>\n",
       "      <th>topic_number</th>\n",
       "      <th>topic_name</th>\n",
       "    </tr>\n",
       "  </thead>\n",
       "  <tbody>\n",
       "    <tr>\n",
       "      <th>0</th>\n",
       "      <td>-1</td>\n",
       "      <td>1</td>\n",
       "      <td>en</td>\n",
       "      <td>terms conditions access find</td>\n",
       "      <td>3</td>\n",
       "      <td>[care, caregiver, child, redact, quality, grou...</td>\n",
       "    </tr>\n",
       "    <tr>\n",
       "      <th>1</th>\n",
       "      <td>0</td>\n",
       "      <td>1</td>\n",
       "      <td>en</td>\n",
       "      <td>advantage mixed free play elementary school pe...</td>\n",
       "      <td>0</td>\n",
       "      <td>[moral, terms, conditions, access, find, child...</td>\n",
       "    </tr>\n",
       "    <tr>\n",
       "      <th>2</th>\n",
       "      <td>0</td>\n",
       "      <td>1</td>\n",
       "      <td>en</td>\n",
       "      <td>mixed free play elementary school perception s...</td>\n",
       "      <td>0</td>\n",
       "      <td>[moral, terms, conditions, access, find, child...</td>\n",
       "    </tr>\n",
       "    <tr>\n",
       "      <th>3</th>\n",
       "      <td>0</td>\n",
       "      <td>2</td>\n",
       "      <td>en</td>\n",
       "      <td>advantage mixed free play elementary school pe...</td>\n",
       "      <td>0</td>\n",
       "      <td>[moral, terms, conditions, access, find, child...</td>\n",
       "    </tr>\n",
       "    <tr>\n",
       "      <th>4</th>\n",
       "      <td>0</td>\n",
       "      <td>2</td>\n",
       "      <td>en</td>\n",
       "      <td>mixed group show effective classroom setting h...</td>\n",
       "      <td>0</td>\n",
       "      <td>[moral, terms, conditions, access, find, child...</td>\n",
       "    </tr>\n",
       "    <tr>\n",
       "      <th>5</th>\n",
       "      <td>0</td>\n",
       "      <td>2</td>\n",
       "      <td>en</td>\n",
       "      <td>express support cross interaction mixed groupi...</td>\n",
       "      <td>0</td>\n",
       "      <td>[moral, terms, conditions, access, find, child...</td>\n",
       "    </tr>\n",
       "    <tr>\n",
       "      <th>6</th>\n",
       "      <td>0</td>\n",
       "      <td>2</td>\n",
       "      <td>en</td>\n",
       "      <td>parent grandparent grow segregate school syste...</td>\n",
       "      <td>0</td>\n",
       "      <td>[moral, terms, conditions, access, find, child...</td>\n",
       "    </tr>\n",
       "    <tr>\n",
       "      <th>7</th>\n",
       "      <td>0</td>\n",
       "      <td>2</td>\n",
       "      <td>en</td>\n",
       "      <td>child need cultivate diverse skill point redact</td>\n",
       "      <td>0</td>\n",
       "      <td>[moral, terms, conditions, access, find, child...</td>\n",
       "    </tr>\n",
       "    <tr>\n",
       "      <th>8</th>\n",
       "      <td>0</td>\n",
       "      <td>2</td>\n",
       "      <td>en</td>\n",
       "      <td>increase standardization run counter child lea...</td>\n",
       "      <td>0</td>\n",
       "      <td>[moral, terms, conditions, access, find, child...</td>\n",
       "    </tr>\n",
       "    <tr>\n",
       "      <th>9</th>\n",
       "      <td>0</td>\n",
       "      <td>3</td>\n",
       "      <td>en</td>\n",
       "      <td>collaboration communication critical thinking ...</td>\n",
       "      <td>0</td>\n",
       "      <td>[moral, terms, conditions, access, find, child...</td>\n",
       "    </tr>\n",
       "    <tr>\n",
       "      <th>10</th>\n",
       "      <td>0</td>\n",
       "      <td>3</td>\n",
       "      <td>en</td>\n",
       "      <td>mixed grouping know multiage grouping heteroge...</td>\n",
       "      <td>0</td>\n",
       "      <td>[moral, terms, conditions, access, find, child...</td>\n",
       "    </tr>\n",
       "    <tr>\n",
       "      <th>11</th>\n",
       "      <td>0</td>\n",
       "      <td>3</td>\n",
       "      <td>en</td>\n",
       "      <td>redact grouping family grouping ungraded class...</td>\n",
       "      <td>0</td>\n",
       "      <td>[moral, terms, conditions, access, find, child...</td>\n",
       "    </tr>\n",
       "    <tr>\n",
       "      <th>12</th>\n",
       "      <td>0</td>\n",
       "      <td>3</td>\n",
       "      <td>en</td>\n",
       "      <td>research single case study redact redacted pub...</td>\n",
       "      <td>0</td>\n",
       "      <td>[moral, terms, conditions, access, find, child...</td>\n",
       "    </tr>\n",
       "    <tr>\n",
       "      <th>13</th>\n",
       "      <td>0</td>\n",
       "      <td>3</td>\n",
       "      <td>en</td>\n",
       "      <td>place great value recess mixed grouping single...</td>\n",
       "      <td>0</td>\n",
       "      <td>[moral, terms, conditions, access, find, child...</td>\n",
       "    </tr>\n",
       "    <tr>\n",
       "      <th>14</th>\n",
       "      <td>1</td>\n",
       "      <td>3</td>\n",
       "      <td>en</td>\n",
       "      <td>school district locate redact redacted follow ...</td>\n",
       "      <td>0</td>\n",
       "      <td>[moral, terms, conditions, access, find, child...</td>\n",
       "    </tr>\n",
       "    <tr>\n",
       "      <th>15</th>\n",
       "      <td>0</td>\n",
       "      <td>3</td>\n",
       "      <td>en</td>\n",
       "      <td>education redacted framework social emotional ...</td>\n",
       "      <td>0</td>\n",
       "      <td>[moral, terms, conditions, access, find, child...</td>\n",
       "    </tr>\n",
       "    <tr>\n",
       "      <th>16</th>\n",
       "      <td>0</td>\n",
       "      <td>4</td>\n",
       "      <td>en</td>\n",
       "      <td>component equally important include emphasis p...</td>\n",
       "      <td>0</td>\n",
       "      <td>[moral, terms, conditions, access, find, child...</td>\n",
       "    </tr>\n",
       "    <tr>\n",
       "      <th>17</th>\n",
       "      <td>0</td>\n",
       "      <td>4</td>\n",
       "      <td>en</td>\n",
       "      <td>redacted 1978 theory optimal platform examine ...</td>\n",
       "      <td>0</td>\n",
       "      <td>[moral, terms, conditions, access, find, child...</td>\n",
       "    </tr>\n",
       "    <tr>\n",
       "      <th>18</th>\n",
       "      <td>0</td>\n",
       "      <td>4</td>\n",
       "      <td>en</td>\n",
       "      <td>redacted base theory idea child learn</td>\n",
       "      <td>0</td>\n",
       "      <td>[moral, terms, conditions, access, find, child...</td>\n",
       "    </tr>\n",
       "    <tr>\n",
       "      <th>19</th>\n",
       "      <td>0</td>\n",
       "      <td>4</td>\n",
       "      <td>en</td>\n",
       "      <td>redacted ability gender special need redacted ...</td>\n",
       "      <td>0</td>\n",
       "      <td>[moral, terms, conditions, access, find, child...</td>\n",
       "    </tr>\n",
       "    <tr>\n",
       "      <th>20</th>\n",
       "      <td>0</td>\n",
       "      <td>4</td>\n",
       "      <td>en</td>\n",
       "      <td>mixed grouping redacted uence young child soci...</td>\n",
       "      <td>0</td>\n",
       "      <td>[moral, terms, conditions, access, find, child...</td>\n",
       "    </tr>\n",
       "    <tr>\n",
       "      <th>21</th>\n",
       "      <td>0</td>\n",
       "      <td>5</td>\n",
       "      <td>en</td>\n",
       "      <td>watch old child young child develop skill reda...</td>\n",
       "      <td>0</td>\n",
       "      <td>[moral, terms, conditions, access, find, child...</td>\n",
       "    </tr>\n",
       "    <tr>\n",
       "      <th>22</th>\n",
       "      <td>0</td>\n",
       "      <td>5</td>\n",
       "      <td>en</td>\n",
       "      <td>redacted describe setting redacted primary sch...</td>\n",
       "      <td>0</td>\n",
       "      <td>[moral, terms, conditions, access, find, child...</td>\n",
       "    </tr>\n",
       "    <tr>\n",
       "      <th>23</th>\n",
       "      <td>0</td>\n",
       "      <td>5</td>\n",
       "      <td>en</td>\n",
       "      <td>dren to-6 year implement golden principle gold...</td>\n",
       "      <td>0</td>\n",
       "      <td>[moral, terms, conditions, access, find, child...</td>\n",
       "    </tr>\n",
       "    <tr>\n",
       "      <th>24</th>\n",
       "      <td>1</td>\n",
       "      <td>5</td>\n",
       "      <td>en</td>\n",
       "      <td>redacted redacted observe play pair</td>\n",
       "      <td>3</td>\n",
       "      <td>[care, caregiver, child, redact, quality, grou...</td>\n",
       "    </tr>\n",
       "    <tr>\n",
       "      <th>25</th>\n",
       "      <td>0</td>\n",
       "      <td>5</td>\n",
       "      <td>en</td>\n",
       "      <td>mix segregate find mixed aged pair engage comp...</td>\n",
       "      <td>0</td>\n",
       "      <td>[moral, terms, conditions, access, find, child...</td>\n",
       "    </tr>\n",
       "    <tr>\n",
       "      <th>26</th>\n",
       "      <td>0</td>\n",
       "      <td>5</td>\n",
       "      <td>en</td>\n",
       "      <td>positive social interaction find preschool cla...</td>\n",
       "      <td>0</td>\n",
       "      <td>[moral, terms, conditions, access, find, child...</td>\n",
       "    </tr>\n",
       "    <tr>\n",
       "      <th>27</th>\n",
       "      <td>0</td>\n",
       "      <td>5</td>\n",
       "      <td>en</td>\n",
       "      <td>group wide range redacted redacted describe pl...</td>\n",
       "      <td>0</td>\n",
       "      <td>[moral, terms, conditions, access, find, child...</td>\n",
       "    </tr>\n",
       "    <tr>\n",
       "      <th>28</th>\n",
       "      <td>0</td>\n",
       "      <td>5</td>\n",
       "      <td>en</td>\n",
       "      <td>document academic bene mixed grouping elementary</td>\n",
       "      <td>0</td>\n",
       "      <td>[moral, terms, conditions, access, find, child...</td>\n",
       "    </tr>\n",
       "    <tr>\n",
       "      <th>29</th>\n",
       "      <td>0</td>\n",
       "      <td>5</td>\n",
       "      <td>en</td>\n",
       "      <td>school classroom redact redact redact young ch...</td>\n",
       "      <td>0</td>\n",
       "      <td>[moral, terms, conditions, access, find, child...</td>\n",
       "    </tr>\n",
       "  </tbody>\n",
       "</table>\n",
       "</div>"
      ],
      "text/plain": [
       "    File  Page Language                                          GDPR_Text  \\\n",
       "0     -1     1       en                       terms conditions access find   \n",
       "1      0     1       en  advantage mixed free play elementary school pe...   \n",
       "2      0     1       en  mixed free play elementary school perception s...   \n",
       "3      0     2       en  advantage mixed free play elementary school pe...   \n",
       "4      0     2       en  mixed group show effective classroom setting h...   \n",
       "5      0     2       en  express support cross interaction mixed groupi...   \n",
       "6      0     2       en  parent grandparent grow segregate school syste...   \n",
       "7      0     2       en    child need cultivate diverse skill point redact   \n",
       "8      0     2       en  increase standardization run counter child lea...   \n",
       "9      0     3       en  collaboration communication critical thinking ...   \n",
       "10     0     3       en  mixed grouping know multiage grouping heteroge...   \n",
       "11     0     3       en  redact grouping family grouping ungraded class...   \n",
       "12     0     3       en  research single case study redact redacted pub...   \n",
       "13     0     3       en  place great value recess mixed grouping single...   \n",
       "14     1     3       en  school district locate redact redacted follow ...   \n",
       "15     0     3       en  education redacted framework social emotional ...   \n",
       "16     0     4       en  component equally important include emphasis p...   \n",
       "17     0     4       en  redacted 1978 theory optimal platform examine ...   \n",
       "18     0     4       en              redacted base theory idea child learn   \n",
       "19     0     4       en  redacted ability gender special need redacted ...   \n",
       "20     0     4       en  mixed grouping redacted uence young child soci...   \n",
       "21     0     5       en  watch old child young child develop skill reda...   \n",
       "22     0     5       en  redacted describe setting redacted primary sch...   \n",
       "23     0     5       en  dren to-6 year implement golden principle gold...   \n",
       "24     1     5       en                redacted redacted observe play pair   \n",
       "25     0     5       en  mix segregate find mixed aged pair engage comp...   \n",
       "26     0     5       en  positive social interaction find preschool cla...   \n",
       "27     0     5       en  group wide range redacted redacted describe pl...   \n",
       "28     0     5       en   document academic bene mixed grouping elementary   \n",
       "29     0     5       en  school classroom redact redact redact young ch...   \n",
       "\n",
       "    topic_number                                         topic_name  \n",
       "0              3  [care, caregiver, child, redact, quality, grou...  \n",
       "1              0  [moral, terms, conditions, access, find, child...  \n",
       "2              0  [moral, terms, conditions, access, find, child...  \n",
       "3              0  [moral, terms, conditions, access, find, child...  \n",
       "4              0  [moral, terms, conditions, access, find, child...  \n",
       "5              0  [moral, terms, conditions, access, find, child...  \n",
       "6              0  [moral, terms, conditions, access, find, child...  \n",
       "7              0  [moral, terms, conditions, access, find, child...  \n",
       "8              0  [moral, terms, conditions, access, find, child...  \n",
       "9              0  [moral, terms, conditions, access, find, child...  \n",
       "10             0  [moral, terms, conditions, access, find, child...  \n",
       "11             0  [moral, terms, conditions, access, find, child...  \n",
       "12             0  [moral, terms, conditions, access, find, child...  \n",
       "13             0  [moral, terms, conditions, access, find, child...  \n",
       "14             0  [moral, terms, conditions, access, find, child...  \n",
       "15             0  [moral, terms, conditions, access, find, child...  \n",
       "16             0  [moral, terms, conditions, access, find, child...  \n",
       "17             0  [moral, terms, conditions, access, find, child...  \n",
       "18             0  [moral, terms, conditions, access, find, child...  \n",
       "19             0  [moral, terms, conditions, access, find, child...  \n",
       "20             0  [moral, terms, conditions, access, find, child...  \n",
       "21             0  [moral, terms, conditions, access, find, child...  \n",
       "22             0  [moral, terms, conditions, access, find, child...  \n",
       "23             0  [moral, terms, conditions, access, find, child...  \n",
       "24             3  [care, caregiver, child, redact, quality, grou...  \n",
       "25             0  [moral, terms, conditions, access, find, child...  \n",
       "26             0  [moral, terms, conditions, access, find, child...  \n",
       "27             0  [moral, terms, conditions, access, find, child...  \n",
       "28             0  [moral, terms, conditions, access, find, child...  \n",
       "29             0  [moral, terms, conditions, access, find, child...  "
      ]
     },
     "execution_count": 30,
     "metadata": {},
     "output_type": "execute_result"
    }
   ],
   "source": [
    "df_gdpr.head(30)"
   ]
  },
  {
   "cell_type": "markdown",
   "metadata": {},
   "source": [
    "# Topic per article"
   ]
  },
  {
   "cell_type": "code",
   "execution_count": 32,
   "metadata": {},
   "outputs": [
    {
     "name": "stdout",
     "output_type": "stream",
     "text": [
      "      Topic 0  Topic 1  Topic 2  Topic 3\n",
      "File                                    \n",
      "-1          0        0        0        9\n",
      " 0        487       53       68        0\n",
      " 1          1        0        0       50\n"
     ]
    },
    {
     "data": {
      "image/png": "[encoded data removed]",
      "text/plain": [
       "<Figure size 1500x700 with 1 Axes>"
      ]
     },
     "metadata": {},
     "output_type": "display_data"
    }
   ],
   "source": [
    "# Calculate the count of times each topic is chosen within each article\n",
    "article_topic_counts = df_gdpr.groupby('File')['topic_number'].value_counts().unstack(fill_value=0)\n",
    "\n",
    "# Rename columns to 'Topic X'\n",
    "article_topic_counts.columns = [f'Topic {i}' for i in article_topic_counts.columns]\n",
    "\n",
    "# Display the table\n",
    "print(article_topic_counts)\n",
    "\n",
    "# Plot the distribution for each article\n",
    "article_topic_counts.plot(kind='bar', stacked=True, figsize=(15, 7))\n",
    "plt.title('Topic Distribution per Article (Count)')\n",
    "plt.xlabel('Article')\n",
    "plt.ylabel('Count')\n",
    "plt.legend(title='Topics', bbox_to_anchor=(1.05, 1), loc='upper left')\n",
    "plt.show()"
   ]
  },
  {
   "cell_type": "code",
   "execution_count": 33,
   "metadata": {},
   "outputs": [
    {
     "name": "stdout",
     "output_type": "stream",
     "text": [
      "       Topic 0   Topic 1   Topic 2   Topic 3\n",
      "File                                        \n",
      "-1    0.000000  0.000000  0.000000  1.000000\n",
      " 0    0.800987  0.087171  0.111842  0.000000\n",
      " 1    0.019608  0.000000  0.000000  0.980392\n"
     ]
    },
    {
     "data": {
      "image/png": "[encoded data removed]",
      "text/plain": [
       "<Figure size 1500x700 with 1 Axes>"
      ]
     },
     "metadata": {},
     "output_type": "display_data"
    }
   ],
   "source": [
    "\n",
    "# Calculate the proportion of times each topic is chosen within each article\n",
    "article_topic_proportions = df_gdpr.groupby('File')['topic_number'].value_counts(normalize=True).unstack(fill_value=0)\n",
    "\n",
    "# Rename columns to 'Topic X'\n",
    "article_topic_proportions.columns = [f'Topic {i}' for i in article_topic_proportions.columns]\n",
    "\n",
    "# Display the table\n",
    "print(article_topic_proportions)\n",
    "\n",
    "# Plot the distribution for each article\n",
    "article_topic_proportions.plot(kind='bar', stacked=True, figsize=(15, 7))\n",
    "plt.title('Topic Distribution per Article (Proportion)')\n",
    "plt.xlabel('Article')\n",
    "plt.ylabel('Proportion')\n",
    "plt.legend(title='Topics', bbox_to_anchor=(1.05, 1), loc='upper left')\n",
    "plt.show()"
   ]
  }
 ],
 "metadata": {
  "kernelspec": {
   "display_name": "Python 3",
   "language": "python",
   "name": "python3"
  },
  "language_info": {
   "codemirror_mode": {
    "name": "ipython",
    "version": 3
   },
   "file_extension": ".py",
   "mimetype": "text/x-python",
   "name": "python",
   "nbconvert_exporter": "python",
   "pygments_lexer": "ipython3",
   "version": "3.12.0"
  }
 },
 "nbformat": 4,
 "nbformat_minor": 2
}
